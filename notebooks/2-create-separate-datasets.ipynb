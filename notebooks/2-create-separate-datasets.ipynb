{
 "cells": [
  {
   "cell_type": "code",
   "execution_count": 1,
   "metadata": {},
   "outputs": [],
   "source": [
    "import pandas as pd\n",
    "\n",
    "# Project imports\n",
    "from self_harm_triage_notes.config import interim_data_dir, N_SPLITS\n",
    "from self_harm_triage_notes.dataset_utils import print_stats\n",
    "\n",
    "# Toolbox imports\n",
    "from ml_health_toolbox.dev_utils import split_data, get_cv_strategy"
   ]
  },
  {
   "cell_type": "markdown",
   "metadata": {},
   "source": [
    "___\n",
    "# RMH \n",
    "### Load original data from 2012 to 2022"
   ]
  },
  {
   "cell_type": "code",
   "execution_count": 2,
   "metadata": {},
   "outputs": [
    {
     "name": "stdout",
     "output_type": "stream",
     "text": [
      "(771339, 14)\n"
     ]
    },
    {
     "data": {
      "application/vnd.microsoft.datawrangler.viewer.v0+json": {
       "columns": [
        {
         "name": "index",
         "rawType": "int64",
         "type": "integer"
        },
        {
         "name": "uid",
         "rawType": "object",
         "type": "string"
        },
        {
         "name": "sex",
         "rawType": "category",
         "type": "unknown"
        },
        {
         "name": "age",
         "rawType": "float64",
         "type": "float"
        },
        {
         "name": "arrival_method",
         "rawType": "category",
         "type": "unknown"
        },
        {
         "name": "arrival_date",
         "rawType": "datetime64[ns]",
         "type": "datetime"
        },
        {
         "name": "year",
         "rawType": "int64",
         "type": "integer"
        },
        {
         "name": "triage_note",
         "rawType": "object",
         "type": "string"
        },
        {
         "name": "SH",
         "rawType": "category",
         "type": "unknown"
        },
        {
         "name": "SI",
         "rawType": "category",
         "type": "unknown"
        },
        {
         "name": "AOD_OD",
         "rawType": "category",
         "type": "unknown"
        },
        {
         "name": "audit_case",
         "rawType": "float64",
         "type": "float"
        },
        {
         "name": "source_system",
         "rawType": "object",
         "type": "string"
        },
        {
         "name": "quarter",
         "rawType": "period[Q-DEC]",
         "type": "unknown"
        },
        {
         "name": "length",
         "rawType": "int64",
         "type": "integer"
        }
       ],
       "ref": "966b136d-a20f-46cc-a9b3-a914a66c2f78",
       "rows": [
        [
         "0",
         "RMH-1",
         "female",
         "64.0",
         "other",
         "2012-01-08 00:35:00",
         "2012",
         "SOB for 5/7, been to GP given prednisolone, coughing taken inhalers with minimal relief, speaking in full sentences, o/a Sa02 97%, pulse 121",
         "Negative",
         "Negative",
         "Negative",
         null,
         "Symphony",
         "2012Q1",
         "140"
        ],
        [
         "1",
         "RMH-2",
         "male",
         "31.0",
         "other",
         "2012-01-08 00:41:00",
         "2012",
         "pt has lac down right forehead, to eyebrow, will require stitches and ADT, denies loc wound about 6cms long",
         "Negative",
         "Negative",
         "Negative",
         null,
         "Symphony",
         "2012Q1",
         "107"
        ],
        [
         "2",
         "RMH-3",
         "male",
         "19.0",
         "road ambulance",
         "2012-01-08 00:52:00",
         "2012",
         "pt expect MBA, trapped for 45mins, #right femur, had 40mg morphine, GCS 15",
         "Negative",
         "Negative",
         "Negative",
         null,
         "Symphony",
         "2012Q1",
         "74"
        ],
        [
         "3",
         "RMH-4",
         "male",
         "51.0",
         "other",
         "2012-01-08 01:11:00",
         "2012",
         "L) sided flank pain same as previous renal colic pain unimproved with analgesia for the past 1/52.  Pt states last renal colic 12 months ago.  Obvious distress at triage",
         "Negative",
         "Negative",
         "Negative",
         null,
         "Symphony",
         "2012Q1",
         "169"
        ],
        [
         "4",
         "RMH-5",
         "female",
         "25.0",
         "other",
         "2012-01-08 01:23:00",
         "2012",
         "generalised abdo pain and associated headache for 1 year worse tonight.  Pt states that she had a choleysectomy 6/12 ago pain unimproved.  Pt states that she has vomited 3/24.  Nil analgesia taken",
         "Negative",
         "Negative",
         "Negative",
         null,
         "Symphony",
         "2012Q1",
         "196"
        ]
       ],
       "shape": {
        "columns": 14,
        "rows": 5
       }
      },
      "text/html": [
       "<div>\n",
       "<style scoped>\n",
       "    .dataframe tbody tr th:only-of-type {\n",
       "        vertical-align: middle;\n",
       "    }\n",
       "\n",
       "    .dataframe tbody tr th {\n",
       "        vertical-align: top;\n",
       "    }\n",
       "\n",
       "    .dataframe thead th {\n",
       "        text-align: right;\n",
       "    }\n",
       "</style>\n",
       "<table border=\"1\" class=\"dataframe\">\n",
       "  <thead>\n",
       "    <tr style=\"text-align: right;\">\n",
       "      <th></th>\n",
       "      <th>uid</th>\n",
       "      <th>sex</th>\n",
       "      <th>age</th>\n",
       "      <th>arrival_method</th>\n",
       "      <th>arrival_date</th>\n",
       "      <th>year</th>\n",
       "      <th>triage_note</th>\n",
       "      <th>SH</th>\n",
       "      <th>SI</th>\n",
       "      <th>AOD_OD</th>\n",
       "      <th>audit_case</th>\n",
       "      <th>source_system</th>\n",
       "      <th>quarter</th>\n",
       "      <th>length</th>\n",
       "    </tr>\n",
       "  </thead>\n",
       "  <tbody>\n",
       "    <tr>\n",
       "      <th>0</th>\n",
       "      <td>RMH-1</td>\n",
       "      <td>female</td>\n",
       "      <td>64.0</td>\n",
       "      <td>other</td>\n",
       "      <td>2012-01-08 00:35:00</td>\n",
       "      <td>2012</td>\n",
       "      <td>SOB for 5/7, been to GP given prednisolone, co...</td>\n",
       "      <td>Negative</td>\n",
       "      <td>Negative</td>\n",
       "      <td>Negative</td>\n",
       "      <td>NaN</td>\n",
       "      <td>Symphony</td>\n",
       "      <td>2012Q1</td>\n",
       "      <td>140</td>\n",
       "    </tr>\n",
       "    <tr>\n",
       "      <th>1</th>\n",
       "      <td>RMH-2</td>\n",
       "      <td>male</td>\n",
       "      <td>31.0</td>\n",
       "      <td>other</td>\n",
       "      <td>2012-01-08 00:41:00</td>\n",
       "      <td>2012</td>\n",
       "      <td>pt has lac down right forehead, to eyebrow, wi...</td>\n",
       "      <td>Negative</td>\n",
       "      <td>Negative</td>\n",
       "      <td>Negative</td>\n",
       "      <td>NaN</td>\n",
       "      <td>Symphony</td>\n",
       "      <td>2012Q1</td>\n",
       "      <td>107</td>\n",
       "    </tr>\n",
       "    <tr>\n",
       "      <th>2</th>\n",
       "      <td>RMH-3</td>\n",
       "      <td>male</td>\n",
       "      <td>19.0</td>\n",
       "      <td>road ambulance</td>\n",
       "      <td>2012-01-08 00:52:00</td>\n",
       "      <td>2012</td>\n",
       "      <td>pt expect MBA, trapped for 45mins, #right femu...</td>\n",
       "      <td>Negative</td>\n",
       "      <td>Negative</td>\n",
       "      <td>Negative</td>\n",
       "      <td>NaN</td>\n",
       "      <td>Symphony</td>\n",
       "      <td>2012Q1</td>\n",
       "      <td>74</td>\n",
       "    </tr>\n",
       "    <tr>\n",
       "      <th>3</th>\n",
       "      <td>RMH-4</td>\n",
       "      <td>male</td>\n",
       "      <td>51.0</td>\n",
       "      <td>other</td>\n",
       "      <td>2012-01-08 01:11:00</td>\n",
       "      <td>2012</td>\n",
       "      <td>L) sided flank pain same as previous renal col...</td>\n",
       "      <td>Negative</td>\n",
       "      <td>Negative</td>\n",
       "      <td>Negative</td>\n",
       "      <td>NaN</td>\n",
       "      <td>Symphony</td>\n",
       "      <td>2012Q1</td>\n",
       "      <td>169</td>\n",
       "    </tr>\n",
       "    <tr>\n",
       "      <th>4</th>\n",
       "      <td>RMH-5</td>\n",
       "      <td>female</td>\n",
       "      <td>25.0</td>\n",
       "      <td>other</td>\n",
       "      <td>2012-01-08 01:23:00</td>\n",
       "      <td>2012</td>\n",
       "      <td>generalised abdo pain and associated headache ...</td>\n",
       "      <td>Negative</td>\n",
       "      <td>Negative</td>\n",
       "      <td>Negative</td>\n",
       "      <td>NaN</td>\n",
       "      <td>Symphony</td>\n",
       "      <td>2012Q1</td>\n",
       "      <td>196</td>\n",
       "    </tr>\n",
       "  </tbody>\n",
       "</table>\n",
       "</div>"
      ],
      "text/plain": [
       "     uid     sex   age  arrival_method        arrival_date  year  \\\n",
       "0  RMH-1  female  64.0           other 2012-01-08 00:35:00  2012   \n",
       "1  RMH-2    male  31.0           other 2012-01-08 00:41:00  2012   \n",
       "2  RMH-3    male  19.0  road ambulance 2012-01-08 00:52:00  2012   \n",
       "3  RMH-4    male  51.0           other 2012-01-08 01:11:00  2012   \n",
       "4  RMH-5  female  25.0           other 2012-01-08 01:23:00  2012   \n",
       "\n",
       "                                         triage_note        SH        SI  \\\n",
       "0  SOB for 5/7, been to GP given prednisolone, co...  Negative  Negative   \n",
       "1  pt has lac down right forehead, to eyebrow, wi...  Negative  Negative   \n",
       "2  pt expect MBA, trapped for 45mins, #right femu...  Negative  Negative   \n",
       "3  L) sided flank pain same as previous renal col...  Negative  Negative   \n",
       "4  generalised abdo pain and associated headache ...  Negative  Negative   \n",
       "\n",
       "     AOD_OD  audit_case source_system quarter  length  \n",
       "0  Negative         NaN      Symphony  2012Q1     140  \n",
       "1  Negative         NaN      Symphony  2012Q1     107  \n",
       "2  Negative         NaN      Symphony  2012Q1      74  \n",
       "3  Negative         NaN      Symphony  2012Q1     169  \n",
       "4  Negative         NaN      Symphony  2012Q1     196  "
      ]
     },
     "execution_count": 2,
     "metadata": {},
     "output_type": "execute_result"
    }
   ],
   "source": [
    "df = pd.read_parquet(interim_data_dir / \"rmh_2012_2022_cleaned.parquet\", engine=\"pyarrow\")\n",
    "print(df.shape)\n",
    "df.head()"
   ]
  },
  {
   "cell_type": "code",
   "execution_count": 3,
   "metadata": {},
   "outputs": [
    {
     "data": {
      "application/vnd.microsoft.datawrangler.viewer.v0+json": {
       "columns": [
        {
         "name": "year",
         "rawType": "int64",
         "type": "integer"
        },
        {
         "name": "count",
         "rawType": "int64",
         "type": "integer"
        }
       ],
       "ref": "8f9d3198-fb09-4459-a8e8-83f4f8e374c6",
       "rows": [
        [
         "2012",
         "59771"
        ],
        [
         "2013",
         "61707"
        ],
        [
         "2014",
         "65268"
        ],
        [
         "2015",
         "65495"
        ],
        [
         "2016",
         "71628"
        ],
        [
         "2017",
         "75242"
        ],
        [
         "2018",
         "77958"
        ],
        [
         "2019",
         "82199"
        ],
        [
         "2020",
         "86235"
        ],
        [
         "2021",
         "83263"
        ],
        [
         "2022",
         "42573"
        ]
       ],
       "shape": {
        "columns": 1,
        "rows": 11
       }
      },
      "text/plain": [
       "year\n",
       "2012    59771\n",
       "2013    61707\n",
       "2014    65268\n",
       "2015    65495\n",
       "2016    71628\n",
       "2017    75242\n",
       "2018    77958\n",
       "2019    82199\n",
       "2020    86235\n",
       "2021    83263\n",
       "2022    42573\n",
       "Name: count, dtype: int64"
      ]
     },
     "execution_count": 3,
     "metadata": {},
     "output_type": "execute_result"
    }
   ],
   "source": [
    "df.year.value_counts().sort_index()"
   ]
  },
  {
   "cell_type": "markdown",
   "metadata": {},
   "source": [
    "### Subset data: 2012-2017 for development and testing; 2018-2022"
   ]
  },
  {
   "cell_type": "code",
   "execution_count": 4,
   "metadata": {},
   "outputs": [
    {
     "name": "stdout",
     "output_type": "stream",
     "text": [
      "Number of presentations from 2018 onwards: 372228\n"
     ]
    }
   ],
   "source": [
    "print(\"Number of presentations from 2018 onwards:\", (df.year >= 2018).sum())\n",
    "df[df.year >= 2018].to_parquet(interim_data_dir / \"rmh_2018_2022_cleaned.parquet\", engine=\"pyarrow\")"
   ]
  },
  {
   "cell_type": "code",
   "execution_count": 5,
   "metadata": {
    "scrolled": true
   },
   "outputs": [
    {
     "name": "stdout",
     "output_type": "stream",
     "text": [
      "(399111, 14)\n"
     ]
    }
   ],
   "source": [
    "df = df[df.year <= 2017].copy()\n",
    "print(df.shape)"
   ]
  },
  {
   "cell_type": "markdown",
   "metadata": {},
   "source": [
    "### Create a train/test split"
   ]
  },
  {
   "cell_type": "code",
   "execution_count": 6,
   "metadata": {},
   "outputs": [
    {
     "name": "stdout",
     "output_type": "stream",
     "text": [
      "DEVELOPMENT SET\n",
      "The dataset contains 319288 presentations.\n",
      "\n",
      "SELF-HARM\n",
      "Number of presentations:\n",
      "SH\n",
      "Negative    314962\n",
      "Positive      4326\n",
      "Name: count, dtype: int64\n",
      "\n",
      "Proportion of presentations:\n",
      "SH\n",
      "Negative    98.64511\n",
      "Positive     1.35489\n",
      "Name: proportion, dtype: float64\n",
      "\n",
      "________________________________________________________________________________\n",
      "SUICIDAL IDEATION\n",
      "Number of presentations:\n",
      "SI\n",
      "Negative    315457\n",
      "Positive      3831\n",
      "Name: count, dtype: int64\n",
      "\n",
      "Proportion of presentations:\n",
      "SI\n",
      "Negative    98.800143\n",
      "Positive     1.199857\n",
      "Name: proportion, dtype: float64\n",
      "________________________________________________________________________________\n",
      "AOD overdose\n",
      "Number of presentations:\n",
      "AOD_OD\n",
      "Negative    318634\n",
      "Positive       654\n",
      "Name: count, dtype: int64\n",
      "\n",
      "Proportion of presentations:\n",
      "AOD_OD\n",
      "Negative    99.795169\n",
      "Positive     0.204831\n",
      "Name: proportion, dtype: float64\n",
      "\n",
      "\n",
      "TEST SET\n",
      "The dataset contains 79823 presentations.\n",
      "\n",
      "SELF-HARM\n",
      "Number of presentations:\n",
      "SH\n",
      "Negative    78741\n",
      "Positive     1082\n",
      "Name: count, dtype: int64\n",
      "\n",
      "Proportion of presentations:\n",
      "SH\n",
      "Negative    98.644501\n",
      "Positive     1.355499\n",
      "Name: proportion, dtype: float64\n",
      "\n",
      "________________________________________________________________________________\n",
      "SUICIDAL IDEATION\n",
      "Number of presentations:\n",
      "SI\n",
      "Negative    78906\n",
      "Positive      917\n",
      "Name: count, dtype: int64\n",
      "\n",
      "Proportion of presentations:\n",
      "SI\n",
      "Negative    98.851208\n",
      "Positive     1.148792\n",
      "Name: proportion, dtype: float64\n",
      "________________________________________________________________________________\n",
      "AOD overdose\n",
      "Number of presentations:\n",
      "AOD_OD\n",
      "Negative    79673\n",
      "Positive      150\n",
      "Name: count, dtype: int64\n",
      "\n",
      "Proportion of presentations:\n",
      "AOD_OD\n",
      "Negative    99.812084\n",
      "Positive     0.187916\n",
      "Name: proportion, dtype: float64\n",
      "\n"
     ]
    }
   ],
   "source": [
    "dev_data, test_data = split_data(df, df.SH, n_splits=5)\n",
    "\n",
    "print(\"DEVELOPMENT SET\")\n",
    "print_stats(dev_data)\n",
    "print()\n",
    "print(\"TEST SET\")\n",
    "print_stats(test_data)"
   ]
  },
  {
   "cell_type": "code",
   "execution_count": 7,
   "metadata": {},
   "outputs": [
    {
     "name": "stdout",
     "output_type": "stream",
     "text": [
      "63858 reports allocated to validation fold #1\n",
      "63858 reports allocated to validation fold #2\n",
      "63858 reports allocated to validation fold #3\n",
      "63857 reports allocated to validation fold #4\n",
      "63857 reports allocated to validation fold #5\n"
     ]
    }
   ],
   "source": [
    "# Initialise CV\n",
    "X = dev_data \n",
    "y = dev_data.SH\n",
    "\n",
    "# Initialise CV object\n",
    "cv = get_cv_strategy(n_splits=N_SPLITS)\n",
    "\n",
    "dev_data['val_fold'] = 0\n",
    "\n",
    "i = 1\n",
    "for train_idx, val_idx in cv.split(X, y, groups=None):\n",
    "    print(\"%d reports allocated to validation fold #%d\" % (len(val_idx), i))\n",
    "    dev_data.loc[val_idx, 'val_fold'] = i\n",
    "    i +=1"
   ]
  },
  {
   "cell_type": "code",
   "execution_count": 8,
   "metadata": {},
   "outputs": [],
   "source": [
    "dev_data.to_parquet(interim_data_dir / \"rmh_2012_2017_dev.parquet\", engine=\"pyarrow\")\n",
    "test_data.to_parquet(interim_data_dir / \"rmh_2012_2017_test.parquet\", engine=\"pyarrow\")"
   ]
  },
  {
   "cell_type": "code",
   "execution_count": null,
   "metadata": {},
   "outputs": [],
   "source": []
  }
 ],
 "metadata": {
  "kernelspec": {
   "display_name": "self-harm-triage-notes",
   "language": "python",
   "name": "python3"
  },
  "language_info": {
   "codemirror_mode": {
    "name": "ipython",
    "version": 3
   },
   "file_extension": ".py",
   "mimetype": "text/x-python",
   "name": "python",
   "nbconvert_exporter": "python",
   "pygments_lexer": "ipython3",
   "version": "3.11.13"
  }
 },
 "nbformat": 4,
 "nbformat_minor": 4
}
