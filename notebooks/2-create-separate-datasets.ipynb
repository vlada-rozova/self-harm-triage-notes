{
 "cells": [
  {
   "cell_type": "code",
   "execution_count": 1,
   "metadata": {},
   "outputs": [],
   "source": [
    "import pandas as pd\n",
    "from self_harm_triage_notes.config import data_interim_dir\n",
    "from self_harm_triage_notes.dataset import print_stats\n",
    "from sklearn.model_selection import train_test_split"
   ]
  },
  {
   "cell_type": "markdown",
   "metadata": {},
   "source": [
    "___\n",
    "# RMH \n",
    "### Load original data from 2012 to 2022"
   ]
  },
  {
   "cell_type": "code",
   "execution_count": 2,
   "metadata": {},
   "outputs": [
    {
     "name": "stdout",
     "output_type": "stream",
     "text": [
      "(771339, 14)\n"
     ]
    },
    {
     "data": {
      "text/html": [
       "<div>\n",
       "<style scoped>\n",
       "    .dataframe tbody tr th:only-of-type {\n",
       "        vertical-align: middle;\n",
       "    }\n",
       "\n",
       "    .dataframe tbody tr th {\n",
       "        vertical-align: top;\n",
       "    }\n",
       "\n",
       "    .dataframe thead th {\n",
       "        text-align: right;\n",
       "    }\n",
       "</style>\n",
       "<table border=\"1\" class=\"dataframe\">\n",
       "  <thead>\n",
       "    <tr style=\"text-align: right;\">\n",
       "      <th></th>\n",
       "      <th>uid</th>\n",
       "      <th>sex</th>\n",
       "      <th>age</th>\n",
       "      <th>arrival_method</th>\n",
       "      <th>arrival_date</th>\n",
       "      <th>year</th>\n",
       "      <th>triage_note</th>\n",
       "      <th>SH</th>\n",
       "      <th>SI</th>\n",
       "      <th>AOD_OD</th>\n",
       "      <th>audit_case</th>\n",
       "      <th>source_system</th>\n",
       "      <th>quarter</th>\n",
       "      <th>length</th>\n",
       "    </tr>\n",
       "  </thead>\n",
       "  <tbody>\n",
       "    <tr>\n",
       "      <th>0</th>\n",
       "      <td>RMH-1</td>\n",
       "      <td>female</td>\n",
       "      <td>64.0</td>\n",
       "      <td>other</td>\n",
       "      <td>2012-01-08 00:35:00</td>\n",
       "      <td>2012</td>\n",
       "      <td>SOB for 5/7, been to GP given prednisolone, co...</td>\n",
       "      <td>0</td>\n",
       "      <td>0</td>\n",
       "      <td>0</td>\n",
       "      <td>NaN</td>\n",
       "      <td>Symphony</td>\n",
       "      <td>2012Q1</td>\n",
       "      <td>140</td>\n",
       "    </tr>\n",
       "    <tr>\n",
       "      <th>1</th>\n",
       "      <td>RMH-2</td>\n",
       "      <td>male</td>\n",
       "      <td>31.0</td>\n",
       "      <td>other</td>\n",
       "      <td>2012-01-08 00:41:00</td>\n",
       "      <td>2012</td>\n",
       "      <td>pt has lac down right forehead, to eyebrow, wi...</td>\n",
       "      <td>0</td>\n",
       "      <td>0</td>\n",
       "      <td>0</td>\n",
       "      <td>NaN</td>\n",
       "      <td>Symphony</td>\n",
       "      <td>2012Q1</td>\n",
       "      <td>107</td>\n",
       "    </tr>\n",
       "    <tr>\n",
       "      <th>2</th>\n",
       "      <td>RMH-3</td>\n",
       "      <td>male</td>\n",
       "      <td>19.0</td>\n",
       "      <td>road ambulance</td>\n",
       "      <td>2012-01-08 00:52:00</td>\n",
       "      <td>2012</td>\n",
       "      <td>pt expect MBA, trapped for 45mins, #right femu...</td>\n",
       "      <td>0</td>\n",
       "      <td>0</td>\n",
       "      <td>0</td>\n",
       "      <td>NaN</td>\n",
       "      <td>Symphony</td>\n",
       "      <td>2012Q1</td>\n",
       "      <td>74</td>\n",
       "    </tr>\n",
       "    <tr>\n",
       "      <th>3</th>\n",
       "      <td>RMH-4</td>\n",
       "      <td>male</td>\n",
       "      <td>51.0</td>\n",
       "      <td>other</td>\n",
       "      <td>2012-01-08 01:11:00</td>\n",
       "      <td>2012</td>\n",
       "      <td>L) sided flank pain same as previous renal col...</td>\n",
       "      <td>0</td>\n",
       "      <td>0</td>\n",
       "      <td>0</td>\n",
       "      <td>NaN</td>\n",
       "      <td>Symphony</td>\n",
       "      <td>2012Q1</td>\n",
       "      <td>169</td>\n",
       "    </tr>\n",
       "    <tr>\n",
       "      <th>4</th>\n",
       "      <td>RMH-5</td>\n",
       "      <td>female</td>\n",
       "      <td>25.0</td>\n",
       "      <td>other</td>\n",
       "      <td>2012-01-08 01:23:00</td>\n",
       "      <td>2012</td>\n",
       "      <td>generalised abdo pain and associated headache ...</td>\n",
       "      <td>0</td>\n",
       "      <td>0</td>\n",
       "      <td>0</td>\n",
       "      <td>NaN</td>\n",
       "      <td>Symphony</td>\n",
       "      <td>2012Q1</td>\n",
       "      <td>196</td>\n",
       "    </tr>\n",
       "  </tbody>\n",
       "</table>\n",
       "</div>"
      ],
      "text/plain": [
       "     uid     sex   age  arrival_method        arrival_date  year  \\\n",
       "0  RMH-1  female  64.0           other 2012-01-08 00:35:00  2012   \n",
       "1  RMH-2    male  31.0           other 2012-01-08 00:41:00  2012   \n",
       "2  RMH-3    male  19.0  road ambulance 2012-01-08 00:52:00  2012   \n",
       "3  RMH-4    male  51.0           other 2012-01-08 01:11:00  2012   \n",
       "4  RMH-5  female  25.0           other 2012-01-08 01:23:00  2012   \n",
       "\n",
       "                                         triage_note  SH  SI  AOD_OD  \\\n",
       "0  SOB for 5/7, been to GP given prednisolone, co...   0   0       0   \n",
       "1  pt has lac down right forehead, to eyebrow, wi...   0   0       0   \n",
       "2  pt expect MBA, trapped for 45mins, #right femu...   0   0       0   \n",
       "3  L) sided flank pain same as previous renal col...   0   0       0   \n",
       "4  generalised abdo pain and associated headache ...   0   0       0   \n",
       "\n",
       "   audit_case source_system quarter  length  \n",
       "0         NaN      Symphony  2012Q1     140  \n",
       "1         NaN      Symphony  2012Q1     107  \n",
       "2         NaN      Symphony  2012Q1      74  \n",
       "3         NaN      Symphony  2012Q1     169  \n",
       "4         NaN      Symphony  2012Q1     196  "
      ]
     },
     "execution_count": 2,
     "metadata": {},
     "output_type": "execute_result"
    }
   ],
   "source": [
    "df = pd.read_parquet(data_interim_dir / \"rmh_2012_2022_cleaned.parquet\", engine=\"pyarrow\")\n",
    "print(df.shape)\n",
    "df.head()"
   ]
  },
  {
   "cell_type": "code",
   "execution_count": 3,
   "metadata": {},
   "outputs": [
    {
     "data": {
      "text/plain": [
       "year\n",
       "2012    59771\n",
       "2013    61707\n",
       "2014    65268\n",
       "2015    65495\n",
       "2016    71628\n",
       "2017    75242\n",
       "2018    77958\n",
       "2019    82199\n",
       "2020    86235\n",
       "2021    83263\n",
       "2022    42573\n",
       "Name: count, dtype: int64"
      ]
     },
     "execution_count": 3,
     "metadata": {},
     "output_type": "execute_result"
    }
   ],
   "source": [
    "df.year.value_counts().sort_index()"
   ]
  },
  {
   "cell_type": "markdown",
   "metadata": {},
   "source": [
    "### Subset data: 2012-2017 for development and testing; 2018-2022"
   ]
  },
  {
   "cell_type": "code",
   "execution_count": 4,
   "metadata": {},
   "outputs": [
    {
     "name": "stdout",
     "output_type": "stream",
     "text": [
      "Number of presentations from 2018 onwards: 372228\n"
     ]
    }
   ],
   "source": [
    "print(\"Number of presentations from 2018 onwards:\", (df.year >= 2018).sum())\n",
    "df[df.year >= 2018].to_parquet(data_interim_dir / \"rmh_2018_2022_cleaned.parquet\", engine=\"pyarrow\")"
   ]
  },
  {
   "cell_type": "code",
   "execution_count": 5,
   "metadata": {
    "scrolled": true
   },
   "outputs": [
    {
     "name": "stdout",
     "output_type": "stream",
     "text": [
      "(399111, 14)\n"
     ]
    }
   ],
   "source": [
    "df = df[df.year <= 2017].copy()\n",
    "print(df.shape)"
   ]
  },
  {
   "cell_type": "markdown",
   "metadata": {},
   "source": [
    "### Create a train/test split"
   ]
  },
  {
   "cell_type": "code",
   "execution_count": 6,
   "metadata": {},
   "outputs": [
    {
     "name": "stdout",
     "output_type": "stream",
     "text": [
      "The dataset contains 319288 presentations.\n",
      "\n",
      "SELF-HARM\n",
      "Number of presentations:\n",
      "SH\n",
      "0    314962\n",
      "1      4326\n",
      "Name: count, dtype: int64\n",
      "\n",
      "Proportion of presentations:\n",
      "SH\n",
      "0    98.64511\n",
      "1     1.35489\n",
      "Name: proportion, dtype: float64\n",
      "\n",
      "________________________________________________________________________________\n",
      "SUICIDAL IDEATION\n",
      "Number of presentations:\n",
      "SI\n",
      "0    315475\n",
      "1      3813\n",
      "Name: count, dtype: int64\n",
      "\n",
      "Proportion of presentations:\n",
      "SI\n",
      "0    98.80578\n",
      "1     1.19422\n",
      "Name: proportion, dtype: float64\n",
      "________________________________________________________________________________\n",
      "AOD overdose\n",
      "Number of presentations:\n",
      "AOD_OD\n",
      "0    318655\n",
      "1       633\n",
      "Name: count, dtype: int64\n",
      "\n",
      "Proportion of presentations:\n",
      "AOD_OD\n",
      "0    99.801746\n",
      "1     0.198254\n",
      "Name: proportion, dtype: float64\n",
      "\n",
      "The dataset contains 79823 presentations.\n",
      "\n",
      "SELF-HARM\n",
      "Number of presentations:\n",
      "SH\n",
      "0    78741\n",
      "1     1082\n",
      "Name: count, dtype: int64\n",
      "\n",
      "Proportion of presentations:\n",
      "SH\n",
      "0    98.644501\n",
      "1     1.355499\n",
      "Name: proportion, dtype: float64\n",
      "\n",
      "________________________________________________________________________________\n",
      "SUICIDAL IDEATION\n",
      "Number of presentations:\n",
      "SI\n",
      "0    78888\n",
      "1      935\n",
      "Name: count, dtype: int64\n",
      "\n",
      "Proportion of presentations:\n",
      "SI\n",
      "0    98.828658\n",
      "1     1.171342\n",
      "Name: proportion, dtype: float64\n",
      "________________________________________________________________________________\n",
      "AOD overdose\n",
      "Number of presentations:\n",
      "AOD_OD\n",
      "0    79652\n",
      "1      171\n",
      "Name: count, dtype: int64\n",
      "\n",
      "Proportion of presentations:\n",
      "AOD_OD\n",
      "0    99.785776\n",
      "1     0.214224\n",
      "Name: proportion, dtype: float64\n",
      "\n"
     ]
    }
   ],
   "source": [
    "dev_data, test_data = train_test_split(df, test_size=0.2, random_state=42, stratify=df.SH)\n",
    "\n",
    "print_stats(dev_data)\n",
    "print_stats(test_data)"
   ]
  },
  {
   "cell_type": "code",
   "execution_count": 8,
   "metadata": {},
   "outputs": [],
   "source": [
    "dev_data.to_parquet(data_interim_dir / \"rmh_2012_2017_dev.parquet\", engine=\"pyarrow\")\n",
    "test_data.to_parquet(data_interim_dir / \"rmh_2012_2017_test.parquet\", engine=\"pyarrow\")"
   ]
  },
  {
   "cell_type": "code",
   "execution_count": null,
   "metadata": {},
   "outputs": [],
   "source": []
  },
  {
   "cell_type": "code",
   "execution_count": null,
   "metadata": {},
   "outputs": [],
   "source": []
  }
 ],
 "metadata": {
  "kernelspec": {
   "display_name": "self-harm-triage-notes",
   "language": "python",
   "name": "python3"
  },
  "language_info": {
   "codemirror_mode": {
    "name": "ipython",
    "version": 3
   },
   "file_extension": ".py",
   "mimetype": "text/x-python",
   "name": "python",
   "nbconvert_exporter": "python",
   "pygments_lexer": "ipython3",
   "version": "3.11.11"
  }
 },
 "nbformat": 4,
 "nbformat_minor": 4
}
