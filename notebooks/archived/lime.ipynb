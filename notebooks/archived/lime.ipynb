{
 "cells": [
  {
   "cell_type": "markdown",
   "metadata": {},
   "source": [
    "___\n",
    "# Model interpretation"
   ]
  },
  {
   "cell_type": "code",
   "execution_count": null,
   "metadata": {},
   "outputs": [],
   "source": [
    "txt_instance = df_ho.loc[ind[5], \"entities\"]\n",
    "\n",
    "print(\"Original text: \\\"%s\\\"\"% df_ho.loc[ind[5], \"text\"])\n",
    "\n",
    "explainer = lime_text.LimeTextExplainer(class_names=class_names)\n",
    "explained = explainer.explain_instance(txt_instance, pipe.predict_proba, num_features=5)\n",
    "explained.show_in_notebook(text=txt_instance)\n",
    "explained.save_to_file('lime_report5.html')"
   ]
  },
  {
   "cell_type": "code",
   "execution_count": null,
   "metadata": {},
   "outputs": [],
   "source": [
    "explained.local_exp"
   ]
  },
  {
   "cell_type": "code",
   "execution_count": null,
   "metadata": {},
   "outputs": [],
   "source": [
    "print(\"%.2f\" % explained.local_exp[1][0][1])\n",
    "print(\"%.2f\" % explained.local_exp[1][1][1])\n",
    "print(\"%.2f\" % explained.local_exp[1][2][1])\n",
    "print(\"%.2f\" % explained.local_exp[1][3][1])\n",
    "print(\"%.3f\" % explained.local_exp[1][4][1])"
   ]
  },
  {
   "cell_type": "code",
   "execution_count": null,
   "metadata": {},
   "outputs": [],
   "source": [
    "print(\"%.1e\" % explained.local_exp[1][0][1])\n",
    "print(\"%.1e\" % explained.local_exp[1][1][1])\n",
    "print(\"%.1e\" % explained.local_exp[1][2][1])\n",
    "print(\"%.1e\" % explained.local_exp[1][3][1])\n",
    "print(\"%.1e\" % explained.local_exp[1][4][1])"
   ]
  },
  {
   "cell_type": "code",
   "execution_count": null,
   "metadata": {},
   "outputs": [],
   "source": [
    "y_proba_ho[ind[0]]"
   ]
  },
  {
   "cell_type": "code",
   "execution_count": null,
   "metadata": {},
   "outputs": [],
   "source": [
    "explained.as_pyplot_figure()"
   ]
  },
  {
   "cell_type": "markdown",
   "metadata": {},
   "source": [
    "### Suicidal ideation"
   ]
  },
  {
   "cell_type": "code",
   "execution_count": null,
   "metadata": {},
   "outputs": [],
   "source": [
    "df_si = pd.read_csv(\"./data/rmh_SI.csv\")\n",
    "print(df_si.shape)\n",
    "df_si.head()"
   ]
  },
  {
   "cell_type": "code",
   "execution_count": null,
   "metadata": {},
   "outputs": [],
   "source": [
    "y_proba_si = calibrated_pipe.predict_proba(df_si[text])\n",
    "df_si['y_pred'] = np.where(y_proba_si[:,1] > thresh_c, 1, 0)\n",
    "df_si.y_pred.sum(), df_si.y_pred.sum() / df_si.shape[0] * 100"
   ]
  },
  {
   "cell_type": "code",
   "execution_count": null,
   "metadata": {},
   "outputs": [],
   "source": [
    "df_si[df_si.y_pred == 1].index"
   ]
  },
  {
   "cell_type": "code",
   "execution_count": null,
   "metadata": {},
   "outputs": [],
   "source": [
    "txt_instance = df_si.loc[15, \"entities\"]\n",
    "\n",
    "print(\"Original text: \\\"%s\\\"\"% df_si.loc[15, \"text\"])\n",
    "\n",
    "explainer = lime_text.LimeTextExplainer(class_names=class_names)\n",
    "explained = explainer.explain_instance(txt_instance, calibrated_pipe.predict_proba, num_features=5)\n",
    "explained.show_in_notebook(text=txt_instance)"
   ]
  },
  {
   "cell_type": "code",
   "execution_count": null,
   "metadata": {},
   "outputs": [],
   "source": []
  }
 ],
 "metadata": {
  "kernelspec": {
   "display_name": "Python 3 (ipykernel)",
   "language": "python",
   "name": "python3"
  },
  "language_info": {
   "codemirror_mode": {
    "name": "ipython",
    "version": 3
   },
   "file_extension": ".py",
   "mimetype": "text/x-python",
   "name": "python",
   "nbconvert_exporter": "python",
   "pygments_lexer": "ipython3",
   "version": "3.11.4"
  },
  "toc": {
   "base_numbering": 1,
   "nav_menu": {},
   "number_sections": false,
   "sideBar": true,
   "skip_h1_title": false,
   "title_cell": "Table of Contents",
   "title_sidebar": "Contents",
   "toc_cell": false,
   "toc_position": {},
   "toc_section_display": true,
   "toc_window_display": false
  },
  "widgets": {
   "application/vnd.jupyter.widget-state+json": {
    "state": {},
    "version_major": 2,
    "version_minor": 0
   }
  }
 },
 "nbformat": 4,
 "nbformat_minor": 4
}
