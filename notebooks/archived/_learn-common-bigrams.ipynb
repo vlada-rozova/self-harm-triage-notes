{
 "cells": [
  {
   "cell_type": "code",
   "execution_count": 1,
   "id": "7284f8a1",
   "metadata": {},
   "outputs": [],
   "source": [
    "import pandas as pd\n",
    "import numpy as np\n",
    "\n",
    "import re\n",
    "import spacy\n",
    "import pickle\n",
    "import scispacy\n",
    "from spacy.language import Language\n",
    "from spacy.tokens import Span, Doc\n",
    "from negspacy.termsets import termset\n",
    "\n",
    "from collections import Counter\n",
    "from sklearn.feature_extraction.text import CountVectorizer \n",
    "from nltk.corpus import stopwords\n",
    "\n",
    "import warnings\n",
    "warnings.filterwarnings('ignore')\n",
    "\n",
    "pd.options.display.max_colwidth = 100"
   ]
  },
  {
   "cell_type": "code",
   "execution_count": 2,
   "id": "cfdefe7a",
   "metadata": {},
   "outputs": [],
   "source": [
    "filename = \"rmh_1217_test\""
   ]
  },
  {
   "cell_type": "code",
   "execution_count": 3,
   "id": "b47e3d50",
   "metadata": {},
   "outputs": [
    {
     "name": "stdout",
     "output_type": "stream",
     "text": [
      "(79240, 12)\n"
     ]
    },
    {
     "data": {
      "text/html": [
       "<div>\n",
       "<style scoped>\n",
       "    .dataframe tbody tr th:only-of-type {\n",
       "        vertical-align: middle;\n",
       "    }\n",
       "\n",
       "    .dataframe tbody tr th {\n",
       "        vertical-align: top;\n",
       "    }\n",
       "\n",
       "    .dataframe thead th {\n",
       "        text-align: right;\n",
       "    }\n",
       "</style>\n",
       "<table border=\"1\" class=\"dataframe\">\n",
       "  <thead>\n",
       "    <tr style=\"text-align: right;\">\n",
       "      <th></th>\n",
       "      <th>patient_id</th>\n",
       "      <th>uid</th>\n",
       "      <th>age</th>\n",
       "      <th>sex</th>\n",
       "      <th>arrival_mode</th>\n",
       "      <th>arrival_date</th>\n",
       "      <th>year</th>\n",
       "      <th>text</th>\n",
       "      <th>length</th>\n",
       "      <th>SH</th>\n",
       "      <th>SI</th>\n",
       "      <th>text_clean</th>\n",
       "    </tr>\n",
       "  </thead>\n",
       "  <tbody>\n",
       "    <tr>\n",
       "      <th>0</th>\n",
       "      <td>1127885.0</td>\n",
       "      <td>299836</td>\n",
       "      <td>45</td>\n",
       "      <td>male</td>\n",
       "      <td>self/community/pt</td>\n",
       "      <td>2017-05-25 10:30:00</td>\n",
       "      <td>2017</td>\n",
       "      <td>L flank pain - seen here yesterday and had USS - now presents requesting results.</td>\n",
       "      <td>81</td>\n",
       "      <td>0</td>\n",
       "      <td>0</td>\n",
       "      <td>l flank pain - seen here yesterday and had uss - now presents requesting results .</td>\n",
       "    </tr>\n",
       "    <tr>\n",
       "      <th>1</th>\n",
       "      <td>2095728.0</td>\n",
       "      <td>315549</td>\n",
       "      <td>27</td>\n",
       "      <td>female</td>\n",
       "      <td>other</td>\n",
       "      <td>2012-08-16 21:50:00</td>\n",
       "      <td>2012</td>\n",
       "      <td>Abdo pain 1/52, worsening this pm, RIF, vomiting, no diarrhoea,  nil urinary sx. Taking regular ...</td>\n",
       "      <td>179</td>\n",
       "      <td>0</td>\n",
       "      <td>0</td>\n",
       "      <td>abdo pain 1/52 , worsening this pm , rif , vomiting , no diarrhoea , nil urinary sx . taking reg...</td>\n",
       "    </tr>\n",
       "    <tr>\n",
       "      <th>2</th>\n",
       "      <td>1009473.0</td>\n",
       "      <td>482578</td>\n",
       "      <td>45</td>\n",
       "      <td>male</td>\n",
       "      <td>other</td>\n",
       "      <td>2012-06-15 20:06:00</td>\n",
       "      <td>2012</td>\n",
       "      <td>Painful R) elbow post fall from motorbike. Movement decreasing with time. Denies headstrike or L...</td>\n",
       "      <td>159</td>\n",
       "      <td>0</td>\n",
       "      <td>0</td>\n",
       "      <td>painful right elbow post fall from motorbike . movement decreasing with time . denies headstrike...</td>\n",
       "    </tr>\n",
       "    <tr>\n",
       "      <th>3</th>\n",
       "      <td>4010717.0</td>\n",
       "      <td>612892</td>\n",
       "      <td>75</td>\n",
       "      <td>female</td>\n",
       "      <td>self/community/pt</td>\n",
       "      <td>2016-12-26 11:11:00</td>\n",
       "      <td>2016</td>\n",
       "      <td>Episode dizzy nausea and blurred vision. Sx resolved hgowever pt feeling tired. Phx nil</td>\n",
       "      <td>87</td>\n",
       "      <td>0</td>\n",
       "      <td>0</td>\n",
       "      <td>episode dizzy nausea and blurred vision . sx resolved hgowever pt feeling tired . phx nil</td>\n",
       "    </tr>\n",
       "    <tr>\n",
       "      <th>4</th>\n",
       "      <td>2073600.0</td>\n",
       "      <td>372128</td>\n",
       "      <td>25</td>\n",
       "      <td>female</td>\n",
       "      <td>other</td>\n",
       "      <td>2012-01-14 14:50:00</td>\n",
       "      <td>2012</td>\n",
       "      <td>Dulled sensation and feeling of cool down L arm and L leg post workout at gym this am. Full equa...</td>\n",
       "      <td>137</td>\n",
       "      <td>0</td>\n",
       "      <td>0</td>\n",
       "      <td>dulled sensation and feeling of cool down l arm and l leg post workout at gym this am . full equ...</td>\n",
       "    </tr>\n",
       "  </tbody>\n",
       "</table>\n",
       "</div>"
      ],
      "text/plain": [
       "   patient_id     uid  age     sex       arrival_mode         arrival_date  \\\n",
       "0   1127885.0  299836   45    male  self/community/pt  2017-05-25 10:30:00   \n",
       "1   2095728.0  315549   27  female              other  2012-08-16 21:50:00   \n",
       "2   1009473.0  482578   45    male              other  2012-06-15 20:06:00   \n",
       "3   4010717.0  612892   75  female  self/community/pt  2016-12-26 11:11:00   \n",
       "4   2073600.0  372128   25  female              other  2012-01-14 14:50:00   \n",
       "\n",
       "   year  \\\n",
       "0  2017   \n",
       "1  2012   \n",
       "2  2012   \n",
       "3  2016   \n",
       "4  2012   \n",
       "\n",
       "                                                                                                  text  \\\n",
       "0                    L flank pain - seen here yesterday and had USS - now presents requesting results.   \n",
       "1  Abdo pain 1/52, worsening this pm, RIF, vomiting, no diarrhoea,  nil urinary sx. Taking regular ...   \n",
       "2  Painful R) elbow post fall from motorbike. Movement decreasing with time. Denies headstrike or L...   \n",
       "3              Episode dizzy nausea and blurred vision. Sx resolved hgowever pt feeling tired. Phx nil   \n",
       "4  Dulled sensation and feeling of cool down L arm and L leg post workout at gym this am. Full equa...   \n",
       "\n",
       "   length  SH  SI  \\\n",
       "0      81   0   0   \n",
       "1     179   0   0   \n",
       "2     159   0   0   \n",
       "3      87   0   0   \n",
       "4     137   0   0   \n",
       "\n",
       "                                                                                            text_clean  \n",
       "0                   l flank pain - seen here yesterday and had uss - now presents requesting results .  \n",
       "1  abdo pain 1/52 , worsening this pm , rif , vomiting , no diarrhoea , nil urinary sx . taking reg...  \n",
       "2  painful right elbow post fall from motorbike . movement decreasing with time . denies headstrike...  \n",
       "3            episode dizzy nausea and blurred vision . sx resolved hgowever pt feeling tired . phx nil  \n",
       "4  dulled sensation and feeling of cool down l arm and l leg post workout at gym this am . full equ...  "
      ]
     },
     "execution_count": 3,
     "metadata": {},
     "output_type": "execute_result"
    }
   ],
   "source": [
    "df = pd.read_csv(\"../data/\" + filename + \"_cleaned.csv\")\n",
    "print(df.shape)\n",
    "df.head()"
   ]
  },
  {
   "cell_type": "code",
   "execution_count": 4,
   "id": "28dfff1a",
   "metadata": {},
   "outputs": [],
   "source": [
    "@Language.component(\"custom_ner\") \n",
    "def custom_ner(doc):\n",
    "    ents = []\n",
    "    for token in doc:\n",
    "        if not token.is_stop and not token.is_punct and not token.like_num and token.text!=\"+\":\n",
    "            ents.append(Span(doc, token.i, token.i+1, label=\"ENTITY\"))\n",
    "    doc.ents = ents\n",
    "    return doc"
   ]
  },
  {
   "cell_type": "code",
   "execution_count": 5,
   "id": "efb5fc44",
   "metadata": {},
   "outputs": [
    {
     "name": "stdout",
     "output_type": "stream",
     "text": [
      "NLP pipeline: tokenizer + ['tok2vec', 'custom_ner']\n"
     ]
    }
   ],
   "source": [
    "# Load scispacy model\n",
    "nlp = spacy.load(\"en_core_sci_lg\", disable=['tagger', 'attribute_ruler', 'lemmatizer', 'parser', 'ner'])\n",
    "\n",
    "# Custom NER \n",
    "nlp.add_pipe(\"custom_ner\", last=True)\n",
    "\n",
    "print(\"NLP pipeline: tokenizer + {}\".format(nlp.pipe_names))"
   ]
  },
  {
   "cell_type": "code",
   "execution_count": 6,
   "id": "97df5b70",
   "metadata": {},
   "outputs": [
    {
     "name": "stdout",
     "output_type": "stream",
     "text": [
      "CPU times: user 3min 34s, sys: 1.11 s, total: 3min 35s\n",
      "Wall time: 3min 36s\n"
     ]
    }
   ],
   "source": [
    "%%time\n",
    "df['doc'] = df.text_clean.apply(nlp)"
   ]
  },
  {
   "cell_type": "code",
   "execution_count": 7,
   "id": "ee213f5d",
   "metadata": {},
   "outputs": [],
   "source": [
    "# Modify negex termsets\n",
    "ts = termset('en_clinical').get_patterns()\n",
    "ts['preceding_negations'].extend([\"nil\", \"non\"])\n",
    "ts['termination'].extend([\",\", \";\", \":\", \"obviously\"])"
   ]
  },
  {
   "cell_type": "code",
   "execution_count": 10,
   "id": "323696ac",
   "metadata": {},
   "outputs": [],
   "source": [
    "def word_count(data):\n",
    "    vectorizer = CountVectorizer(stop_words=stopwords.words('english') + ts['preceding_negations'], \n",
    "                                 ngram_range=(2,2), \n",
    "                                 token_pattern=r'\\S+')\n",
    "    vectors = vectorizer.fit_transform(data)\n",
    "    \n",
    "    vocab = vectorizer.vocabulary_\n",
    "    counts = vectors.sum(axis=0).A1\n",
    "    \n",
    "    return Counter(dict(zip(vocab, counts)))"
   ]
  },
  {
   "cell_type": "code",
   "execution_count": 11,
   "id": "9129a599",
   "metadata": {},
   "outputs": [
    {
     "data": {
      "text/plain": [
       "370683"
      ]
     },
     "execution_count": 11,
     "metadata": {},
     "output_type": "execute_result"
    }
   ],
   "source": [
    "bigrams = word_count(df.doc.apply(lambda x: \" \".join([ent.text for ent in x.ents])))\n",
    "len(bigrams)"
   ]
  },
  {
   "cell_type": "code",
   "execution_count": 12,
   "id": "d2a8126a",
   "metadata": {},
   "outputs": [
    {
     "name": "stdout",
     "output_type": "stream",
     "text": [
      "Cut-off: 32.0\n",
      "3597 most common bigrams\n"
     ]
    }
   ],
   "source": [
    "cut_off = np.quantile(np.fromiter(bigrams.values(), dtype=np.int), 0.99) \n",
    "print(\"Cut-off:\", cut_off)\n",
    "n_bigrams = (np.fromiter(bigrams.values(), dtype=np.int) > cut_off).sum()\n",
    "print(\"%d most common bigrams\" % n_bigrams)\n",
    "most_common_bigrams = [item[0] for item in bigrams.most_common(n_bigrams)]"
   ]
  },
  {
   "cell_type": "code",
   "execution_count": null,
   "id": "42c66b0e",
   "metadata": {},
   "outputs": [],
   "source": [
    "with open (\"../data/\" + filename + \"most_common_bigrams.txt\", 'wb') as f:\n",
    "    pickle.dump(most_common_bigrams, f)"
   ]
  }
 ],
 "metadata": {
  "kernelspec": {
   "display_name": "Python 3 (ipykernel)",
   "language": "python",
   "name": "python3"
  },
  "language_info": {
   "codemirror_mode": {
    "name": "ipython",
    "version": 3
   },
   "file_extension": ".py",
   "mimetype": "text/x-python",
   "name": "python",
   "nbconvert_exporter": "python",
   "pygments_lexer": "ipython3",
   "version": "3.6.8"
  }
 },
 "nbformat": 4,
 "nbformat_minor": 5
}
