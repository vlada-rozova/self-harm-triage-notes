{
 "cells": [
  {
   "cell_type": "markdown",
   "id": "1459acfb",
   "metadata": {},
   "source": [
    "# A workflow for training and applying an NLP-based self-harm classifier to ED triage notes"
   ]
  },
  {
   "cell_type": "markdown",
   "id": "a64cadcd",
   "metadata": {},
   "source": [
    "## Data preprocessing \n",
    "Run notebook `1-prepare-dataset.ipynb`\n",
    "1. **Load the original dataset**\\\n",
    "    Input: `RMH_2012-2019_MASTER.csv`\\\n",
    "    Output: dataframe $D$ containing raw ED presentations with 559454 rows and 43 columns\n",
    "    \n",
    "\n",
    "2. **Generate a unique ID for each presentation**\\\n",
    "    Input: dataframe $D$\n",
    "    Output: dataframe $D$ containing raw ED presentations with 559454 rows and 44 columns\n",
    "    \n",
    "    \n",
    "3. **Drop the last two rows** *(should not be necessary, only done due to the format of this version of the dataset)*\\\n",
    "    Input: dataframe $D$\\\n",
    "    Output: dataframe $D$ containing raw ED presentations with 559452 rows and 44 columns\n",
    "    \n",
    "    \n",
    "4. **Drop fully duplicated rows**\\\n",
    "    Input: dataframe $D$\\\n",
    "    Output: dataframe $D$ containing raw ED presentations with 559419 rows and 44 columns\n",
    "    \n",
    "    \n",
    "5. **Rename columns** _(to make the code shorter and easier to read)_\n",
    "6. **Convert data types** _(converting to datetme is not necessary for the classifier, only needed to check and visualise the data)_\n",
    "7. **Order the dataframe**\n",
    "8. **Data checks and corrections:**\n",
    "    - check if the Year column was extracted correctly\n",
    "    - note that in 258 presentations triage is dated before 01.01.2012, replace with the corresponding arrival date\n",
    "    - check for ED presentations with the triage date more than 24h before the arrival date\n",
    "    - check for ED presentations with more than 24h between the arrival and triage\n",
    "    - check if there are presentations with empty triage notes, remove 3993 presentatons with empty triage notes\n",
    "    - check if there are presentations with simply \"as above\" in triage notes, remove 46 such presentations\n",
    "    - examine the distribution of character length of triage notes\n",
    "    - examine the number of presentations positive for self-harm and suicidal ideation, and their distrubution across the years\n",
    "    - examine the distribution of age, remove 148 presentations of patients under the age of 9\n",
    "    - examine the values for gender, normalise to have 4 categories: `female`, `male`, `intersex`, `unknown`\n",
    "    - examine the arrival mode, normalise to have 7 categories: `road ambulance`, `police`, `private ambulance`, `helicopter`, `air ambulance`, `self/community/pt`    \n",
    "    Output: dataframe $D$ containing raw ED presentations with 555232 rows and 46 columns\n",
    "9. **Preprocess triage notes** _(using the function `preprocess` from `utils.py`; this includes removing wierd characters, expanding some of the most common shorthands, normalising several concepts, and removing duplicated punctuation marks)_"
   ]
  },
  {
   "cell_type": "markdown",
   "id": "6d824c5a",
   "metadata": {},
   "source": [
    "## Splitting the data\n",
    "Run notebook `2-create-separate-datasets.ipynb`\n",
    "1. Retain presentations from 2018-2019 as holdout data for prospective validation\n",
    "2. Split presentations from 2012-2017 into training and test sets stratifying by SH"
   ]
  },
  {
   "cell_type": "markdown",
   "id": "29236d0d",
   "metadata": {},
   "source": [
    "## Learning"
   ]
  },
  {
   "cell_type": "markdown",
   "id": "015f6f41",
   "metadata": {},
   "source": [
    "## Inference\n",
    "Successively run notebooks `3-normalize-triage-notes.ipynb`, `4-extract-concepts.ipynb`, `5-make-predictions.ipynb` OR `inference.ipynb`\n",
    "1. **Load unseen data**\\\n",
    "    Input: a .csv file with preprocessed triage notes\\\n",
    "    Output: a dataframe containing preprocessed triage notes $T$ and the corresponding labels $Y$ for self-harm and suicidal ideation\n",
    "    \n",
    "    \n",
    "2. **Tokenize**\\\n",
    "    Input: preprocessed triage notes $T$\\\n",
    "    Output: triage note texts $T$ split into individual tokens\n",
    "    \n",
    "    \n",
    "3. **Re-tokenize**\\\n",
    "    Input: tokenized texts $T$, previously learned vocabulary $V$\\\n",
    "    Output: tokenized texts $T$ with compound terms further split into individual tokens\n",
    "    \n",
    "    \n",
    "4. **Separate leading full stop**\\\n",
    "    Input: tokenized texts $T$\\\n",
    "    Output: tokenized texts $T$ with leading full stops separated as individual tokens\n",
    "\n",
    "\n",
    "5. **Spelling correction**\\\n",
    "    Input: triage note texts $T$, previously learned dictionary of misspellings $S$\\\n",
    "    Output: triage note texts $T$ with corrected misspelled words\n",
    "    \n",
    "    \n",
    "6. **Slang replacement**\\\n",
    "    Input: triage note texts $T$, medication names $M$\\\n",
    "    Output: triage note texts $T$ with slang drug names replaced with generic drug names\n",
    "    \n",
    "\n",
    "7. **Extract concepts**\\\n",
    "    Input: triage note texts $T$\\\n",
    "    Output: lists of concepts $C$ extracted from triage note texts $T$\n",
    "    \n",
    "    \n",
    "8. **Make predictions**\\\n",
    "    Input: lists of concepts $C$, pipeline $P$ consisting of a pretrained vectorizer and a pretraned ML classifier, previously learned threshold value $\\theta$ used to convert predicted probabilitites into class labels\\\n",
    "    Output: class labels $\\hat{Y}$"
   ]
  },
  {
   "cell_type": "code",
   "execution_count": null,
   "id": "2fba39f8",
   "metadata": {},
   "outputs": [],
   "source": []
  }
 ],
 "metadata": {
  "kernelspec": {
   "display_name": "Python 3 (ipykernel)",
   "language": "python",
   "name": "python3"
  },
  "language_info": {
   "codemirror_mode": {
    "name": "ipython",
    "version": 3
   },
   "file_extension": ".py",
   "mimetype": "text/x-python",
   "name": "python",
   "nbconvert_exporter": "python",
   "pygments_lexer": "ipython3",
   "version": "3.11.4"
  }
 },
 "nbformat": 4,
 "nbformat_minor": 5
}
