{
 "cells": [
  {
   "cell_type": "code",
   "execution_count": 1,
   "id": "68eae790",
   "metadata": {},
   "outputs": [],
   "source": [
    "import numpy as np\n",
    "import pandas as pd\n",
    "import random"
   ]
  },
  {
   "cell_type": "code",
   "execution_count": 9,
   "id": "6f692b6d",
   "metadata": {},
   "outputs": [],
   "source": [
    "filename = \"rmh_2012_2017_dev\"\n",
    "df = pd.read_csv(\"../datasets/\" + filename + \".csv\", \n",
    "                 converters={'triage_note': str})"
   ]
  },
  {
   "cell_type": "code",
   "execution_count": 32,
   "id": "b8c32cdf",
   "metadata": {},
   "outputs": [
    {
     "data": {
      "text/plain": [
       "20"
      ]
     },
     "execution_count": 32,
     "metadata": {},
     "output_type": "execute_result"
    }
   ],
   "source": [
    "tmp = pd.concat([df[df.SH==0].sample(80), df[df.SH==1].sample(20)], \n",
    "                axis=0)\n",
    "tmp.SH.sum()"
   ]
  },
  {
   "cell_type": "code",
   "execution_count": 34,
   "id": "bf31fb70",
   "metadata": {},
   "outputs": [],
   "source": [
    "min_len = tmp.triage_note.apply(lambda x: len(x.split())).min()"
   ]
  },
  {
   "cell_type": "code",
   "execution_count": 39,
   "id": "11e47f0c",
   "metadata": {},
   "outputs": [],
   "source": [
    "def sample_note(text):\n",
    "    tokens = text.split()\n",
    "    max_len = len(tokens)\n",
    "    k = random.randint(min_len, max_len)\n",
    "    return \" \".join(random.sample(tokens, k=k))\n",
    "    \n",
    "tmp.triage_note = tmp.triage_note.apply(sample_note)"
   ]
  },
  {
   "cell_type": "code",
   "execution_count": 42,
   "id": "99a5137f",
   "metadata": {},
   "outputs": [],
   "source": [
    "tmp[['triage_note', 'SH']].to_csv(\"../datasets/fake_data.csv\", index=False)"
   ]
  },
  {
   "cell_type": "code",
   "execution_count": null,
   "id": "d47dec3f",
   "metadata": {},
   "outputs": [],
   "source": []
  }
 ],
 "metadata": {
  "kernelspec": {
   "display_name": "Python 3 (ipykernel)",
   "language": "python",
   "name": "python3"
  },
  "language_info": {
   "codemirror_mode": {
    "name": "ipython",
    "version": 3
   },
   "file_extension": ".py",
   "mimetype": "text/x-python",
   "name": "python",
   "nbconvert_exporter": "python",
   "pygments_lexer": "ipython3",
   "version": "3.11.4"
  }
 },
 "nbformat": 4,
 "nbformat_minor": 5
}
