{
 "cells": [
  {
   "cell_type": "code",
   "execution_count": 1,
   "metadata": {},
   "outputs": [],
   "source": [
    "import pandas as pd\n",
    "import numpy as np\n",
    "\n",
    "import re\n",
    "import spacy\n",
    "import pickle\n",
    "import scispacy\n",
    "from spacy.language import Language\n",
    "from spacy.tokens import Span, Doc\n",
    "from spacy.matcher import PhraseMatcher\n",
    "from scispacy.linking import EntityLinker\n",
    "from negspacy.negation import Negex\n",
    "from negspacy.termsets import termset\n",
    "from spacy.util import filter_spans\n",
    "\n",
    "from collections import Counter\n",
    "from sklearn.feature_extraction.text import CountVectorizer \n",
    "from nltk.corpus import stopwords\n",
    "\n",
    "import warnings\n",
    "warnings.filterwarnings('ignore')\n",
    "\n",
    "pd.options.display.max_colwidth = 100"
   ]
  },
  {
   "cell_type": "code",
   "execution_count": 2,
   "metadata": {},
   "outputs": [],
   "source": [
    "# Dataset to process\n",
    "# filename = \"rmh_1217_test\"\n",
    "filename = \"rmh_1819\""
   ]
  },
  {
   "cell_type": "markdown",
   "metadata": {},
   "source": [
    "### Load normalised triage notes"
   ]
  },
  {
   "cell_type": "code",
   "execution_count": 4,
   "metadata": {
    "scrolled": false
   },
   "outputs": [
    {
     "name": "stdout",
     "output_type": "stream",
     "text": [
      "(159172, 12)\n"
     ]
    },
    {
     "data": {
      "text/html": [
       "<div>\n",
       "<style scoped>\n",
       "    .dataframe tbody tr th:only-of-type {\n",
       "        vertical-align: middle;\n",
       "    }\n",
       "\n",
       "    .dataframe tbody tr th {\n",
       "        vertical-align: top;\n",
       "    }\n",
       "\n",
       "    .dataframe thead th {\n",
       "        text-align: right;\n",
       "    }\n",
       "</style>\n",
       "<table border=\"1\" class=\"dataframe\">\n",
       "  <thead>\n",
       "    <tr style=\"text-align: right;\">\n",
       "      <th></th>\n",
       "      <th>patient_id</th>\n",
       "      <th>uid</th>\n",
       "      <th>age</th>\n",
       "      <th>gender</th>\n",
       "      <th>arrival_mode</th>\n",
       "      <th>arrival_date</th>\n",
       "      <th>year</th>\n",
       "      <th>text</th>\n",
       "      <th>text_clean</th>\n",
       "      <th>length</th>\n",
       "      <th>SH</th>\n",
       "      <th>SI</th>\n",
       "    </tr>\n",
       "  </thead>\n",
       "  <tbody>\n",
       "    <tr>\n",
       "      <th>0</th>\n",
       "      <td>8118059.0</td>\n",
       "      <td>142671</td>\n",
       "      <td>64</td>\n",
       "      <td>female</td>\n",
       "      <td>self/community/pt</td>\n",
       "      <td>2018-01-01 00:02:00</td>\n",
       "      <td>2018</td>\n",
       "      <td>Was moving a chair/picking up a chair - has torn off half the nail on the 3rd finger on the R) h...</td>\n",
       "      <td>was moving a chair/picking up a chair - has torn off half the nail on the 3rd finger on the righ...</td>\n",
       "      <td>188</td>\n",
       "      <td>0</td>\n",
       "      <td>0</td>\n",
       "    </tr>\n",
       "    <tr>\n",
       "      <th>1</th>\n",
       "      <td>4043373.0</td>\n",
       "      <td>664964</td>\n",
       "      <td>26</td>\n",
       "      <td>male</td>\n",
       "      <td>self/community/pt</td>\n",
       "      <td>2018-01-01 00:04:00</td>\n",
       "      <td>2018</td>\n",
       "      <td>Pt accidentally drank cater clean food grade sanitiser at work,  states did not swallow any but ...</td>\n",
       "      <td>pt accidentally drank cater clean food grade sanitiser at work, states did not swallow any but f...</td>\n",
       "      <td>164</td>\n",
       "      <td>0</td>\n",
       "      <td>0</td>\n",
       "    </tr>\n",
       "    <tr>\n",
       "      <th>2</th>\n",
       "      <td>4058076.0</td>\n",
       "      <td>192808</td>\n",
       "      <td>25</td>\n",
       "      <td>male</td>\n",
       "      <td>road ambulance</td>\n",
       "      <td>2018-01-01 00:05:00</td>\n",
       "      <td>2018</td>\n",
       "      <td>ETOH this pm. fallen of bike 10kph hit occiput. nil LOC, nil pain. refusing Tx with AV. denies L...</td>\n",
       "      <td>etoh this pm. fallen of bike 10kph hit occiput. nil loc, nil pain. refusing tx with av. denies l...</td>\n",
       "      <td>173</td>\n",
       "      <td>0</td>\n",
       "      <td>0</td>\n",
       "    </tr>\n",
       "    <tr>\n",
       "      <th>3</th>\n",
       "      <td>4058077.0</td>\n",
       "      <td>721017</td>\n",
       "      <td>20</td>\n",
       "      <td>male</td>\n",
       "      <td>road ambulance</td>\n",
       "      <td>2018-01-01 00:11:00</td>\n",
       "      <td>2018</td>\n",
       "      <td>in vic pol lock up for drunk. being agressive. ? fell over in cells abhrasions to face and occip...</td>\n",
       "      <td>in vic pol lock up for drunk. being agressive. ? fell over in cells abhrasions to face and occip...</td>\n",
       "      <td>198</td>\n",
       "      <td>0</td>\n",
       "      <td>0</td>\n",
       "    </tr>\n",
       "    <tr>\n",
       "      <th>4</th>\n",
       "      <td>4058078.0</td>\n",
       "      <td>800741</td>\n",
       "      <td>30</td>\n",
       "      <td>female</td>\n",
       "      <td>self/community/pt</td>\n",
       "      <td>2018-01-01 00:12:00</td>\n",
       "      <td>2018</td>\n",
       "      <td>2/52 intermittant abdo pain, more so in the evening. Denies other sx, haemodynamically stable, l...</td>\n",
       "      <td>2/52 intermittant abdo pain, more so in the evening. denies other sx, haemodynamically stable, l...</td>\n",
       "      <td>128</td>\n",
       "      <td>0</td>\n",
       "      <td>0</td>\n",
       "    </tr>\n",
       "  </tbody>\n",
       "</table>\n",
       "</div>"
      ],
      "text/plain": [
       "   patient_id     uid  age  gender       arrival_mode         arrival_date  \\\n",
       "0   8118059.0  142671   64  female  self/community/pt  2018-01-01 00:02:00   \n",
       "1   4043373.0  664964   26    male  self/community/pt  2018-01-01 00:04:00   \n",
       "2   4058076.0  192808   25    male     road ambulance  2018-01-01 00:05:00   \n",
       "3   4058077.0  721017   20    male     road ambulance  2018-01-01 00:11:00   \n",
       "4   4058078.0  800741   30  female  self/community/pt  2018-01-01 00:12:00   \n",
       "\n",
       "   year  \\\n",
       "0  2018   \n",
       "1  2018   \n",
       "2  2018   \n",
       "3  2018   \n",
       "4  2018   \n",
       "\n",
       "                                                                                                  text  \\\n",
       "0  Was moving a chair/picking up a chair - has torn off half the nail on the 3rd finger on the R) h...   \n",
       "1  Pt accidentally drank cater clean food grade sanitiser at work,  states did not swallow any but ...   \n",
       "2  ETOH this pm. fallen of bike 10kph hit occiput. nil LOC, nil pain. refusing Tx with AV. denies L...   \n",
       "3  in vic pol lock up for drunk. being agressive. ? fell over in cells abhrasions to face and occip...   \n",
       "4  2/52 intermittant abdo pain, more so in the evening. Denies other sx, haemodynamically stable, l...   \n",
       "\n",
       "                                                                                            text_clean  \\\n",
       "0  was moving a chair/picking up a chair - has torn off half the nail on the 3rd finger on the righ...   \n",
       "1  pt accidentally drank cater clean food grade sanitiser at work, states did not swallow any but f...   \n",
       "2  etoh this pm. fallen of bike 10kph hit occiput. nil loc, nil pain. refusing tx with av. denies l...   \n",
       "3  in vic pol lock up for drunk. being agressive. ? fell over in cells abhrasions to face and occip...   \n",
       "4  2/52 intermittant abdo pain, more so in the evening. denies other sx, haemodynamically stable, l...   \n",
       "\n",
       "   length  SH  SI  \n",
       "0     188   0   0  \n",
       "1     164   0   0  \n",
       "2     173   0   0  \n",
       "3     198   0   0  \n",
       "4     128   0   0  "
      ]
     },
     "execution_count": 4,
     "metadata": {},
     "output_type": "execute_result"
    }
   ],
   "source": [
    "df = pd.read_csv(\"../../data/\" + filename + \"_cleaned.csv\")\n",
    "print(df.shape)\n",
    "df.head()"
   ]
  },
  {
   "cell_type": "markdown",
   "metadata": {},
   "source": [
    "### Define NLP pipeline"
   ]
  },
  {
   "cell_type": "code",
   "execution_count": 5,
   "metadata": {},
   "outputs": [],
   "source": [
    "@Language.component(\"custom_ner\") \n",
    "def custom_ner(doc):\n",
    "    ents = []\n",
    "    for token in doc:\n",
    "        if not token.is_stop and not token.is_punct and not token.like_num and token.text!=\"+\":\n",
    "            ents.append(Span(doc, token.i, token.i+1, label=\"CONCEPT\"))\n",
    "    doc.ents = ents\n",
    "    return doc"
   ]
  },
  {
   "cell_type": "code",
   "execution_count": 6,
   "metadata": {},
   "outputs": [
    {
     "name": "stdout",
     "output_type": "stream",
     "text": [
      "NLP pipeline: tokenizer + ['tok2vec', 'tagger', 'attribute_ruler', 'lemmatizer', 'parser', 'custom_ner']\n"
     ]
    }
   ],
   "source": [
    "# Load Scispacy model\n",
    "nlp = spacy.load(\"en_core_sci_lg\", disable=['ner'])\n",
    "\n",
    "# Add custom NER \n",
    "nlp.add_pipe(\"custom_ner\", last=True)\n",
    "\n",
    "print(\"NLP pipeline: tokenizer + {}\".format(nlp.pipe_names))"
   ]
  },
  {
   "cell_type": "code",
   "execution_count": 7,
   "metadata": {},
   "outputs": [],
   "source": [
    "df['doc'] = df.text_clean.apply(nlp)\n",
    "df['concepts'] = df.doc.apply(lambda x: \" \".join([ent.text for ent in x.ents]))\n",
    "df.drop(columns='doc').to_csv(\"../../data/\" + filename + \"_prepared_cnpt.csv\", index=False)"
   ]
  },
  {
   "cell_type": "code",
   "execution_count": null,
   "metadata": {},
   "outputs": [],
   "source": []
  }
 ],
 "metadata": {
  "kernelspec": {
   "display_name": "Python 3 (ipykernel)",
   "language": "python",
   "name": "python3"
  },
  "language_info": {
   "codemirror_mode": {
    "name": "ipython",
    "version": 3
   },
   "file_extension": ".py",
   "mimetype": "text/x-python",
   "name": "python",
   "nbconvert_exporter": "python",
   "pygments_lexer": "ipython3",
   "version": "3.11.4"
  }
 },
 "nbformat": 4,
 "nbformat_minor": 4
}
