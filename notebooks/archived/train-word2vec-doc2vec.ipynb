{
 "cells": [
  {
   "cell_type": "markdown",
   "metadata": {},
   "source": [
    "___\n",
    "# Train word2vec/doc2vec\n",
    "___"
   ]
  },
  {
   "cell_type": "code",
   "execution_count": null,
   "metadata": {},
   "outputs": [],
   "source": [
    "import pandas as pd\n",
    "import re\n",
    "import time\n",
    "import spacy\n",
    "import nlp_utils as utils\n",
    "from custom_tokenizer import combined_rule_tokenizer\n",
    "from gensim.models.doc2vec import Word2Vec, Doc2Vec, TaggedDocument"
   ]
  },
  {
   "cell_type": "markdown",
   "metadata": {},
   "source": [
    "### Load raw data"
   ]
  },
  {
   "cell_type": "code",
   "execution_count": null,
   "metadata": {},
   "outputs": [],
   "source": [
    "# Load the dataset with ED triage notes\n",
    "df = pd.read_csv(\"./data/rmh_data_prepared.csv\")\n",
    "df.head()"
   ]
  },
  {
   "cell_type": "markdown",
   "metadata": {},
   "source": [
    "### Pre-process"
   ]
  },
  {
   "cell_type": "code",
   "execution_count": null,
   "metadata": {},
   "outputs": [],
   "source": [
    "def preprocess(text):\n",
    "    \n",
    "    # Convert to lower case\n",
    "    text = text.lower()\n",
    "    \n",
    "    # \"l)\" to \"left\"\n",
    "    pattern = re.compile(\"(^|\\W)l\\)\")\n",
    "    text = pattern.sub(r\"\\1 left \", text)\n",
    "    # \"r)\" to \"right\"\n",
    "    pattern = re.compile(\"(^|\\W)r\\)\")\n",
    "    text = pattern.sub(r\"\\1 right \", text)\n",
    "    # \"@\" to \"at\"\n",
    "    pattern = re.compile(\"@\")\n",
    "    text = pattern.sub(r\" at \", text)\n",
    "    # \"#\" to \"fractured\" if not followed by number\n",
    "    pattern = re.compile(\"#(?!\\d)\")\n",
    "    text = pattern.sub(r\" fracture \", text)\n",
    "    # \"+ve\" to \"positive\"\n",
    "    pattern = re.compile(\"\\+ve(?![a-z])\")\n",
    "    text = pattern.sub(r\" positive \", text)\n",
    "    # \"-ve\" to \"positive\"\n",
    "    pattern = re.compile(\"\\-ve(?![a-z])\")\n",
    "    text = pattern.sub(r\" negative \", text)\n",
    "    # Remove ? and !\n",
    "    pattern = re.compile(\"\\?|!\")\n",
    "    text = pattern.sub(r\" \", text)\n",
    "    # Arrows\n",
    "    pattern = re.compile(\"-+>\")\n",
    "    text = pattern.sub(r\" -> \", text)\n",
    "    # Remove \"+\" after digit\n",
    "    pattern = re.compile(\"(\\d)\\+\")\n",
    "    text = pattern.sub(r\"\\1 \", text)\n",
    "    # Replace parentheses with commas\n",
    "    pattern = re.compile(\"\\((.*)\\)[,\\.]?\")\n",
    "    text = pattern.sub(r\" , \\1, \", text)\n",
    "    # Replace curly brackets with dots\n",
    "    pattern = re.compile(\"\\((.*)\\)\")\n",
    "    text = pattern.sub(r\" . \\1. \", text)    \n",
    "    # Remove duplicated punctuation marks [-/+_,?.] and spaces\n",
    "    pattern = re.compile(\"-{2,}\")\n",
    "    text = pattern.sub(r\"-\", text)\n",
    "    pattern = re.compile(\"/{2,}\")\n",
    "    text = pattern.sub(r\"/\", text)\n",
    "    pattern = re.compile(\"\\+{2,}\")\n",
    "    text = pattern.sub(r\"+\", text)\n",
    "    pattern = re.compile(\"_{2,}\")\n",
    "    text = pattern.sub(r\"_\", text)\n",
    "    pattern = re.compile(\",{2,}\")\n",
    "    text = pattern.sub(r\",\", text)  \n",
    "    pattern = re.compile(\"\\?{2,}\")\n",
    "    text = pattern.sub(r\"?\", text)\n",
    "    pattern = re.compile(\"\\.{2,}\")\n",
    "    text = pattern.sub(r\".\", text)\n",
    "    pattern = re.compile(\"\\s+\")\n",
    "    text = pattern.sub(r\" \", text)\n",
    "    \n",
    "    return text"
   ]
  },
  {
   "cell_type": "code",
   "execution_count": null,
   "metadata": {},
   "outputs": [],
   "source": [
    "# Preprocess triage notes\n",
    "df['text_clean'] = df.text.apply(preprocess)"
   ]
  },
  {
   "cell_type": "markdown",
   "metadata": {},
   "source": [
    "### Tokenise"
   ]
  },
  {
   "cell_type": "markdown",
   "metadata": {},
   "source": [
    "> Alternatively, can simply split by whitespace:\n",
    ">\n",
    "> `df.text_clean = df.text_clean.apply(lambda x: x.split())`"
   ]
  },
  {
   "cell_type": "code",
   "execution_count": null,
   "metadata": {},
   "outputs": [],
   "source": [
    "# Load scispacy model to apply custom tokeniser\n",
    "# The rest of the pipeline can be disabled\n",
    "nlp = spacy.load(\"en_core_sci_sm\", disable=['tagger', 'parser', 'ner'])\n",
    "nlp.tokenizer = combined_rule_tokenizer(nlp)\n",
    "\n",
    "# Apply the NLP pipeline\n",
    "df.text_clean = list(nlp.pipe(df.text_clean))"
   ]
  },
  {
   "cell_type": "code",
   "execution_count": null,
   "metadata": {},
   "outputs": [],
   "source": [
    "def doc2list(doc):\n",
    "    tokens = []\n",
    "    for token in doc:\n",
    "        tokens.append(token.text)\n",
    "    return tokens\n",
    "\n",
    "# Convert spacy doc to list\n",
    "df.text_clean = df.text_clean.apply(doc2list)"
   ]
  },
  {
   "cell_type": "markdown",
   "metadata": {},
   "source": [
    "### Train and save the model\n",
    "**Word2Vec**"
   ]
  },
  {
   "cell_type": "code",
   "execution_count": null,
   "metadata": {},
   "outputs": [],
   "source": [
    "model = Word2Vec(df.text_clean, min_count=1)\n",
    "print(model)\n",
    "model.save('./models/rmh_cleaned_w2v_model.bin')"
   ]
  },
  {
   "cell_type": "markdown",
   "metadata": {},
   "source": [
    "**Doc2Vec**"
   ]
  },
  {
   "cell_type": "code",
   "execution_count": null,
   "metadata": {},
   "outputs": [],
   "source": [
    "tagged_docs = [TaggedDocument(doc, [i]) for i, doc in enumerate(df.text_clean)]\n",
    "model = Doc2Vec(tagged_docs, min_count=1)\n",
    "print(model)\n",
    "model.save('./models/rmh_cleaned_d2v_model.bin')"
   ]
  },
  {
   "cell_type": "markdown",
   "metadata": {},
   "source": [
    "### Run the pre-trained model"
   ]
  },
  {
   "cell_type": "code",
   "execution_count": null,
   "metadata": {},
   "outputs": [],
   "source": [
    "def get_vectorizer(vectorizer_mode):\n",
    "    \"\"\"\n",
    "    Call word2vec/doc2vec vectorizer.\n",
    "    \"\"\"\n",
    "    if vectorizer_mode == \"word2vec\":\n",
    "        model_path = \"./models/rmh_cleaned_w2v_model.bin\"\n",
    "        return MeanEmbeddingVectorizer(model_path)\n",
    "    elif vectorizer_mode == \"doc2vec\":\n",
    "        model_path = \"./models/rmh_cleaned_d2v_model.bin\"\n",
    "        return DocEmbeddingVectorizer(model_path)\n",
    "    \n",
    "    \n",
    "class MeanEmbeddingVectorizer(object):\n",
    "    \"\"\"\n",
    "    Class definition for the word2vec vectorizer.\n",
    "    \"\"\"\n",
    "    def __init__(self, model_path):\n",
    "        self.model_path = model_path\n",
    "        self.word2vec = gensim.models.Word2Vec.load(model_path)\n",
    "        self.dim = self.word2vec.wv.vectors[0].shape[0]\n",
    "\n",
    "    def fit(self, X, y=None):\n",
    "        return self\n",
    "\n",
    "    def transform(self, X):\n",
    "        tokenized_X = [doc.split() for doc in X]\n",
    "                    \n",
    "        return np.array([\n",
    "            np.mean([self.word2vec.wv[w] for w in words if w in self.word2vec.wv]\n",
    "                    or [np.zeros(self.dim)], axis=0)\n",
    "            for words in tokenized_X\n",
    "        ])\n",
    "    \n",
    "    def fit_transform(self, X, y=None):\n",
    "        return self.transform(X)\n",
    "    \n",
    "    \n",
    "class DocEmbeddingVectorizer(object):\n",
    "    \"\"\"\n",
    "    Class definition for the doc2vec vectorizer.\n",
    "    \"\"\"\n",
    "    def __init__(self, model_path):\n",
    "        self.model_path = model_path\n",
    "        self.doc2vec = gensim.models.Doc2Vec.load(model_path)\n",
    "        self.dim = self.doc2vec.wv.vectors[0].shape[0]\n",
    "    \n",
    "    def fit(self, X, y=None):\n",
    "        return self\n",
    "    \n",
    "    def transform(self, X):\n",
    "        tokenized_X = [doc.split() for doc in X]\n",
    "        return np.array([\n",
    "            self.doc2vec.infer_vector(words) \n",
    "            for words in tokenized_X\n",
    "        ])\n",
    "    \n",
    "    def fit_transform(self, X, y=None):\n",
    "        return self.transform(X)"
   ]
  }
 ],
 "metadata": {
  "kernelspec": {
   "display_name": "Python 3 (ipykernel)",
   "language": "python",
   "name": "python3"
  },
  "language_info": {
   "codemirror_mode": {
    "name": "ipython",
    "version": 3
   },
   "file_extension": ".py",
   "mimetype": "text/x-python",
   "name": "python",
   "nbconvert_exporter": "python",
   "pygments_lexer": "ipython3",
   "version": "3.11.4"
  }
 },
 "nbformat": 4,
 "nbformat_minor": 4
}
