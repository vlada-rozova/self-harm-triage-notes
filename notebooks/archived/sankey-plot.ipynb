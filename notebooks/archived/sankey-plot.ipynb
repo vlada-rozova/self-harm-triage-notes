{
 "cells": [
  {
   "cell_type": "code",
   "execution_count": 13,
   "metadata": {},
   "outputs": [
    {
     "data": {
      "application/vnd.plotly.v1+json": {
       "config": {
        "plotlyServerURL": "https://plot.ly"
       },
       "data": [
        {
         "arrangement": "snap",
         "link": {
          "color": [
           "rgb(0.9950634371395617, 0.8596539792387543, 0.7986620530565167)",
           "rgb(0.9265974625144175, 0.919769319492503, 0.9557093425605536)",
           "rgb(0.9955709342560554, 0.8907958477508651, 0.7855132641291811)",
           "rgb(0.9994925028835063, 0.9584775086505191, 0.7154325259515572)",
           "rgb(0.9970472895040369, 0.9164936562860438, 0.8359400230680507)",
           "rgb(0.9940945790080739, 0.8583160322952711, 0.720553633217993)",
           "rgb(0.9970472895040369, 0.9164936562860438, 0.8359400230680507)",
           "rgb(0.9940945790080739, 0.8583160322952711, 0.720553633217993)",
           "rgb(0.9970472895040369, 0.9164936562860438, 0.8359400230680507)",
           "rgb(0.9955709342560554, 0.8907958477508651, 0.7855132641291811)",
           "rgb(0.9265974625144175, 0.919769319492503, 0.9557093425605536)",
           "rgb(0.8584083044982699, 0.9134486735870818, 0.9645674740484429)",
           "rgb(0.8584083044982699, 0.9134486735870818, 0.9645674740484429)"
          ],
          "source": [
           0,
           0,
           1,
           1,
           3,
           3,
           3,
           3,
           3,
           5,
           2,
           8,
           9
          ],
          "target": [
           1,
           2,
           3,
           4,
           5,
           5,
           5,
           5,
           5,
           6,
           7,
           9,
           10
          ],
          "value": [
           399111,
           372421,
           319288,
           79823,
           63857.6,
           63857.6,
           63857.6,
           63857.6,
           63857.6,
           319288,
           372421,
           380329,
           380329
          ]
         },
         "node": {
          "color": [
           "rgb(0.6770011534025375, 0.6770011534025375, 0.6770011534025375)",
           "rgb(0.9865897731641676, 0.5067281814686659, 0.38123798539023457)",
           "rgb(0.6878892733564014, 0.6835832372164552, 0.829834678969627)",
           "rgb(0.9921568627450981, 0.6280507497116494, 0.34226835832372166)",
           "rgb(0.996078431372549, 0.6978700499807766, 0.24727412533640908)",
           "rgb(0.9921568627450981, 0.6280507497116494, 0.34226835832372166)",
           "rgb(0.9921568627450981, 0.6280507497116494, 0.34226835832372166)",
           "rgb(0.6878892733564014, 0.6835832372164552, 0.829834678969627)",
           "rgb(0.6770011534025375, 0.6770011534025375, 0.6770011534025375)",
           "rgb(0.5356862745098039, 0.746082276047674, 0.8642522106881968)",
           "rgb(0.5356862745098039, 0.746082276047674, 0.8642522106881968)"
          ],
          "label": [
           "RMH, n=772k",
           "RMH 2012-2017, n=400k",
           "RMH 2018-2022, n=372k",
           "Development, n=320k",
           "Test, n=80k",
           "CV, n=64k/fold",
           "Development",
           "Prospective validation, n=372k",
           "LRH, n=380k",
           "LRH 2012-2022, n=380k",
           "External validation, n=380k"
          ],
          "line": {
           "color": "grey",
           "width": 0.25
          },
          "pad": 10,
          "thickness": 20,
          "x": [
           0.1,
           0.3,
           0.3,
           0.5,
           0.5,
           0.7,
           0.9,
           0.5,
           0.1,
           0.3,
           0.5
          ],
          "y": [
           0.1,
           0.1,
           0.5,
           0.1,
           0.2,
           0.1,
           0.1,
           0.5,
           0.9,
           0.9,
           0.9
          ]
         },
         "type": "sankey"
        }
       ],
       "layout": {
        "template": {
         "data": {
          "bar": [
           {
            "error_x": {
             "color": "#2a3f5f"
            },
            "error_y": {
             "color": "#2a3f5f"
            },
            "marker": {
             "line": {
              "color": "#E5ECF6",
              "width": 0.5
             },
             "pattern": {
              "fillmode": "overlay",
              "size": 10,
              "solidity": 0.2
             }
            },
            "type": "bar"
           }
          ],
          "barpolar": [
           {
            "marker": {
             "line": {
              "color": "#E5ECF6",
              "width": 0.5
             },
             "pattern": {
              "fillmode": "overlay",
              "size": 10,
              "solidity": 0.2
             }
            },
            "type": "barpolar"
           }
          ],
          "carpet": [
           {
            "aaxis": {
             "endlinecolor": "#2a3f5f",
             "gridcolor": "white",
             "linecolor": "white",
             "minorgridcolor": "white",
             "startlinecolor": "#2a3f5f"
            },
            "baxis": {
             "endlinecolor": "#2a3f5f",
             "gridcolor": "white",
             "linecolor": "white",
             "minorgridcolor": "white",
             "startlinecolor": "#2a3f5f"
            },
            "type": "carpet"
           }
          ],
          "choropleth": [
           {
            "colorbar": {
             "outlinewidth": 0,
             "ticks": ""
            },
            "type": "choropleth"
           }
          ],
          "contour": [
           {
            "colorbar": {
             "outlinewidth": 0,
             "ticks": ""
            },
            "colorscale": [
             [
              0,
              "#0d0887"
             ],
             [
              0.1111111111111111,
              "#46039f"
             ],
             [
              0.2222222222222222,
              "#7201a8"
             ],
             [
              0.3333333333333333,
              "#9c179e"
             ],
             [
              0.4444444444444444,
              "#bd3786"
             ],
             [
              0.5555555555555556,
              "#d8576b"
             ],
             [
              0.6666666666666666,
              "#ed7953"
             ],
             [
              0.7777777777777778,
              "#fb9f3a"
             ],
             [
              0.8888888888888888,
              "#fdca26"
             ],
             [
              1,
              "#f0f921"
             ]
            ],
            "type": "contour"
           }
          ],
          "contourcarpet": [
           {
            "colorbar": {
             "outlinewidth": 0,
             "ticks": ""
            },
            "type": "contourcarpet"
           }
          ],
          "heatmap": [
           {
            "colorbar": {
             "outlinewidth": 0,
             "ticks": ""
            },
            "colorscale": [
             [
              0,
              "#0d0887"
             ],
             [
              0.1111111111111111,
              "#46039f"
             ],
             [
              0.2222222222222222,
              "#7201a8"
             ],
             [
              0.3333333333333333,
              "#9c179e"
             ],
             [
              0.4444444444444444,
              "#bd3786"
             ],
             [
              0.5555555555555556,
              "#d8576b"
             ],
             [
              0.6666666666666666,
              "#ed7953"
             ],
             [
              0.7777777777777778,
              "#fb9f3a"
             ],
             [
              0.8888888888888888,
              "#fdca26"
             ],
             [
              1,
              "#f0f921"
             ]
            ],
            "type": "heatmap"
           }
          ],
          "heatmapgl": [
           {
            "colorbar": {
             "outlinewidth": 0,
             "ticks": ""
            },
            "colorscale": [
             [
              0,
              "#0d0887"
             ],
             [
              0.1111111111111111,
              "#46039f"
             ],
             [
              0.2222222222222222,
              "#7201a8"
             ],
             [
              0.3333333333333333,
              "#9c179e"
             ],
             [
              0.4444444444444444,
              "#bd3786"
             ],
             [
              0.5555555555555556,
              "#d8576b"
             ],
             [
              0.6666666666666666,
              "#ed7953"
             ],
             [
              0.7777777777777778,
              "#fb9f3a"
             ],
             [
              0.8888888888888888,
              "#fdca26"
             ],
             [
              1,
              "#f0f921"
             ]
            ],
            "type": "heatmapgl"
           }
          ],
          "histogram": [
           {
            "marker": {
             "pattern": {
              "fillmode": "overlay",
              "size": 10,
              "solidity": 0.2
             }
            },
            "type": "histogram"
           }
          ],
          "histogram2d": [
           {
            "colorbar": {
             "outlinewidth": 0,
             "ticks": ""
            },
            "colorscale": [
             [
              0,
              "#0d0887"
             ],
             [
              0.1111111111111111,
              "#46039f"
             ],
             [
              0.2222222222222222,
              "#7201a8"
             ],
             [
              0.3333333333333333,
              "#9c179e"
             ],
             [
              0.4444444444444444,
              "#bd3786"
             ],
             [
              0.5555555555555556,
              "#d8576b"
             ],
             [
              0.6666666666666666,
              "#ed7953"
             ],
             [
              0.7777777777777778,
              "#fb9f3a"
             ],
             [
              0.8888888888888888,
              "#fdca26"
             ],
             [
              1,
              "#f0f921"
             ]
            ],
            "type": "histogram2d"
           }
          ],
          "histogram2dcontour": [
           {
            "colorbar": {
             "outlinewidth": 0,
             "ticks": ""
            },
            "colorscale": [
             [
              0,
              "#0d0887"
             ],
             [
              0.1111111111111111,
              "#46039f"
             ],
             [
              0.2222222222222222,
              "#7201a8"
             ],
             [
              0.3333333333333333,
              "#9c179e"
             ],
             [
              0.4444444444444444,
              "#bd3786"
             ],
             [
              0.5555555555555556,
              "#d8576b"
             ],
             [
              0.6666666666666666,
              "#ed7953"
             ],
             [
              0.7777777777777778,
              "#fb9f3a"
             ],
             [
              0.8888888888888888,
              "#fdca26"
             ],
             [
              1,
              "#f0f921"
             ]
            ],
            "type": "histogram2dcontour"
           }
          ],
          "mesh3d": [
           {
            "colorbar": {
             "outlinewidth": 0,
             "ticks": ""
            },
            "type": "mesh3d"
           }
          ],
          "parcoords": [
           {
            "line": {
             "colorbar": {
              "outlinewidth": 0,
              "ticks": ""
             }
            },
            "type": "parcoords"
           }
          ],
          "pie": [
           {
            "automargin": true,
            "type": "pie"
           }
          ],
          "scatter": [
           {
            "fillpattern": {
             "fillmode": "overlay",
             "size": 10,
             "solidity": 0.2
            },
            "type": "scatter"
           }
          ],
          "scatter3d": [
           {
            "line": {
             "colorbar": {
              "outlinewidth": 0,
              "ticks": ""
             }
            },
            "marker": {
             "colorbar": {
              "outlinewidth": 0,
              "ticks": ""
             }
            },
            "type": "scatter3d"
           }
          ],
          "scattercarpet": [
           {
            "marker": {
             "colorbar": {
              "outlinewidth": 0,
              "ticks": ""
             }
            },
            "type": "scattercarpet"
           }
          ],
          "scattergeo": [
           {
            "marker": {
             "colorbar": {
              "outlinewidth": 0,
              "ticks": ""
             }
            },
            "type": "scattergeo"
           }
          ],
          "scattergl": [
           {
            "marker": {
             "colorbar": {
              "outlinewidth": 0,
              "ticks": ""
             }
            },
            "type": "scattergl"
           }
          ],
          "scattermapbox": [
           {
            "marker": {
             "colorbar": {
              "outlinewidth": 0,
              "ticks": ""
             }
            },
            "type": "scattermapbox"
           }
          ],
          "scatterpolar": [
           {
            "marker": {
             "colorbar": {
              "outlinewidth": 0,
              "ticks": ""
             }
            },
            "type": "scatterpolar"
           }
          ],
          "scatterpolargl": [
           {
            "marker": {
             "colorbar": {
              "outlinewidth": 0,
              "ticks": ""
             }
            },
            "type": "scatterpolargl"
           }
          ],
          "scatterternary": [
           {
            "marker": {
             "colorbar": {
              "outlinewidth": 0,
              "ticks": ""
             }
            },
            "type": "scatterternary"
           }
          ],
          "surface": [
           {
            "colorbar": {
             "outlinewidth": 0,
             "ticks": ""
            },
            "colorscale": [
             [
              0,
              "#0d0887"
             ],
             [
              0.1111111111111111,
              "#46039f"
             ],
             [
              0.2222222222222222,
              "#7201a8"
             ],
             [
              0.3333333333333333,
              "#9c179e"
             ],
             [
              0.4444444444444444,
              "#bd3786"
             ],
             [
              0.5555555555555556,
              "#d8576b"
             ],
             [
              0.6666666666666666,
              "#ed7953"
             ],
             [
              0.7777777777777778,
              "#fb9f3a"
             ],
             [
              0.8888888888888888,
              "#fdca26"
             ],
             [
              1,
              "#f0f921"
             ]
            ],
            "type": "surface"
           }
          ],
          "table": [
           {
            "cells": {
             "fill": {
              "color": "#EBF0F8"
             },
             "line": {
              "color": "white"
             }
            },
            "header": {
             "fill": {
              "color": "#C8D4E3"
             },
             "line": {
              "color": "white"
             }
            },
            "type": "table"
           }
          ]
         },
         "layout": {
          "annotationdefaults": {
           "arrowcolor": "#2a3f5f",
           "arrowhead": 0,
           "arrowwidth": 1
          },
          "autotypenumbers": "strict",
          "coloraxis": {
           "colorbar": {
            "outlinewidth": 0,
            "ticks": ""
           }
          },
          "colorscale": {
           "diverging": [
            [
             0,
             "#8e0152"
            ],
            [
             0.1,
             "#c51b7d"
            ],
            [
             0.2,
             "#de77ae"
            ],
            [
             0.3,
             "#f1b6da"
            ],
            [
             0.4,
             "#fde0ef"
            ],
            [
             0.5,
             "#f7f7f7"
            ],
            [
             0.6,
             "#e6f5d0"
            ],
            [
             0.7,
             "#b8e186"
            ],
            [
             0.8,
             "#7fbc41"
            ],
            [
             0.9,
             "#4d9221"
            ],
            [
             1,
             "#276419"
            ]
           ],
           "sequential": [
            [
             0,
             "#0d0887"
            ],
            [
             0.1111111111111111,
             "#46039f"
            ],
            [
             0.2222222222222222,
             "#7201a8"
            ],
            [
             0.3333333333333333,
             "#9c179e"
            ],
            [
             0.4444444444444444,
             "#bd3786"
            ],
            [
             0.5555555555555556,
             "#d8576b"
            ],
            [
             0.6666666666666666,
             "#ed7953"
            ],
            [
             0.7777777777777778,
             "#fb9f3a"
            ],
            [
             0.8888888888888888,
             "#fdca26"
            ],
            [
             1,
             "#f0f921"
            ]
           ],
           "sequentialminus": [
            [
             0,
             "#0d0887"
            ],
            [
             0.1111111111111111,
             "#46039f"
            ],
            [
             0.2222222222222222,
             "#7201a8"
            ],
            [
             0.3333333333333333,
             "#9c179e"
            ],
            [
             0.4444444444444444,
             "#bd3786"
            ],
            [
             0.5555555555555556,
             "#d8576b"
            ],
            [
             0.6666666666666666,
             "#ed7953"
            ],
            [
             0.7777777777777778,
             "#fb9f3a"
            ],
            [
             0.8888888888888888,
             "#fdca26"
            ],
            [
             1,
             "#f0f921"
            ]
           ]
          },
          "colorway": [
           "#636efa",
           "#EF553B",
           "#00cc96",
           "#ab63fa",
           "#FFA15A",
           "#19d3f3",
           "#FF6692",
           "#B6E880",
           "#FF97FF",
           "#FECB52"
          ],
          "font": {
           "color": "#2a3f5f"
          },
          "geo": {
           "bgcolor": "white",
           "lakecolor": "white",
           "landcolor": "#E5ECF6",
           "showlakes": true,
           "showland": true,
           "subunitcolor": "white"
          },
          "hoverlabel": {
           "align": "left"
          },
          "hovermode": "closest",
          "mapbox": {
           "style": "light"
          },
          "paper_bgcolor": "white",
          "plot_bgcolor": "#E5ECF6",
          "polar": {
           "angularaxis": {
            "gridcolor": "white",
            "linecolor": "white",
            "ticks": ""
           },
           "bgcolor": "#E5ECF6",
           "radialaxis": {
            "gridcolor": "white",
            "linecolor": "white",
            "ticks": ""
           }
          },
          "scene": {
           "xaxis": {
            "backgroundcolor": "#E5ECF6",
            "gridcolor": "white",
            "gridwidth": 2,
            "linecolor": "white",
            "showbackground": true,
            "ticks": "",
            "zerolinecolor": "white"
           },
           "yaxis": {
            "backgroundcolor": "#E5ECF6",
            "gridcolor": "white",
            "gridwidth": 2,
            "linecolor": "white",
            "showbackground": true,
            "ticks": "",
            "zerolinecolor": "white"
           },
           "zaxis": {
            "backgroundcolor": "#E5ECF6",
            "gridcolor": "white",
            "gridwidth": 2,
            "linecolor": "white",
            "showbackground": true,
            "ticks": "",
            "zerolinecolor": "white"
           }
          },
          "shapedefaults": {
           "line": {
            "color": "#2a3f5f"
           }
          },
          "ternary": {
           "aaxis": {
            "gridcolor": "white",
            "linecolor": "white",
            "ticks": ""
           },
           "baxis": {
            "gridcolor": "white",
            "linecolor": "white",
            "ticks": ""
           },
           "bgcolor": "#E5ECF6",
           "caxis": {
            "gridcolor": "white",
            "linecolor": "white",
            "ticks": ""
           }
          },
          "title": {
           "x": 0.05
          },
          "xaxis": {
           "automargin": true,
           "gridcolor": "white",
           "linecolor": "white",
           "ticks": "",
           "title": {
            "standoff": 15
           },
           "zerolinecolor": "white",
           "zerolinewidth": 2
          },
          "yaxis": {
           "automargin": true,
           "gridcolor": "white",
           "linecolor": "white",
           "ticks": "",
           "title": {
            "standoff": 15
           },
           "zerolinecolor": "white",
           "zerolinewidth": 2
          }
         }
        }
       }
      }
     },
     "metadata": {},
     "output_type": "display_data"
    }
   ],
   "source": [
    "import pandas as pd\n",
    "import seaborn as sns\n",
    "import matplotlib.pyplot as plt\n",
    "import plotly.graph_objects as go\n",
    "\n",
    "def color(rgb):\n",
    "    return 'rgb' + str(rgb)\n",
    "\n",
    "palette = sns.color_palette('Blues', 3)[0:2] + sns.color_palette('Greens', 3)[0:2] + sns.color_palette('BuGn', 3)[1:2] \n",
    "\n",
    "fig = go.Figure(go.Sankey(\n",
    "    arrangement = \"snap\",\n",
    "    node = {\n",
    "        'label': [\"RMH, n=772k\", \"RMH 2012-2017, n=400k\", \"RMH 2018-2022, n=372k\", \n",
    "                  \"Development, n=320k\", \"Test, n=80k\", \"CV, n=64k/fold\", \"Development\", \n",
    "                  \"Prospective validation, n=372k\",\n",
    "                  \"LRH, n=380k\", \"LRH 2012-2022, n=380k\", \"External validation, n=380k\"],\n",
    "        'line': dict(color = \"grey\", width = 0.25),\n",
    "        'thickness': 20,\n",
    "        'x': [0.1, 0.3, 0.3, 0.5, 0.5, 0.7, 0.9, 0.5, 0.1, 0.3, 0.5],\n",
    "        'y': [0.1, 0.1, 0.5, 0.1, 0.2, 0.1, 0.1, 0.5, 0.9, 0.9, 0.9],\n",
    "        'pad':10,\n",
    "        'color': [\n",
    "            color(sns.color_palette('Greys')[2]), \n",
    "            color(sns.color_palette('Reds')[2]),\n",
    "            color(sns.color_palette('Purples')[2]),\n",
    "            color(sns.color_palette('Oranges')[2]),\n",
    "            color(sns.color_palette('YlOrBr')[2]),\n",
    "            color(sns.color_palette('Oranges')[2]),\n",
    "            color(sns.color_palette('Oranges')[2]),\n",
    "            color(sns.color_palette('Purples')[2]),\n",
    "            color(sns.color_palette('Greys')[2]), \n",
    "            color(sns.color_palette('Blues')[2]),\n",
    "            color(sns.color_palette('Blues')[2]),\n",
    "            ],\n",
    "        },\n",
    "    link = {\n",
    "        'source': [0, 0, 1, 1, 3, 3, 3, 3, 3, 5, 2, 8, 9],\n",
    "        'target': [1, 2, 3, 4, 5, 5, 5, 5, 5, 6, 7, 9, 10],\n",
    "        'value': [399111, 372421, 319288, 79823, 63857.6, 63857.6, 63857.6, 63857.6, 63857.6, 319288, 372421, 380329, 380329],\n",
    "        'color': [\n",
    "            color(sns.color_palette('Reds')[0]),\n",
    "            color(sns.color_palette('Purples')[0]),\n",
    "            color(sns.color_palette('Oranges')[0]),\n",
    "            color(sns.color_palette('YlOrBr')[0]),\n",
    "            color(sns.color_palette('Oranges', 20)[1]),\n",
    "            color(sns.color_palette('Oranges', 20)[3]),\n",
    "            color(sns.color_palette('Oranges', 20)[1]),\n",
    "            color(sns.color_palette('Oranges', 20)[3]),\n",
    "            color(sns.color_palette('Oranges', 20)[1]),\n",
    "            color(sns.color_palette('Oranges')[0]),\n",
    "            color(sns.color_palette('Purples')[0]),\n",
    "            color(sns.color_palette('Blues')[0]),\n",
    "            color(sns.color_palette('Blues')[0]),\n",
    "        ],\n",
    "        }\n",
    "        ))\n",
    "\n",
    "\n",
    "fig.show()\n",
    "\n",
    "# fig.write_image(\"../results/sankey.jpeg\")"
   ]
  },
  {
   "cell_type": "code",
   "execution_count": null,
   "metadata": {},
   "outputs": [],
   "source": []
  }
 ],
 "metadata": {
  "kernelspec": {
   "display_name": "selfharm",
   "language": "python",
   "name": "python3"
  },
  "language_info": {
   "codemirror_mode": {
    "name": "ipython",
    "version": 3
   },
   "file_extension": ".py",
   "mimetype": "text/x-python",
   "name": "python",
   "nbconvert_exporter": "python",
   "pygments_lexer": "ipython3",
   "version": "3.11.8"
  }
 },
 "nbformat": 4,
 "nbformat_minor": 2
}
