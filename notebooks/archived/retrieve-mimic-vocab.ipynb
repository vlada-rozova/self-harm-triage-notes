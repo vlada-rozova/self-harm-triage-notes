{
 "cells": [
  {
   "cell_type": "markdown",
   "id": "7e56914a",
   "metadata": {},
   "source": [
    "# Retrive MIMIC vocabulary from Med7\n",
    "\n",
    "Med7 was trained on free-text notes from MIMIC-III. We retrieve the list of all tokens from the model to use it as a baseline for our word frequency list.\n",
    "\n",
    "_Need spacy => 3.1.4 to load the model, currently not working due to incompatibility with the spacy version used in the project._"
   ]
  },
  {
   "cell_type": "code",
   "execution_count": 1,
   "id": "collectible-designation",
   "metadata": {},
   "outputs": [],
   "source": [
    "import spacy\n",
    "import pickle\n",
    "from spellchecker import SpellChecker"
   ]
  },
  {
   "cell_type": "code",
   "execution_count": 2,
   "id": "1cbb31ee",
   "metadata": {},
   "outputs": [
    {
     "data": {
      "text/plain": [
       "720741"
      ]
     },
     "execution_count": 2,
     "metadata": {},
     "output_type": "execute_result"
    }
   ],
   "source": [
    "# Load Med7 model\n",
    "nlp = spacy.load(\"en_core_med7_lg\")\n",
    "\n",
    "# Retrieve the vocabulary\n",
    "vocab = set(nlp.vocab.strings)\n",
    "\n",
    "# These originally returned different values\n",
    "len(vocab)"
   ]
  },
  {
   "cell_type": "code",
   "execution_count": 3,
   "id": "partial-assignment",
   "metadata": {},
   "outputs": [],
   "source": [
    "# Save the vocab (do not overwrite!!!)\n",
    "with open('../data/spelling_correction/med7_vocab_new.txt', 'wb') as f:\n",
    "    pickle.dump(vocab, f)"
   ]
  },
  {
   "cell_type": "code",
   "execution_count": 4,
   "id": "acceptable-digit",
   "metadata": {},
   "outputs": [
    {
     "name": "stdout",
     "output_type": "stream",
     "text": [
      "MIMIC vocabulary contains a total of 720741 words and 364274 unique words.\n"
     ]
    }
   ],
   "source": [
    "# Load the vocab retreived from Med7\n",
    "with open ('../data/spelling_correction/med7_vocab_new.txt', 'rb') as f:\n",
    "    vocab = pickle.load(f)\n",
    "\n",
    "# Create an empty spellchecker object and initialise it with MIMIC vocab stored in Med7 model\n",
    "spell = SpellChecker(language=None)\n",
    "spell.word_frequency.load_words(vocab)\n",
    "\n",
    "print(\"MIMIC vocabulary contains a total of %d words and %d unique words.\" % \n",
    "      (spell.word_frequency.total_words, spell.word_frequency.unique_words))"
   ]
  }
 ],
 "metadata": {
  "kernelspec": {
   "display_name": "Python 3",
   "language": "python",
   "name": "python3"
  },
  "language_info": {
   "codemirror_mode": {
    "name": "ipython",
    "version": 3
   },
   "file_extension": ".py",
   "mimetype": "text/x-python",
   "name": "python",
   "nbconvert_exporter": "python",
   "pygments_lexer": "ipython3",
   "version": "3.6.8"
  }
 },
 "nbformat": 4,
 "nbformat_minor": 5
}
