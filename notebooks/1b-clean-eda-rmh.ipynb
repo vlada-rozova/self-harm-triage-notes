{
 "cells": [
  {
   "cell_type": "code",
   "execution_count": 1,
   "metadata": {},
   "outputs": [],
   "source": [
    "import pandas as pd\n",
    "import datetime as dt\n",
    "\n",
    "# Pretty plots\n",
    "import matplotlib.pyplot as plt\n",
    "import seaborn as sns\n",
    "sns.set_style('ticks')\n",
    "plt.rcParams['figure.figsize'] = (8, 4)\n",
    "plt.rcParams['axes.titlesize'] = 20\n",
    "plt.rcParams['axes.labelsize'] = 18\n",
    "plt.rcParams['xtick.labelsize'] = 16\n",
    "plt.rcParams['ytick.labelsize'] = 16\n",
    "plt.rcParams['legend.fontsize'] = 12\n",
    "plt.rcParams['legend.title_fontsize'] = 12\n",
    "\n",
    "# Pandas settings\n",
    "pd.options.display.max_colwidth = 100\n",
    "pd.options.display.max_columns = 100\n",
    "\n",
    "# Project imports \n",
    "from self_harm_triage_notes.config import interim_data_dir, results_dir\n",
    "\n",
    "# Toolbox imports\n",
    "from ml_health_toolbox.dataset_utils import to_categorical"
   ]
  },
  {
   "cell_type": "markdown",
   "metadata": {},
   "source": [
    "___\n",
    "# RMH ED presentations"
   ]
  },
  {
   "cell_type": "code",
   "execution_count": 2,
   "metadata": {},
   "outputs": [
    {
     "name": "stdout",
     "output_type": "stream",
     "text": [
      "(771532, 12)\n"
     ]
    },
    {
     "data": {
      "application/vnd.microsoft.datawrangler.viewer.v0+json": {
       "columns": [
        {
         "name": "index",
         "rawType": "int64",
         "type": "integer"
        },
        {
         "name": "uid",
         "rawType": "object",
         "type": "string"
        },
        {
         "name": "sex",
         "rawType": "object",
         "type": "string"
        },
        {
         "name": "age",
         "rawType": "float64",
         "type": "float"
        },
        {
         "name": "arrival_method",
         "rawType": "object",
         "type": "string"
        },
        {
         "name": "arrival_date",
         "rawType": "datetime64[ns]",
         "type": "datetime"
        },
        {
         "name": "year",
         "rawType": "int64",
         "type": "integer"
        },
        {
         "name": "triage_note",
         "rawType": "object",
         "type": "string"
        },
        {
         "name": "SH",
         "rawType": "category",
         "type": "unknown"
        },
        {
         "name": "SI",
         "rawType": "category",
         "type": "unknown"
        },
        {
         "name": "AOD_OD",
         "rawType": "category",
         "type": "unknown"
        },
        {
         "name": "audit_case",
         "rawType": "float64",
         "type": "float"
        },
        {
         "name": "source_system",
         "rawType": "object",
         "type": "string"
        }
       ],
       "ref": "ba550b33-3951-408b-9d87-1306d33b2fc1",
       "rows": [
        [
         "0",
         "RMH-1",
         "Female",
         "64.0",
         "Other",
         "2012-01-08 00:35:00",
         "2012",
         "SOB for 5/7, been to GP given prednisolone, coughing taken inhalers with minimal relief, speaking in full sentences, o/a Sa02 97%, pulse 121",
         "Negative",
         "Negative",
         "Negative",
         null,
         "Symphony"
        ],
        [
         "1",
         "RMH-2",
         "Male",
         "31.0",
         "Other",
         "2012-01-08 00:41:00",
         "2012",
         "pt has lac down right forehead, to eyebrow, will require stitches and ADT, denies loc wound about 6cms long",
         "Negative",
         "Negative",
         "Negative",
         null,
         "Symphony"
        ],
        [
         "2",
         "RMH-3",
         "Male",
         "19.0",
         "Road Ambulance Service",
         "2012-01-08 00:52:00",
         "2012",
         "pt expect MBA, trapped for 45mins, #right femur, had 40mg morphine, GCS 15",
         "Negative",
         "Negative",
         "Negative",
         null,
         "Symphony"
        ],
        [
         "3",
         "RMH-4",
         "Male",
         "51.0",
         "Other",
         "2012-01-08 01:11:00",
         "2012",
         "L) sided flank pain same as previous renal colic pain unimproved with analgesia for the past 1/52.  Pt states last renal colic 12 months ago.  Obvious distress at triage",
         "Negative",
         "Negative",
         "Negative",
         null,
         "Symphony"
        ],
        [
         "4",
         "RMH-5",
         "Female",
         "25.0",
         "Other",
         "2012-01-08 01:23:00",
         "2012",
         "generalised abdo pain and associated headache for 1 year worse tonight.  Pt states that she had a choleysectomy 6/12 ago pain unimproved.  Pt states that she has vomited 3/24.  Nil analgesia taken",
         "Negative",
         "Negative",
         "Negative",
         null,
         "Symphony"
        ]
       ],
       "shape": {
        "columns": 12,
        "rows": 5
       }
      },
      "text/html": [
       "<div>\n",
       "<style scoped>\n",
       "    .dataframe tbody tr th:only-of-type {\n",
       "        vertical-align: middle;\n",
       "    }\n",
       "\n",
       "    .dataframe tbody tr th {\n",
       "        vertical-align: top;\n",
       "    }\n",
       "\n",
       "    .dataframe thead th {\n",
       "        text-align: right;\n",
       "    }\n",
       "</style>\n",
       "<table border=\"1\" class=\"dataframe\">\n",
       "  <thead>\n",
       "    <tr style=\"text-align: right;\">\n",
       "      <th></th>\n",
       "      <th>uid</th>\n",
       "      <th>sex</th>\n",
       "      <th>age</th>\n",
       "      <th>arrival_method</th>\n",
       "      <th>arrival_date</th>\n",
       "      <th>year</th>\n",
       "      <th>triage_note</th>\n",
       "      <th>SH</th>\n",
       "      <th>SI</th>\n",
       "      <th>AOD_OD</th>\n",
       "      <th>audit_case</th>\n",
       "      <th>source_system</th>\n",
       "    </tr>\n",
       "  </thead>\n",
       "  <tbody>\n",
       "    <tr>\n",
       "      <th>0</th>\n",
       "      <td>RMH-1</td>\n",
       "      <td>Female</td>\n",
       "      <td>64.0</td>\n",
       "      <td>Other</td>\n",
       "      <td>2012-01-08 00:35:00</td>\n",
       "      <td>2012</td>\n",
       "      <td>SOB for 5/7, been to GP given prednisolone, coughing taken inhalers with minimal relief, speakin...</td>\n",
       "      <td>Negative</td>\n",
       "      <td>Negative</td>\n",
       "      <td>Negative</td>\n",
       "      <td>NaN</td>\n",
       "      <td>Symphony</td>\n",
       "    </tr>\n",
       "    <tr>\n",
       "      <th>1</th>\n",
       "      <td>RMH-2</td>\n",
       "      <td>Male</td>\n",
       "      <td>31.0</td>\n",
       "      <td>Other</td>\n",
       "      <td>2012-01-08 00:41:00</td>\n",
       "      <td>2012</td>\n",
       "      <td>pt has lac down right forehead, to eyebrow, will require stitches and ADT, denies loc wound abou...</td>\n",
       "      <td>Negative</td>\n",
       "      <td>Negative</td>\n",
       "      <td>Negative</td>\n",
       "      <td>NaN</td>\n",
       "      <td>Symphony</td>\n",
       "    </tr>\n",
       "    <tr>\n",
       "      <th>2</th>\n",
       "      <td>RMH-3</td>\n",
       "      <td>Male</td>\n",
       "      <td>19.0</td>\n",
       "      <td>Road Ambulance Service</td>\n",
       "      <td>2012-01-08 00:52:00</td>\n",
       "      <td>2012</td>\n",
       "      <td>pt expect MBA, trapped for 45mins, #right femur, had 40mg morphine, GCS 15</td>\n",
       "      <td>Negative</td>\n",
       "      <td>Negative</td>\n",
       "      <td>Negative</td>\n",
       "      <td>NaN</td>\n",
       "      <td>Symphony</td>\n",
       "    </tr>\n",
       "    <tr>\n",
       "      <th>3</th>\n",
       "      <td>RMH-4</td>\n",
       "      <td>Male</td>\n",
       "      <td>51.0</td>\n",
       "      <td>Other</td>\n",
       "      <td>2012-01-08 01:11:00</td>\n",
       "      <td>2012</td>\n",
       "      <td>L) sided flank pain same as previous renal colic pain unimproved with analgesia for the past 1/5...</td>\n",
       "      <td>Negative</td>\n",
       "      <td>Negative</td>\n",
       "      <td>Negative</td>\n",
       "      <td>NaN</td>\n",
       "      <td>Symphony</td>\n",
       "    </tr>\n",
       "    <tr>\n",
       "      <th>4</th>\n",
       "      <td>RMH-5</td>\n",
       "      <td>Female</td>\n",
       "      <td>25.0</td>\n",
       "      <td>Other</td>\n",
       "      <td>2012-01-08 01:23:00</td>\n",
       "      <td>2012</td>\n",
       "      <td>generalised abdo pain and associated headache for 1 year worse tonight.  Pt states that she had ...</td>\n",
       "      <td>Negative</td>\n",
       "      <td>Negative</td>\n",
       "      <td>Negative</td>\n",
       "      <td>NaN</td>\n",
       "      <td>Symphony</td>\n",
       "    </tr>\n",
       "  </tbody>\n",
       "</table>\n",
       "</div>"
      ],
      "text/plain": [
       "     uid     sex   age          arrival_method        arrival_date  year  \\\n",
       "0  RMH-1  Female  64.0                   Other 2012-01-08 00:35:00  2012   \n",
       "1  RMH-2    Male  31.0                   Other 2012-01-08 00:41:00  2012   \n",
       "2  RMH-3    Male  19.0  Road Ambulance Service 2012-01-08 00:52:00  2012   \n",
       "3  RMH-4    Male  51.0                   Other 2012-01-08 01:11:00  2012   \n",
       "4  RMH-5  Female  25.0                   Other 2012-01-08 01:23:00  2012   \n",
       "\n",
       "                                                                                           triage_note  \\\n",
       "0  SOB for 5/7, been to GP given prednisolone, coughing taken inhalers with minimal relief, speakin...   \n",
       "1  pt has lac down right forehead, to eyebrow, will require stitches and ADT, denies loc wound abou...   \n",
       "2                           pt expect MBA, trapped for 45mins, #right femur, had 40mg morphine, GCS 15   \n",
       "3  L) sided flank pain same as previous renal colic pain unimproved with analgesia for the past 1/5...   \n",
       "4  generalised abdo pain and associated headache for 1 year worse tonight.  Pt states that she had ...   \n",
       "\n",
       "         SH        SI    AOD_OD  audit_case source_system  \n",
       "0  Negative  Negative  Negative         NaN      Symphony  \n",
       "1  Negative  Negative  Negative         NaN      Symphony  \n",
       "2  Negative  Negative  Negative         NaN      Symphony  \n",
       "3  Negative  Negative  Negative         NaN      Symphony  \n",
       "4  Negative  Negative  Negative         NaN      Symphony  "
      ]
     },
     "execution_count": 2,
     "metadata": {},
     "output_type": "execute_result"
    }
   ],
   "source": [
    "# Load data\n",
    "rmh = pd.read_parquet(interim_data_dir / \"rmh_2012_2022.parquet\", engine=\"pyarrow\")\n",
    "print(rmh.shape)\n",
    "rmh.head()"
   ]
  },
  {
   "cell_type": "markdown",
   "metadata": {},
   "source": [
    "## General info"
   ]
  },
  {
   "cell_type": "code",
   "execution_count": 3,
   "metadata": {},
   "outputs": [
    {
     "name": "stdout",
     "output_type": "stream",
     "text": [
      "<class 'pandas.core.frame.DataFrame'>\n",
      "RangeIndex: 771532 entries, 0 to 771531\n",
      "Data columns (total 12 columns):\n",
      " #   Column          Non-Null Count   Dtype         \n",
      "---  ------          --------------   -----         \n",
      " 0   uid             771532 non-null  object        \n",
      " 1   sex             771530 non-null  object        \n",
      " 2   age             771532 non-null  float64       \n",
      " 3   arrival_method  771524 non-null  object        \n",
      " 4   arrival_date    771532 non-null  datetime64[ns]\n",
      " 5   year            771532 non-null  int64         \n",
      " 6   triage_note     765407 non-null  object        \n",
      " 7   SH              771532 non-null  category      \n",
      " 8   SI              771532 non-null  category      \n",
      " 9   AOD_OD          771532 non-null  category      \n",
      " 10  audit_case      215618 non-null  float64       \n",
      " 11  source_system   771532 non-null  object        \n",
      "dtypes: category(3), datetime64[ns](1), float64(2), int64(1), object(5)\n",
      "memory usage: 55.2+ MB\n"
     ]
    }
   ],
   "source": [
    "rmh.info()"
   ]
  },
  {
   "cell_type": "code",
   "execution_count": 4,
   "metadata": {},
   "outputs": [
    {
     "data": {
      "application/vnd.microsoft.datawrangler.viewer.v0+json": {
       "columns": [
        {
         "name": "index",
         "rawType": "object",
         "type": "string"
        },
        {
         "name": "0",
         "rawType": "int64",
         "type": "integer"
        }
       ],
       "ref": "fa42679c-d7a3-4a85-a6f1-5e08b8e07c64",
       "rows": [
        [
         "uid",
         "0"
        ],
        [
         "sex",
         "2"
        ],
        [
         "age",
         "0"
        ],
        [
         "arrival_method",
         "8"
        ],
        [
         "arrival_date",
         "0"
        ],
        [
         "year",
         "0"
        ],
        [
         "triage_note",
         "6125"
        ],
        [
         "SH",
         "0"
        ],
        [
         "SI",
         "0"
        ],
        [
         "AOD_OD",
         "0"
        ],
        [
         "audit_case",
         "555914"
        ],
        [
         "source_system",
         "0"
        ]
       ],
       "shape": {
        "columns": 1,
        "rows": 12
       }
      },
      "text/plain": [
       "uid                    0\n",
       "sex                    2\n",
       "age                    0\n",
       "arrival_method         8\n",
       "arrival_date           0\n",
       "year                   0\n",
       "triage_note         6125\n",
       "SH                     0\n",
       "SI                     0\n",
       "AOD_OD                 0\n",
       "audit_case        555914\n",
       "source_system          0\n",
       "dtype: int64"
      ]
     },
     "execution_count": 4,
     "metadata": {},
     "output_type": "execute_result"
    }
   ],
   "source": [
    "rmh.isna().sum()"
   ]
  },
  {
   "cell_type": "code",
   "execution_count": 5,
   "metadata": {},
   "outputs": [
    {
     "data": {
      "application/vnd.microsoft.datawrangler.viewer.v0+json": {
       "columns": [
        {
         "name": "index",
         "rawType": "object",
         "type": "string"
        },
        {
         "name": "0",
         "rawType": "int64",
         "type": "integer"
        }
       ],
       "ref": "4191ae00-9006-48b9-b85b-cc23f01796e8",
       "rows": [
        [
         "uid",
         "771532"
        ],
        [
         "sex",
         "13"
        ],
        [
         "age",
         "121"
        ],
        [
         "arrival_method",
         "103"
        ],
        [
         "arrival_date",
         "741989"
        ],
        [
         "year",
         "11"
        ],
        [
         "triage_note",
         "763556"
        ],
        [
         "SH",
         "2"
        ],
        [
         "SI",
         "2"
        ],
        [
         "AOD_OD",
         "2"
        ],
        [
         "audit_case",
         "2"
        ],
        [
         "source_system",
         "2"
        ]
       ],
       "shape": {
        "columns": 1,
        "rows": 12
       }
      },
      "text/plain": [
       "uid               771532\n",
       "sex                   13\n",
       "age                  121\n",
       "arrival_method       103\n",
       "arrival_date      741989\n",
       "year                  11\n",
       "triage_note       763556\n",
       "SH                     2\n",
       "SI                     2\n",
       "AOD_OD                 2\n",
       "audit_case             2\n",
       "source_system          2\n",
       "dtype: int64"
      ]
     },
     "execution_count": 5,
     "metadata": {},
     "output_type": "execute_result"
    }
   ],
   "source": [
    "rmh.nunique()"
   ]
  },
  {
   "cell_type": "markdown",
   "metadata": {},
   "source": [
    "## Data checks"
   ]
  },
  {
   "cell_type": "code",
   "execution_count": 6,
   "metadata": {},
   "outputs": [],
   "source": [
    "# Check the year was extracted correctly\n",
    "assert (rmh.arrival_date.dt.year == rmh.year).all()"
   ]
  },
  {
   "cell_type": "code",
   "execution_count": 7,
   "metadata": {},
   "outputs": [],
   "source": [
    "# # Fix triage date errors\n",
    "# print(\"Triage date is before 01.01.2012 in %d presentations, replace with arrival date\" % \n",
    "#       (rmh.triage_date < pd.Timestamp(2012,1,1)).sum())\n",
    "# rmh.loc[rmh.triage_date < pd.Timestamp(2012,1,1), 'triage_date'] = rmh.loc[rmh.triage_date < pd.Timestamp(2012,1,1), \n",
    "#                                                                         'arrival_date']\n",
    "\n",
    "# # Triage date before Arrival date\n",
    "# print(\"For %d presentations triage was before arrival.\" % \n",
    "#       (rmh.triage_date < rmh.arrival_date).sum())\n",
    "# # Triage date should not be much earlier than Arrival date\n",
    "# print(\"Out of those, %d presentations have triage date more than 24 hours before arrival.\" % \n",
    "#       ((rmh.triage_date - rmh.arrival_date).dt.days < -1).sum())\n",
    "\n",
    "# # Triage date more than a day after the Arrival date\n",
    "# print(\"For %d presentations the triage date is more than 24 hours after the arrival date.\" % \n",
    "#       ((rmh.triage_date - rmh.arrival_date).dt.days > 0).sum())"
   ]
  },
  {
   "cell_type": "code",
   "execution_count": 8,
   "metadata": {},
   "outputs": [
    {
     "name": "stdout",
     "output_type": "stream",
     "text": [
      "The dataset contains 6125 presentations with empty triage notes.\n",
      "The dataset contains 0 presentations containing only newline.\n",
      "The dataset contains 46 presentations stating \"as above\".\n"
     ]
    }
   ],
   "source": [
    "# Empty triage notes\n",
    "print(\"The dataset contains %d presentations with empty triage notes.\" % \n",
    "      rmh.triage_note.isna().sum())\n",
    "# Triage note containing only \"\\n\"\n",
    "print(\"The dataset contains %d presentations containing only newline.\" % \n",
    "      (rmh.triage_note.str.lower()==\" \\n\").sum())\n",
    "# Triage note stating \"as above\"\n",
    "print(\"The dataset contains %d presentations stating \\\"as above\\\".\" % \n",
    "      (rmh.triage_note.str.lower()==\"as above\").sum())"
   ]
  },
  {
   "cell_type": "markdown",
   "metadata": {},
   "source": [
    "### Number of presentations over time"
   ]
  },
  {
   "cell_type": "code",
   "execution_count": 9,
   "metadata": {},
   "outputs": [],
   "source": [
    "# Expected range of dates\n",
    "count_per_day = pd.DataFrame(index=pd.date_range(start='2012-01-01',end='2022-06-30'))\n",
    "count_per_day['count'] = 0\n",
    "# Update with actual counts\n",
    "count_per_day.update({'count': rmh.groupby(rmh.arrival_date.dt.date).size()})"
   ]
  },
  {
   "cell_type": "code",
   "execution_count": 10,
   "metadata": {},
   "outputs": [
    {
     "data": {
      "image/png": "[encoded data removed]",
      "text/plain": [
       "<Figure size 1200x600 with 1 Axes>"
      ]
     },
     "metadata": {},
     "output_type": "display_data"
    }
   ],
   "source": [
    "plt.rcParams['figure.figsize'] = (12, 6)\n",
    "\n",
    "sns.lineplot(x=count_per_day.index,\n",
    "             y=count_per_day['count']);\n",
    "\n",
    "plt.xlabel(\"Arrival date\");\n",
    "plt.ylabel(\"Number of presentations\");\n",
    "plt.title(\"RMH\");\n",
    "# plt.savefig(\"../results/number of presentations.jpeg\", dpi=300, pad_inches=0);"
   ]
  },
  {
   "cell_type": "code",
   "execution_count": 11,
   "metadata": {},
   "outputs": [
    {
     "data": {
      "application/vnd.microsoft.datawrangler.viewer.v0+json": {
       "columns": [
        {
         "name": "arrival_date",
         "rawType": "object",
         "type": "unknown"
        },
        {
         "name": "count",
         "rawType": "int64",
         "type": "integer"
        }
       ],
       "ref": "15baad5f-888d-4de8-8e3c-42df074d8a4b",
       "rows": [
        [
         "2012-01-14",
         "133"
        ],
        [
         "2013-10-17",
         "132"
        ],
        [
         "2012-01-12",
         "132"
        ],
        [
         "2020-08-23",
         "127"
        ],
        [
         "2012-02-11",
         "125"
        ],
        [
         "2021-08-23",
         "123"
        ],
        [
         "2021-08-24",
         "91"
        ],
        [
         "2019-06-29",
         "55"
        ],
        [
         "2019-06-28",
         "52"
        ],
        [
         "2015-12-31",
         "1"
        ]
       ],
       "shape": {
        "columns": 1,
        "rows": 10
       }
      },
      "text/plain": [
       "arrival_date\n",
       "2012-01-14    133\n",
       "2013-10-17    132\n",
       "2012-01-12    132\n",
       "2020-08-23    127\n",
       "2012-02-11    125\n",
       "2021-08-23    123\n",
       "2021-08-24     91\n",
       "2019-06-29     55\n",
       "2019-06-28     52\n",
       "2015-12-31      1\n",
       "Name: count, dtype: int64"
      ]
     },
     "execution_count": 11,
     "metadata": {},
     "output_type": "execute_result"
    }
   ],
   "source": [
    "rmh.arrival_date.dt.date.value_counts().tail(10)"
   ]
  },
  {
   "cell_type": "code",
   "execution_count": 12,
   "metadata": {},
   "outputs": [
    {
     "data": {
      "application/vnd.microsoft.datawrangler.viewer.v0+json": {
       "columns": [
        {
         "name": "arrival_date",
         "rawType": "object",
         "type": "unknown"
        },
        {
         "name": "count",
         "rawType": "int64",
         "type": "integer"
        }
       ],
       "ref": "5fc3c6f7-f6af-4e20-bfc7-ff58aadcb4b3",
       "rows": [
        [
         "2015-12-15",
         "189"
        ],
        [
         "2015-12-16",
         "195"
        ],
        [
         "2015-12-17",
         "190"
        ],
        [
         "2015-12-18",
         "172"
        ],
        [
         "2015-12-19",
         "208"
        ],
        [
         "2015-12-20",
         "179"
        ],
        [
         "2015-12-21",
         "198"
        ],
        [
         "2015-12-31",
         "1"
        ],
        [
         "2016-01-01",
         "206"
        ],
        [
         "2016-01-02",
         "218"
        ],
        [
         "2016-01-03",
         "187"
        ],
        [
         "2016-01-04",
         "207"
        ],
        [
         "2016-01-05",
         "202"
        ]
       ],
       "shape": {
        "columns": 1,
        "rows": 13
       }
      },
      "text/plain": [
       "arrival_date\n",
       "2015-12-15    189\n",
       "2015-12-16    195\n",
       "2015-12-17    190\n",
       "2015-12-18    172\n",
       "2015-12-19    208\n",
       "2015-12-20    179\n",
       "2015-12-21    198\n",
       "2015-12-31      1\n",
       "2016-01-01    206\n",
       "2016-01-02    218\n",
       "2016-01-03    187\n",
       "2016-01-04    207\n",
       "2016-01-05    202\n",
       "Name: count, dtype: int64"
      ]
     },
     "execution_count": 12,
     "metadata": {},
     "output_type": "execute_result"
    }
   ],
   "source": [
    "# Data missing between 22 Dec 2015 and 31 Dec 2015 inclusive\n",
    "rmh[(rmh.arrival_date.dt.date >= dt.date(2015, 12, 15)) & \n",
    "   (rmh.arrival_date.dt.date <= dt.date(2016, 1, 5))].arrival_date.dt.date.value_counts().sort_index()"
   ]
  },
  {
   "cell_type": "code",
   "execution_count": 13,
   "metadata": {},
   "outputs": [
    {
     "data": {
      "application/vnd.microsoft.datawrangler.viewer.v0+json": {
       "columns": [
        {
         "name": "arrival_date",
         "rawType": "object",
         "type": "unknown"
        },
        {
         "name": "count",
         "rawType": "int64",
         "type": "integer"
        }
       ],
       "ref": "9cce91d0-dffd-4e1c-8868-0b64e18a1a3f",
       "rows": [
        [
         "2019-06-25",
         "220"
        ],
        [
         "2019-06-26",
         "209"
        ],
        [
         "2019-06-27",
         "226"
        ],
        [
         "2019-06-28",
         "52"
        ],
        [
         "2019-06-29",
         "55"
        ],
        [
         "2019-06-30",
         "206"
        ],
        [
         "2019-07-01",
         "215"
        ],
        [
         "2019-07-02",
         "224"
        ],
        [
         "2019-07-03",
         "211"
        ],
        [
         "2019-07-04",
         "218"
        ],
        [
         "2019-07-05",
         "222"
        ]
       ],
       "shape": {
        "columns": 1,
        "rows": 11
       }
      },
      "text/plain": [
       "arrival_date\n",
       "2019-06-25    220\n",
       "2019-06-26    209\n",
       "2019-06-27    226\n",
       "2019-06-28     52\n",
       "2019-06-29     55\n",
       "2019-06-30    206\n",
       "2019-07-01    215\n",
       "2019-07-02    224\n",
       "2019-07-03    211\n",
       "2019-07-04    218\n",
       "2019-07-05    222\n",
       "Name: count, dtype: int64"
      ]
     },
     "execution_count": 13,
     "metadata": {},
     "output_type": "execute_result"
    }
   ],
   "source": [
    "# Lower than usual number of cases on 28-29 Jun 2019\n",
    "rmh[(rmh.arrival_date.dt.date >= dt.date(2019, 6, 25)) & \n",
    "   (rmh.arrival_date.dt.date <= dt.date(2019, 7, 5))].arrival_date.dt.date.value_counts().sort_index()"
   ]
  },
  {
   "cell_type": "code",
   "execution_count": 14,
   "metadata": {},
   "outputs": [
    {
     "data": {
      "application/vnd.microsoft.datawrangler.viewer.v0+json": {
       "columns": [
        {
         "name": "arrival_date",
         "rawType": "object",
         "type": "unknown"
        },
        {
         "name": "count",
         "rawType": "int64",
         "type": "integer"
        }
       ],
       "ref": "5e768f28-df0a-4b20-a2e5-967908bafb10",
       "rows": [
        [
         "2021-08-20",
         "229"
        ],
        [
         "2021-08-21",
         "188"
        ],
        [
         "2021-08-22",
         "146"
        ],
        [
         "2021-08-23",
         "123"
        ],
        [
         "2021-08-24",
         "91"
        ],
        [
         "2021-08-25",
         "143"
        ],
        [
         "2021-08-26",
         "162"
        ],
        [
         "2021-08-27",
         "184"
        ],
        [
         "2021-08-28",
         "204"
        ],
        [
         "2021-08-29",
         "188"
        ],
        [
         "2021-08-30",
         "227"
        ]
       ],
       "shape": {
        "columns": 1,
        "rows": 11
       }
      },
      "text/plain": [
       "arrival_date\n",
       "2021-08-20    229\n",
       "2021-08-21    188\n",
       "2021-08-22    146\n",
       "2021-08-23    123\n",
       "2021-08-24     91\n",
       "2021-08-25    143\n",
       "2021-08-26    162\n",
       "2021-08-27    184\n",
       "2021-08-28    204\n",
       "2021-08-29    188\n",
       "2021-08-30    227\n",
       "Name: count, dtype: int64"
      ]
     },
     "execution_count": 14,
     "metadata": {},
     "output_type": "execute_result"
    }
   ],
   "source": [
    "# Lower than usual number of cases on 24 Aug 2021\n",
    "rmh[(rmh.arrival_date.dt.date >= dt.date(2021, 8, 20)) & \n",
    "   (rmh.arrival_date.dt.date <= dt.date(2021, 8, 30))].arrival_date.dt.date.value_counts().sort_index()"
   ]
  },
  {
   "cell_type": "code",
   "execution_count": 15,
   "metadata": {},
   "outputs": [
    {
     "data": {
      "application/vnd.microsoft.datawrangler.viewer.v0+json": {
       "columns": [
        {
         "name": "arrival_date",
         "rawType": "object",
         "type": "unknown"
        },
        {
         "name": "count",
         "rawType": "int64",
         "type": "integer"
        }
       ],
       "ref": "8561467e-5689-4387-8763-ccb834e38377",
       "rows": [
        [
         "2020-06-30",
         "466"
        ],
        [
         "2020-06-23",
         "463"
        ],
        [
         "2020-07-11",
         "460"
        ],
        [
         "2020-03-10",
         "453"
        ],
        [
         "2020-03-13",
         "450"
        ],
        [
         "2020-07-01",
         "443"
        ],
        [
         "2020-03-12",
         "443"
        ],
        [
         "2020-03-11",
         "439"
        ],
        [
         "2020-07-07",
         "436"
        ],
        [
         "2020-06-29",
         "434"
        ]
       ],
       "shape": {
        "columns": 1,
        "rows": 10
       }
      },
      "text/plain": [
       "arrival_date\n",
       "2020-06-30    466\n",
       "2020-06-23    463\n",
       "2020-07-11    460\n",
       "2020-03-10    453\n",
       "2020-03-13    450\n",
       "2020-07-01    443\n",
       "2020-03-12    443\n",
       "2020-03-11    439\n",
       "2020-07-07    436\n",
       "2020-06-29    434\n",
       "Name: count, dtype: int64"
      ]
     },
     "execution_count": 15,
     "metadata": {},
     "output_type": "execute_result"
    }
   ],
   "source": [
    "rmh.arrival_date.dt.date.value_counts().head(10)"
   ]
  },
  {
   "cell_type": "code",
   "execution_count": 16,
   "metadata": {},
   "outputs": [
    {
     "data": {
      "application/vnd.microsoft.datawrangler.viewer.v0+json": {
       "columns": [
        {
         "name": "arrival_date",
         "rawType": "object",
         "type": "unknown"
        },
        {
         "name": "count",
         "rawType": "int64",
         "type": "integer"
        }
       ],
       "ref": "ac1c1a38-c5c0-4cd2-ab39-11902ed57aca",
       "rows": [
        [
         "2016-11-15",
         "208"
        ],
        [
         "2016-11-16",
         "195"
        ],
        [
         "2016-11-17",
         "210"
        ],
        [
         "2016-11-18",
         "204"
        ],
        [
         "2016-11-19",
         "220"
        ],
        [
         "2016-11-20",
         "211"
        ],
        [
         "2016-11-21",
         "335"
        ],
        [
         "2016-11-22",
         "308"
        ],
        [
         "2016-11-23",
         "238"
        ],
        [
         "2016-11-24",
         "205"
        ],
        [
         "2016-11-25",
         "226"
        ],
        [
         "2016-11-26",
         "188"
        ],
        [
         "2016-11-27",
         "240"
        ],
        [
         "2016-11-28",
         "211"
        ],
        [
         "2016-11-29",
         "192"
        ],
        [
         "2016-11-30",
         "196"
        ]
       ],
       "shape": {
        "columns": 1,
        "rows": 16
       }
      },
      "text/plain": [
       "arrival_date\n",
       "2016-11-15    208\n",
       "2016-11-16    195\n",
       "2016-11-17    210\n",
       "2016-11-18    204\n",
       "2016-11-19    220\n",
       "2016-11-20    211\n",
       "2016-11-21    335\n",
       "2016-11-22    308\n",
       "2016-11-23    238\n",
       "2016-11-24    205\n",
       "2016-11-25    226\n",
       "2016-11-26    188\n",
       "2016-11-27    240\n",
       "2016-11-28    211\n",
       "2016-11-29    192\n",
       "2016-11-30    196\n",
       "Name: count, dtype: int64"
      ]
     },
     "execution_count": 16,
     "metadata": {},
     "output_type": "execute_result"
    }
   ],
   "source": [
    "# Higher than usual number of cases on 21 Nov 2016\n",
    "rmh[(rmh.arrival_date.dt.date >= dt.date(2016, 11, 15)) & \n",
    "   (rmh.arrival_date.dt.date <= dt.date(2016, 11, 30))].arrival_date.dt.date.value_counts().sort_index()"
   ]
  },
  {
   "cell_type": "code",
   "execution_count": 17,
   "metadata": {},
   "outputs": [
    {
     "data": {
      "application/vnd.microsoft.datawrangler.viewer.v0+json": {
       "columns": [
        {
         "name": "index",
         "rawType": "datetime64[ns]",
         "type": "datetime"
        },
        {
         "name": "count",
         "rawType": "int64",
         "type": "integer"
        }
       ],
       "ref": "70279d00-1fc8-4ba1-839c-d537d2bcf94a",
       "rows": [
        [
         "2020-03-10 00:00:00",
         "453"
        ],
        [
         "2020-03-11 00:00:00",
         "439"
        ],
        [
         "2020-03-12 00:00:00",
         "443"
        ],
        [
         "2020-03-13 00:00:00",
         "450"
        ],
        [
         "2020-03-16 00:00:00",
         "430"
        ],
        [
         "2020-03-17 00:00:00",
         "402"
        ],
        [
         "2020-06-23 00:00:00",
         "463"
        ],
        [
         "2020-06-24 00:00:00",
         "414"
        ],
        [
         "2020-06-29 00:00:00",
         "434"
        ],
        [
         "2020-06-30 00:00:00",
         "466"
        ],
        [
         "2020-07-01 00:00:00",
         "443"
        ],
        [
         "2020-07-02 00:00:00",
         "423"
        ],
        [
         "2020-07-04 00:00:00",
         "403"
        ],
        [
         "2020-07-05 00:00:00",
         "422"
        ],
        [
         "2020-07-06 00:00:00",
         "415"
        ],
        [
         "2020-07-07 00:00:00",
         "436"
        ],
        [
         "2020-07-11 00:00:00",
         "460"
        ],
        [
         "2020-07-13 00:00:00",
         "406"
        ]
       ],
       "shape": {
        "columns": 1,
        "rows": 18
       }
      },
      "text/html": [
       "<div>\n",
       "<style scoped>\n",
       "    .dataframe tbody tr th:only-of-type {\n",
       "        vertical-align: middle;\n",
       "    }\n",
       "\n",
       "    .dataframe tbody tr th {\n",
       "        vertical-align: top;\n",
       "    }\n",
       "\n",
       "    .dataframe thead th {\n",
       "        text-align: right;\n",
       "    }\n",
       "</style>\n",
       "<table border=\"1\" class=\"dataframe\">\n",
       "  <thead>\n",
       "    <tr style=\"text-align: right;\">\n",
       "      <th></th>\n",
       "      <th>count</th>\n",
       "    </tr>\n",
       "  </thead>\n",
       "  <tbody>\n",
       "    <tr>\n",
       "      <th>2020-03-10</th>\n",
       "      <td>453</td>\n",
       "    </tr>\n",
       "    <tr>\n",
       "      <th>2020-03-11</th>\n",
       "      <td>439</td>\n",
       "    </tr>\n",
       "    <tr>\n",
       "      <th>2020-03-12</th>\n",
       "      <td>443</td>\n",
       "    </tr>\n",
       "    <tr>\n",
       "      <th>2020-03-13</th>\n",
       "      <td>450</td>\n",
       "    </tr>\n",
       "    <tr>\n",
       "      <th>2020-03-16</th>\n",
       "      <td>430</td>\n",
       "    </tr>\n",
       "    <tr>\n",
       "      <th>2020-03-17</th>\n",
       "      <td>402</td>\n",
       "    </tr>\n",
       "    <tr>\n",
       "      <th>2020-06-23</th>\n",
       "      <td>463</td>\n",
       "    </tr>\n",
       "    <tr>\n",
       "      <th>2020-06-24</th>\n",
       "      <td>414</td>\n",
       "    </tr>\n",
       "    <tr>\n",
       "      <th>2020-06-29</th>\n",
       "      <td>434</td>\n",
       "    </tr>\n",
       "    <tr>\n",
       "      <th>2020-06-30</th>\n",
       "      <td>466</td>\n",
       "    </tr>\n",
       "    <tr>\n",
       "      <th>2020-07-01</th>\n",
       "      <td>443</td>\n",
       "    </tr>\n",
       "    <tr>\n",
       "      <th>2020-07-02</th>\n",
       "      <td>423</td>\n",
       "    </tr>\n",
       "    <tr>\n",
       "      <th>2020-07-04</th>\n",
       "      <td>403</td>\n",
       "    </tr>\n",
       "    <tr>\n",
       "      <th>2020-07-05</th>\n",
       "      <td>422</td>\n",
       "    </tr>\n",
       "    <tr>\n",
       "      <th>2020-07-06</th>\n",
       "      <td>415</td>\n",
       "    </tr>\n",
       "    <tr>\n",
       "      <th>2020-07-07</th>\n",
       "      <td>436</td>\n",
       "    </tr>\n",
       "    <tr>\n",
       "      <th>2020-07-11</th>\n",
       "      <td>460</td>\n",
       "    </tr>\n",
       "    <tr>\n",
       "      <th>2020-07-13</th>\n",
       "      <td>406</td>\n",
       "    </tr>\n",
       "  </tbody>\n",
       "</table>\n",
       "</div>"
      ],
      "text/plain": [
       "            count\n",
       "2020-03-10    453\n",
       "2020-03-11    439\n",
       "2020-03-12    443\n",
       "2020-03-13    450\n",
       "2020-03-16    430\n",
       "2020-03-17    402\n",
       "2020-06-23    463\n",
       "2020-06-24    414\n",
       "2020-06-29    434\n",
       "2020-06-30    466\n",
       "2020-07-01    443\n",
       "2020-07-02    423\n",
       "2020-07-04    403\n",
       "2020-07-05    422\n",
       "2020-07-06    415\n",
       "2020-07-07    436\n",
       "2020-07-11    460\n",
       "2020-07-13    406"
      ]
     },
     "execution_count": 17,
     "metadata": {},
     "output_type": "execute_result"
    }
   ],
   "source": [
    "count_per_day[count_per_day['count'] >= 400]"
   ]
  },
  {
   "cell_type": "markdown",
   "metadata": {},
   "source": [
    "### Annotations"
   ]
  },
  {
   "cell_type": "code",
   "execution_count": 18,
   "metadata": {},
   "outputs": [
    {
     "name": "stdout",
     "output_type": "stream",
     "text": [
      "Number of presentations annotated as both SH and SI: 0\n",
      "Number of presentations annotated as both SH and AOD OD: 1\n",
      "Number of presentations annotated as both SI and AOD OD: 16\n"
     ]
    }
   ],
   "source": [
    "# Check for confusion between SH, SI, and AOD OD\n",
    "print(\"Number of presentations annotated as both SH and SI:\", ((rmh.SH==\"Positive\") & (rmh.SI==\"Positive\")).sum())\n",
    "print(\"Number of presentations annotated as both SH and AOD OD:\", ((rmh.SH==\"Positive\") & (rmh.AOD_OD==\"Positive\")).sum())\n",
    "print(\"Number of presentations annotated as both SI and AOD OD:\", ((rmh.SI==\"Positive\") & (rmh.AOD_OD==\"Positive\")).sum())"
   ]
  },
  {
   "cell_type": "code",
   "execution_count": 19,
   "metadata": {},
   "outputs": [
    {
     "name": "stdout",
     "output_type": "stream",
     "text": [
      "Number of presentation annotated as SH from patients under the age of 9: 1\n",
      "Number of presentation annotated as SI from patients under the age of 9: 0\n",
      "Number of presentation annotated as AOD from patients under the age of 9: 1\n"
     ]
    }
   ],
   "source": [
    "# Patients under the age of 9 with positive labels\n",
    "print(\"Number of presentation annotated as SH from patients under the age of 9:\", ((rmh.SH==\"Positive\") & (rmh.age<9)).sum())\n",
    "print(\"Number of presentation annotated as SI from patients under the age of 9:\", ((rmh.SI==\"Positive\") & (rmh.age<9)).sum())\n",
    "print(\"Number of presentation annotated as AOD from patients under the age of 9:\", ((rmh.AOD_OD==\"Positive\") & (rmh.age<9)).sum())"
   ]
  },
  {
   "cell_type": "markdown",
   "metadata": {},
   "source": [
    "## Normalise data"
   ]
  },
  {
   "cell_type": "markdown",
   "metadata": {},
   "source": [
    "### Sex"
   ]
  },
  {
   "cell_type": "code",
   "execution_count": 20,
   "metadata": {},
   "outputs": [
    {
     "data": {
      "application/vnd.microsoft.datawrangler.viewer.v0+json": {
       "columns": [
        {
         "name": "sex",
         "rawType": "object",
         "type": "unknown"
        },
        {
         "name": "count",
         "rawType": "int64",
         "type": "integer"
        }
       ],
       "ref": "acd1cd93-c2de-4b44-876b-182796021faa",
       "rows": [
        [
         "Male",
         "261774"
        ],
        [
         "Female",
         "235568"
        ],
        [
         "M",
         "130383"
        ],
        [
         "F",
         "124135"
        ],
        [
         "1 - Male",
         "9956"
        ],
        [
         "2 - Female",
         "9461"
        ],
        [
         "R",
         "148"
        ],
        [
         "Intersex",
         "97"
        ],
        [
         "3 - Indeterminate",
         "3"
        ],
        [
         "Indeterminate",
         "2"
        ],
        [
         null,
         "2"
        ],
        [
         "Not Specified",
         "1"
        ],
        [
         " - Unidentified",
         "1"
        ],
        [
         "4 - Other",
         "1"
        ]
       ],
       "shape": {
        "columns": 1,
        "rows": 14
       }
      },
      "text/plain": [
       "sex\n",
       "Male                 261774\n",
       "Female               235568\n",
       "M                    130383\n",
       "F                    124135\n",
       "1 - Male               9956\n",
       "2 - Female             9461\n",
       "R                       148\n",
       "Intersex                 97\n",
       "3 - Indeterminate         3\n",
       "Indeterminate             2\n",
       "None                      2\n",
       "Not Specified             1\n",
       " - Unidentified           1\n",
       "4 - Other                 1\n",
       "Name: count, dtype: int64"
      ]
     },
     "execution_count": 20,
     "metadata": {},
     "output_type": "execute_result"
    }
   ],
   "source": [
    "rmh.sex.value_counts(dropna=False)"
   ]
  },
  {
   "cell_type": "code",
   "execution_count": 21,
   "metadata": {},
   "outputs": [],
   "source": [
    "# Normalise sex variable to 4 values (RMH)\n",
    "rmh.loc[rmh.sex.isin([\"Female\", \"F\", \"2 - Female\"]), 'sex'] = \"female\"\n",
    "rmh.loc[rmh.sex.isin([\"Male\", \"M\", \"1 - Male\"]), 'sex'] = \"male\"\n",
    "rmh.loc[rmh.sex.isin([\"Intersex\", \"R\", \"3 - Indeterminate\", \"Indeterminate\"]), 'sex'] = \"intersex\"\n",
    "rmh.loc[~rmh.sex.isin([\"female\", \"male\", \"intersex\"]), 'sex'] = \"unknown\"\n",
    "\n",
    "categories = [\"female\", \"male\", \"intersex\", \"unknown\"]\n",
    "rmh.sex = to_categorical(rmh.sex, categories=categories)"
   ]
  },
  {
   "cell_type": "markdown",
   "metadata": {},
   "source": [
    "### Arrival method"
   ]
  },
  {
   "cell_type": "code",
   "execution_count": 22,
   "metadata": {},
   "outputs": [
    {
     "data": {
      "text/plain": [
       "103"
      ]
     },
     "execution_count": 22,
     "metadata": {},
     "output_type": "execute_result"
    }
   ],
   "source": [
    "rmh.arrival_method.nunique()"
   ]
  },
  {
   "cell_type": "code",
   "execution_count": 23,
   "metadata": {},
   "outputs": [
    {
     "data": {
      "application/vnd.microsoft.datawrangler.viewer.v0+json": {
       "columns": [
        {
         "name": "arrival_method",
         "rawType": "object",
         "type": "string"
        },
        {
         "name": "count",
         "rawType": "int64",
         "type": "integer"
        }
       ],
       "ref": "48b710db-0ecb-4fd2-a9f0-8f7efba9b508",
       "rows": [
        [
         "Other",
         "312137"
        ],
        [
         "Road Ambulance Service",
         "170995"
        ],
        [
         "Self-presented/Community/Public Transport",
         "156834"
        ],
        [
         "Road Ambulance",
         "92056"
        ],
        [
         "6 - Community/public transport (includes council / philanthropic services)",
         "12131"
        ],
        [
         "3 - Road Ambulance Service",
         "6799"
        ],
        [
         "Private Ambulance - Contracted by  AV/RAV",
         "4137"
        ],
        [
         "Helicopter",
         "3689"
        ],
        [
         "Police",
         "3634"
        ],
        [
         "Private Ambulance - AV contracted",
         "2642"
        ],
        [
         " Private Ambulance - Contracted by  AV/RAV",
         "1552"
        ],
        [
         "Police Vehicle",
         "1478"
        ],
        [
         "Community/public transport (includes council / philanthropic)",
         "615"
        ],
        [
         "Private Ambulance - Contracted by another Hospital",
         "575"
        ],
        [
         "Private Ambulance - Hospital contracted",
         "493"
        ]
       ],
       "shape": {
        "columns": 1,
        "rows": 15
       }
      },
      "text/plain": [
       "arrival_method\n",
       "Other                                                                         312137\n",
       "Road Ambulance Service                                                        170995\n",
       "Self-presented/Community/Public Transport                                     156834\n",
       "Road Ambulance                                                                 92056\n",
       "6 - Community/public transport (includes council / philanthropic services)     12131\n",
       "3 - Road Ambulance Service                                                      6799\n",
       "Private Ambulance - Contracted by  AV/RAV                                       4137\n",
       "Helicopter                                                                      3689\n",
       "Police                                                                          3634\n",
       "Private Ambulance - AV contracted                                               2642\n",
       " Private Ambulance - Contracted by  AV/RAV                                      1552\n",
       "Police Vehicle                                                                  1478\n",
       "Community/public transport (includes council / philanthropic)                    615\n",
       "Private Ambulance - Contracted by another Hospital                               575\n",
       "Private Ambulance - Hospital contracted                                          493\n",
       "Name: count, dtype: int64"
      ]
     },
     "execution_count": 23,
     "metadata": {},
     "output_type": "execute_result"
    }
   ],
   "source": [
    "rmh.arrival_method.value_counts(dropna=False).head(15)"
   ]
  },
  {
   "cell_type": "code",
   "execution_count": 24,
   "metadata": {},
   "outputs": [],
   "source": [
    "def normalise_arrival_method(x):\n",
    "    # Convert to lowercase\n",
    "    x = x.str.lower()\n",
    "    # Replace string values\n",
    "    x.loc[x.fillna(\"\").str.contains(\"community|self|walk-in|walked|public transport\")] = \"self/community/pt\"\n",
    "    x.loc[x.fillna(\"\").str.contains(\"road ambulance\")] = \"road ambulance\"\n",
    "    x.loc[x.fillna(\"\").str.contains(\"private|priv\")] = \"private ambulance\"\n",
    "    x.loc[x.fillna(\"\").str.contains(\"air|helicopter\")] = \"air ambulance\"\n",
    "    x.loc[x.fillna(\"\").str.contains(\"police\")] = \"police\"\n",
    "    x.loc[x.fillna(\"\").str.contains(\"undertaker\")] = \"undertaker\"\n",
    "    x.loc[x.fillna(\"\").str.contains(\"other\")] = \"other\"\n",
    "    \n",
    "    categories = ['self/community/pt', 'road ambulance', 'private ambulance', 'air ambulance', 'police', 'undertaker', 'other']\n",
    "    x = to_categorical(x, categories=categories)\n",
    "    \n",
    "    return x\n",
    "\n",
    "# Normalise arrival method variable\n",
    "rmh.arrival_method = normalise_arrival_method(rmh.arrival_method)"
   ]
  },
  {
   "cell_type": "markdown",
   "metadata": {},
   "source": [
    "### Triage notes"
   ]
  },
  {
   "cell_type": "code",
   "execution_count": 25,
   "metadata": {},
   "outputs": [],
   "source": [
    "# Fill missing value with empty string\n",
    "rmh.fillna({'triage_note': \"\"}, inplace=True)"
   ]
  },
  {
   "cell_type": "markdown",
   "metadata": {},
   "source": [
    "### Annotations"
   ]
  },
  {
   "cell_type": "code",
   "execution_count": 26,
   "metadata": {},
   "outputs": [],
   "source": [
    "# Fix annotation errors\n",
    "# One record annotated as both self-harm and AOD overdose\n",
    "rmh.loc[(rmh.SH==\"Positive\") & (rmh.AOD_OD==\"Positive\"), 'AOD_OD'] = \"Negative\"\n",
    "\n",
    "# 16 records annotated as both suicidal ideation and AOD overdose\n",
    "rmh.loc[(rmh.SI==\"Positive\") & (rmh.AOD_OD==\"Positive\"), 'SI'] = \"Negative\"\n",
    "\n",
    "# Patient aged 2 positive for SH\n",
    "rmh.loc[(rmh.age==2) & (rmh.SH==\"Positive\"), 'SH'] = \"Negative\"\n",
    "\n",
    "# Patient aged 7 positive for AOD\n",
    "rmh.loc[(rmh.age==7) & (rmh.AOD_OD==\"Positive\"), 'AOD_OD'] = \"Negative\"\n",
    "\n",
    "# Two records annotated as both self-harm and suicidal ideation\n",
    "rmh.loc[(rmh.SH==\"Positive\") & (rmh.SI==\"Positive\"), 'SI'] = \"Negative\""
   ]
  },
  {
   "cell_type": "markdown",
   "metadata": {},
   "source": [
    "### Additional columns"
   ]
  },
  {
   "cell_type": "code",
   "execution_count": 27,
   "metadata": {},
   "outputs": [],
   "source": [
    "# Create new column that contains quarter\n",
    "rmh['quarter'] = rmh.arrival_date.dt.to_period('Q')\n",
    "\n",
    "# Triage note length\n",
    "rmh['length'] = rmh.triage_note.apply(len)"
   ]
  },
  {
   "cell_type": "markdown",
   "metadata": {},
   "source": [
    "### Remove patients below the age of 9"
   ]
  },
  {
   "cell_type": "code",
   "execution_count": 28,
   "metadata": {},
   "outputs": [
    {
     "data": {
      "text/plain": [
       "(771339, 14)"
      ]
     },
     "execution_count": 28,
     "metadata": {},
     "output_type": "execute_result"
    }
   ],
   "source": [
    "# Remove presentations of patients under the age of 9\n",
    "rmh = rmh[rmh.age >= 9].copy()\n",
    "rmh.reset_index(drop=True, inplace=True)\n",
    "rmh.shape"
   ]
  },
  {
   "cell_type": "markdown",
   "metadata": {},
   "source": [
    "### Save dataset"
   ]
  },
  {
   "cell_type": "code",
   "execution_count": 29,
   "metadata": {},
   "outputs": [],
   "source": [
    "rmh.to_parquet(interim_data_dir / \"rmh_2012_2022_cleaned.parquet\", engine=\"pyarrow\")"
   ]
  },
  {
   "cell_type": "markdown",
   "metadata": {},
   "source": [
    "___\n",
    "# EDA"
   ]
  },
  {
   "cell_type": "code",
   "execution_count": 30,
   "metadata": {},
   "outputs": [
    {
     "data": {
      "text/plain": [
       "(728766, 14)"
      ]
     },
     "execution_count": 30,
     "metadata": {},
     "output_type": "execute_result"
    }
   ],
   "source": [
    "# Remove 2022 (temporarily)\n",
    "rmh = rmh[rmh.year < 2022].copy()\n",
    "rmh.shape"
   ]
  },
  {
   "cell_type": "markdown",
   "metadata": {},
   "source": [
    "### Number of presentations"
   ]
  },
  {
   "cell_type": "markdown",
   "metadata": {},
   "source": [
    "**Per year**"
   ]
  },
  {
   "cell_type": "code",
   "execution_count": 31,
   "metadata": {},
   "outputs": [
    {
     "data": {
      "image/png": "[encoded data removed]",
      "text/plain": [
       "<Figure size 1200x600 with 1 Axes>"
      ]
     },
     "metadata": {},
     "output_type": "display_data"
    }
   ],
   "source": [
    "palette = {year: sns.color_palette('Blues', 10)[4] for year in range(2012, 2018)}\n",
    "palette.update({year: sns.color_palette('Blues', 10)[2] for year in range(2018, 2022)})\n",
    "\n",
    "sns.countplot(x='year', data=rmh, hue='year', palette=palette, legend=False);\n",
    "plt.xlabel(\"Arrival date\");\n",
    "plt.ylabel(\"ED presentations\");\n",
    "plt.title(\"RMH\");\n",
    "plt.savefig(results_dir / \"RMH presentations per year.jpeg\", bbox_inches='tight', dpi=300);"
   ]
  },
  {
   "cell_type": "code",
   "execution_count": 32,
   "metadata": {},
   "outputs": [
    {
     "data": {
      "application/vnd.microsoft.datawrangler.viewer.v0+json": {
       "columns": [
        {
         "name": "index",
         "rawType": "object",
         "type": "string"
        },
        {
         "name": "count",
         "rawType": "float64",
         "type": "float"
        }
       ],
       "ref": "0e13e02c-00e3-41fd-84f0-237b1319bbef",
       "rows": [
        [
         "mean",
         "72877.0"
        ],
        [
         "std",
         "9517.0"
        ]
       ],
       "shape": {
        "columns": 1,
        "rows": 2
       }
      },
      "text/plain": [
       "mean    72877.0\n",
       "std      9517.0\n",
       "Name: count, dtype: float64"
      ]
     },
     "execution_count": 32,
     "metadata": {},
     "output_type": "execute_result"
    }
   ],
   "source": [
    "rmh.year.value_counts().agg(['mean', 'std']).round()"
   ]
  },
  {
   "cell_type": "markdown",
   "metadata": {},
   "source": [
    "**Per quarter**"
   ]
  },
  {
   "cell_type": "code",
   "execution_count": 33,
   "metadata": {},
   "outputs": [
    {
     "data": {
      "application/vnd.microsoft.datawrangler.viewer.v0+json": {
       "columns": [
        {
         "name": "index",
         "rawType": "object",
         "type": "string"
        },
        {
         "name": "count",
         "rawType": "float64",
         "type": "float"
        }
       ],
       "ref": "e8d99042-5cfc-4cb1-a509-5f78be432216",
       "rows": [
        [
         "mean",
         "18219.0"
        ],
        [
         "std",
         "2453.0"
        ]
       ],
       "shape": {
        "columns": 1,
        "rows": 2
       }
      },
      "text/plain": [
       "mean    18219.0\n",
       "std      2453.0\n",
       "Name: count, dtype: float64"
      ]
     },
     "execution_count": 33,
     "metadata": {},
     "output_type": "execute_result"
    }
   ],
   "source": [
    "rmh.quarter.value_counts().agg(['mean', 'std']).round()"
   ]
  },
  {
   "cell_type": "markdown",
   "metadata": {},
   "source": [
    "### Age"
   ]
  },
  {
   "cell_type": "code",
   "execution_count": 34,
   "metadata": {},
   "outputs": [
    {
     "data": {
      "application/vnd.microsoft.datawrangler.viewer.v0+json": {
       "columns": [
        {
         "name": "index",
         "rawType": "object",
         "type": "string"
        },
        {
         "name": "age",
         "rawType": "float64",
         "type": "float"
        }
       ],
       "ref": "2abf43b4-ffae-4165-a9d4-2517c762086e",
       "rows": [
        [
         "count",
         "728766.0"
        ],
        [
         "mean",
         "48.0"
        ],
        [
         "std",
         "21.0"
        ],
        [
         "min",
         "9.0"
        ],
        [
         "25%",
         "29.0"
        ],
        [
         "50%",
         "44.0"
        ],
        [
         "75%",
         "65.0"
        ],
        [
         "max",
         "121.0"
        ]
       ],
       "shape": {
        "columns": 1,
        "rows": 8
       }
      },
      "text/plain": [
       "count    728766.0\n",
       "mean         48.0\n",
       "std          21.0\n",
       "min           9.0\n",
       "25%          29.0\n",
       "50%          44.0\n",
       "75%          65.0\n",
       "max         121.0\n",
       "Name: age, dtype: float64"
      ]
     },
     "execution_count": 34,
     "metadata": {},
     "output_type": "execute_result"
    }
   ],
   "source": [
    "rmh.age.describe().round()"
   ]
  },
  {
   "cell_type": "code",
   "execution_count": 35,
   "metadata": {},
   "outputs": [
    {
     "data": {
      "image/png": "[encoded data removed]",
      "text/plain": [
       "<Figure size 1200x600 with 1 Axes>"
      ]
     },
     "metadata": {},
     "output_type": "display_data"
    }
   ],
   "source": [
    "sns.kdeplot(x='age', data=rmh, fill=True);"
   ]
  },
  {
   "cell_type": "markdown",
   "metadata": {},
   "source": [
    "### Sex"
   ]
  },
  {
   "cell_type": "code",
   "execution_count": 36,
   "metadata": {},
   "outputs": [
    {
     "data": {
      "application/vnd.microsoft.datawrangler.viewer.v0+json": {
       "columns": [
        {
         "name": "sex",
         "rawType": "category",
         "type": "unknown"
        },
        {
         "name": "proportion",
         "rawType": "float64",
         "type": "float"
        }
       ],
       "ref": "7a2fd045-fd39-44f4-a2e4-ffbd19a8c883",
       "rows": [
        [
         "male",
         "0.5218273080796854"
        ],
        [
         "female",
         "0.47787355612089477"
        ],
        [
         "intersex",
         "0.0002922748865891109"
        ],
        [
         "unknown",
         "6.860912830730303e-06"
        ]
       ],
       "shape": {
        "columns": 1,
        "rows": 4
       }
      },
      "text/plain": [
       "sex\n",
       "male        0.521827\n",
       "female      0.477874\n",
       "intersex    0.000292\n",
       "unknown     0.000007\n",
       "Name: proportion, dtype: float64"
      ]
     },
     "execution_count": 36,
     "metadata": {},
     "output_type": "execute_result"
    }
   ],
   "source": [
    "rmh.sex.value_counts(normalize=True)"
   ]
  },
  {
   "cell_type": "markdown",
   "metadata": {},
   "source": [
    "### Arrival method"
   ]
  },
  {
   "cell_type": "code",
   "execution_count": 37,
   "metadata": {},
   "outputs": [
    {
     "data": {
      "application/vnd.microsoft.datawrangler.viewer.v0+json": {
       "columns": [
        {
         "name": "arrival_method",
         "rawType": "category",
         "type": "unknown"
        },
        {
         "name": "proportion",
         "rawType": "float64",
         "type": "float"
        }
       ],
       "ref": "0a4b93a7-42b3-4e22-b2b8-9ba5d2640919",
       "rows": [
        [
         "other",
         "0.39214854883040573"
        ],
        [
         "road ambulance",
         "0.3493853232284561"
        ],
        [
         "self/community/pt",
         "0.2325795841412158"
        ],
        [
         "private ambulance",
         "0.013221142301206025"
        ],
        [
         "police",
         "0.006590674257674369"
        ],
        [
         "air ambulance",
         "0.005689139178079936"
        ],
        [
         "undertaker",
         "0.00038558806296200244"
        ]
       ],
       "shape": {
        "columns": 1,
        "rows": 7
       }
      },
      "text/plain": [
       "arrival_method\n",
       "other                0.392149\n",
       "road ambulance       0.349385\n",
       "self/community/pt    0.232580\n",
       "private ambulance    0.013221\n",
       "police               0.006591\n",
       "air ambulance        0.005689\n",
       "undertaker           0.000386\n",
       "Name: proportion, dtype: float64"
      ]
     },
     "execution_count": 37,
     "metadata": {},
     "output_type": "execute_result"
    }
   ],
   "source": [
    "rmh.arrival_method.value_counts(normalize=True)"
   ]
  },
  {
   "cell_type": "markdown",
   "metadata": {},
   "source": [
    "### Length of triage notes"
   ]
  },
  {
   "cell_type": "code",
   "execution_count": 38,
   "metadata": {},
   "outputs": [
    {
     "data": {
      "application/vnd.microsoft.datawrangler.viewer.v0+json": {
       "columns": [
        {
         "name": "index",
         "rawType": "object",
         "type": "string"
        },
        {
         "name": "length",
         "rawType": "float64",
         "type": "float"
        }
       ],
       "ref": "7516e4af-19e3-4230-85aa-31da922d201c",
       "rows": [
        [
         "count",
         "728766.0"
        ],
        [
         "mean",
         "130.0"
        ],
        [
         "std",
         "56.0"
        ],
        [
         "min",
         "0.0"
        ],
        [
         "25%",
         "92.0"
        ],
        [
         "50%",
         "125.0"
        ],
        [
         "75%",
         "164.0"
        ],
        [
         "max",
         "588.0"
        ]
       ],
       "shape": {
        "columns": 1,
        "rows": 8
       }
      },
      "text/plain": [
       "count    728766.0\n",
       "mean        130.0\n",
       "std          56.0\n",
       "min           0.0\n",
       "25%          92.0\n",
       "50%         125.0\n",
       "75%         164.0\n",
       "max         588.0\n",
       "Name: length, dtype: float64"
      ]
     },
     "execution_count": 38,
     "metadata": {},
     "output_type": "execute_result"
    }
   ],
   "source": [
    "rmh.length.describe().round()"
   ]
  },
  {
   "cell_type": "markdown",
   "metadata": {},
   "source": [
    "### SH and SI"
   ]
  },
  {
   "cell_type": "code",
   "execution_count": 39,
   "metadata": {},
   "outputs": [
    {
     "data": {
      "application/vnd.microsoft.datawrangler.viewer.v0+json": {
       "columns": [
        {
         "name": "SH",
         "rawType": "category",
         "type": "unknown"
        },
        {
         "name": "proportion",
         "rawType": "float64",
         "type": "float"
        }
       ],
       "ref": "9b4553c2-d4f8-47ef-be99-fafda011fce3",
       "rows": [
        [
         "Negative",
         "98.6"
        ],
        [
         "Positive",
         "1.4"
        ]
       ],
       "shape": {
        "columns": 1,
        "rows": 2
       }
      },
      "text/plain": [
       "SH\n",
       "Negative    98.6\n",
       "Positive     1.4\n",
       "Name: proportion, dtype: float64"
      ]
     },
     "execution_count": 39,
     "metadata": {},
     "output_type": "execute_result"
    }
   ],
   "source": [
    "(rmh.SH.value_counts(dropna=False, normalize=True) * 100).round(1)"
   ]
  },
  {
   "cell_type": "code",
   "execution_count": 40,
   "metadata": {},
   "outputs": [
    {
     "data": {
      "application/vnd.microsoft.datawrangler.viewer.v0+json": {
       "columns": [
        {
         "name": "SI",
         "rawType": "category",
         "type": "unknown"
        },
        {
         "name": "proportion",
         "rawType": "float64",
         "type": "float"
        }
       ],
       "ref": "d44363b8-f830-4605-a202-a0283611de4f",
       "rows": [
        [
         "Negative",
         "98.5"
        ],
        [
         "Positive",
         "1.5"
        ]
       ],
       "shape": {
        "columns": 1,
        "rows": 2
       }
      },
      "text/plain": [
       "SI\n",
       "Negative    98.5\n",
       "Positive     1.5\n",
       "Name: proportion, dtype: float64"
      ]
     },
     "execution_count": 40,
     "metadata": {},
     "output_type": "execute_result"
    }
   ],
   "source": [
    "(rmh.SI.value_counts(dropna=False, normalize=True) * 100).round(1)"
   ]
  }
 ],
 "metadata": {
  "kernelspec": {
   "display_name": "self-harm-triage-notes",
   "language": "python",
   "name": "python3"
  },
  "language_info": {
   "codemirror_mode": {
    "name": "ipython",
    "version": 3
   },
   "file_extension": ".py",
   "mimetype": "text/x-python",
   "name": "python",
   "nbconvert_exporter": "python",
   "pygments_lexer": "ipython3",
   "version": "3.11.13"
  }
 },
 "nbformat": 4,
 "nbformat_minor": 2
}
