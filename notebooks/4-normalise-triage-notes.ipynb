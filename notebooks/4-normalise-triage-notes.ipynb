{
 "cells": [
  {
   "cell_type": "code",
   "execution_count": 1,
   "id": "918cd5e1",
   "metadata": {},
   "outputs": [],
   "source": [
    "import pandas as pd\n",
    "\n",
    "# Project imports\n",
    "from self_harm_triage_notes.config import *\n",
    "from self_harm_triage_notes.text_utils import *"
   ]
  },
  {
   "cell_type": "code",
   "execution_count": 2,
   "id": "5276a8cd",
   "metadata": {},
   "outputs": [],
   "source": [
    "# ED vocabulary\n",
    "vocab_filename = \"rmh_2012_2017_dev_amt6\"\n",
    "\n",
    "# Dictionary of misspellings\n",
    "spell_filename = \"rmh_2012_2017_dev_amt6\"\n",
    "\n",
    "# Dataset used for analysis\n",
    "data_filename = \"rmh_2012_2017_test\""
   ]
  },
  {
   "cell_type": "code",
   "execution_count": 3,
   "id": "07a1fe06",
   "metadata": {},
   "outputs": [
    {
     "name": "stdout",
     "output_type": "stream",
     "text": [
      "Domain-specific vocabulary contains 20043 words.\n",
      "Spelling correction available for 43863 words.\n",
      "Slang available for 20 words.\n"
     ]
    }
   ],
   "source": [
    "# Load the ED vocabulary\n",
    "vocab = load_vocab(spell_corr_dir, vocab_filename)\n",
    "\n",
    "# Load the dictionary of corrected misspellings\n",
    "misspelled_dict = load_misspelled_dict(spell_corr_dir, spell_filename)\n",
    "\n",
    "# Load a dictionary of slang terms for medications\n",
    "slang_dict = load_slang_dict(resources_dir)"
   ]
  },
  {
   "cell_type": "markdown",
   "id": "d001728d",
   "metadata": {},
   "source": [
    "___\n",
    "# Normalise unseen triage notes\n",
    "### Load unseen data"
   ]
  },
  {
   "cell_type": "code",
   "execution_count": 4,
   "id": "66b998b9",
   "metadata": {},
   "outputs": [
    {
     "name": "stdout",
     "output_type": "stream",
     "text": [
      "(79823, 14)\n"
     ]
    },
    {
     "data": {
      "application/vnd.microsoft.datawrangler.viewer.v0+json": {
       "columns": [
        {
         "name": "index",
         "rawType": "int64",
         "type": "integer"
        },
        {
         "name": "uid",
         "rawType": "object",
         "type": "string"
        },
        {
         "name": "sex",
         "rawType": "category",
         "type": "unknown"
        },
        {
         "name": "age",
         "rawType": "float64",
         "type": "float"
        },
        {
         "name": "arrival_method",
         "rawType": "category",
         "type": "unknown"
        },
        {
         "name": "arrival_date",
         "rawType": "datetime64[ns]",
         "type": "datetime"
        },
        {
         "name": "year",
         "rawType": "int64",
         "type": "integer"
        },
        {
         "name": "triage_note",
         "rawType": "object",
         "type": "string"
        },
        {
         "name": "SH",
         "rawType": "category",
         "type": "unknown"
        },
        {
         "name": "SI",
         "rawType": "category",
         "type": "unknown"
        },
        {
         "name": "AOD_OD",
         "rawType": "category",
         "type": "unknown"
        },
        {
         "name": "audit_case",
         "rawType": "float64",
         "type": "float"
        },
        {
         "name": "source_system",
         "rawType": "object",
         "type": "string"
        },
        {
         "name": "quarter",
         "rawType": "period[Q-DEC]",
         "type": "unknown"
        },
        {
         "name": "length",
         "rawType": "int64",
         "type": "integer"
        }
       ],
       "ref": "7c4bf8e8-0efd-422c-bf03-eb63bf644fa6",
       "rows": [
        [
         "0",
         "RMH-4",
         "male",
         "51.0",
         "other",
         "2012-01-08 01:11:00",
         "2012",
         "L) sided flank pain same as previous renal colic pain unimproved with analgesia for the past 1/52.  Pt states last renal colic 12 months ago.  Obvious distress at triage",
         "Negative",
         "Negative",
         "Negative",
         null,
         "Symphony",
         "2012Q1",
         "169"
        ],
        [
         "1",
         "RMH-12",
         "male",
         "53.0",
         "other",
         "2012-01-08 03:27:00",
         "2012",
         "Restless legs, tingling in spine, unable to sleep for past 4/7 not investigated.  PMH depression, hep c +",
         "Negative",
         "Negative",
         "Negative",
         null,
         "Symphony",
         "2012Q1",
         "105"
        ],
        [
         "2",
         "RMH-14",
         "male",
         "54.0",
         "road ambulance",
         "2012-01-08 04:42:00",
         "2012",
         "generalised abdo pain radiating to back at 0100 similar to previous pancreatitis pt has taken own oxycontin with nil improvement. AV treated with 20mg iv morphine and 3ml penthrane.",
         "Negative",
         "Negative",
         "Negative",
         null,
         "Symphony",
         "2012Q1",
         "181"
        ],
        [
         "3",
         "RMH-17",
         "male",
         "41.0",
         "other",
         "2012-01-08 05:23:00",
         "2012",
         "SOB feels like something in throat, thick sputum feels like he cant clear throat. has had similar in past.  Increased RR sats 100% RA, speaking in sentences.",
         "Negative",
         "Negative",
         "Negative",
         null,
         "Symphony",
         "2012Q1",
         "157"
        ],
        [
         "4",
         "RMH-20",
         "male",
         "49.0",
         "other",
         "2012-01-08 05:32:00",
         "2012",
         "prolapsed disc in c-spine due for MRI in 4/7.  Tonight increasing pain radiating down L) arm despite endone.  Pt states that he has worse altered sensation and increased weakness in arm",
         "Negative",
         "Negative",
         "Negative",
         null,
         "Symphony",
         "2012Q1",
         "185"
        ]
       ],
       "shape": {
        "columns": 14,
        "rows": 5
       }
      },
      "text/html": [
       "<div>\n",
       "<style scoped>\n",
       "    .dataframe tbody tr th:only-of-type {\n",
       "        vertical-align: middle;\n",
       "    }\n",
       "\n",
       "    .dataframe tbody tr th {\n",
       "        vertical-align: top;\n",
       "    }\n",
       "\n",
       "    .dataframe thead th {\n",
       "        text-align: right;\n",
       "    }\n",
       "</style>\n",
       "<table border=\"1\" class=\"dataframe\">\n",
       "  <thead>\n",
       "    <tr style=\"text-align: right;\">\n",
       "      <th></th>\n",
       "      <th>uid</th>\n",
       "      <th>sex</th>\n",
       "      <th>age</th>\n",
       "      <th>arrival_method</th>\n",
       "      <th>arrival_date</th>\n",
       "      <th>year</th>\n",
       "      <th>triage_note</th>\n",
       "      <th>SH</th>\n",
       "      <th>SI</th>\n",
       "      <th>AOD_OD</th>\n",
       "      <th>audit_case</th>\n",
       "      <th>source_system</th>\n",
       "      <th>quarter</th>\n",
       "      <th>length</th>\n",
       "    </tr>\n",
       "  </thead>\n",
       "  <tbody>\n",
       "    <tr>\n",
       "      <th>0</th>\n",
       "      <td>RMH-4</td>\n",
       "      <td>male</td>\n",
       "      <td>51.0</td>\n",
       "      <td>other</td>\n",
       "      <td>2012-01-08 01:11:00</td>\n",
       "      <td>2012</td>\n",
       "      <td>L) sided flank pain same as previous renal col...</td>\n",
       "      <td>Negative</td>\n",
       "      <td>Negative</td>\n",
       "      <td>Negative</td>\n",
       "      <td>NaN</td>\n",
       "      <td>Symphony</td>\n",
       "      <td>2012Q1</td>\n",
       "      <td>169</td>\n",
       "    </tr>\n",
       "    <tr>\n",
       "      <th>1</th>\n",
       "      <td>RMH-12</td>\n",
       "      <td>male</td>\n",
       "      <td>53.0</td>\n",
       "      <td>other</td>\n",
       "      <td>2012-01-08 03:27:00</td>\n",
       "      <td>2012</td>\n",
       "      <td>Restless legs, tingling in spine, unable to sl...</td>\n",
       "      <td>Negative</td>\n",
       "      <td>Negative</td>\n",
       "      <td>Negative</td>\n",
       "      <td>NaN</td>\n",
       "      <td>Symphony</td>\n",
       "      <td>2012Q1</td>\n",
       "      <td>105</td>\n",
       "    </tr>\n",
       "    <tr>\n",
       "      <th>2</th>\n",
       "      <td>RMH-14</td>\n",
       "      <td>male</td>\n",
       "      <td>54.0</td>\n",
       "      <td>road ambulance</td>\n",
       "      <td>2012-01-08 04:42:00</td>\n",
       "      <td>2012</td>\n",
       "      <td>generalised abdo pain radiating to back at 010...</td>\n",
       "      <td>Negative</td>\n",
       "      <td>Negative</td>\n",
       "      <td>Negative</td>\n",
       "      <td>NaN</td>\n",
       "      <td>Symphony</td>\n",
       "      <td>2012Q1</td>\n",
       "      <td>181</td>\n",
       "    </tr>\n",
       "    <tr>\n",
       "      <th>3</th>\n",
       "      <td>RMH-17</td>\n",
       "      <td>male</td>\n",
       "      <td>41.0</td>\n",
       "      <td>other</td>\n",
       "      <td>2012-01-08 05:23:00</td>\n",
       "      <td>2012</td>\n",
       "      <td>SOB feels like something in throat, thick sput...</td>\n",
       "      <td>Negative</td>\n",
       "      <td>Negative</td>\n",
       "      <td>Negative</td>\n",
       "      <td>NaN</td>\n",
       "      <td>Symphony</td>\n",
       "      <td>2012Q1</td>\n",
       "      <td>157</td>\n",
       "    </tr>\n",
       "    <tr>\n",
       "      <th>4</th>\n",
       "      <td>RMH-20</td>\n",
       "      <td>male</td>\n",
       "      <td>49.0</td>\n",
       "      <td>other</td>\n",
       "      <td>2012-01-08 05:32:00</td>\n",
       "      <td>2012</td>\n",
       "      <td>prolapsed disc in c-spine due for MRI in 4/7. ...</td>\n",
       "      <td>Negative</td>\n",
       "      <td>Negative</td>\n",
       "      <td>Negative</td>\n",
       "      <td>NaN</td>\n",
       "      <td>Symphony</td>\n",
       "      <td>2012Q1</td>\n",
       "      <td>185</td>\n",
       "    </tr>\n",
       "  </tbody>\n",
       "</table>\n",
       "</div>"
      ],
      "text/plain": [
       "      uid   sex   age  arrival_method        arrival_date  year  \\\n",
       "0   RMH-4  male  51.0           other 2012-01-08 01:11:00  2012   \n",
       "1  RMH-12  male  53.0           other 2012-01-08 03:27:00  2012   \n",
       "2  RMH-14  male  54.0  road ambulance 2012-01-08 04:42:00  2012   \n",
       "3  RMH-17  male  41.0           other 2012-01-08 05:23:00  2012   \n",
       "4  RMH-20  male  49.0           other 2012-01-08 05:32:00  2012   \n",
       "\n",
       "                                         triage_note        SH        SI  \\\n",
       "0  L) sided flank pain same as previous renal col...  Negative  Negative   \n",
       "1  Restless legs, tingling in spine, unable to sl...  Negative  Negative   \n",
       "2  generalised abdo pain radiating to back at 010...  Negative  Negative   \n",
       "3  SOB feels like something in throat, thick sput...  Negative  Negative   \n",
       "4  prolapsed disc in c-spine due for MRI in 4/7. ...  Negative  Negative   \n",
       "\n",
       "     AOD_OD  audit_case source_system quarter  length  \n",
       "0  Negative         NaN      Symphony  2012Q1     169  \n",
       "1  Negative         NaN      Symphony  2012Q1     105  \n",
       "2  Negative         NaN      Symphony  2012Q1     181  \n",
       "3  Negative         NaN      Symphony  2012Q1     157  \n",
       "4  Negative         NaN      Symphony  2012Q1     185  "
      ]
     },
     "execution_count": 4,
     "metadata": {},
     "output_type": "execute_result"
    }
   ],
   "source": [
    "df = pd.read_parquet(interim_data_dir / (data_filename + \".parquet\"), engine=\"pyarrow\")\n",
    "print(df.shape)\n",
    "df.head()"
   ]
  },
  {
   "cell_type": "code",
   "execution_count": 5,
   "id": "eeb0e1e0",
   "metadata": {},
   "outputs": [
    {
     "name": "stdout",
     "output_type": "stream",
     "text": [
      "The corpus contains 94942 unique tokens (1646449 tokens in total).\n",
      "The corpus contains 88433 unique tokens (1535539 tokens in total).\n"
     ]
    }
   ],
   "source": [
    "print_token_counts(count_tokens(df.triage_note))\n",
    "print_token_counts(count_tokens(df.triage_note, valid=True))"
   ]
  },
  {
   "cell_type": "markdown",
   "id": "61fd334f",
   "metadata": {},
   "source": [
    "### Pre-process"
   ]
  },
  {
   "cell_type": "code",
   "execution_count": 6,
   "id": "91ee15f6",
   "metadata": {},
   "outputs": [
    {
     "name": "stdout",
     "output_type": "stream",
     "text": [
      "The corpus contains 62061 unique tokens (1688011 tokens in total).\n",
      "The corpus contains 57557 unique tokens (1556662 tokens in total).\n"
     ]
    }
   ],
   "source": [
    "# Pre-processing\n",
    "df['preprocessed_triage_note'] = df.triage_note.apply(preprocess)\n",
    "\n",
    "print_token_counts(count_tokens(df.preprocessed_triage_note))\n",
    "print_token_counts(count_tokens(df.preprocessed_triage_note, valid=True))"
   ]
  },
  {
   "cell_type": "markdown",
   "id": "638143e9",
   "metadata": {},
   "source": [
    "### Tokenise"
   ]
  },
  {
   "cell_type": "code",
   "execution_count": 7,
   "id": "13742724",
   "metadata": {},
   "outputs": [
    {
     "name": "stderr",
     "output_type": "stream",
     "text": [
      "/opt/homebrew/Caskroom/miniforge/base/envs/self-harm-triage-notes/lib/python3.11/site-packages/spacy/language.py:2195: FutureWarning: Possible set union at position 6328\n",
      "  deserializers[\"tokenizer\"] = lambda p: self.tokenizer.from_disk(  # type: ignore[union-attr]\n",
      "/opt/homebrew/Caskroom/miniforge/base/envs/self-harm-triage-notes/lib/python3.11/site-packages/spacy/util.py:1198: FutureWarning: Possible set union at position 6338\n",
      "  return re.compile(expression)\n"
     ]
    },
    {
     "name": "stdout",
     "output_type": "stream",
     "text": [
      "The corpus contains 43687 unique tokens (1904918 tokens in total).\n",
      "The corpus contains 40369 unique tokens (1563008 tokens in total).\n"
     ]
    }
   ],
   "source": [
    "# Create tokenised text\n",
    "df['tokenized_triage_note'] = tokenize_step1(df.preprocessed_triage_note)\n",
    "\n",
    "print_token_counts(count_tokens(df.tokenized_triage_note))\n",
    "print_token_counts(count_tokens(df.tokenized_triage_note, valid=True))"
   ]
  },
  {
   "cell_type": "markdown",
   "id": "b14c9ac2",
   "metadata": {},
   "source": [
    "### Re-tokenise"
   ]
  },
  {
   "cell_type": "code",
   "execution_count": 8,
   "id": "fdfb448a",
   "metadata": {},
   "outputs": [
    {
     "name": "stdout",
     "output_type": "stream",
     "text": [
      "The corpus contains 36030 unique tokens (1948311 tokens in total).\n",
      "The corpus contains 32711 unique tokens (1584083 tokens in total).\n",
      "The corpus contains 12447 unique tokens (1522843 tokens in total).\n"
     ]
    }
   ],
   "source": [
    "# Re-tokenise text\n",
    "df.tokenized_triage_note = tokenize_step2(df.tokenized_triage_note, vocab)\n",
    "\n",
    "print_token_counts(count_tokens(df.tokenized_triage_note))\n",
    "print_token_counts(count_tokens(df.tokenized_triage_note, valid=True))\n",
    "print_token_counts(count_vocab_tokens_in_data(df.tokenized_triage_note, vocab=vocab))"
   ]
  },
  {
   "cell_type": "markdown",
   "id": "6e0f152b",
   "metadata": {},
   "source": [
    "### Spelling correction"
   ]
  },
  {
   "cell_type": "code",
   "execution_count": 9,
   "id": "efe722fe",
   "metadata": {},
   "outputs": [
    {
     "name": "stdout",
     "output_type": "stream",
     "text": [
      "The corpus contains 26636 unique tokens (1949128 tokens in total).\n",
      "The corpus contains 23317 unique tokens (1584900 tokens in total).\n",
      "The corpus contains 13103 unique tokens (1567889 tokens in total).\n"
     ]
    }
   ],
   "source": [
    "# Correct spelling mistakes\n",
    "df['normalised_triage_note'] = df.tokenized_triage_note.apply(correct_tokens, _dict=misspelled_dict)\n",
    "\n",
    "print_token_counts(count_tokens(df.normalised_triage_note))\n",
    "print_token_counts(count_tokens(df.normalised_triage_note, valid=True))\n",
    "print_token_counts(count_vocab_tokens_in_data(df.normalised_triage_note, vocab=vocab))"
   ]
  },
  {
   "cell_type": "markdown",
   "id": "9a2b5e56",
   "metadata": {},
   "source": [
    "### Slang replacement"
   ]
  },
  {
   "cell_type": "code",
   "execution_count": 10,
   "id": "d50c0071",
   "metadata": {},
   "outputs": [
    {
     "name": "stdout",
     "output_type": "stream",
     "text": [
      "The corpus contains 26631 unique tokens (1951418 tokens in total).\n",
      "The corpus contains 23312 unique tokens (1587190 tokens in total).\n",
      "The corpus contains 13094 unique tokens (1566187 tokens in total).\n"
     ]
    }
   ],
   "source": [
    "# Replace slang for medications\n",
    "df.normalised_triage_note = df.normalised_triage_note.apply(correct_tokens, _dict=slang_dict)\n",
    "\n",
    "print_token_counts(count_tokens(df.normalised_triage_note))\n",
    "print_token_counts(count_tokens(df.normalised_triage_note, valid=True))\n",
    "print_token_counts(count_vocab_tokens_in_data(df.normalised_triage_note, vocab=vocab))"
   ]
  },
  {
   "cell_type": "markdown",
   "id": "f55c55a2",
   "metadata": {},
   "source": [
    "___\n",
    "# Extract entities"
   ]
  },
  {
   "cell_type": "code",
   "execution_count": 11,
   "id": "bf921c21",
   "metadata": {},
   "outputs": [
    {
     "name": "stdout",
     "output_type": "stream",
     "text": [
      "The corpus contains 23312 unique tokens (1587190 tokens in total).\n",
      "The corpus contains 23312 unique tokens (1587190 tokens in total).\n",
      "The corpus contains 13094 unique tokens (1566187 tokens in total).\n"
     ]
    }
   ],
   "source": [
    "df['entities'] = df.normalised_triage_note.apply(select_valid_tokens)\n",
    "\n",
    "print_token_counts(count_tokens(df.entities))\n",
    "print_token_counts(count_tokens(df.entities, valid=True))\n",
    "print_token_counts(count_vocab_tokens_in_data(df.entities, vocab=vocab))"
   ]
  },
  {
   "cell_type": "markdown",
   "id": "b8aca747",
   "metadata": {},
   "source": [
    "### Save dataset"
   ]
  },
  {
   "cell_type": "code",
   "execution_count": 12,
   "id": "fa848d14",
   "metadata": {},
   "outputs": [],
   "source": [
    "data_filename = data_filename.replace('_cleaned', '')\n",
    "df.to_parquet(proc_data_dir / (data_filename + \"_normalised.parquet\"), engine=\"pyarrow\")"
   ]
  },
  {
   "cell_type": "code",
   "execution_count": null,
   "id": "f5838f28",
   "metadata": {},
   "outputs": [],
   "source": []
  }
 ],
 "metadata": {
  "kernelspec": {
   "display_name": "self-harm-triage-notes",
   "language": "python",
   "name": "python3"
  },
  "language_info": {
   "codemirror_mode": {
    "name": "ipython",
    "version": 3
   },
   "file_extension": ".py",
   "mimetype": "text/x-python",
   "name": "python",
   "nbconvert_exporter": "python",
   "pygments_lexer": "ipython3",
   "version": "3.11.13"
  }
 },
 "nbformat": 4,
 "nbformat_minor": 5
}
