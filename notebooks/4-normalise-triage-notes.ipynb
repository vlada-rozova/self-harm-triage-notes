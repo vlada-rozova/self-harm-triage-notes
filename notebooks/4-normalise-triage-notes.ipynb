{
 "cells": [
  {
   "cell_type": "code",
   "execution_count": 1,
   "id": "918cd5e1",
   "metadata": {},
   "outputs": [],
   "source": [
    "from self_harm_triage_notes.config import data_interim_dir, data_proc_dir\n",
    "from self_harm_triage_notes.text import *\n",
    "from self_harm_triage_notes.dev import *\n",
    "import pandas as pd"
   ]
  },
  {
   "cell_type": "code",
   "execution_count": 2,
   "id": "5276a8cd",
   "metadata": {},
   "outputs": [],
   "source": [
    "# ED vocabulary\n",
    "vocab_filename = \"rmh_2012_2017_dev_amt6\"\n",
    "\n",
    "# Dictionary of misspellings\n",
    "spell_filename = \"rmh_2012_2017_dev_amt6\"\n",
    "\n",
    "# Dataset used for analysis\n",
    "data_filename = \"rmh_2012_2017_test\""
   ]
  },
  {
   "cell_type": "code",
   "execution_count": 3,
   "id": "07a1fe06",
   "metadata": {},
   "outputs": [
    {
     "name": "stdout",
     "output_type": "stream",
     "text": [
      "Domain-specific vocabulary contains 20109 words.\n",
      "Spelling correction available for 43695 words.\n",
      "Slang available for 20 words.\n"
     ]
    }
   ],
   "source": [
    "# Load the ED vocabulary\n",
    "vocab = load_vocab(vocab_filename)\n",
    "\n",
    "# Load the dictionary of corrected misspellings\n",
    "misspelled_dict = load_misspelled_dict(spell_filename)\n",
    "\n",
    "# Lopad a dictionary of slang terms for medications\n",
    "slang_dict = load_slang_dict()"
   ]
  },
  {
   "cell_type": "markdown",
   "id": "d001728d",
   "metadata": {},
   "source": [
    "___\n",
    "# Normalise unseen triage notes\n",
    "### Load unseen data"
   ]
  },
  {
   "cell_type": "code",
   "execution_count": 4,
   "id": "66b998b9",
   "metadata": {},
   "outputs": [
    {
     "name": "stdout",
     "output_type": "stream",
     "text": [
      "(79823, 14)\n"
     ]
    },
    {
     "data": {
      "text/html": [
       "<div>\n",
       "<style scoped>\n",
       "    .dataframe tbody tr th:only-of-type {\n",
       "        vertical-align: middle;\n",
       "    }\n",
       "\n",
       "    .dataframe tbody tr th {\n",
       "        vertical-align: top;\n",
       "    }\n",
       "\n",
       "    .dataframe thead th {\n",
       "        text-align: right;\n",
       "    }\n",
       "</style>\n",
       "<table border=\"1\" class=\"dataframe\">\n",
       "  <thead>\n",
       "    <tr style=\"text-align: right;\">\n",
       "      <th></th>\n",
       "      <th>uid</th>\n",
       "      <th>sex</th>\n",
       "      <th>age</th>\n",
       "      <th>arrival_method</th>\n",
       "      <th>arrival_date</th>\n",
       "      <th>year</th>\n",
       "      <th>triage_note</th>\n",
       "      <th>SH</th>\n",
       "      <th>SI</th>\n",
       "      <th>AOD_OD</th>\n",
       "      <th>audit_case</th>\n",
       "      <th>source_system</th>\n",
       "      <th>quarter</th>\n",
       "      <th>length</th>\n",
       "    </tr>\n",
       "  </thead>\n",
       "  <tbody>\n",
       "    <tr>\n",
       "      <th>38457</th>\n",
       "      <td>RMH-38460</td>\n",
       "      <td>female</td>\n",
       "      <td>19.0</td>\n",
       "      <td>other</td>\n",
       "      <td>2012-08-26 03:15:00</td>\n",
       "      <td>2012</td>\n",
       "      <td>Spontaneous painful lump in R) hand with numbn...</td>\n",
       "      <td>0</td>\n",
       "      <td>0</td>\n",
       "      <td>0</td>\n",
       "      <td>NaN</td>\n",
       "      <td>Symphony</td>\n",
       "      <td>2012Q3</td>\n",
       "      <td>177</td>\n",
       "    </tr>\n",
       "    <tr>\n",
       "      <th>239346</th>\n",
       "      <td>RMH-239404</td>\n",
       "      <td>male</td>\n",
       "      <td>56.0</td>\n",
       "      <td>private ambulance</td>\n",
       "      <td>2015-10-13 17:20:00</td>\n",
       "      <td>2015</td>\n",
       "      <td>Sudden onset generalised weakness post shower....</td>\n",
       "      <td>0</td>\n",
       "      <td>0</td>\n",
       "      <td>0</td>\n",
       "      <td>NaN</td>\n",
       "      <td>Symphony</td>\n",
       "      <td>2015Q4</td>\n",
       "      <td>109</td>\n",
       "    </tr>\n",
       "    <tr>\n",
       "      <th>78113</th>\n",
       "      <td>RMH-78123</td>\n",
       "      <td>male</td>\n",
       "      <td>44.0</td>\n",
       "      <td>other</td>\n",
       "      <td>2013-04-19 11:53:00</td>\n",
       "      <td>2013</td>\n",
       "      <td>From GP post fall of push bike. # to 5th Proxi...</td>\n",
       "      <td>0</td>\n",
       "      <td>0</td>\n",
       "      <td>0</td>\n",
       "      <td>NaN</td>\n",
       "      <td>Symphony</td>\n",
       "      <td>2013Q2</td>\n",
       "      <td>58</td>\n",
       "    </tr>\n",
       "    <tr>\n",
       "      <th>291404</th>\n",
       "      <td>RMH-291469</td>\n",
       "      <td>male</td>\n",
       "      <td>50.0</td>\n",
       "      <td>road ambulance</td>\n",
       "      <td>2016-07-26 05:09:00</td>\n",
       "      <td>2016</td>\n",
       "      <td>Suicidal ideation</td>\n",
       "      <td>0</td>\n",
       "      <td>1</td>\n",
       "      <td>0</td>\n",
       "      <td>NaN</td>\n",
       "      <td>Symphony</td>\n",
       "      <td>2016Q3</td>\n",
       "      <td>17</td>\n",
       "    </tr>\n",
       "    <tr>\n",
       "      <th>120000</th>\n",
       "      <td>RMH-120014</td>\n",
       "      <td>male</td>\n",
       "      <td>57.0</td>\n",
       "      <td>road ambulance</td>\n",
       "      <td>2013-12-23 23:24:00</td>\n",
       "      <td>2013</td>\n",
       "      <td>3/7 increased lethargy, exertional SOB hx haem...</td>\n",
       "      <td>0</td>\n",
       "      <td>0</td>\n",
       "      <td>0</td>\n",
       "      <td>NaN</td>\n",
       "      <td>Symphony</td>\n",
       "      <td>2013Q4</td>\n",
       "      <td>108</td>\n",
       "    </tr>\n",
       "  </tbody>\n",
       "</table>\n",
       "</div>"
      ],
      "text/plain": [
       "               uid     sex   age     arrival_method        arrival_date  year  \\\n",
       "38457    RMH-38460  female  19.0              other 2012-08-26 03:15:00  2012   \n",
       "239346  RMH-239404    male  56.0  private ambulance 2015-10-13 17:20:00  2015   \n",
       "78113    RMH-78123    male  44.0              other 2013-04-19 11:53:00  2013   \n",
       "291404  RMH-291469    male  50.0     road ambulance 2016-07-26 05:09:00  2016   \n",
       "120000  RMH-120014    male  57.0     road ambulance 2013-12-23 23:24:00  2013   \n",
       "\n",
       "                                              triage_note  SH  SI  AOD_OD  \\\n",
       "38457   Spontaneous painful lump in R) hand with numbn...   0   0       0   \n",
       "239346  Sudden onset generalised weakness post shower....   0   0       0   \n",
       "78113   From GP post fall of push bike. # to 5th Proxi...   0   0       0   \n",
       "291404                                  Suicidal ideation   0   1       0   \n",
       "120000  3/7 increased lethargy, exertional SOB hx haem...   0   0       0   \n",
       "\n",
       "        audit_case source_system quarter  length  \n",
       "38457          NaN      Symphony  2012Q3     177  \n",
       "239346         NaN      Symphony  2015Q4     109  \n",
       "78113          NaN      Symphony  2013Q2      58  \n",
       "291404         NaN      Symphony  2016Q3      17  \n",
       "120000         NaN      Symphony  2013Q4     108  "
      ]
     },
     "execution_count": 4,
     "metadata": {},
     "output_type": "execute_result"
    }
   ],
   "source": [
    "df = pd.read_parquet(data_interim_dir / (data_filename + \".parquet\"), engine=\"pyarrow\")\n",
    "print(df.shape)\n",
    "df.head()"
   ]
  },
  {
   "cell_type": "code",
   "execution_count": 5,
   "id": "eeb0e1e0",
   "metadata": {},
   "outputs": [
    {
     "name": "stdout",
     "output_type": "stream",
     "text": [
      "The corpus contains 95496 unique tokens (1643410 tokens in total).\n",
      "The corpus contains 88898 unique tokens (1533680 tokens in total).\n"
     ]
    }
   ],
   "source": [
    "print_token_counts(count_tokens(df.triage_note))\n",
    "print_token_counts(count_tokens(df.triage_note, valid=True))"
   ]
  },
  {
   "cell_type": "markdown",
   "id": "61fd334f",
   "metadata": {},
   "source": [
    "### Pre-process"
   ]
  },
  {
   "cell_type": "code",
   "execution_count": 6,
   "id": "91ee15f6",
   "metadata": {},
   "outputs": [
    {
     "name": "stdout",
     "output_type": "stream",
     "text": [
      "The corpus contains 62281 unique tokens (1685863 tokens in total).\n",
      "The corpus contains 57798 unique tokens (1555164 tokens in total).\n"
     ]
    }
   ],
   "source": [
    "# Pre-processing\n",
    "df['preprocessed_triage_note'] = df.triage_note.apply(preprocess)\n",
    "\n",
    "print_token_counts(count_tokens(df.preprocessed_triage_note))\n",
    "print_token_counts(count_tokens(df.preprocessed_triage_note, valid=True))"
   ]
  },
  {
   "cell_type": "markdown",
   "id": "638143e9",
   "metadata": {},
   "source": [
    "### Tokenise"
   ]
  },
  {
   "cell_type": "code",
   "execution_count": 7,
   "id": "13742724",
   "metadata": {},
   "outputs": [
    {
     "name": "stderr",
     "output_type": "stream",
     "text": [
      "/opt/homebrew/Caskroom/miniforge/base/envs/self-harm-triage-notes/lib/python3.11/site-packages/spacy/language.py:2195: FutureWarning: Possible set union at position 6328\n",
      "  deserializers[\"tokenizer\"] = lambda p: self.tokenizer.from_disk(  # type: ignore[union-attr]\n",
      "/opt/homebrew/Caskroom/miniforge/base/envs/self-harm-triage-notes/lib/python3.11/site-packages/spacy/util.py:1198: FutureWarning: Possible set union at position 6338\n",
      "  return re.compile(expression)\n"
     ]
    },
    {
     "name": "stdout",
     "output_type": "stream",
     "text": [
      "The corpus contains 43909 unique tokens (1902137 tokens in total).\n",
      "The corpus contains 40574 unique tokens (1561444 tokens in total).\n"
     ]
    }
   ],
   "source": [
    "# Create tokenised text\n",
    "df['tokenized_triage_note'] = tokenize_step1(df.preprocessed_triage_note)\n",
    "\n",
    "print_token_counts(count_tokens(df.tokenized_triage_note))\n",
    "print_token_counts(count_tokens(df.tokenized_triage_note, valid=True))"
   ]
  },
  {
   "cell_type": "markdown",
   "id": "b14c9ac2",
   "metadata": {},
   "source": [
    "### Re-tokenise"
   ]
  },
  {
   "cell_type": "code",
   "execution_count": 8,
   "id": "fdfb448a",
   "metadata": {},
   "outputs": [
    {
     "name": "stdout",
     "output_type": "stream",
     "text": [
      "The corpus contains 36098 unique tokens (1945855 tokens in total).\n",
      "The corpus contains 32763 unique tokens (1582736 tokens in total).\n",
      "The corpus contains 12465 unique tokens (1521626 tokens in total).\n"
     ]
    }
   ],
   "source": [
    "# Re-tokenise text\n",
    "df.tokenized_triage_note = tokenize_step2(df.tokenized_triage_note, vocab)\n",
    "\n",
    "print_token_counts(count_tokens(df.tokenized_triage_note))\n",
    "print_token_counts(count_tokens(df.tokenized_triage_note, valid=True))\n",
    "print_token_counts(count_vocab_tokens_in_data(df.tokenized_triage_note, vocab=vocab))"
   ]
  },
  {
   "cell_type": "markdown",
   "id": "6e0f152b",
   "metadata": {},
   "source": [
    "### Spelling correction"
   ]
  },
  {
   "cell_type": "code",
   "execution_count": 9,
   "id": "efe722fe",
   "metadata": {},
   "outputs": [
    {
     "name": "stdout",
     "output_type": "stream",
     "text": [
      "The corpus contains 26739 unique tokens (1946656 tokens in total).\n",
      "The corpus contains 23404 unique tokens (1583537 tokens in total).\n",
      "The corpus contains 13152 unique tokens (1566851 tokens in total).\n"
     ]
    }
   ],
   "source": [
    "# Correct spelling mistakes\n",
    "df['normalised_triage_note'] = df.tokenized_triage_note.apply(correct_tokens, _dict=misspelled_dict)\n",
    "\n",
    "print_token_counts(count_tokens(df.normalised_triage_note))\n",
    "print_token_counts(count_tokens(df.normalised_triage_note, valid=True))\n",
    "print_token_counts(count_vocab_tokens_in_data(df.normalised_triage_note, vocab=vocab))"
   ]
  },
  {
   "cell_type": "markdown",
   "id": "9a2b5e56",
   "metadata": {},
   "source": [
    "### Slang replacement"
   ]
  },
  {
   "cell_type": "code",
   "execution_count": 10,
   "id": "d50c0071",
   "metadata": {},
   "outputs": [
    {
     "name": "stdout",
     "output_type": "stream",
     "text": [
      "The corpus contains 26734 unique tokens (1948931 tokens in total).\n",
      "The corpus contains 23399 unique tokens (1585812 tokens in total).\n",
      "The corpus contains 13143 unique tokens (1565061 tokens in total).\n"
     ]
    }
   ],
   "source": [
    "# Replace slang for medications\n",
    "df.normalised_triage_note = df.normalised_triage_note.apply(correct_tokens, _dict=slang_dict)\n",
    "\n",
    "print_token_counts(count_tokens(df.normalised_triage_note))\n",
    "print_token_counts(count_tokens(df.normalised_triage_note, valid=True))\n",
    "print_token_counts(count_vocab_tokens_in_data(df.normalised_triage_note, vocab=vocab))"
   ]
  },
  {
   "cell_type": "markdown",
   "id": "f55c55a2",
   "metadata": {},
   "source": [
    "___\n",
    "# Extract entities"
   ]
  },
  {
   "cell_type": "code",
   "execution_count": 11,
   "id": "bf921c21",
   "metadata": {},
   "outputs": [
    {
     "name": "stdout",
     "output_type": "stream",
     "text": [
      "The corpus contains 23399 unique tokens (1585812 tokens in total).\n",
      "The corpus contains 23399 unique tokens (1585812 tokens in total).\n",
      "The corpus contains 13143 unique tokens (1565061 tokens in total).\n"
     ]
    }
   ],
   "source": [
    "df['entities'] = df.normalised_triage_note.apply(select_valid_tokens)\n",
    "\n",
    "print_token_counts(count_tokens(df.entities))\n",
    "print_token_counts(count_tokens(df.entities, valid=True))\n",
    "print_token_counts(count_vocab_tokens_in_data(df.entities, vocab=vocab))"
   ]
  },
  {
   "cell_type": "markdown",
   "id": "b8aca747",
   "metadata": {},
   "source": [
    "### Save dataset"
   ]
  },
  {
   "cell_type": "code",
   "execution_count": 12,
   "id": "fa848d14",
   "metadata": {},
   "outputs": [],
   "source": [
    "data_filename = data_filename.replace('_cleaned', '')\n",
    "df.to_parquet(data_proc_dir / (data_filename + \"_normalised.parquet\"), engine=\"pyarrow\")"
   ]
  },
  {
   "cell_type": "code",
   "execution_count": null,
   "id": "f2979daf",
   "metadata": {},
   "outputs": [],
   "source": []
  }
 ],
 "metadata": {
  "kernelspec": {
   "display_name": "self-harm-triage-notes",
   "language": "python",
   "name": "python3"
  },
  "language_info": {
   "codemirror_mode": {
    "name": "ipython",
    "version": 3
   },
   "file_extension": ".py",
   "mimetype": "text/x-python",
   "name": "python",
   "nbconvert_exporter": "python",
   "pygments_lexer": "ipython3",
   "version": "3.11.11"
  }
 },
 "nbformat": 4,
 "nbformat_minor": 5
}
