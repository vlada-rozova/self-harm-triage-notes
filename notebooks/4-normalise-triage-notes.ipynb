{
 "cells": [
  {
   "cell_type": "code",
   "execution_count": 1,
   "id": "918cd5e1",
   "metadata": {},
   "outputs": [],
   "source": [
    "from self_harm_triage_notes.config import data_interim_dir, data_proc_dir\n",
    "from self_harm_triage_notes.text import *\n",
    "from self_harm_triage_notes.dev import *\n",
    "import pandas as pd"
   ]
  },
  {
   "cell_type": "code",
   "execution_count": 2,
   "id": "5276a8cd",
   "metadata": {},
   "outputs": [],
   "source": [
    "# ED vocabulary\n",
    "vocab_filename = \"rmh_2012_2017_dev_amt6\"\n",
    "\n",
    "# Dictionary of misspellings\n",
    "spell_filename = \"rmh_2012_2017_dev_amt6\"\n",
    "\n",
    "# Dataset used for analysis\n",
    "data_filename = \"lvrh_2012_2022_cleaned\""
   ]
  },
  {
   "cell_type": "code",
   "execution_count": 3,
   "id": "07a1fe06",
   "metadata": {},
   "outputs": [
    {
     "name": "stdout",
     "output_type": "stream",
     "text": [
      "Domain-specific vocabulary contains 20109 words.\n",
      "Spelling correction available for 43695 words.\n",
      "Slang available for 20 words.\n"
     ]
    }
   ],
   "source": [
    "# Load the ED vocabulary\n",
    "vocab = load_vocab(vocab_filename)\n",
    "\n",
    "# Load the dictionary of corrected misspellings\n",
    "misspelled_dict = load_misspelled_dict(spell_filename)\n",
    "\n",
    "# Lopad a dictionary of slang terms for medications\n",
    "slang_dict = load_slang_dict()"
   ]
  },
  {
   "cell_type": "markdown",
   "id": "d001728d",
   "metadata": {},
   "source": [
    "___\n",
    "# Normalise unseen triage notes\n",
    "### Load unseen data"
   ]
  },
  {
   "cell_type": "code",
   "execution_count": 4,
   "id": "66b998b9",
   "metadata": {},
   "outputs": [
    {
     "name": "stdout",
     "output_type": "stream",
     "text": [
      "(335209, 13)\n"
     ]
    },
    {
     "data": {
      "text/html": [
       "<div>\n",
       "<style scoped>\n",
       "    .dataframe tbody tr th:only-of-type {\n",
       "        vertical-align: middle;\n",
       "    }\n",
       "\n",
       "    .dataframe tbody tr th {\n",
       "        vertical-align: top;\n",
       "    }\n",
       "\n",
       "    .dataframe thead th {\n",
       "        text-align: right;\n",
       "    }\n",
       "</style>\n",
       "<table border=\"1\" class=\"dataframe\">\n",
       "  <thead>\n",
       "    <tr style=\"text-align: right;\">\n",
       "      <th></th>\n",
       "      <th>uid</th>\n",
       "      <th>sex</th>\n",
       "      <th>age</th>\n",
       "      <th>arrival_method</th>\n",
       "      <th>arrival_date</th>\n",
       "      <th>year</th>\n",
       "      <th>triage_note</th>\n",
       "      <th>SH</th>\n",
       "      <th>SI</th>\n",
       "      <th>AOD_OD</th>\n",
       "      <th>audit_case</th>\n",
       "      <th>quarter</th>\n",
       "      <th>length</th>\n",
       "    </tr>\n",
       "  </thead>\n",
       "  <tbody>\n",
       "    <tr>\n",
       "      <th>0</th>\n",
       "      <td>LVRH2-2012-2</td>\n",
       "      <td>female</td>\n",
       "      <td>53</td>\n",
       "      <td>self/community/pt</td>\n",
       "      <td>2012-01-01 00:30:00</td>\n",
       "      <td>2012</td>\n",
       "      <td>PT PRESENTS WITH ?SOMETHING IN HER LEFT EYE. P...</td>\n",
       "      <td>0</td>\n",
       "      <td>0</td>\n",
       "      <td>0</td>\n",
       "      <td>0</td>\n",
       "      <td>2012Q1</td>\n",
       "      <td>334</td>\n",
       "    </tr>\n",
       "    <tr>\n",
       "      <th>1</th>\n",
       "      <td>LVRH2-2012-3</td>\n",
       "      <td>male</td>\n",
       "      <td>24</td>\n",
       "      <td>road ambulance</td>\n",
       "      <td>2012-01-01 00:56:00</td>\n",
       "      <td>2012</td>\n",
       "      <td>BIBA POST WITTNESSED ASSAULT APPROX 2330HRS. H...</td>\n",
       "      <td>0</td>\n",
       "      <td>0</td>\n",
       "      <td>0</td>\n",
       "      <td>0</td>\n",
       "      <td>2012Q1</td>\n",
       "      <td>341</td>\n",
       "    </tr>\n",
       "    <tr>\n",
       "      <th>2</th>\n",
       "      <td>LVRH2-2012-4</td>\n",
       "      <td>male</td>\n",
       "      <td>21</td>\n",
       "      <td>self/community/pt</td>\n",
       "      <td>2012-01-01 01:07:00</td>\n",
       "      <td>2012</td>\n",
       "      <td>PAST WEEK HAS BEEN SMOKING MARIJUANA. 2/7 EAR ...</td>\n",
       "      <td>0</td>\n",
       "      <td>0</td>\n",
       "      <td>0</td>\n",
       "      <td>0</td>\n",
       "      <td>2012Q1</td>\n",
       "      <td>257</td>\n",
       "    </tr>\n",
       "    <tr>\n",
       "      <th>3</th>\n",
       "      <td>LVRH2-2012-6</td>\n",
       "      <td>female</td>\n",
       "      <td>14</td>\n",
       "      <td>road ambulance</td>\n",
       "      <td>2012-01-01 01:40:00</td>\n",
       "      <td>2012</td>\n",
       "      <td>HAS BEEN DRINKING CRUISERS SINCE 1800HRS TILL ...</td>\n",
       "      <td>0</td>\n",
       "      <td>0</td>\n",
       "      <td>0</td>\n",
       "      <td>0</td>\n",
       "      <td>2012Q1</td>\n",
       "      <td>317</td>\n",
       "    </tr>\n",
       "    <tr>\n",
       "      <th>4</th>\n",
       "      <td>LVRH2-2012-7</td>\n",
       "      <td>male</td>\n",
       "      <td>56</td>\n",
       "      <td>self/community/pt</td>\n",
       "      <td>2012-01-01 01:58:00</td>\n",
       "      <td>2012</td>\n",
       "      <td>PT PRESENTS WITH CENTRAL CHEST TIGHTNESS RADIA...</td>\n",
       "      <td>0</td>\n",
       "      <td>0</td>\n",
       "      <td>0</td>\n",
       "      <td>0</td>\n",
       "      <td>2012Q1</td>\n",
       "      <td>364</td>\n",
       "    </tr>\n",
       "  </tbody>\n",
       "</table>\n",
       "</div>"
      ],
      "text/plain": [
       "            uid     sex  age     arrival_method        arrival_date  year  \\\n",
       "0  LVRH2-2012-2  female   53  self/community/pt 2012-01-01 00:30:00  2012   \n",
       "1  LVRH2-2012-3    male   24     road ambulance 2012-01-01 00:56:00  2012   \n",
       "2  LVRH2-2012-4    male   21  self/community/pt 2012-01-01 01:07:00  2012   \n",
       "3  LVRH2-2012-6  female   14     road ambulance 2012-01-01 01:40:00  2012   \n",
       "4  LVRH2-2012-7    male   56  self/community/pt 2012-01-01 01:58:00  2012   \n",
       "\n",
       "                                         triage_note  SH  SI  AOD_OD  \\\n",
       "0  PT PRESENTS WITH ?SOMETHING IN HER LEFT EYE. P...   0   0       0   \n",
       "1  BIBA POST WITTNESSED ASSAULT APPROX 2330HRS. H...   0   0       0   \n",
       "2  PAST WEEK HAS BEEN SMOKING MARIJUANA. 2/7 EAR ...   0   0       0   \n",
       "3  HAS BEEN DRINKING CRUISERS SINCE 1800HRS TILL ...   0   0       0   \n",
       "4  PT PRESENTS WITH CENTRAL CHEST TIGHTNESS RADIA...   0   0       0   \n",
       "\n",
       "   audit_case quarter  length  \n",
       "0           0  2012Q1     334  \n",
       "1           0  2012Q1     341  \n",
       "2           0  2012Q1     257  \n",
       "3           0  2012Q1     317  \n",
       "4           0  2012Q1     364  "
      ]
     },
     "execution_count": 4,
     "metadata": {},
     "output_type": "execute_result"
    }
   ],
   "source": [
    "df = pd.read_parquet(data_interim_dir / (data_filename + \".parquet\"), engine=\"pyarrow\")\n",
    "print(df.shape)\n",
    "df.head()"
   ]
  },
  {
   "cell_type": "code",
   "execution_count": 5,
   "id": "eeb0e1e0",
   "metadata": {},
   "outputs": [
    {
     "name": "stdout",
     "output_type": "stream",
     "text": [
      "The corpus contains 389538 unique tokens (15398247 tokens in total).\n",
      "The corpus contains 362946 unique tokens (14623818 tokens in total).\n"
     ]
    }
   ],
   "source": [
    "print_token_counts(count_tokens(df.triage_note))\n",
    "print_token_counts(count_valid_tokens(df.triage_note))"
   ]
  },
  {
   "cell_type": "markdown",
   "id": "61fd334f",
   "metadata": {},
   "source": [
    "### Pre-process"
   ]
  },
  {
   "cell_type": "code",
   "execution_count": 6,
   "id": "91ee15f6",
   "metadata": {},
   "outputs": [
    {
     "name": "stdout",
     "output_type": "stream",
     "text": [
      "The corpus contains 189501 unique tokens (15504832 tokens in total).\n",
      "The corpus contains 170988 unique tokens (14592846 tokens in total).\n"
     ]
    }
   ],
   "source": [
    "# Pre-processing\n",
    "df['preprocessed_triage_note'] = df.triage_note.apply(preprocess)\n",
    "\n",
    "print_token_counts(count_tokens(df.preprocessed_triage_note))\n",
    "print_token_counts(count_valid_tokens(df.preprocessed_triage_note))"
   ]
  },
  {
   "cell_type": "markdown",
   "id": "638143e9",
   "metadata": {},
   "source": [
    "### Tokenise"
   ]
  },
  {
   "cell_type": "code",
   "execution_count": 7,
   "id": "13742724",
   "metadata": {},
   "outputs": [
    {
     "name": "stderr",
     "output_type": "stream",
     "text": [
      "/opt/homebrew/Caskroom/miniforge/base/envs/self-harm-triage-notes/lib/python3.11/site-packages/spacy/language.py:2195: FutureWarning: Possible set union at position 6328\n",
      "  deserializers[\"tokenizer\"] = lambda p: self.tokenizer.from_disk(  # type: ignore[union-attr]\n",
      "/opt/homebrew/Caskroom/miniforge/base/envs/self-harm-triage-notes/lib/python3.11/site-packages/spacy/util.py:1198: FutureWarning: Possible set union at position 6338\n",
      "  return re.compile(expression)\n"
     ]
    },
    {
     "name": "stdout",
     "output_type": "stream",
     "text": [
      "The corpus contains 136285 unique tokens (17026349 tokens in total).\n",
      "The corpus contains 121863 unique tokens (14727196 tokens in total).\n"
     ]
    }
   ],
   "source": [
    "# Create tokenised text\n",
    "df['tokenized_triage_note'] = tokenize_step1(df.preprocessed_triage_note)\n",
    "\n",
    "print_token_counts(count_tokens(df.tokenized_triage_note))\n",
    "print_token_counts(count_valid_tokens(df.tokenized_triage_note))"
   ]
  },
  {
   "cell_type": "markdown",
   "id": "b14c9ac2",
   "metadata": {},
   "source": [
    "### Re-tokenise"
   ]
  },
  {
   "cell_type": "code",
   "execution_count": 8,
   "id": "fdfb448a",
   "metadata": {},
   "outputs": [
    {
     "name": "stdout",
     "output_type": "stream",
     "text": [
      "The corpus contains 111434 unique tokens (17265930 tokens in total).\n",
      "The corpus contains 97008 unique tokens (14844617 tokens in total).\n",
      "The corpus contains 17152 unique tokens (14332742 tokens in total).\n"
     ]
    }
   ],
   "source": [
    "# Re-tokenise text\n",
    "df.tokenized_triage_note = tokenize_step2(df.tokenized_triage_note, vocab)\n",
    "\n",
    "print_token_counts(count_tokens(df.tokenized_triage_note))\n",
    "print_token_counts(count_valid_tokens(df.tokenized_triage_note))\n",
    "print_token_counts(count_valid_tokens_in_vocab(df.tokenized_triage_note, vocab=vocab))"
   ]
  },
  {
   "cell_type": "markdown",
   "id": "6e0f152b",
   "metadata": {},
   "source": [
    "### Spelling correction"
   ]
  },
  {
   "cell_type": "code",
   "execution_count": 9,
   "id": "efe722fe",
   "metadata": {},
   "outputs": [
    {
     "name": "stdout",
     "output_type": "stream",
     "text": [
      "The corpus contains 93714 unique tokens (17277148 tokens in total).\n",
      "The corpus contains 79288 unique tokens (14855835 tokens in total).\n",
      "The corpus contains 17482 unique tokens (14656885 tokens in total).\n"
     ]
    }
   ],
   "source": [
    "# Correct spelling mistakes\n",
    "df['normalised_triage_note'] = df.tokenized_triage_note.apply(correct_tokens, _dict=misspelled_dict)\n",
    "\n",
    "print_token_counts(count_tokens(df.normalised_triage_note))\n",
    "print_token_counts(count_valid_tokens(df.normalised_triage_note))\n",
    "print_token_counts(count_valid_tokens_in_vocab(df.normalised_triage_note, vocab=vocab))"
   ]
  },
  {
   "cell_type": "markdown",
   "id": "9a2b5e56",
   "metadata": {},
   "source": [
    "### Slang replacement"
   ]
  },
  {
   "cell_type": "code",
   "execution_count": 10,
   "id": "d50c0071",
   "metadata": {},
   "outputs": [
    {
     "name": "stdout",
     "output_type": "stream",
     "text": [
      "The corpus contains 93705 unique tokens (17288509 tokens in total).\n",
      "The corpus contains 79279 unique tokens (14867196 tokens in total).\n",
      "The corpus contains 17470 unique tokens (14646517 tokens in total).\n"
     ]
    }
   ],
   "source": [
    "# Replace slang for medications\n",
    "df['normalised_triage_note'] = df.normalised_triage_note.apply(correct_tokens, _dict=slang_dict)\n",
    "\n",
    "print_token_counts(count_tokens(df.normalised_triage_note))\n",
    "print_token_counts(count_valid_tokens(df.normalised_triage_note))\n",
    "print_token_counts(count_valid_tokens_in_vocab(df.normalised_triage_note, vocab=vocab))"
   ]
  },
  {
   "cell_type": "markdown",
   "id": "f55c55a2",
   "metadata": {},
   "source": [
    "___\n",
    "# Extract entities"
   ]
  },
  {
   "cell_type": "code",
   "execution_count": 11,
   "id": "6b779e5a",
   "metadata": {},
   "outputs": [],
   "source": [
    "def select_valid_tokens(text):\n",
    "    \"\"\"\n",
    "    Select valid tokens from a text.\n",
    "    \"\"\"\n",
    "    return ' '.join([token for token in text.split() if is_valid_token(token)])"
   ]
  },
  {
   "cell_type": "code",
   "execution_count": 12,
   "id": "bf921c21",
   "metadata": {},
   "outputs": [
    {
     "name": "stdout",
     "output_type": "stream",
     "text": [
      "The corpus contains 79279 unique tokens (14867196 tokens in total).\n",
      "The corpus contains 79279 unique tokens (14867196 tokens in total).\n",
      "The corpus contains 17470 unique tokens (14646517 tokens in total).\n"
     ]
    }
   ],
   "source": [
    "df['entities'] = df.normalised_triage_note.apply(select_valid_tokens)\n",
    "\n",
    "print_token_counts(count_tokens(df.entities))\n",
    "print_token_counts(count_valid_tokens(df.entities))\n",
    "print_token_counts(count_valid_tokens_in_vocab(df.entities, vocab=vocab))"
   ]
  },
  {
   "cell_type": "markdown",
   "id": "b8aca747",
   "metadata": {},
   "source": [
    "### Save dataset"
   ]
  },
  {
   "cell_type": "code",
   "execution_count": 13,
   "id": "fa848d14",
   "metadata": {},
   "outputs": [],
   "source": [
    "data_filename = data_filename.replace('_cleaned', '')\n",
    "df.to_parquet(data_proc_dir / (data_filename + \"_normalised.parquet\"), engine=\"pyarrow\")"
   ]
  },
  {
   "cell_type": "code",
   "execution_count": null,
   "id": "0a049ccd",
   "metadata": {},
   "outputs": [],
   "source": []
  }
 ],
 "metadata": {
  "kernelspec": {
   "display_name": "self-harm-triage-notes",
   "language": "python",
   "name": "python3"
  },
  "language_info": {
   "codemirror_mode": {
    "name": "ipython",
    "version": 3
   },
   "file_extension": ".py",
   "mimetype": "text/x-python",
   "name": "python",
   "nbconvert_exporter": "python",
   "pygments_lexer": "ipython3",
   "version": "3.11.11"
  }
 },
 "nbformat": 4,
 "nbformat_minor": 5
}
