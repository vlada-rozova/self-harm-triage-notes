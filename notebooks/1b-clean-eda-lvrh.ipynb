{
 "cells": [
  {
   "cell_type": "code",
   "execution_count": 1,
   "metadata": {},
   "outputs": [],
   "source": [
    "import pandas as pd\n",
    "import datetime as dt\n",
    "from self_harm_triage_notes.config import data_interim_dir\n",
    "\n",
    "# Pretty plots\n",
    "import matplotlib.pyplot as plt\n",
    "import seaborn as sns\n",
    "sns.set_style('ticks')\n",
    "plt.rcParams['figure.figsize'] = (8, 4)\n",
    "plt.rcParams['axes.titlesize'] = 20\n",
    "plt.rcParams['axes.labelsize'] = 18\n",
    "plt.rcParams['xtick.labelsize'] = 16\n",
    "plt.rcParams['ytick.labelsize'] = 16\n",
    "plt.rcParams['legend.fontsize'] = 12\n",
    "plt.rcParams['legend.title_fontsize'] = 12\n",
    "\n",
    "# Pandas settings\n",
    "pd.options.display.max_colwidth = 100\n",
    "pd.options.display.max_columns = 100"
   ]
  },
  {
   "cell_type": "markdown",
   "metadata": {},
   "source": [
    "___\n",
    "# LVRH ED presentations"
   ]
  },
  {
   "cell_type": "code",
   "execution_count": 2,
   "metadata": {},
   "outputs": [
    {
     "name": "stdout",
     "output_type": "stream",
     "text": [
      "(380329, 11)\n"
     ]
    },
    {
     "data": {
      "application/vnd.microsoft.datawrangler.viewer.v0+json": {
       "columns": [
        {
         "name": "index",
         "rawType": "int64",
         "type": "integer"
        },
        {
         "name": "uid",
         "rawType": "object",
         "type": "string"
        },
        {
         "name": "sex",
         "rawType": "object",
         "type": "string"
        },
        {
         "name": "age",
         "rawType": "int64",
         "type": "integer"
        },
        {
         "name": "arrival_method",
         "rawType": "object",
         "type": "string"
        },
        {
         "name": "arrival_date",
         "rawType": "datetime64[ns]",
         "type": "datetime"
        },
        {
         "name": "year",
         "rawType": "int64",
         "type": "integer"
        },
        {
         "name": "triage_note",
         "rawType": "object",
         "type": "string"
        },
        {
         "name": "SH",
         "rawType": "int64",
         "type": "integer"
        },
        {
         "name": "SI",
         "rawType": "int64",
         "type": "integer"
        },
        {
         "name": "AOD_OD",
         "rawType": "int64",
         "type": "integer"
        },
        {
         "name": "audit_case",
         "rawType": "int64",
         "type": "integer"
        }
       ],
       "conversionMethod": "pd.DataFrame",
       "ref": "8a1998fb-c633-443e-a6d1-3ee2ab21f848",
       "rows": [
        [
         "0",
         "LVRH2-2012-1",
         "Male",
         "2",
         "OTHER (INCLUDES PRIVATE CAR, WALKED)",
         "2012-01-01 00:06:00",
         "2012",
         "PT FELL OVER WHILST OUT CAMPING AT APPROX 2200HRS ONTO ?BROKEN GLASS. PT REFUSED PANADOL BY PARENTS. NIL LACERATIONS TO HEAD. IMMUNISATIONS UP TO DATE. \nWELL LOOKING BOY. 1CM LAC NOTED TO RIGHT KNEE. ADIPOSE TISSUE EXPOSED. NIL GLASS NOTED. NORMAL KNEE JOINT MVT. 6ML PAINSTOP GIVEN AT TRIAGE.",
         "0",
         "0",
         "0",
         "0"
        ],
        [
         "1",
         "LVRH2-2012-2",
         "Female",
         "53",
         "OTHER (INCLUDES PRIVATE CAR, WALKED)",
         "2012-01-01 00:30:00",
         "2012",
         "PT PRESENTS WITH ?SOMETHING IN HER LEFT EYE. PT WAS AT HOME WHEN LEFT EYE BECAME ITCHY AT APPROX 1600HRS. PT MANAGED TO GO TO WORK AND NOW IS BECOMING PAINFUL. NIL MEDS TAKEN FOR PAIN. \nWELL LOOKING WOMEN. DENIES CHANGE IN VISION. C/O PAINFUL LEFT EYE. NIL OBVIUOS FOREIGN BODY NOTED ON EXAMINATION. NIL WEEPING OR DISCHARGE FROM EYE.",
         "0",
         "0",
         "0",
         "0"
        ],
        [
         "2",
         "LVRH2-2012-3",
         "Male",
         "24",
         "ROAD AMBULANCE SERVICE",
         "2012-01-01 00:56:00",
         "2012",
         "BIBA POST WITTNESSED ASSAULT APPROX 2330HRS. HIT IN LEFT SIDE OF FACE AND HAD LOC ?LENGHT OF TIME. O/A BY RAV PT HAD ALETERED CONC STATE- GCS 14. CERVICAL COLLAR APPLIED BY RAV. 10 MG IV MAXALON GIVEN. RAV OBS HR 90 REG. BP 120/P. \nPT LYING ON TROLLEY. GCS 15. PEARL. GOOD LIMB STRENGHT. NIL NECK PAIN. OVBIUOS INJURIES TO LEFT SIDE OF FACE.",
         "0",
         "0",
         "0",
         "0"
        ],
        [
         "3",
         "LVRH2-2012-4",
         "Male",
         "21",
         "OTHER (INCLUDES PRIVATE CAR, WALKED)",
         "2012-01-01 01:07:00",
         "2012",
         "PAST WEEK HAS BEEN SMOKING MARIJUANA. 2/7 EAR ACHES , SORE THROAT AND HEADACHE . TODAY RASH ON LEGS AND SPREADING \nWALKED INTO WITH AMBULANCE OFFICERS . NO DISTRESS FEBRILE 38.6 ,RED  RASH ON LEGS PANADOL GIVEN AT TRIAGE . NO HEADACE AT PRESENT ALERT GCS 15",
         "0",
         "0",
         "0",
         "0"
        ],
        [
         "4",
         "LVRH2-2012-5",
         "Male",
         "3",
         "OTHER (INCLUDES PRIVATE CAR, WALKED)",
         "2012-01-01 01:12:00",
         "2012",
         "BIB FATHER WITH PAINFUL AND SWOLLEN PENIS. PT HAS BEEN AT BEACH TODAY AND AT APPROX 1500HRS STARTED TO COMPLAIN OF PENIS PAIN. TONIGHT WHEN GOT HOME FATHER NOTICED THAT IT WAS RED AND SWOLLEN. PT IS NOT CIRCUMCISED. NIL ANALGESIA GIVEN. NIL IMMUNISATIONS GIVEN AT PARENTS REQUEST. \nWELL LOOKING BOY. INTERESTED IN SURROUNDINGS. MILD SWELLING TO PENIS. PENIS TENDER WHEN TOUCHED.",
         "0",
         "0",
         "0",
         "0"
        ]
       ],
       "shape": {
        "columns": 11,
        "rows": 5
       }
      },
      "text/html": [
       "<div>\n",
       "<style scoped>\n",
       "    .dataframe tbody tr th:only-of-type {\n",
       "        vertical-align: middle;\n",
       "    }\n",
       "\n",
       "    .dataframe tbody tr th {\n",
       "        vertical-align: top;\n",
       "    }\n",
       "\n",
       "    .dataframe thead th {\n",
       "        text-align: right;\n",
       "    }\n",
       "</style>\n",
       "<table border=\"1\" class=\"dataframe\">\n",
       "  <thead>\n",
       "    <tr style=\"text-align: right;\">\n",
       "      <th></th>\n",
       "      <th>uid</th>\n",
       "      <th>sex</th>\n",
       "      <th>age</th>\n",
       "      <th>arrival_method</th>\n",
       "      <th>arrival_date</th>\n",
       "      <th>year</th>\n",
       "      <th>triage_note</th>\n",
       "      <th>SH</th>\n",
       "      <th>SI</th>\n",
       "      <th>AOD_OD</th>\n",
       "      <th>audit_case</th>\n",
       "    </tr>\n",
       "  </thead>\n",
       "  <tbody>\n",
       "    <tr>\n",
       "      <th>0</th>\n",
       "      <td>LVRH2-2012-1</td>\n",
       "      <td>Male</td>\n",
       "      <td>2</td>\n",
       "      <td>OTHER (INCLUDES PRIVATE CAR, WALKED)</td>\n",
       "      <td>2012-01-01 00:06:00</td>\n",
       "      <td>2012</td>\n",
       "      <td>PT FELL OVER WHILST OUT CAMPING AT APPROX 2200HRS ONTO ?BROKEN GLASS. PT REFUSED PANADOL BY PARE...</td>\n",
       "      <td>0</td>\n",
       "      <td>0</td>\n",
       "      <td>0</td>\n",
       "      <td>0</td>\n",
       "    </tr>\n",
       "    <tr>\n",
       "      <th>1</th>\n",
       "      <td>LVRH2-2012-2</td>\n",
       "      <td>Female</td>\n",
       "      <td>53</td>\n",
       "      <td>OTHER (INCLUDES PRIVATE CAR, WALKED)</td>\n",
       "      <td>2012-01-01 00:30:00</td>\n",
       "      <td>2012</td>\n",
       "      <td>PT PRESENTS WITH ?SOMETHING IN HER LEFT EYE. PT WAS AT HOME WHEN LEFT EYE BECAME ITCHY AT APPROX...</td>\n",
       "      <td>0</td>\n",
       "      <td>0</td>\n",
       "      <td>0</td>\n",
       "      <td>0</td>\n",
       "    </tr>\n",
       "    <tr>\n",
       "      <th>2</th>\n",
       "      <td>LVRH2-2012-3</td>\n",
       "      <td>Male</td>\n",
       "      <td>24</td>\n",
       "      <td>ROAD AMBULANCE SERVICE</td>\n",
       "      <td>2012-01-01 00:56:00</td>\n",
       "      <td>2012</td>\n",
       "      <td>BIBA POST WITTNESSED ASSAULT APPROX 2330HRS. HIT IN LEFT SIDE OF FACE AND HAD LOC ?LENGHT OF TIM...</td>\n",
       "      <td>0</td>\n",
       "      <td>0</td>\n",
       "      <td>0</td>\n",
       "      <td>0</td>\n",
       "    </tr>\n",
       "    <tr>\n",
       "      <th>3</th>\n",
       "      <td>LVRH2-2012-4</td>\n",
       "      <td>Male</td>\n",
       "      <td>21</td>\n",
       "      <td>OTHER (INCLUDES PRIVATE CAR, WALKED)</td>\n",
       "      <td>2012-01-01 01:07:00</td>\n",
       "      <td>2012</td>\n",
       "      <td>PAST WEEK HAS BEEN SMOKING MARIJUANA. 2/7 EAR ACHES , SORE THROAT AND HEADACHE . TODAY RASH ON L...</td>\n",
       "      <td>0</td>\n",
       "      <td>0</td>\n",
       "      <td>0</td>\n",
       "      <td>0</td>\n",
       "    </tr>\n",
       "    <tr>\n",
       "      <th>4</th>\n",
       "      <td>LVRH2-2012-5</td>\n",
       "      <td>Male</td>\n",
       "      <td>3</td>\n",
       "      <td>OTHER (INCLUDES PRIVATE CAR, WALKED)</td>\n",
       "      <td>2012-01-01 01:12:00</td>\n",
       "      <td>2012</td>\n",
       "      <td>BIB FATHER WITH PAINFUL AND SWOLLEN PENIS. PT HAS BEEN AT BEACH TODAY AND AT APPROX 1500HRS STAR...</td>\n",
       "      <td>0</td>\n",
       "      <td>0</td>\n",
       "      <td>0</td>\n",
       "      <td>0</td>\n",
       "    </tr>\n",
       "  </tbody>\n",
       "</table>\n",
       "</div>"
      ],
      "text/plain": [
       "            uid     sex  age                        arrival_method  \\\n",
       "0  LVRH2-2012-1    Male    2  OTHER (INCLUDES PRIVATE CAR, WALKED)   \n",
       "1  LVRH2-2012-2  Female   53  OTHER (INCLUDES PRIVATE CAR, WALKED)   \n",
       "2  LVRH2-2012-3    Male   24                ROAD AMBULANCE SERVICE   \n",
       "3  LVRH2-2012-4    Male   21  OTHER (INCLUDES PRIVATE CAR, WALKED)   \n",
       "4  LVRH2-2012-5    Male    3  OTHER (INCLUDES PRIVATE CAR, WALKED)   \n",
       "\n",
       "         arrival_date  year  \\\n",
       "0 2012-01-01 00:06:00  2012   \n",
       "1 2012-01-01 00:30:00  2012   \n",
       "2 2012-01-01 00:56:00  2012   \n",
       "3 2012-01-01 01:07:00  2012   \n",
       "4 2012-01-01 01:12:00  2012   \n",
       "\n",
       "                                                                                           triage_note  \\\n",
       "0  PT FELL OVER WHILST OUT CAMPING AT APPROX 2200HRS ONTO ?BROKEN GLASS. PT REFUSED PANADOL BY PARE...   \n",
       "1  PT PRESENTS WITH ?SOMETHING IN HER LEFT EYE. PT WAS AT HOME WHEN LEFT EYE BECAME ITCHY AT APPROX...   \n",
       "2  BIBA POST WITTNESSED ASSAULT APPROX 2330HRS. HIT IN LEFT SIDE OF FACE AND HAD LOC ?LENGHT OF TIM...   \n",
       "3  PAST WEEK HAS BEEN SMOKING MARIJUANA. 2/7 EAR ACHES , SORE THROAT AND HEADACHE . TODAY RASH ON L...   \n",
       "4  BIB FATHER WITH PAINFUL AND SWOLLEN PENIS. PT HAS BEEN AT BEACH TODAY AND AT APPROX 1500HRS STAR...   \n",
       "\n",
       "   SH  SI  AOD_OD  audit_case  \n",
       "0   0   0       0           0  \n",
       "1   0   0       0           0  \n",
       "2   0   0       0           0  \n",
       "3   0   0       0           0  \n",
       "4   0   0       0           0  "
      ]
     },
     "execution_count": 2,
     "metadata": {},
     "output_type": "execute_result"
    }
   ],
   "source": [
    "# Load data\n",
    "lvrh = pd.read_parquet(data_interim_dir / \"lvrh_2012_2022.parquet\", engine=\"pyarrow\")\n",
    "print(lvrh.shape)\n",
    "lvrh.head()"
   ]
  },
  {
   "cell_type": "markdown",
   "metadata": {},
   "source": [
    "## General info"
   ]
  },
  {
   "cell_type": "code",
   "execution_count": 3,
   "metadata": {},
   "outputs": [
    {
     "name": "stdout",
     "output_type": "stream",
     "text": [
      "<class 'pandas.core.frame.DataFrame'>\n",
      "RangeIndex: 380329 entries, 0 to 380328\n",
      "Data columns (total 11 columns):\n",
      " #   Column          Non-Null Count   Dtype         \n",
      "---  ------          --------------   -----         \n",
      " 0   uid             380329 non-null  object        \n",
      " 1   sex             380329 non-null  object        \n",
      " 2   age             380329 non-null  int64         \n",
      " 3   arrival_method  380329 non-null  object        \n",
      " 4   arrival_date    380329 non-null  datetime64[ns]\n",
      " 5   year            380329 non-null  int64         \n",
      " 6   triage_note     380329 non-null  object        \n",
      " 7   SH              380329 non-null  int64         \n",
      " 8   SI              380329 non-null  int64         \n",
      " 9   AOD_OD          380329 non-null  int64         \n",
      " 10  audit_case      380329 non-null  int64         \n",
      "dtypes: datetime64[ns](1), int64(6), object(4)\n",
      "memory usage: 31.9+ MB\n"
     ]
    }
   ],
   "source": [
    "lvrh.info()"
   ]
  },
  {
   "cell_type": "code",
   "execution_count": 4,
   "metadata": {},
   "outputs": [
    {
     "data": {
      "text/plain": [
       "uid               0\n",
       "sex               0\n",
       "age               0\n",
       "arrival_method    0\n",
       "arrival_date      0\n",
       "year              0\n",
       "triage_note       0\n",
       "SH                0\n",
       "SI                0\n",
       "AOD_OD            0\n",
       "audit_case        0\n",
       "dtype: int64"
      ]
     },
     "execution_count": 4,
     "metadata": {},
     "output_type": "execute_result"
    }
   ],
   "source": [
    "lvrh.isna().sum()"
   ]
  },
  {
   "cell_type": "code",
   "execution_count": 5,
   "metadata": {},
   "outputs": [
    {
     "data": {
      "text/plain": [
       "uid               380329\n",
       "sex                    4\n",
       "age                  108\n",
       "arrival_method        16\n",
       "arrival_date      371008\n",
       "year                  11\n",
       "triage_note       379412\n",
       "SH                     2\n",
       "SI                     2\n",
       "AOD_OD                 2\n",
       "audit_case             2\n",
       "dtype: int64"
      ]
     },
     "execution_count": 5,
     "metadata": {},
     "output_type": "execute_result"
    }
   ],
   "source": [
    "lvrh.nunique()"
   ]
  },
  {
   "cell_type": "markdown",
   "metadata": {},
   "source": [
    "## Data checks"
   ]
  },
  {
   "cell_type": "code",
   "execution_count": 6,
   "metadata": {},
   "outputs": [],
   "source": [
    "# Check the year was extracted correctly\n",
    "assert (lvrh.arrival_date.dt.year == lvrh.year).all()"
   ]
  },
  {
   "cell_type": "code",
   "execution_count": 7,
   "metadata": {},
   "outputs": [
    {
     "name": "stdout",
     "output_type": "stream",
     "text": [
      "The dataset contains 0 presentations with empty triage notes.\n",
      "The dataset contains 72 presentations containing only newline.\n",
      "The dataset contains 0 presentations stating \"as above\".\n"
     ]
    }
   ],
   "source": [
    "# Empty triage notes\n",
    "print(\"The dataset contains %d presentations with empty triage notes.\" % \n",
    "      lvrh.triage_note.isna().sum())\n",
    "# Triage note containing only \"\\n\"\n",
    "print(\"The dataset contains %d presentations containing only newline.\" % \n",
    "      (lvrh.triage_note.str.lower()==\" \\n\").sum())\n",
    "# Triage note stating \"as above\"\n",
    "print(\"The dataset contains %d presentations stating \\\"as above\\\".\" % \n",
    "      (lvrh.triage_note.str.lower()==\"as above\").sum())"
   ]
  },
  {
   "cell_type": "markdown",
   "metadata": {},
   "source": [
    "### Number of presentations over time"
   ]
  },
  {
   "cell_type": "code",
   "execution_count": 8,
   "metadata": {},
   "outputs": [],
   "source": [
    "# Expected range of dates\n",
    "count_per_day = pd.DataFrame(index=pd.date_range(start='2012-01-01',end='2022-06-30'))\n",
    "count_per_day['count'] = 0\n",
    "# Update with actual counts\n",
    "count_per_day.update({'count': lvrh.groupby(lvrh.arrival_date.dt.date).size()})"
   ]
  },
  {
   "cell_type": "code",
   "execution_count": 9,
   "metadata": {},
   "outputs": [
    {
     "data": {
      "image/png": "[encoded data removed]",
      "text/plain": [
       "<Figure size 1200x600 with 1 Axes>"
      ]
     },
     "metadata": {},
     "output_type": "display_data"
    }
   ],
   "source": [
    "plt.rcParams['figure.figsize'] = (12, 6)\n",
    "\n",
    "sns.lineplot(x=count_per_day.index,\n",
    "             y=count_per_day['count']);\n",
    "\n",
    "plt.xlabel(\"Arrival date\");\n",
    "plt.ylabel(\"Number of presentations\");\n",
    "plt.title(\"LVRH\");\n",
    "# plt.savefig(\"../results/number of presentations.jpeg\", dpi=300, pad_inches=0);"
   ]
  },
  {
   "cell_type": "code",
   "execution_count": 10,
   "metadata": {},
   "outputs": [
    {
     "data": {
      "text/plain": [
       "arrival_date\n",
       "2013-03-22    63\n",
       "2013-07-12    62\n",
       "2013-02-04    61\n",
       "2012-03-23    61\n",
       "2012-02-08    61\n",
       "2013-07-11    60\n",
       "2014-04-23    59\n",
       "2013-07-06    57\n",
       "2013-06-02    57\n",
       "2013-10-03    50\n",
       "Name: count, dtype: int64"
      ]
     },
     "execution_count": 10,
     "metadata": {},
     "output_type": "execute_result"
    }
   ],
   "source": [
    "lvrh.arrival_date.dt.date.value_counts().tail(10)"
   ]
  },
  {
   "cell_type": "code",
   "execution_count": 11,
   "metadata": {},
   "outputs": [
    {
     "data": {
      "text/plain": [
       "arrival_date\n",
       "2015-12-15     92\n",
       "2015-12-16     74\n",
       "2015-12-17     87\n",
       "2015-12-18     81\n",
       "2015-12-19     90\n",
       "2015-12-20     91\n",
       "2015-12-21    105\n",
       "2015-12-22    105\n",
       "2015-12-23     74\n",
       "2015-12-24     70\n",
       "2015-12-25     88\n",
       "2015-12-26    123\n",
       "2015-12-27    127\n",
       "2015-12-28    112\n",
       "2015-12-29    101\n",
       "2015-12-30    102\n",
       "2015-12-31     90\n",
       "2016-01-01    106\n",
       "2016-01-02    114\n",
       "2016-01-03     95\n",
       "2016-01-04     99\n",
       "2016-01-05     78\n",
       "Name: count, dtype: int64"
      ]
     },
     "execution_count": 11,
     "metadata": {},
     "output_type": "execute_result"
    }
   ],
   "source": [
    "# Data missing between 22 Dec 2015 and 31 Dec 2015 inclusive\n",
    "lvrh[(lvrh.arrival_date.dt.date >= dt.date(2015, 12, 15)) & \n",
    "   (lvrh.arrival_date.dt.date <= dt.date(2016, 1, 5))].arrival_date.dt.date.value_counts().sort_index()"
   ]
  },
  {
   "cell_type": "code",
   "execution_count": 12,
   "metadata": {},
   "outputs": [
    {
     "data": {
      "text/plain": [
       "arrival_date\n",
       "2019-06-25    119\n",
       "2019-06-26    119\n",
       "2019-06-27    132\n",
       "2019-06-28    128\n",
       "2019-06-29    132\n",
       "2019-06-30    121\n",
       "2019-07-01    142\n",
       "2019-07-02    120\n",
       "2019-07-03    134\n",
       "2019-07-04    132\n",
       "2019-07-05    127\n",
       "Name: count, dtype: int64"
      ]
     },
     "execution_count": 12,
     "metadata": {},
     "output_type": "execute_result"
    }
   ],
   "source": [
    "# Lower than usual number of cases on 28-29 Jun 2019\n",
    "lvrh[(lvrh.arrival_date.dt.date >= dt.date(2019, 6, 25)) & \n",
    "   (lvrh.arrival_date.dt.date <= dt.date(2019, 7, 5))].arrival_date.dt.date.value_counts().sort_index()"
   ]
  },
  {
   "cell_type": "code",
   "execution_count": 13,
   "metadata": {},
   "outputs": [
    {
     "data": {
      "text/plain": [
       "arrival_date\n",
       "2021-08-20    112\n",
       "2021-08-21    122\n",
       "2021-08-22    111\n",
       "2021-08-23    131\n",
       "2021-08-24     98\n",
       "2021-08-25    108\n",
       "2021-08-26    115\n",
       "2021-08-27    103\n",
       "2021-08-28    105\n",
       "2021-08-29    111\n",
       "2021-08-30    122\n",
       "Name: count, dtype: int64"
      ]
     },
     "execution_count": 13,
     "metadata": {},
     "output_type": "execute_result"
    }
   ],
   "source": [
    "# Lower than usual number of cases on 24 Aug 2021\n",
    "lvrh[(lvrh.arrival_date.dt.date >= dt.date(2021, 8, 20)) & \n",
    "   (lvrh.arrival_date.dt.date <= dt.date(2021, 8, 30))].arrival_date.dt.date.value_counts().sort_index()"
   ]
  },
  {
   "cell_type": "code",
   "execution_count": 14,
   "metadata": {},
   "outputs": [
    {
     "data": {
      "text/plain": [
       "arrival_date\n",
       "2020-05-14    174\n",
       "2019-12-27    161\n",
       "2019-08-26    159\n",
       "2019-12-28    156\n",
       "2020-05-18    156\n",
       "2021-04-04    155\n",
       "2021-03-22    155\n",
       "2021-01-01    155\n",
       "2021-03-09    153\n",
       "2021-03-08    152\n",
       "Name: count, dtype: int64"
      ]
     },
     "execution_count": 14,
     "metadata": {},
     "output_type": "execute_result"
    }
   ],
   "source": [
    "lvrh.arrival_date.dt.date.value_counts().head(10)"
   ]
  },
  {
   "cell_type": "code",
   "execution_count": 15,
   "metadata": {},
   "outputs": [
    {
     "data": {
      "text/plain": [
       "arrival_date\n",
       "2016-11-15     88\n",
       "2016-11-16    101\n",
       "2016-11-17     98\n",
       "2016-11-18     82\n",
       "2016-11-19     91\n",
       "2016-11-20    104\n",
       "2016-11-21     98\n",
       "2016-11-22     96\n",
       "2016-11-23     85\n",
       "2016-11-24     96\n",
       "2016-11-25     87\n",
       "2016-11-26     85\n",
       "2016-11-27     83\n",
       "2016-11-28     95\n",
       "2016-11-29     95\n",
       "2016-11-30    103\n",
       "Name: count, dtype: int64"
      ]
     },
     "execution_count": 15,
     "metadata": {},
     "output_type": "execute_result"
    }
   ],
   "source": [
    "# Higher than usual number of cases on 21 Nov 2016\n",
    "lvrh[(lvrh.arrival_date.dt.date >= dt.date(2016, 11, 15)) & \n",
    "   (lvrh.arrival_date.dt.date <= dt.date(2016, 11, 30))].arrival_date.dt.date.value_counts().sort_index()"
   ]
  },
  {
   "cell_type": "code",
   "execution_count": 16,
   "metadata": {},
   "outputs": [
    {
     "data": {
      "application/vnd.microsoft.datawrangler.viewer.v0+json": {
       "columns": [
        {
         "name": "index",
         "rawType": "datetime64[ns]",
         "type": "datetime"
        },
        {
         "name": "count",
         "rawType": "int64",
         "type": "integer"
        }
       ],
       "conversionMethod": "pd.DataFrame",
       "ref": "df57db88-626e-43d7-8fde-0211079e052b",
       "rows": [],
       "shape": {
        "columns": 1,
        "rows": 0
       }
      },
      "text/html": [
       "<div>\n",
       "<style scoped>\n",
       "    .dataframe tbody tr th:only-of-type {\n",
       "        vertical-align: middle;\n",
       "    }\n",
       "\n",
       "    .dataframe tbody tr th {\n",
       "        vertical-align: top;\n",
       "    }\n",
       "\n",
       "    .dataframe thead th {\n",
       "        text-align: right;\n",
       "    }\n",
       "</style>\n",
       "<table border=\"1\" class=\"dataframe\">\n",
       "  <thead>\n",
       "    <tr style=\"text-align: right;\">\n",
       "      <th></th>\n",
       "      <th>count</th>\n",
       "    </tr>\n",
       "  </thead>\n",
       "  <tbody>\n",
       "  </tbody>\n",
       "</table>\n",
       "</div>"
      ],
      "text/plain": [
       "Empty DataFrame\n",
       "Columns: [count]\n",
       "Index: []"
      ]
     },
     "execution_count": 16,
     "metadata": {},
     "output_type": "execute_result"
    }
   ],
   "source": [
    "count_per_day[count_per_day['count'] >= 400]"
   ]
  },
  {
   "cell_type": "markdown",
   "metadata": {},
   "source": [
    "### Annotations"
   ]
  },
  {
   "cell_type": "code",
   "execution_count": 17,
   "metadata": {},
   "outputs": [
    {
     "name": "stdout",
     "output_type": "stream",
     "text": [
      "Number of presentations annotated as both SH and SI: 2\n",
      "Number of presentations annotated as both SH and AOD OD: 0\n",
      "Number of presentations annotated as both SI and AOD OD: 0\n"
     ]
    }
   ],
   "source": [
    "# Check for confusion between SH, SI, and AOD OD\n",
    "print(\"Number of presentations annotated as both SH and SI:\", ((lvrh.SH==1) & (lvrh.SI==1)).sum())\n",
    "print(\"Number of presentations annotated as both SH and AOD OD:\", ((lvrh.SH==1) & (lvrh.AOD_OD==1)).sum())\n",
    "print(\"Number of presentations annotated as both SI and AOD OD:\", ((lvrh.SI==1) & (lvrh.AOD_OD==1)).sum())"
   ]
  },
  {
   "cell_type": "code",
   "execution_count": 18,
   "metadata": {},
   "outputs": [
    {
     "name": "stdout",
     "output_type": "stream",
     "text": [
      "Number of presentation annotated as SH from patients under the age of 9: 28\n",
      "Number of presentation annotated as SI from patients under the age of 9: 9\n",
      "Number of presentation annotated as AOD from patients under the age of 9: 0\n"
     ]
    }
   ],
   "source": [
    "# Patients under the age of 9 with positive labels\n",
    "print(\"Number of presentation annotated as SH from patients under the age of 9:\", ((lvrh.SH==1) & (lvrh.age<9)).sum())\n",
    "print(\"Number of presentation annotated as SI from patients under the age of 9:\", ((lvrh.SI==1) & (lvrh.age<9)).sum())\n",
    "print(\"Number of presentation annotated as AOD from patients under the age of 9:\", ((lvrh.AOD_OD==1) & (lvrh.age<9)).sum())"
   ]
  },
  {
   "cell_type": "markdown",
   "metadata": {},
   "source": [
    "## Normalise data"
   ]
  },
  {
   "cell_type": "markdown",
   "metadata": {},
   "source": [
    "### Sex"
   ]
  },
  {
   "cell_type": "code",
   "execution_count": 19,
   "metadata": {},
   "outputs": [
    {
     "data": {
      "text/plain": [
       "sex\n",
       "Female           194151\n",
       "Male             186175\n",
       "-                     2\n",
       "Indeterminate         1\n",
       "Name: count, dtype: int64"
      ]
     },
     "execution_count": 19,
     "metadata": {},
     "output_type": "execute_result"
    }
   ],
   "source": [
    "lvrh.sex.value_counts(dropna=False)"
   ]
  },
  {
   "cell_type": "code",
   "execution_count": 20,
   "metadata": {},
   "outputs": [],
   "source": [
    "# Normalise sex variable to 4 values (LVRH)\n",
    "lvrh.sex = lvrh.sex.str.lower()\n",
    "lvrh.loc[lvrh.sex.isin([\"indeterminate\"]), 'sex'] = \"intersex\"\n",
    "lvrh.loc[~lvrh.sex.isin([\"female\", \"male\", \"intersex\"]), 'sex'] = \"unknown\"\n",
    "\n",
    "categories = [\"female\", \"male\", \"intersex\", \"unknown\"]\n",
    "lvrh.sex = lvrh.sex.astype('category').cat.set_categories(categories)"
   ]
  },
  {
   "cell_type": "markdown",
   "metadata": {},
   "source": [
    "### Arrival method"
   ]
  },
  {
   "cell_type": "code",
   "execution_count": 21,
   "metadata": {},
   "outputs": [
    {
     "data": {
      "text/plain": [
       "arrival_method\n",
       "OTHER (INCLUDES PRIVATE CAR, WALKED)                                                                175915\n",
       "Other                                                                                                95760\n",
       "ROAD AMBULANCE SERVICE                                                                               64773\n",
       "Road ambulance service                                                                               36382\n",
       "Ambulance service- private ambulance car- hospital contracted                                         2332\n",
       "AMBULANCE SERVICE - PRIV AMB CAR - HOSPITAL CONTRACTED                                                2291\n",
       "POLICE VEHICLE                                                                                        1302\n",
       "Ambulance service- private ambulance car- MAS/RAV contracted                                           833\n",
       "Police vehicle                                                                                         348\n",
       "-                                                                                                      113\n",
       "AIR AMBULANCE - FIXED WING AIRCRAFT (EXCLUD HELICOPTER)...                                              87\n",
       "HELICOPTER                                                                                              79\n",
       "Air ambulance - fixed wing aircraft for all or any part of journey. Excludes helicopter (Code 2)        59\n",
       "COMMUNITY/ PHILANTHROPIC SERVICES (EG HOSP VOLUNTEER DR                                                 28\n",
       "Helicopter                                                                                              22\n",
       "Name: count, dtype: int64"
      ]
     },
     "execution_count": 21,
     "metadata": {},
     "output_type": "execute_result"
    }
   ],
   "source": [
    "lvrh.arrival_method.value_counts(dropna=False).head(15)"
   ]
  },
  {
   "cell_type": "code",
   "execution_count": 22,
   "metadata": {},
   "outputs": [],
   "source": [
    "def normalise_arrival_method(x):\n",
    "    # Convert to lowercase\n",
    "    x = x.str.lower()\n",
    "    # Replace string values\n",
    "    x.loc[x.fillna(\"\").str.contains(\"community|self|walk-in|walked|public transport\")] = \"self/community/pt\"\n",
    "    x.loc[x.fillna(\"\").str.contains(\"road ambulance\")] = \"road ambulance\"\n",
    "    x.loc[x.fillna(\"\").str.contains(\"private|priv\")] = \"private ambulance\"\n",
    "    x.loc[x.fillna(\"\").str.contains(\"air|helicopter\")] = \"air ambulance\"\n",
    "    x.loc[x.fillna(\"\").str.contains(\"police\")] = \"police\"\n",
    "    x.loc[x.fillna(\"\").str.contains(\"undertaker\")] = \"undertaker\"\n",
    "    x.loc[x.fillna(\"\").str.contains(\"other\")] = \"other\"\n",
    "    x = x.astype('category').cat.set_categories(['self/community/pt', 'road ambulance', \n",
    "                                                 'private ambulance', 'air ambulance', \n",
    "                                                 'police', 'undertaker', 'other'])\n",
    "    x.fillna(\"other\", inplace=True)\n",
    "    \n",
    "    return x\n",
    "\n",
    "# Normalise arrival method variable\n",
    "lvrh.arrival_method = normalise_arrival_method(lvrh.arrival_method)"
   ]
  },
  {
   "cell_type": "markdown",
   "metadata": {},
   "source": [
    "### Triage notes"
   ]
  },
  {
   "cell_type": "code",
   "execution_count": 23,
   "metadata": {},
   "outputs": [],
   "source": [
    "# Replace single newline with empty string\n",
    "lvrh.loc[lvrh.triage_note.str.lower()==\" \\n\", 'triage_note'] = \"\""
   ]
  },
  {
   "cell_type": "markdown",
   "metadata": {},
   "source": [
    "### Annotations"
   ]
  },
  {
   "cell_type": "code",
   "execution_count": 24,
   "metadata": {},
   "outputs": [],
   "source": [
    "# Fix annotation errors\n",
    "# Two records annotated as both self-harm and Suicidal ideation overdose\n",
    "lvrh.loc[(lvrh.SH==1) & (lvrh.SI==1), 'SH'] = 0\n",
    "\n",
    "# 28 patients aged <9 positive for SH\n",
    "lvrh.loc[(lvrh.age<9) & (lvrh.SH==1), 'SH'] = 0\n",
    "\n",
    "# 9 patients aged <9 positive for SI\n",
    "lvrh.loc[(lvrh.age<9) & (lvrh.SI==1), 'SI'] = 0"
   ]
  },
  {
   "cell_type": "markdown",
   "metadata": {},
   "source": [
    "### Additional columns"
   ]
  },
  {
   "cell_type": "code",
   "execution_count": 25,
   "metadata": {},
   "outputs": [],
   "source": [
    "# Create new column that contains quarter\n",
    "lvrh['quarter'] = lvrh.arrival_date.dt.to_period('Q')\n",
    "\n",
    "# Triage note length\n",
    "lvrh['length'] = lvrh.triage_note.apply(len)"
   ]
  },
  {
   "cell_type": "markdown",
   "metadata": {},
   "source": [
    "### Remove patients below the age of 9"
   ]
  },
  {
   "cell_type": "code",
   "execution_count": 26,
   "metadata": {},
   "outputs": [
    {
     "data": {
      "text/plain": [
       "(335209, 13)"
      ]
     },
     "execution_count": 26,
     "metadata": {},
     "output_type": "execute_result"
    }
   ],
   "source": [
    "# Remove presentations of patients under the age of 9\n",
    "lvrh = lvrh[lvrh.age >= 9].copy()\n",
    "lvrh.reset_index(drop=True, inplace=True)\n",
    "lvrh.shape"
   ]
  },
  {
   "cell_type": "markdown",
   "metadata": {},
   "source": [
    "### Save dataset"
   ]
  },
  {
   "cell_type": "code",
   "execution_count": 27,
   "metadata": {},
   "outputs": [],
   "source": [
    "lvrh.to_parquet(data_interim_dir / \"lvrh_2012_2022_cleaned.parquet\", engine=\"pyarrow\")"
   ]
  },
  {
   "cell_type": "markdown",
   "metadata": {},
   "source": [
    "___\n",
    "# EDA"
   ]
  },
  {
   "cell_type": "code",
   "execution_count": 28,
   "metadata": {},
   "outputs": [
    {
     "data": {
      "text/plain": [
       "(316877, 13)"
      ]
     },
     "execution_count": 28,
     "metadata": {},
     "output_type": "execute_result"
    }
   ],
   "source": [
    "# Remove 2022 (temporarily)\n",
    "lvrh = lvrh[lvrh.year < 2022].copy()\n",
    "lvrh.shape"
   ]
  },
  {
   "cell_type": "markdown",
   "metadata": {},
   "source": [
    "### Number of presentations\n",
    "**Per year**"
   ]
  },
  {
   "cell_type": "code",
   "execution_count": 29,
   "metadata": {},
   "outputs": [
    {
     "data": {
      "image/png": "[encoded data removed]",
      "text/plain": [
       "<Figure size 1200x600 with 1 Axes>"
      ]
     },
     "metadata": {},
     "output_type": "display_data"
    }
   ],
   "source": [
    "palette = {year: sns.color_palette('Blues')[1] for year in range(2012, 2018)}\n",
    "palette.update({year: sns.color_palette('Blues')[3] for year in range(2018, 2022)})\n",
    "\n",
    "sns.countplot(x='year', data=lvrh, hue='year', palette=palette, legend=False);\n",
    "plt.xlabel(\"Arrival date\");\n",
    "plt.ylabel(\"ED presentations\");\n",
    "plt.title(\"LVRH\");\n",
    "plt.savefig(\"../results/LVRH presentations per year.jpeg\", bbox_inches='tight', dpi=300);"
   ]
  },
  {
   "cell_type": "code",
   "execution_count": 30,
   "metadata": {},
   "outputs": [
    {
     "data": {
      "text/plain": [
       "mean    31688.0\n",
       "std      4326.0\n",
       "Name: count, dtype: float64"
      ]
     },
     "execution_count": 30,
     "metadata": {},
     "output_type": "execute_result"
    }
   ],
   "source": [
    "lvrh.year.value_counts().agg(['mean', 'std']).round()"
   ]
  },
  {
   "cell_type": "markdown",
   "metadata": {},
   "source": [
    "**Per quarter**"
   ]
  },
  {
   "cell_type": "code",
   "execution_count": 31,
   "metadata": {},
   "outputs": [
    {
     "data": {
      "text/plain": [
       "mean    7922.0\n",
       "std     1060.0\n",
       "Name: count, dtype: float64"
      ]
     },
     "execution_count": 31,
     "metadata": {},
     "output_type": "execute_result"
    }
   ],
   "source": [
    "lvrh.quarter.value_counts().agg(['mean', 'std']).round()"
   ]
  },
  {
   "cell_type": "markdown",
   "metadata": {},
   "source": [
    "### Age"
   ]
  },
  {
   "cell_type": "code",
   "execution_count": 32,
   "metadata": {},
   "outputs": [
    {
     "data": {
      "text/plain": [
       "count    316877.0\n",
       "mean         47.0\n",
       "std          23.0\n",
       "min           9.0\n",
       "25%          26.0\n",
       "50%          45.0\n",
       "75%          66.0\n",
       "max         119.0\n",
       "Name: age, dtype: float64"
      ]
     },
     "execution_count": 32,
     "metadata": {},
     "output_type": "execute_result"
    }
   ],
   "source": [
    "lvrh.age.describe().round()"
   ]
  },
  {
   "cell_type": "code",
   "execution_count": 33,
   "metadata": {},
   "outputs": [
    {
     "data": {
      "image/png": "[encoded data removed]",
      "text/plain": [
       "<Figure size 1200x600 with 1 Axes>"
      ]
     },
     "metadata": {},
     "output_type": "display_data"
    }
   ],
   "source": [
    "sns.kdeplot(x='age', data=lvrh, fill=True);"
   ]
  },
  {
   "cell_type": "markdown",
   "metadata": {},
   "source": [
    "### Sex"
   ]
  },
  {
   "cell_type": "code",
   "execution_count": 34,
   "metadata": {},
   "outputs": [
    {
     "data": {
      "text/plain": [
       "sex\n",
       "female      0.519558\n",
       "male        0.480432\n",
       "unknown     0.000006\n",
       "intersex    0.000003\n",
       "Name: proportion, dtype: float64"
      ]
     },
     "execution_count": 34,
     "metadata": {},
     "output_type": "execute_result"
    }
   ],
   "source": [
    "lvrh.sex.value_counts(normalize=True)"
   ]
  },
  {
   "cell_type": "markdown",
   "metadata": {},
   "source": [
    "### Arrival method"
   ]
  },
  {
   "cell_type": "code",
   "execution_count": 35,
   "metadata": {},
   "outputs": [
    {
     "data": {
      "text/plain": [
       "arrival_method\n",
       "self/community/pt    0.466219\n",
       "road ambulance       0.291419\n",
       "other                0.220713\n",
       "private ambulance    0.015908\n",
       "police               0.005011\n",
       "air ambulance        0.000729\n",
       "undertaker           0.000000\n",
       "Name: proportion, dtype: float64"
      ]
     },
     "execution_count": 35,
     "metadata": {},
     "output_type": "execute_result"
    }
   ],
   "source": [
    "lvrh.arrival_method.value_counts(normalize=True)"
   ]
  },
  {
   "cell_type": "markdown",
   "metadata": {},
   "source": [
    "### Length of triage notes"
   ]
  },
  {
   "cell_type": "code",
   "execution_count": 36,
   "metadata": {},
   "outputs": [
    {
     "data": {
      "text/plain": [
       "count    316877.0\n",
       "mean        277.0\n",
       "std         126.0\n",
       "min           0.0\n",
       "25%         191.0\n",
       "50%         261.0\n",
       "75%         345.0\n",
       "max        1555.0\n",
       "Name: length, dtype: float64"
      ]
     },
     "execution_count": 36,
     "metadata": {},
     "output_type": "execute_result"
    }
   ],
   "source": [
    "lvrh.length.describe().round()"
   ]
  },
  {
   "cell_type": "markdown",
   "metadata": {},
   "source": [
    "### SH and SI"
   ]
  },
  {
   "cell_type": "code",
   "execution_count": 37,
   "metadata": {},
   "outputs": [
    {
     "data": {
      "text/plain": [
       "SH\n",
       "0    98.3\n",
       "1     1.7\n",
       "Name: proportion, dtype: float64"
      ]
     },
     "execution_count": 37,
     "metadata": {},
     "output_type": "execute_result"
    }
   ],
   "source": [
    "(lvrh.SH.value_counts(dropna=False, normalize=True) * 100).round(1)"
   ]
  },
  {
   "cell_type": "code",
   "execution_count": 38,
   "metadata": {},
   "outputs": [
    {
     "data": {
      "text/plain": [
       "SI\n",
       "0    98.1\n",
       "1     1.9\n",
       "Name: proportion, dtype: float64"
      ]
     },
     "execution_count": 38,
     "metadata": {},
     "output_type": "execute_result"
    }
   ],
   "source": [
    "(lvrh.SI.value_counts(dropna=False, normalize=True) * 100).round(1)"
   ]
  }
 ],
 "metadata": {
  "kernelspec": {
   "display_name": "self-harm-triage-notes",
   "language": "python",
   "name": "python3"
  },
  "language_info": {
   "codemirror_mode": {
    "name": "ipython",
    "version": 3
   },
   "file_extension": ".py",
   "mimetype": "text/x-python",
   "name": "python",
   "nbconvert_exporter": "python",
   "pygments_lexer": "ipython3",
   "version": "3.11.11"
  }
 },
 "nbformat": 4,
 "nbformat_minor": 2
}
