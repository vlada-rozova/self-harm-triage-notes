{
 "cells": [
  {
   "cell_type": "code",
   "execution_count": 10,
   "id": "dd9e0eb7",
   "metadata": {},
   "outputs": [],
   "source": [
    "import pandas as pd\n",
    "\n",
    "# Pandas settings\n",
    "pd.options.display.max_colwidth = 100\n",
    "pd.options.display.max_columns = 100\n",
    "\n",
    "# Project imports \n",
    "from self_harm_triage_notes.config import *\n",
    "from self_harm_triage_notes.utils import get_mapping\n",
    "\n",
    "# Toolbox imports\n",
    "from ml_health_toolbox.dataset_utils import map_and_categorize"
   ]
  },
  {
   "cell_type": "markdown",
   "id": "f4d6690f",
   "metadata": {},
   "source": [
    "___\n",
    "# Datasets with ED presentations from RMH"
   ]
  },
  {
   "cell_type": "markdown",
   "id": "03d0e397",
   "metadata": {},
   "source": [
    "> `RMH_2012-2019_MASTER.xlsx` received on 13.05.2021\n",
    ">\n",
    ">From Kat: I have also rechecked against our datasets, which we received in dribs and drabs from our site throughout 2019 due to the difficulties with COVID-19, and I can confirm that we believe the attached dataset represents the full, manually annotated, dataset from 01/01/2012 to 31/12/2019.\n",
    "\n",
    "> `RMH_Q1 2012 - Q4 2019 - DEIDENT.xlsx` received on 06.05.2023\n",
    ">\n",
    "> `RMH_Q1 2020 - Q2 2022 - DEIDENT.xlsx` received on 06.05.2023"
   ]
  },
  {
   "cell_type": "markdown",
   "id": "b0b73cc3",
   "metadata": {},
   "source": [
    "## First data extract: Q1 2012 to Q4 2019"
   ]
  },
  {
   "cell_type": "code",
   "execution_count": 2,
   "id": "d60b2a27",
   "metadata": {},
   "outputs": [
    {
     "name": "stdout",
     "output_type": "stream",
     "text": [
      "(559453, 42)\n"
     ]
    },
    {
     "data": {
      "application/vnd.microsoft.datawrangler.viewer.v0+json": {
       "columns": [
        {
         "name": "index",
         "rawType": "int64",
         "type": "integer"
        },
        {
         "name": "ID",
         "rawType": "object",
         "type": "string"
        },
        {
         "name": "Gender",
         "rawType": "object",
         "type": "string"
        },
        {
         "name": "Age",
         "rawType": "float64",
         "type": "float"
        },
        {
         "name": "Triage_Category",
         "rawType": "float64",
         "type": "float"
        },
        {
         "name": "Arrivaldate",
         "rawType": "datetime64[ns]",
         "type": "datetime"
        },
        {
         "name": "Arrmod",
         "rawType": "object",
         "type": "string"
        },
        {
         "name": "ICD10_Code",
         "rawType": "object",
         "type": "string"
        },
        {
         "name": "Diagnosis",
         "rawType": "object",
         "type": "string"
        },
        {
         "name": "Presenting_Complaint",
         "rawType": "object",
         "type": "string"
        },
        {
         "name": "Tri_date",
         "rawType": "datetime64[ns]",
         "type": "datetime"
        },
        {
         "name": "Triage_Comments",
         "rawType": "object",
         "type": "string"
        },
        {
         "name": "Stream",
         "rawType": "object",
         "type": "string"
        },
        {
         "name": "Time_seen_by_Doctor",
         "rawType": "object",
         "type": "unknown"
        },
        {
         "name": "ED_LOS",
         "rawType": "float64",
         "type": "float"
        },
        {
         "name": "Departure_Status",
         "rawType": "object",
         "type": "string"
        },
        {
         "name": "Destination",
         "rawType": "object",
         "type": "unknown"
        },
        {
         "name": "Discharged",
         "rawType": "datetime64[ns]",
         "type": "datetime"
        },
        {
         "name": "LeftDeptdatetime",
         "rawType": "datetime64[ns]",
         "type": "datetime"
        },
        {
         "name": "ShortStayAdmissionDateTime",
         "rawType": "datetime64[ns]",
         "type": "datetime"
        },
        {
         "name": "NursingCarePlan",
         "rawType": "float64",
         "type": "float"
        },
        {
         "name": "Path_Request",
         "rawType": "object",
         "type": "unknown"
        },
        {
         "name": "PathReq_date",
         "rawType": "datetime64[ns]",
         "type": "datetime"
        },
        {
         "name": "BedReq_date",
         "rawType": "datetime64[ns]",
         "type": "datetime"
        },
        {
         "name": "BR speciality",
         "rawType": "object",
         "type": "unknown"
        },
        {
         "name": "Resus_Time",
         "rawType": "object",
         "type": "unknown"
        },
        {
         "name": "CTReq_date",
         "rawType": "datetime64[ns]",
         "type": "datetime"
        },
        {
         "name": "Bed_Ready_at",
         "rawType": "object",
         "type": "unknown"
        },
        {
         "name": "Early_Consultant_Ax",
         "rawType": "object",
         "type": "unknown"
        },
        {
         "name": "ECATT_Clinician_Time",
         "rawType": "datetime64[ns]",
         "type": "datetime"
        },
        {
         "name": "ECATT_Referral_Time",
         "rawType": "object",
         "type": "unknown"
        },
        {
         "name": "Inpatient_Referral_Time",
         "rawType": "datetime64[ns]",
         "type": "datetime"
        },
        {
         "name": "Unit_Referred",
         "rawType": "object",
         "type": "unknown"
        },
        {
         "name": "CareCoordinatorDate",
         "rawType": "datetime64[ns]",
         "type": "datetime"
        },
        {
         "name": "AdmitToWard",
         "rawType": "object",
         "type": "unknown"
        },
        {
         "name": "AdmitdateTime",
         "rawType": "object",
         "type": "unknown"
        },
        {
         "name": "Patient_Ready_Status",
         "rawType": "object",
         "type": "unknown"
        },
        {
         "name": "Ptransfer_status_datetime",
         "rawType": "object",
         "type": "unknown"
        },
        {
         "name": "SH",
         "rawType": "float64",
         "type": "float"
        },
        {
         "name": "Year",
         "rawType": "float64",
         "type": "float"
        },
        {
         "name": "AOD_OD",
         "rawType": "int64",
         "type": "integer"
        },
        {
         "name": "SI",
         "rawType": "int64",
         "type": "integer"
        },
        {
         "name": "Audit_case",
         "rawType": "float64",
         "type": "float"
        }
       ],
       "ref": "f9f9cc95-d904-434e-9519-217e429f8121",
       "rows": [
        [
         "0",
         "RMH-1",
         "Female",
         "64.0",
         "3.0",
         "2012-01-08 00:35:00",
         "Other",
         "J459",
         "Asthma",
         "Breathing problem (Resp)",
         "2012-01-08 00:38:18",
         "SOB for 5/7, been to GP given prednisolone, coughing taken inhalers with minimal relief, speaking in full sentences, o/a Sa02 97%, pulse 121",
         "Emergency",
         "2012-01-08 03:43:00",
         "241.0",
         "Home",
         null,
         "2012-01-08 04:39:00",
         "2012-01-08 04:39:00",
         null,
         null,
         "Full Blood Examination (FBE)",
         "2012-01-08 01:46:00",
         null,
         null,
         null,
         null,
         null,
         null,
         null,
         null,
         null,
         null,
         null,
         null,
         null,
         null,
         null,
         "0.0",
         "2012.0",
         "0",
         "0",
         null
        ],
        [
         "1",
         "RMH-2",
         "Male",
         "31.0",
         "4.0",
         "2012-01-08 00:41:00",
         "Other",
         "S0188",
         "Open wound of face (excludes eye)",
         "Injury - localised (Trauma)",
         "2012-01-08 00:42:36",
         "pt has lac down right forehead, to eyebrow, will require stitches and ADT, denies loc wound about 6cms long",
         "Emergency",
         "2012-01-08 03:48:00",
         "249.0",
         "Home",
         null,
         "2012-01-08 04:51:00",
         "2012-01-08 04:51:00",
         null,
         null,
         null,
         null,
         null,
         null,
         null,
         null,
         null,
         null,
         null,
         null,
         null,
         null,
         null,
         null,
         null,
         null,
         null,
         "0.0",
         "2012.0",
         "0",
         "0",
         null
        ],
        [
         "2",
         "RMH-3",
         "Male",
         "19.0",
         "2.0",
         "2012-01-08 00:52:00",
         "Road Ambulance Service",
         "T07",
         "Injuries of more than one nature to unspecified body region",
         "Reg",
         "2012-01-08 00:53:13",
         "pt expect MBA, trapped for 45mins, #right femur, had 40mg morphine, GCS 15",
         "Trauma Resus",
         "2012-01-08 01:00:00",
         "252.0",
         "Ward (Not Elsewhere Described)",
         "7SW - Orthopaedics",
         "2012-01-08 04:29:00",
         "2012-01-08 05:05:00",
         null,
         null,
         "Coagulation Profile (PT(INR)+APTT)",
         "2012-01-08 01:10:00",
         "2012-01-08 01:30:00",
         "Trauma & Transplant Services",
         "2012-01-08 00:53:14.933",
         "2012-01-08 01:08:00",
         "03:30",
         null,
         null,
         null,
         null,
         null,
         null,
         "7SW - Orthopaedics",
         "2012-01-08 03:17:00",
         "Patient Ready for Transfer",
         "2012-01-08 03:55:00",
         "0.0",
         "2012.0",
         "0",
         "0",
         null
        ],
        [
         "3",
         "RMH-4",
         "Male",
         "51.0",
         "3.0",
         "2012-01-08 01:11:00",
         "Other",
         "N23",
         "Renal colic",
         "Kidney / renal problem",
         "2012-01-08 01:13:44",
         "L) sided flank pain same as previous renal colic pain unimproved with analgesia for the past 1/52.  Pt states last renal colic 12 months ago.  Obvious distress at triage",
         "Emergency",
         "2012-01-08 01:22:00",
         "187.0",
         "Short Stay",
         null,
         "2012-01-08 04:07:00",
         "2012-01-08 04:20:00",
         "2012-01-08 03:56:00",
         null,
         "Full Blood Examination (FBE)",
         "2012-01-08 01:18:00",
         "2012-01-08 03:57:00",
         "Emergency",
         null,
         "2012-01-08 01:31:00",
         "04:00",
         null,
         null,
         null,
         null,
         null,
         null,
         "xxSS - Short Stay Unit",
         "2012-01-08 04:01:00",
         "Patient Ready for Transfer",
         "2012-01-08 04:00:00",
         "0.0",
         "2012.0",
         "0",
         "0",
         null
        ],
        [
         "4",
         "RMH-5",
         "Female",
         "25.0",
         "5.0",
         "2012-01-08 01:23:00",
         "Other",
         "K297",
         "Gastritis",
         "Pain (GIT)",
         "2012-01-08 01:25:47",
         "generalised abdo pain and associated headache for 1 year worse tonight.  Pt states that she had a choleysectomy 6/12 ago pain unimproved.  Pt states that she has vomited 3/24.  Nil analgesia taken",
         "Emergency",
         "2012-01-08 04:29:00",
         "215.0",
         "Home",
         null,
         "2012-01-08 06:16:00",
         "2012-01-08 05:00:00",
         null,
         null,
         null,
         null,
         null,
         null,
         null,
         null,
         null,
         null,
         null,
         null,
         null,
         null,
         null,
         null,
         null,
         null,
         null,
         "0.0",
         "2012.0",
         "0",
         "0",
         null
        ]
       ],
       "shape": {
        "columns": 42,
        "rows": 5
       }
      },
      "text/html": [
       "<div>\n",
       "<style scoped>\n",
       "    .dataframe tbody tr th:only-of-type {\n",
       "        vertical-align: middle;\n",
       "    }\n",
       "\n",
       "    .dataframe tbody tr th {\n",
       "        vertical-align: top;\n",
       "    }\n",
       "\n",
       "    .dataframe thead th {\n",
       "        text-align: right;\n",
       "    }\n",
       "</style>\n",
       "<table border=\"1\" class=\"dataframe\">\n",
       "  <thead>\n",
       "    <tr style=\"text-align: right;\">\n",
       "      <th></th>\n",
       "      <th>ID</th>\n",
       "      <th>Gender</th>\n",
       "      <th>Age</th>\n",
       "      <th>Triage_Category</th>\n",
       "      <th>Arrivaldate</th>\n",
       "      <th>Arrmod</th>\n",
       "      <th>ICD10_Code</th>\n",
       "      <th>Diagnosis</th>\n",
       "      <th>Presenting_Complaint</th>\n",
       "      <th>Tri_date</th>\n",
       "      <th>Triage_Comments</th>\n",
       "      <th>Stream</th>\n",
       "      <th>Time_seen_by_Doctor</th>\n",
       "      <th>ED_LOS</th>\n",
       "      <th>Departure_Status</th>\n",
       "      <th>Destination</th>\n",
       "      <th>Discharged</th>\n",
       "      <th>LeftDeptdatetime</th>\n",
       "      <th>ShortStayAdmissionDateTime</th>\n",
       "      <th>NursingCarePlan</th>\n",
       "      <th>Path_Request</th>\n",
       "      <th>PathReq_date</th>\n",
       "      <th>BedReq_date</th>\n",
       "      <th>BR speciality</th>\n",
       "      <th>Resus_Time</th>\n",
       "      <th>CTReq_date</th>\n",
       "      <th>Bed_Ready_at</th>\n",
       "      <th>Early_Consultant_Ax</th>\n",
       "      <th>ECATT_Clinician_Time</th>\n",
       "      <th>ECATT_Referral_Time</th>\n",
       "      <th>Inpatient_Referral_Time</th>\n",
       "      <th>Unit_Referred</th>\n",
       "      <th>CareCoordinatorDate</th>\n",
       "      <th>AdmitToWard</th>\n",
       "      <th>AdmitdateTime</th>\n",
       "      <th>Patient_Ready_Status</th>\n",
       "      <th>Ptransfer_status_datetime</th>\n",
       "      <th>SH</th>\n",
       "      <th>Year</th>\n",
       "      <th>AOD_OD</th>\n",
       "      <th>SI</th>\n",
       "      <th>Audit_case</th>\n",
       "    </tr>\n",
       "  </thead>\n",
       "  <tbody>\n",
       "    <tr>\n",
       "      <th>0</th>\n",
       "      <td>RMH-1</td>\n",
       "      <td>Female</td>\n",
       "      <td>64.0</td>\n",
       "      <td>3.0</td>\n",
       "      <td>2012-01-08 00:35:00</td>\n",
       "      <td>Other</td>\n",
       "      <td>J459</td>\n",
       "      <td>Asthma</td>\n",
       "      <td>Breathing problem (Resp)</td>\n",
       "      <td>2012-01-08 00:38:18</td>\n",
       "      <td>SOB for 5/7, been to GP given prednisolone, coughing taken inhalers with minimal relief, speakin...</td>\n",
       "      <td>Emergency</td>\n",
       "      <td>2012-01-08 03:43:00</td>\n",
       "      <td>241.0</td>\n",
       "      <td>Home</td>\n",
       "      <td>NaN</td>\n",
       "      <td>2012-01-08 04:39:00</td>\n",
       "      <td>2012-01-08 04:39:00</td>\n",
       "      <td>NaT</td>\n",
       "      <td>NaN</td>\n",
       "      <td>Full Blood Examination (FBE)</td>\n",
       "      <td>2012-01-08 01:46:00</td>\n",
       "      <td>NaT</td>\n",
       "      <td>NaN</td>\n",
       "      <td>NaN</td>\n",
       "      <td>NaT</td>\n",
       "      <td>NaN</td>\n",
       "      <td>NaN</td>\n",
       "      <td>NaT</td>\n",
       "      <td>NaN</td>\n",
       "      <td>NaT</td>\n",
       "      <td>NaN</td>\n",
       "      <td>NaT</td>\n",
       "      <td>NaN</td>\n",
       "      <td>NaN</td>\n",
       "      <td>NaN</td>\n",
       "      <td>NaN</td>\n",
       "      <td>0.0</td>\n",
       "      <td>2012.0</td>\n",
       "      <td>0</td>\n",
       "      <td>0</td>\n",
       "      <td>NaN</td>\n",
       "    </tr>\n",
       "    <tr>\n",
       "      <th>1</th>\n",
       "      <td>RMH-2</td>\n",
       "      <td>Male</td>\n",
       "      <td>31.0</td>\n",
       "      <td>4.0</td>\n",
       "      <td>2012-01-08 00:41:00</td>\n",
       "      <td>Other</td>\n",
       "      <td>S0188</td>\n",
       "      <td>Open wound of face (excludes eye)</td>\n",
       "      <td>Injury - localised (Trauma)</td>\n",
       "      <td>2012-01-08 00:42:36</td>\n",
       "      <td>pt has lac down right forehead, to eyebrow, will require stitches and ADT, denies loc wound abou...</td>\n",
       "      <td>Emergency</td>\n",
       "      <td>2012-01-08 03:48:00</td>\n",
       "      <td>249.0</td>\n",
       "      <td>Home</td>\n",
       "      <td>NaN</td>\n",
       "      <td>2012-01-08 04:51:00</td>\n",
       "      <td>2012-01-08 04:51:00</td>\n",
       "      <td>NaT</td>\n",
       "      <td>NaN</td>\n",
       "      <td>NaN</td>\n",
       "      <td>NaT</td>\n",
       "      <td>NaT</td>\n",
       "      <td>NaN</td>\n",
       "      <td>NaN</td>\n",
       "      <td>NaT</td>\n",
       "      <td>NaN</td>\n",
       "      <td>NaN</td>\n",
       "      <td>NaT</td>\n",
       "      <td>NaN</td>\n",
       "      <td>NaT</td>\n",
       "      <td>NaN</td>\n",
       "      <td>NaT</td>\n",
       "      <td>NaN</td>\n",
       "      <td>NaN</td>\n",
       "      <td>NaN</td>\n",
       "      <td>NaN</td>\n",
       "      <td>0.0</td>\n",
       "      <td>2012.0</td>\n",
       "      <td>0</td>\n",
       "      <td>0</td>\n",
       "      <td>NaN</td>\n",
       "    </tr>\n",
       "    <tr>\n",
       "      <th>2</th>\n",
       "      <td>RMH-3</td>\n",
       "      <td>Male</td>\n",
       "      <td>19.0</td>\n",
       "      <td>2.0</td>\n",
       "      <td>2012-01-08 00:52:00</td>\n",
       "      <td>Road Ambulance Service</td>\n",
       "      <td>T07</td>\n",
       "      <td>Injuries of more than one nature to unspecified body region</td>\n",
       "      <td>Reg</td>\n",
       "      <td>2012-01-08 00:53:13</td>\n",
       "      <td>pt expect MBA, trapped for 45mins, #right femur, had 40mg morphine, GCS 15</td>\n",
       "      <td>Trauma Resus</td>\n",
       "      <td>2012-01-08 01:00:00</td>\n",
       "      <td>252.0</td>\n",
       "      <td>Ward (Not Elsewhere Described)</td>\n",
       "      <td>7SW - Orthopaedics</td>\n",
       "      <td>2012-01-08 04:29:00</td>\n",
       "      <td>2012-01-08 05:05:00</td>\n",
       "      <td>NaT</td>\n",
       "      <td>NaN</td>\n",
       "      <td>Coagulation Profile (PT(INR)+APTT)</td>\n",
       "      <td>2012-01-08 01:10:00</td>\n",
       "      <td>2012-01-08 01:30:00</td>\n",
       "      <td>Trauma &amp; Transplant Services</td>\n",
       "      <td>2012-01-08 00:53:14.933</td>\n",
       "      <td>2012-01-08 01:08:00</td>\n",
       "      <td>03:30</td>\n",
       "      <td>NaN</td>\n",
       "      <td>NaT</td>\n",
       "      <td>NaN</td>\n",
       "      <td>NaT</td>\n",
       "      <td>NaN</td>\n",
       "      <td>NaT</td>\n",
       "      <td>7SW - Orthopaedics</td>\n",
       "      <td>2012-01-08 03:17:00</td>\n",
       "      <td>Patient Ready for Transfer</td>\n",
       "      <td>2012-01-08 03:55:00</td>\n",
       "      <td>0.0</td>\n",
       "      <td>2012.0</td>\n",
       "      <td>0</td>\n",
       "      <td>0</td>\n",
       "      <td>NaN</td>\n",
       "    </tr>\n",
       "    <tr>\n",
       "      <th>3</th>\n",
       "      <td>RMH-4</td>\n",
       "      <td>Male</td>\n",
       "      <td>51.0</td>\n",
       "      <td>3.0</td>\n",
       "      <td>2012-01-08 01:11:00</td>\n",
       "      <td>Other</td>\n",
       "      <td>N23</td>\n",
       "      <td>Renal colic</td>\n",
       "      <td>Kidney / renal problem</td>\n",
       "      <td>2012-01-08 01:13:44</td>\n",
       "      <td>L) sided flank pain same as previous renal colic pain unimproved with analgesia for the past 1/5...</td>\n",
       "      <td>Emergency</td>\n",
       "      <td>2012-01-08 01:22:00</td>\n",
       "      <td>187.0</td>\n",
       "      <td>Short Stay</td>\n",
       "      <td>NaN</td>\n",
       "      <td>2012-01-08 04:07:00</td>\n",
       "      <td>2012-01-08 04:20:00</td>\n",
       "      <td>2012-01-08 03:56:00</td>\n",
       "      <td>NaN</td>\n",
       "      <td>Full Blood Examination (FBE)</td>\n",
       "      <td>2012-01-08 01:18:00</td>\n",
       "      <td>2012-01-08 03:57:00</td>\n",
       "      <td>Emergency</td>\n",
       "      <td>NaN</td>\n",
       "      <td>2012-01-08 01:31:00</td>\n",
       "      <td>04:00</td>\n",
       "      <td>NaN</td>\n",
       "      <td>NaT</td>\n",
       "      <td>NaN</td>\n",
       "      <td>NaT</td>\n",
       "      <td>NaN</td>\n",
       "      <td>NaT</td>\n",
       "      <td>xxSS - Short Stay Unit</td>\n",
       "      <td>2012-01-08 04:01:00</td>\n",
       "      <td>Patient Ready for Transfer</td>\n",
       "      <td>2012-01-08 04:00:00</td>\n",
       "      <td>0.0</td>\n",
       "      <td>2012.0</td>\n",
       "      <td>0</td>\n",
       "      <td>0</td>\n",
       "      <td>NaN</td>\n",
       "    </tr>\n",
       "    <tr>\n",
       "      <th>4</th>\n",
       "      <td>RMH-5</td>\n",
       "      <td>Female</td>\n",
       "      <td>25.0</td>\n",
       "      <td>5.0</td>\n",
       "      <td>2012-01-08 01:23:00</td>\n",
       "      <td>Other</td>\n",
       "      <td>K297</td>\n",
       "      <td>Gastritis</td>\n",
       "      <td>Pain (GIT)</td>\n",
       "      <td>2012-01-08 01:25:47</td>\n",
       "      <td>generalised abdo pain and associated headache for 1 year worse tonight.  Pt states that she had ...</td>\n",
       "      <td>Emergency</td>\n",
       "      <td>2012-01-08 04:29:00</td>\n",
       "      <td>215.0</td>\n",
       "      <td>Home</td>\n",
       "      <td>NaN</td>\n",
       "      <td>2012-01-08 06:16:00</td>\n",
       "      <td>2012-01-08 05:00:00</td>\n",
       "      <td>NaT</td>\n",
       "      <td>NaN</td>\n",
       "      <td>NaN</td>\n",
       "      <td>NaT</td>\n",
       "      <td>NaT</td>\n",
       "      <td>NaN</td>\n",
       "      <td>NaN</td>\n",
       "      <td>NaT</td>\n",
       "      <td>NaN</td>\n",
       "      <td>NaN</td>\n",
       "      <td>NaT</td>\n",
       "      <td>NaN</td>\n",
       "      <td>NaT</td>\n",
       "      <td>NaN</td>\n",
       "      <td>NaT</td>\n",
       "      <td>NaN</td>\n",
       "      <td>NaN</td>\n",
       "      <td>NaN</td>\n",
       "      <td>NaN</td>\n",
       "      <td>0.0</td>\n",
       "      <td>2012.0</td>\n",
       "      <td>0</td>\n",
       "      <td>0</td>\n",
       "      <td>NaN</td>\n",
       "    </tr>\n",
       "  </tbody>\n",
       "</table>\n",
       "</div>"
      ],
      "text/plain": [
       "      ID  Gender   Age  Triage_Category         Arrivaldate  \\\n",
       "0  RMH-1  Female  64.0              3.0 2012-01-08 00:35:00   \n",
       "1  RMH-2    Male  31.0              4.0 2012-01-08 00:41:00   \n",
       "2  RMH-3    Male  19.0              2.0 2012-01-08 00:52:00   \n",
       "3  RMH-4    Male  51.0              3.0 2012-01-08 01:11:00   \n",
       "4  RMH-5  Female  25.0              5.0 2012-01-08 01:23:00   \n",
       "\n",
       "                   Arrmod ICD10_Code  \\\n",
       "0                   Other       J459   \n",
       "1                   Other      S0188   \n",
       "2  Road Ambulance Service        T07   \n",
       "3                   Other        N23   \n",
       "4                   Other       K297   \n",
       "\n",
       "                                                     Diagnosis  \\\n",
       "0                                                       Asthma   \n",
       "1                            Open wound of face (excludes eye)   \n",
       "2  Injuries of more than one nature to unspecified body region   \n",
       "3                                                  Renal colic   \n",
       "4                                                    Gastritis   \n",
       "\n",
       "          Presenting_Complaint            Tri_date  \\\n",
       "0     Breathing problem (Resp) 2012-01-08 00:38:18   \n",
       "1  Injury - localised (Trauma) 2012-01-08 00:42:36   \n",
       "2                          Reg 2012-01-08 00:53:13   \n",
       "3       Kidney / renal problem 2012-01-08 01:13:44   \n",
       "4                   Pain (GIT) 2012-01-08 01:25:47   \n",
       "\n",
       "                                                                                       Triage_Comments  \\\n",
       "0  SOB for 5/7, been to GP given prednisolone, coughing taken inhalers with minimal relief, speakin...   \n",
       "1  pt has lac down right forehead, to eyebrow, will require stitches and ADT, denies loc wound abou...   \n",
       "2                           pt expect MBA, trapped for 45mins, #right femur, had 40mg morphine, GCS 15   \n",
       "3  L) sided flank pain same as previous renal colic pain unimproved with analgesia for the past 1/5...   \n",
       "4  generalised abdo pain and associated headache for 1 year worse tonight.  Pt states that she had ...   \n",
       "\n",
       "         Stream  Time_seen_by_Doctor  ED_LOS                Departure_Status  \\\n",
       "0     Emergency  2012-01-08 03:43:00   241.0                            Home   \n",
       "1     Emergency  2012-01-08 03:48:00   249.0                            Home   \n",
       "2  Trauma Resus  2012-01-08 01:00:00   252.0  Ward (Not Elsewhere Described)   \n",
       "3     Emergency  2012-01-08 01:22:00   187.0                      Short Stay   \n",
       "4     Emergency  2012-01-08 04:29:00   215.0                            Home   \n",
       "\n",
       "          Destination          Discharged    LeftDeptdatetime  \\\n",
       "0                 NaN 2012-01-08 04:39:00 2012-01-08 04:39:00   \n",
       "1                 NaN 2012-01-08 04:51:00 2012-01-08 04:51:00   \n",
       "2  7SW - Orthopaedics 2012-01-08 04:29:00 2012-01-08 05:05:00   \n",
       "3                 NaN 2012-01-08 04:07:00 2012-01-08 04:20:00   \n",
       "4                 NaN 2012-01-08 06:16:00 2012-01-08 05:00:00   \n",
       "\n",
       "  ShortStayAdmissionDateTime  NursingCarePlan  \\\n",
       "0                        NaT              NaN   \n",
       "1                        NaT              NaN   \n",
       "2                        NaT              NaN   \n",
       "3        2012-01-08 03:56:00              NaN   \n",
       "4                        NaT              NaN   \n",
       "\n",
       "                         Path_Request        PathReq_date         BedReq_date  \\\n",
       "0        Full Blood Examination (FBE) 2012-01-08 01:46:00                 NaT   \n",
       "1                                 NaN                 NaT                 NaT   \n",
       "2  Coagulation Profile (PT(INR)+APTT) 2012-01-08 01:10:00 2012-01-08 01:30:00   \n",
       "3        Full Blood Examination (FBE) 2012-01-08 01:18:00 2012-01-08 03:57:00   \n",
       "4                                 NaN                 NaT                 NaT   \n",
       "\n",
       "                  BR speciality               Resus_Time          CTReq_date  \\\n",
       "0                           NaN                      NaN                 NaT   \n",
       "1                           NaN                      NaN                 NaT   \n",
       "2  Trauma & Transplant Services  2012-01-08 00:53:14.933 2012-01-08 01:08:00   \n",
       "3                     Emergency                      NaN 2012-01-08 01:31:00   \n",
       "4                           NaN                      NaN                 NaT   \n",
       "\n",
       "  Bed_Ready_at Early_Consultant_Ax ECATT_Clinician_Time ECATT_Referral_Time  \\\n",
       "0          NaN                 NaN                  NaT                 NaN   \n",
       "1          NaN                 NaN                  NaT                 NaN   \n",
       "2        03:30                 NaN                  NaT                 NaN   \n",
       "3        04:00                 NaN                  NaT                 NaN   \n",
       "4          NaN                 NaN                  NaT                 NaN   \n",
       "\n",
       "  Inpatient_Referral_Time Unit_Referred CareCoordinatorDate  \\\n",
       "0                     NaT           NaN                 NaT   \n",
       "1                     NaT           NaN                 NaT   \n",
       "2                     NaT           NaN                 NaT   \n",
       "3                     NaT           NaN                 NaT   \n",
       "4                     NaT           NaN                 NaT   \n",
       "\n",
       "              AdmitToWard        AdmitdateTime        Patient_Ready_Status  \\\n",
       "0                     NaN                  NaN                         NaN   \n",
       "1                     NaN                  NaN                         NaN   \n",
       "2      7SW - Orthopaedics  2012-01-08 03:17:00  Patient Ready for Transfer   \n",
       "3  xxSS - Short Stay Unit  2012-01-08 04:01:00  Patient Ready for Transfer   \n",
       "4                     NaN                  NaN                         NaN   \n",
       "\n",
       "  Ptransfer_status_datetime   SH    Year  AOD_OD  SI  Audit_case  \n",
       "0                       NaN  0.0  2012.0       0   0         NaN  \n",
       "1                       NaN  0.0  2012.0       0   0         NaN  \n",
       "2       2012-01-08 03:55:00  0.0  2012.0       0   0         NaN  \n",
       "3       2012-01-08 04:00:00  0.0  2012.0       0   0         NaN  \n",
       "4                       NaN  0.0  2012.0       0   0         NaN  "
      ]
     },
     "execution_count": 2,
     "metadata": {},
     "output_type": "execute_result"
    }
   ],
   "source": [
    "# Load data\n",
    "df1 = pd.read_excel(rmh_raw_data_path[0])\n",
    "print(df1.shape)\n",
    "df1.head()"
   ]
  },
  {
   "cell_type": "markdown",
   "id": "f1ebf23c",
   "metadata": {},
   "source": [
    "### Empty rows"
   ]
  },
  {
   "cell_type": "code",
   "execution_count": 3,
   "id": "5054bdc8",
   "metadata": {},
   "outputs": [
    {
     "name": "stdout",
     "output_type": "stream",
     "text": [
      "The dataset contains 0 empty rows.\n"
     ]
    },
    {
     "data": {
      "application/vnd.microsoft.datawrangler.viewer.v0+json": {
       "columns": [
        {
         "name": "index",
         "rawType": "int64",
         "type": "integer"
        },
        {
         "name": "ID",
         "rawType": "object",
         "type": "unknown"
        },
        {
         "name": "Gender",
         "rawType": "object",
         "type": "unknown"
        },
        {
         "name": "Age",
         "rawType": "float64",
         "type": "float"
        },
        {
         "name": "Triage_Category",
         "rawType": "float64",
         "type": "float"
        },
        {
         "name": "Arrivaldate",
         "rawType": "datetime64[ns]",
         "type": "datetime"
        },
        {
         "name": "Arrmod",
         "rawType": "object",
         "type": "unknown"
        },
        {
         "name": "ICD10_Code",
         "rawType": "object",
         "type": "unknown"
        },
        {
         "name": "Diagnosis",
         "rawType": "object",
         "type": "unknown"
        },
        {
         "name": "Presenting_Complaint",
         "rawType": "object",
         "type": "unknown"
        },
        {
         "name": "Tri_date",
         "rawType": "datetime64[ns]",
         "type": "datetime"
        },
        {
         "name": "Triage_Comments",
         "rawType": "object",
         "type": "unknown"
        },
        {
         "name": "Stream",
         "rawType": "object",
         "type": "unknown"
        },
        {
         "name": "Time_seen_by_Doctor",
         "rawType": "object",
         "type": "unknown"
        },
        {
         "name": "ED_LOS",
         "rawType": "float64",
         "type": "float"
        },
        {
         "name": "Departure_Status",
         "rawType": "object",
         "type": "unknown"
        },
        {
         "name": "Destination",
         "rawType": "object",
         "type": "unknown"
        },
        {
         "name": "Discharged",
         "rawType": "datetime64[ns]",
         "type": "datetime"
        },
        {
         "name": "LeftDeptdatetime",
         "rawType": "datetime64[ns]",
         "type": "datetime"
        },
        {
         "name": "ShortStayAdmissionDateTime",
         "rawType": "datetime64[ns]",
         "type": "datetime"
        },
        {
         "name": "NursingCarePlan",
         "rawType": "float64",
         "type": "float"
        },
        {
         "name": "Path_Request",
         "rawType": "object",
         "type": "unknown"
        },
        {
         "name": "PathReq_date",
         "rawType": "datetime64[ns]",
         "type": "datetime"
        },
        {
         "name": "BedReq_date",
         "rawType": "datetime64[ns]",
         "type": "datetime"
        },
        {
         "name": "BR speciality",
         "rawType": "object",
         "type": "unknown"
        },
        {
         "name": "Resus_Time",
         "rawType": "object",
         "type": "unknown"
        },
        {
         "name": "CTReq_date",
         "rawType": "datetime64[ns]",
         "type": "datetime"
        },
        {
         "name": "Bed_Ready_at",
         "rawType": "object",
         "type": "unknown"
        },
        {
         "name": "Early_Consultant_Ax",
         "rawType": "object",
         "type": "unknown"
        },
        {
         "name": "ECATT_Clinician_Time",
         "rawType": "datetime64[ns]",
         "type": "datetime"
        },
        {
         "name": "ECATT_Referral_Time",
         "rawType": "object",
         "type": "unknown"
        },
        {
         "name": "Inpatient_Referral_Time",
         "rawType": "datetime64[ns]",
         "type": "datetime"
        },
        {
         "name": "Unit_Referred",
         "rawType": "object",
         "type": "unknown"
        },
        {
         "name": "CareCoordinatorDate",
         "rawType": "datetime64[ns]",
         "type": "datetime"
        },
        {
         "name": "AdmitToWard",
         "rawType": "object",
         "type": "unknown"
        },
        {
         "name": "AdmitdateTime",
         "rawType": "object",
         "type": "unknown"
        },
        {
         "name": "Patient_Ready_Status",
         "rawType": "object",
         "type": "unknown"
        },
        {
         "name": "Ptransfer_status_datetime",
         "rawType": "object",
         "type": "unknown"
        },
        {
         "name": "SH",
         "rawType": "float64",
         "type": "float"
        },
        {
         "name": "Year",
         "rawType": "float64",
         "type": "float"
        },
        {
         "name": "AOD_OD",
         "rawType": "int64",
         "type": "integer"
        },
        {
         "name": "SI",
         "rawType": "int64",
         "type": "integer"
        },
        {
         "name": "Audit_case",
         "rawType": "float64",
         "type": "float"
        }
       ],
       "ref": "ff4cd6e9-34af-4c9e-a300-df84c36d73e4",
       "rows": [
        [
         "559451",
         "RMH-559452",
         "F",
         "29.0",
         "4.0",
         "2019-12-31 23:59:00",
         "Road Ambulance",
         "F10.0",
         "Alcohol intoxication",
         null,
         "2019-12-31 23:59:00",
         "irratic behaviour at party, assulting memebers of public. ep of unresponsive when police arrived. ETOH+drugs. becoming aggitated when questioned re events of the night. PH psychosis, liver disease",
         "RED Cubicles",
         "01/01/2020 00:31",
         "195.0",
         "ED SSU - BAU dispo*",
         "ED SSU",
         "2020-01-01 03:14:01",
         null,
         null,
         null,
         null,
         null,
         null,
         null,
         null,
         null,
         null,
         null,
         "2020-01-01 07:56:48",
         null,
         null,
         null,
         null,
         null,
         null,
         null,
         null,
         "0.0",
         "2019.0",
         "0",
         "0",
         null
        ],
        [
         "559452",
         null,
         null,
         null,
         null,
         null,
         null,
         null,
         null,
         null,
         null,
         null,
         null,
         null,
         null,
         null,
         null,
         null,
         null,
         null,
         null,
         null,
         null,
         null,
         null,
         null,
         null,
         null,
         null,
         null,
         null,
         null,
         null,
         null,
         null,
         null,
         null,
         null,
         null,
         null,
         "0",
         "0",
         null
        ]
       ],
       "shape": {
        "columns": 42,
        "rows": 2
       }
      },
      "text/html": [
       "<div>\n",
       "<style scoped>\n",
       "    .dataframe tbody tr th:only-of-type {\n",
       "        vertical-align: middle;\n",
       "    }\n",
       "\n",
       "    .dataframe tbody tr th {\n",
       "        vertical-align: top;\n",
       "    }\n",
       "\n",
       "    .dataframe thead th {\n",
       "        text-align: right;\n",
       "    }\n",
       "</style>\n",
       "<table border=\"1\" class=\"dataframe\">\n",
       "  <thead>\n",
       "    <tr style=\"text-align: right;\">\n",
       "      <th></th>\n",
       "      <th>ID</th>\n",
       "      <th>Gender</th>\n",
       "      <th>Age</th>\n",
       "      <th>Triage_Category</th>\n",
       "      <th>Arrivaldate</th>\n",
       "      <th>Arrmod</th>\n",
       "      <th>ICD10_Code</th>\n",
       "      <th>Diagnosis</th>\n",
       "      <th>Presenting_Complaint</th>\n",
       "      <th>Tri_date</th>\n",
       "      <th>Triage_Comments</th>\n",
       "      <th>Stream</th>\n",
       "      <th>Time_seen_by_Doctor</th>\n",
       "      <th>ED_LOS</th>\n",
       "      <th>Departure_Status</th>\n",
       "      <th>Destination</th>\n",
       "      <th>Discharged</th>\n",
       "      <th>LeftDeptdatetime</th>\n",
       "      <th>ShortStayAdmissionDateTime</th>\n",
       "      <th>NursingCarePlan</th>\n",
       "      <th>Path_Request</th>\n",
       "      <th>PathReq_date</th>\n",
       "      <th>BedReq_date</th>\n",
       "      <th>BR speciality</th>\n",
       "      <th>Resus_Time</th>\n",
       "      <th>CTReq_date</th>\n",
       "      <th>Bed_Ready_at</th>\n",
       "      <th>Early_Consultant_Ax</th>\n",
       "      <th>ECATT_Clinician_Time</th>\n",
       "      <th>ECATT_Referral_Time</th>\n",
       "      <th>Inpatient_Referral_Time</th>\n",
       "      <th>Unit_Referred</th>\n",
       "      <th>CareCoordinatorDate</th>\n",
       "      <th>AdmitToWard</th>\n",
       "      <th>AdmitdateTime</th>\n",
       "      <th>Patient_Ready_Status</th>\n",
       "      <th>Ptransfer_status_datetime</th>\n",
       "      <th>SH</th>\n",
       "      <th>Year</th>\n",
       "      <th>AOD_OD</th>\n",
       "      <th>SI</th>\n",
       "      <th>Audit_case</th>\n",
       "    </tr>\n",
       "  </thead>\n",
       "  <tbody>\n",
       "    <tr>\n",
       "      <th>559451</th>\n",
       "      <td>RMH-559452</td>\n",
       "      <td>F</td>\n",
       "      <td>29.0</td>\n",
       "      <td>4.0</td>\n",
       "      <td>2019-12-31 23:59:00</td>\n",
       "      <td>Road Ambulance</td>\n",
       "      <td>F10.0</td>\n",
       "      <td>Alcohol intoxication</td>\n",
       "      <td>NaN</td>\n",
       "      <td>2019-12-31 23:59:00</td>\n",
       "      <td>irratic behaviour at party, assulting memebers of public. ep of unresponsive when police arrived...</td>\n",
       "      <td>RED Cubicles</td>\n",
       "      <td>01/01/2020 00:31</td>\n",
       "      <td>195.0</td>\n",
       "      <td>ED SSU - BAU dispo*</td>\n",
       "      <td>ED SSU</td>\n",
       "      <td>2020-01-01 03:14:01</td>\n",
       "      <td>NaT</td>\n",
       "      <td>NaT</td>\n",
       "      <td>NaN</td>\n",
       "      <td>NaN</td>\n",
       "      <td>NaT</td>\n",
       "      <td>NaT</td>\n",
       "      <td>NaN</td>\n",
       "      <td>NaN</td>\n",
       "      <td>NaT</td>\n",
       "      <td>NaN</td>\n",
       "      <td>NaN</td>\n",
       "      <td>2020-01-01 07:56:48</td>\n",
       "      <td>NaN</td>\n",
       "      <td>NaT</td>\n",
       "      <td>NaN</td>\n",
       "      <td>NaT</td>\n",
       "      <td>NaN</td>\n",
       "      <td>NaN</td>\n",
       "      <td>NaN</td>\n",
       "      <td>NaN</td>\n",
       "      <td>0.0</td>\n",
       "      <td>2019.0</td>\n",
       "      <td>0</td>\n",
       "      <td>0</td>\n",
       "      <td>NaN</td>\n",
       "    </tr>\n",
       "    <tr>\n",
       "      <th>559452</th>\n",
       "      <td>NaN</td>\n",
       "      <td>NaN</td>\n",
       "      <td>NaN</td>\n",
       "      <td>NaN</td>\n",
       "      <td>NaT</td>\n",
       "      <td>NaN</td>\n",
       "      <td>NaN</td>\n",
       "      <td>NaN</td>\n",
       "      <td>NaN</td>\n",
       "      <td>NaT</td>\n",
       "      <td>NaN</td>\n",
       "      <td>NaN</td>\n",
       "      <td>NaN</td>\n",
       "      <td>NaN</td>\n",
       "      <td>NaN</td>\n",
       "      <td>NaN</td>\n",
       "      <td>NaT</td>\n",
       "      <td>NaT</td>\n",
       "      <td>NaT</td>\n",
       "      <td>NaN</td>\n",
       "      <td>NaN</td>\n",
       "      <td>NaT</td>\n",
       "      <td>NaT</td>\n",
       "      <td>NaN</td>\n",
       "      <td>NaN</td>\n",
       "      <td>NaT</td>\n",
       "      <td>NaN</td>\n",
       "      <td>NaN</td>\n",
       "      <td>NaT</td>\n",
       "      <td>NaN</td>\n",
       "      <td>NaT</td>\n",
       "      <td>NaN</td>\n",
       "      <td>NaT</td>\n",
       "      <td>NaN</td>\n",
       "      <td>NaN</td>\n",
       "      <td>NaN</td>\n",
       "      <td>NaN</td>\n",
       "      <td>NaN</td>\n",
       "      <td>NaN</td>\n",
       "      <td>0</td>\n",
       "      <td>0</td>\n",
       "      <td>NaN</td>\n",
       "    </tr>\n",
       "  </tbody>\n",
       "</table>\n",
       "</div>"
      ],
      "text/plain": [
       "                ID Gender   Age  Triage_Category         Arrivaldate  \\\n",
       "559451  RMH-559452      F  29.0              4.0 2019-12-31 23:59:00   \n",
       "559452         NaN    NaN   NaN              NaN                 NaT   \n",
       "\n",
       "                Arrmod ICD10_Code             Diagnosis Presenting_Complaint  \\\n",
       "559451  Road Ambulance      F10.0  Alcohol intoxication                  NaN   \n",
       "559452             NaN        NaN                   NaN                  NaN   \n",
       "\n",
       "                  Tri_date  \\\n",
       "559451 2019-12-31 23:59:00   \n",
       "559452                 NaT   \n",
       "\n",
       "                                                                                            Triage_Comments  \\\n",
       "559451  irratic behaviour at party, assulting memebers of public. ep of unresponsive when police arrived...   \n",
       "559452                                                                                                  NaN   \n",
       "\n",
       "              Stream Time_seen_by_Doctor  ED_LOS     Departure_Status  \\\n",
       "559451  RED Cubicles    01/01/2020 00:31   195.0  ED SSU - BAU dispo*   \n",
       "559452           NaN                 NaN     NaN                  NaN   \n",
       "\n",
       "       Destination          Discharged LeftDeptdatetime  \\\n",
       "559451      ED SSU 2020-01-01 03:14:01              NaT   \n",
       "559452         NaN                 NaT              NaT   \n",
       "\n",
       "       ShortStayAdmissionDateTime  NursingCarePlan Path_Request PathReq_date  \\\n",
       "559451                        NaT              NaN          NaN          NaT   \n",
       "559452                        NaT              NaN          NaN          NaT   \n",
       "\n",
       "       BedReq_date BR speciality Resus_Time CTReq_date Bed_Ready_at  \\\n",
       "559451         NaT           NaN        NaN        NaT          NaN   \n",
       "559452         NaT           NaN        NaN        NaT          NaN   \n",
       "\n",
       "       Early_Consultant_Ax ECATT_Clinician_Time ECATT_Referral_Time  \\\n",
       "559451                 NaN  2020-01-01 07:56:48                 NaN   \n",
       "559452                 NaN                  NaT                 NaN   \n",
       "\n",
       "       Inpatient_Referral_Time Unit_Referred CareCoordinatorDate AdmitToWard  \\\n",
       "559451                     NaT           NaN                 NaT         NaN   \n",
       "559452                     NaT           NaN                 NaT         NaN   \n",
       "\n",
       "       AdmitdateTime Patient_Ready_Status Ptransfer_status_datetime   SH  \\\n",
       "559451           NaN                  NaN                       NaN  0.0   \n",
       "559452           NaN                  NaN                       NaN  NaN   \n",
       "\n",
       "          Year  AOD_OD  SI  Audit_case  \n",
       "559451  2019.0       0   0         NaN  \n",
       "559452     NaN       0   0         NaN  "
      ]
     },
     "execution_count": 3,
     "metadata": {},
     "output_type": "execute_result"
    }
   ],
   "source": [
    "print(\"The dataset contains %d empty rows.\" % df1.isna().all(axis=1).sum())\n",
    "df1.tail(2)"
   ]
  },
  {
   "cell_type": "code",
   "execution_count": 4,
   "id": "938e6d3b",
   "metadata": {},
   "outputs": [
    {
     "data": {
      "text/plain": [
       "(559452, 42)"
      ]
     },
     "execution_count": 4,
     "metadata": {},
     "output_type": "execute_result"
    }
   ],
   "source": [
    "# Remove the bottom row\n",
    "df1.drop(df1.tail(1).index,inplace=True) \n",
    "df1.shape"
   ]
  },
  {
   "cell_type": "markdown",
   "id": "330357d2",
   "metadata": {},
   "source": [
    "### Duplicated rows"
   ]
  },
  {
   "cell_type": "code",
   "execution_count": 5,
   "id": "60db4920",
   "metadata": {},
   "outputs": [
    {
     "name": "stdout",
     "output_type": "stream",
     "text": [
      "The dataset contains 36 duplicated rows.\n"
     ]
    }
   ],
   "source": [
    "# Duplicates based on all columns except for ID\n",
    "print(\"The dataset contains %d duplicated rows.\" % df1.duplicated(subset=df1.columns.drop('ID')).sum())"
   ]
  },
  {
   "cell_type": "code",
   "execution_count": 6,
   "id": "6bb752a8",
   "metadata": {},
   "outputs": [
    {
     "data": {
      "text/plain": [
       "(559416, 42)"
      ]
     },
     "execution_count": 6,
     "metadata": {},
     "output_type": "execute_result"
    }
   ],
   "source": [
    "df1.drop_duplicates(subset=df1.columns.drop('ID'), inplace=True, ignore_index=True)\n",
    "df1.shape"
   ]
  },
  {
   "cell_type": "markdown",
   "id": "b64e5fc8",
   "metadata": {},
   "source": [
    "### General info"
   ]
  },
  {
   "cell_type": "code",
   "execution_count": 7,
   "id": "24dd380d",
   "metadata": {},
   "outputs": [
    {
     "name": "stdout",
     "output_type": "stream",
     "text": [
      "<class 'pandas.core.frame.DataFrame'>\n",
      "RangeIndex: 559416 entries, 0 to 559415\n",
      "Data columns (total 42 columns):\n",
      " #   Column                      Non-Null Count   Dtype         \n",
      "---  ------                      --------------   -----         \n",
      " 0   ID                          559416 non-null  object        \n",
      " 1   Gender                      559414 non-null  object        \n",
      " 2   Age                         559416 non-null  float64       \n",
      " 3   Triage_Category             559416 non-null  float64       \n",
      " 4   Arrivaldate                 559416 non-null  datetime64[ns]\n",
      " 5   Arrmod                      559411 non-null  object        \n",
      " 6   ICD10_Code                  542681 non-null  object        \n",
      " 7   Diagnosis                   543085 non-null  object        \n",
      " 8   Presenting_Complaint        515668 non-null  object        \n",
      " 9   Tri_date                    559416 non-null  datetime64[ns]\n",
      " 10  Triage_Comments             555423 non-null  object        \n",
      " 11  Stream                      557077 non-null  object        \n",
      " 12  Time_seen_by_Doctor         539301 non-null  object        \n",
      " 13  ED_LOS                      539660 non-null  float64       \n",
      " 14  Departure_Status            559292 non-null  object        \n",
      " 15  Destination                 126821 non-null  object        \n",
      " 16  Discharged                  559273 non-null  datetime64[ns]\n",
      " 17  LeftDeptdatetime            497333 non-null  datetime64[ns]\n",
      " 18  ShortStayAdmissionDateTime  3072 non-null    datetime64[ns]\n",
      " 19  NursingCarePlan             0 non-null       float64       \n",
      " 20  Path_Request                186358 non-null  object        \n",
      " 21  PathReq_date                193539 non-null  datetime64[ns]\n",
      " 22  BedReq_date                 228417 non-null  datetime64[ns]\n",
      " 23  BR speciality               207904 non-null  object        \n",
      " 24  Resus_Time                  91358 non-null   object        \n",
      " 25  CTReq_date                  106544 non-null  datetime64[ns]\n",
      " 26  Bed_Ready_at                207316 non-null  object        \n",
      " 27  Early_Consultant_Ax         40410 non-null   object        \n",
      " 28  ECATT_Clinician_Time        25531 non-null   datetime64[ns]\n",
      " 29  ECATT_Referral_Time         11654 non-null   object        \n",
      " 30  Inpatient_Referral_Time     149511 non-null  datetime64[ns]\n",
      " 31  Unit_Referred               36294 non-null   object        \n",
      " 32  CareCoordinatorDate         79796 non-null   datetime64[ns]\n",
      " 33  AdmitToWard                 189473 non-null  object        \n",
      " 34  AdmitdateTime               201654 non-null  object        \n",
      " 35  Patient_Ready_Status        51312 non-null   object        \n",
      " 36  Ptransfer_status_datetime   55656 non-null   object        \n",
      " 37  SH                          559416 non-null  float64       \n",
      " 38  Year                        559416 non-null  float64       \n",
      " 39  AOD_OD                      559416 non-null  int64         \n",
      " 40  SI                          559416 non-null  int64         \n",
      " 41  Audit_case                  3502 non-null    float64       \n",
      "dtypes: datetime64[ns](11), float64(7), int64(2), object(22)\n",
      "memory usage: 179.3+ MB\n"
     ]
    }
   ],
   "source": [
    "df1.info()"
   ]
  },
  {
   "cell_type": "code",
   "execution_count": 8,
   "id": "d048e546",
   "metadata": {},
   "outputs": [
    {
     "data": {
      "application/vnd.microsoft.datawrangler.viewer.v0+json": {
       "columns": [
        {
         "name": "index",
         "rawType": "object",
         "type": "string"
        },
        {
         "name": "0",
         "rawType": "int64",
         "type": "integer"
        }
       ],
       "ref": "d58579de-d04e-4dc0-918b-148a7231a626",
       "rows": [
        [
         "ID",
         "0"
        ],
        [
         "Gender",
         "2"
        ],
        [
         "Age",
         "0"
        ],
        [
         "Triage_Category",
         "0"
        ],
        [
         "Arrivaldate",
         "0"
        ],
        [
         "Arrmod",
         "5"
        ],
        [
         "ICD10_Code",
         "16735"
        ],
        [
         "Diagnosis",
         "16331"
        ],
        [
         "Presenting_Complaint",
         "43748"
        ],
        [
         "Tri_date",
         "0"
        ],
        [
         "Triage_Comments",
         "3993"
        ],
        [
         "Stream",
         "2339"
        ],
        [
         "Time_seen_by_Doctor",
         "20115"
        ],
        [
         "ED_LOS",
         "19756"
        ],
        [
         "Departure_Status",
         "124"
        ],
        [
         "Destination",
         "432595"
        ],
        [
         "Discharged",
         "143"
        ],
        [
         "LeftDeptdatetime",
         "62083"
        ],
        [
         "ShortStayAdmissionDateTime",
         "556344"
        ],
        [
         "NursingCarePlan",
         "559416"
        ],
        [
         "Path_Request",
         "373058"
        ],
        [
         "PathReq_date",
         "365877"
        ],
        [
         "BedReq_date",
         "330999"
        ],
        [
         "BR speciality",
         "351512"
        ],
        [
         "Resus_Time",
         "468058"
        ],
        [
         "CTReq_date",
         "452872"
        ],
        [
         "Bed_Ready_at",
         "352100"
        ],
        [
         "Early_Consultant_Ax",
         "519006"
        ],
        [
         "ECATT_Clinician_Time",
         "533885"
        ],
        [
         "ECATT_Referral_Time",
         "547762"
        ],
        [
         "Inpatient_Referral_Time",
         "409905"
        ],
        [
         "Unit_Referred",
         "523122"
        ],
        [
         "CareCoordinatorDate",
         "479620"
        ],
        [
         "AdmitToWard",
         "369943"
        ],
        [
         "AdmitdateTime",
         "357762"
        ],
        [
         "Patient_Ready_Status",
         "508104"
        ],
        [
         "Ptransfer_status_datetime",
         "503760"
        ],
        [
         "SH",
         "0"
        ],
        [
         "Year",
         "0"
        ],
        [
         "AOD_OD",
         "0"
        ],
        [
         "SI",
         "0"
        ],
        [
         "Audit_case",
         "555914"
        ]
       ],
       "shape": {
        "columns": 1,
        "rows": 42
       }
      },
      "text/plain": [
       "ID                                 0\n",
       "Gender                             2\n",
       "Age                                0\n",
       "Triage_Category                    0\n",
       "Arrivaldate                        0\n",
       "Arrmod                             5\n",
       "ICD10_Code                     16735\n",
       "Diagnosis                      16331\n",
       "Presenting_Complaint           43748\n",
       "Tri_date                           0\n",
       "Triage_Comments                 3993\n",
       "Stream                          2339\n",
       "Time_seen_by_Doctor            20115\n",
       "ED_LOS                         19756\n",
       "Departure_Status                 124\n",
       "Destination                   432595\n",
       "Discharged                       143\n",
       "LeftDeptdatetime               62083\n",
       "ShortStayAdmissionDateTime    556344\n",
       "NursingCarePlan               559416\n",
       "Path_Request                  373058\n",
       "PathReq_date                  365877\n",
       "BedReq_date                   330999\n",
       "BR speciality                 351512\n",
       "Resus_Time                    468058\n",
       "CTReq_date                    452872\n",
       "Bed_Ready_at                  352100\n",
       "Early_Consultant_Ax           519006\n",
       "ECATT_Clinician_Time          533885\n",
       "ECATT_Referral_Time           547762\n",
       "Inpatient_Referral_Time       409905\n",
       "Unit_Referred                 523122\n",
       "CareCoordinatorDate           479620\n",
       "AdmitToWard                   369943\n",
       "AdmitdateTime                 357762\n",
       "Patient_Ready_Status          508104\n",
       "Ptransfer_status_datetime     503760\n",
       "SH                                 0\n",
       "Year                               0\n",
       "AOD_OD                             0\n",
       "SI                                 0\n",
       "Audit_case                    555914\n",
       "dtype: int64"
      ]
     },
     "execution_count": 8,
     "metadata": {},
     "output_type": "execute_result"
    }
   ],
   "source": [
    "df1.isna().sum()"
   ]
  },
  {
   "cell_type": "code",
   "execution_count": 9,
   "id": "03c64670",
   "metadata": {},
   "outputs": [
    {
     "data": {
      "application/vnd.microsoft.datawrangler.viewer.v0+json": {
       "columns": [
        {
         "name": "index",
         "rawType": "object",
         "type": "string"
        },
        {
         "name": "0",
         "rawType": "int64",
         "type": "integer"
        }
       ],
       "ref": "13de4b94-ae06-46bb-a9ff-1f7722dbb3f9",
       "rows": [
        [
         "ID",
         "559416"
        ],
        [
         "Gender",
         "13"
        ],
        [
         "Age",
         "117"
        ],
        [
         "Triage_Category",
         "7"
        ],
        [
         "Arrivaldate",
         "539598"
        ],
        [
         "Arrmod",
         "58"
        ],
        [
         "ICD10_Code",
         "1787"
        ],
        [
         "Diagnosis",
         "5983"
        ],
        [
         "Presenting_Complaint",
         "19685"
        ],
        [
         "Tri_date",
         "555572"
        ],
        [
         "Triage_Comments",
         "554175"
        ],
        [
         "Stream",
         "21"
        ],
        [
         "Time_seen_by_Doctor",
         "500194"
        ],
        [
         "ED_LOS",
         "3009"
        ],
        [
         "Departure_Status",
         "125"
        ],
        [
         "Destination",
         "65"
        ],
        [
         "Discharged",
         "511013"
        ],
        [
         "LeftDeptdatetime",
         "458382"
        ],
        [
         "ShortStayAdmissionDateTime",
         "3057"
        ],
        [
         "NursingCarePlan",
         "0"
        ],
        [
         "Path_Request",
         "296"
        ],
        [
         "PathReq_date",
         "188009"
        ],
        [
         "BedReq_date",
         "221904"
        ],
        [
         "BR speciality",
         "132"
        ],
        [
         "Resus_Time",
         "90790"
        ],
        [
         "CTReq_date",
         "104850"
        ],
        [
         "Bed_Ready_at",
         "3699"
        ],
        [
         "Early_Consultant_Ax",
         "39654"
        ],
        [
         "ECATT_Clinician_Time",
         "25293"
        ],
        [
         "ECATT_Referral_Time",
         "5113"
        ],
        [
         "Inpatient_Referral_Time",
         "35076"
        ],
        [
         "Unit_Referred",
         "585"
        ],
        [
         "CareCoordinatorDate",
         "73275"
        ],
        [
         "AdmitToWard",
         "2942"
        ],
        [
         "AdmitdateTime",
         "186779"
        ],
        [
         "Patient_Ready_Status",
         "1793"
        ],
        [
         "Ptransfer_status_datetime",
         "45568"
        ],
        [
         "SH",
         "2"
        ],
        [
         "Year",
         "8"
        ],
        [
         "AOD_OD",
         "2"
        ],
        [
         "SI",
         "2"
        ],
        [
         "Audit_case",
         "1"
        ]
       ],
       "shape": {
        "columns": 1,
        "rows": 42
       }
      },
      "text/plain": [
       "ID                            559416\n",
       "Gender                            13\n",
       "Age                              117\n",
       "Triage_Category                    7\n",
       "Arrivaldate                   539598\n",
       "Arrmod                            58\n",
       "ICD10_Code                      1787\n",
       "Diagnosis                       5983\n",
       "Presenting_Complaint           19685\n",
       "Tri_date                      555572\n",
       "Triage_Comments               554175\n",
       "Stream                            21\n",
       "Time_seen_by_Doctor           500194\n",
       "ED_LOS                          3009\n",
       "Departure_Status                 125\n",
       "Destination                       65\n",
       "Discharged                    511013\n",
       "LeftDeptdatetime              458382\n",
       "ShortStayAdmissionDateTime      3057\n",
       "NursingCarePlan                    0\n",
       "Path_Request                     296\n",
       "PathReq_date                  188009\n",
       "BedReq_date                   221904\n",
       "BR speciality                    132\n",
       "Resus_Time                     90790\n",
       "CTReq_date                    104850\n",
       "Bed_Ready_at                    3699\n",
       "Early_Consultant_Ax            39654\n",
       "ECATT_Clinician_Time           25293\n",
       "ECATT_Referral_Time             5113\n",
       "Inpatient_Referral_Time        35076\n",
       "Unit_Referred                    585\n",
       "CareCoordinatorDate            73275\n",
       "AdmitToWard                     2942\n",
       "AdmitdateTime                 186779\n",
       "Patient_Ready_Status            1793\n",
       "Ptransfer_status_datetime      45568\n",
       "SH                                 2\n",
       "Year                               8\n",
       "AOD_OD                             2\n",
       "SI                                 2\n",
       "Audit_case                         1\n",
       "dtype: int64"
      ]
     },
     "execution_count": 9,
     "metadata": {},
     "output_type": "execute_result"
    }
   ],
   "source": [
    "df1.nunique()"
   ]
  },
  {
   "cell_type": "markdown",
   "id": "99197621",
   "metadata": {},
   "source": [
    "### Rename, convert types, and select columns of interest"
   ]
  },
  {
   "cell_type": "code",
   "execution_count": 11,
   "id": "65e34966",
   "metadata": {},
   "outputs": [],
   "source": [
    "# Rename columns\n",
    "df1.rename(columns={'ID': 'uid', \n",
    "                    'Gender': 'sex',\n",
    "                    'Age': 'age',\n",
    "                    'Arrivaldate': 'arrival_date',\n",
    "                    'Arrmod': 'arrival_method',\n",
    "                    'Year': 'year',\n",
    "                    'Triage_Comments': 'triage_note', \n",
    "                    'Audit_case': 'audit_case'}, \n",
    "          inplace=True)"
   ]
  },
  {
   "cell_type": "code",
   "execution_count": 12,
   "id": "4ba0ea51",
   "metadata": {},
   "outputs": [
    {
     "data": {
      "application/vnd.microsoft.datawrangler.viewer.v0+json": {
       "columns": [
        {
         "name": "index",
         "rawType": "int64",
         "type": "integer"
        },
        {
         "name": "uid",
         "rawType": "object",
         "type": "string"
        },
        {
         "name": "sex",
         "rawType": "object",
         "type": "unknown"
        },
        {
         "name": "age",
         "rawType": "float64",
         "type": "float"
        },
        {
         "name": "arrival_method",
         "rawType": "object",
         "type": "unknown"
        },
        {
         "name": "arrival_date",
         "rawType": "datetime64[ns]",
         "type": "datetime"
        },
        {
         "name": "year",
         "rawType": "int64",
         "type": "integer"
        },
        {
         "name": "triage_note",
         "rawType": "object",
         "type": "unknown"
        },
        {
         "name": "SH",
         "rawType": "category",
         "type": "unknown"
        },
        {
         "name": "SI",
         "rawType": "category",
         "type": "unknown"
        },
        {
         "name": "AOD_OD",
         "rawType": "category",
         "type": "unknown"
        },
        {
         "name": "audit_case",
         "rawType": "float64",
         "type": "float"
        }
       ],
       "ref": "a31f79f0-5e8c-4d70-951c-360a4b540fbb",
       "rows": [
        [
         "0",
         "RMH-1",
         "Female",
         "64.0",
         "Other",
         "2012-01-08 00:35:00",
         "2012",
         "SOB for 5/7, been to GP given prednisolone, coughing taken inhalers with minimal relief, speaking in full sentences, o/a Sa02 97%, pulse 121",
         "Negative",
         "Negative",
         "Negative",
         null
        ],
        [
         "1",
         "RMH-2",
         "Male",
         "31.0",
         "Other",
         "2012-01-08 00:41:00",
         "2012",
         "pt has lac down right forehead, to eyebrow, will require stitches and ADT, denies loc wound about 6cms long",
         "Negative",
         "Negative",
         "Negative",
         null
        ],
        [
         "2",
         "RMH-3",
         "Male",
         "19.0",
         "Road Ambulance Service",
         "2012-01-08 00:52:00",
         "2012",
         "pt expect MBA, trapped for 45mins, #right femur, had 40mg morphine, GCS 15",
         "Negative",
         "Negative",
         "Negative",
         null
        ],
        [
         "3",
         "RMH-4",
         "Male",
         "51.0",
         "Other",
         "2012-01-08 01:11:00",
         "2012",
         "L) sided flank pain same as previous renal colic pain unimproved with analgesia for the past 1/52.  Pt states last renal colic 12 months ago.  Obvious distress at triage",
         "Negative",
         "Negative",
         "Negative",
         null
        ],
        [
         "4",
         "RMH-5",
         "Female",
         "25.0",
         "Other",
         "2012-01-08 01:23:00",
         "2012",
         "generalised abdo pain and associated headache for 1 year worse tonight.  Pt states that she had a choleysectomy 6/12 ago pain unimproved.  Pt states that she has vomited 3/24.  Nil analgesia taken",
         "Negative",
         "Negative",
         "Negative",
         null
        ],
        [
         "5",
         "RMH-6",
         "Female",
         "18.0",
         "Other",
         "2012-01-08 01:37:00",
         "2012",
         "abdo pain associated with constipation.  Pt seen at RMH 2/52 for the same, had OPD in 4/7 for gen med.  Nil improvement with analgesia",
         "Negative",
         "Negative",
         "Negative",
         null
        ],
        [
         "6",
         "RMH-7",
         "Male",
         "58.0",
         "Other",
         "2012-01-08 01:46:00",
         "2012",
         "painful urination and frequency post having long term IDC removed 3/7 (insitu for enlarged prostate).  Pt able to urinate small amount until 1/7 ago now has to self catheterize.  Pt taking trimethoprim and prazosin.",
         "Negative",
         "Negative",
         "Negative",
         null
        ],
        [
         "7",
         "RMH-8",
         "Female",
         "20.0",
         "Other",
         "2012-01-08 02:14:00",
         "2012",
         "epigastric pain, diahorrea  and nausea for 1/7 taken maxalon with nil effect unable to sleep",
         "Negative",
         "Negative",
         "Negative",
         null
        ],
        [
         "8",
         "RMH-9",
         "Female",
         "23.0",
         "Other",
         "2012-01-08 02:24:00",
         "2012",
         "painful swollen nose ? # post accidentially headbutting boyfriends head.  ETOH tonight",
         "Negative",
         "Negative",
         "Negative",
         null
        ],
        [
         "9",
         "RMH-10",
         "Female",
         "59.0",
         "Road Ambulance Service",
         "2012-01-08 02:34:00",
         "2012",
         "R) upper quadrant abdo pain intermittantly for 2/52 us today await results.  AV treated with 10 mg morphine",
         "Negative",
         "Negative",
         "Negative",
         null
        ],
        [
         "10",
         "RMH-11",
         "Male",
         "22.0",
         "Road Ambulance Service",
         "2012-01-08 02:52:00",
         "2012",
         "cyclist v's car at approx 60km/hr headstrike ? LOC.  Lac to head, collered.  ETOH tonight",
         "Negative",
         "Negative",
         "Negative",
         null
        ],
        [
         "11",
         "RMH-12",
         "Male",
         "53.0",
         "Other",
         "2012-01-08 03:27:00",
         "2012",
         "Restless legs, tingling in spine, unable to sleep for past 4/7 not investigated.  PMH depression, hep c +",
         "Negative",
         "Negative",
         "Negative",
         null
        ],
        [
         "12",
         "RMH-13",
         "Male",
         "39.0",
         "Other",
         "2012-01-08 03:42:00",
         "2012",
         "Lac. to R) eyelid post hitting head on basin. Nil LOC. Intoxicated.",
         "Negative",
         "Negative",
         "Negative",
         null
        ],
        [
         "13",
         "RMH-14",
         "Male",
         "54.0",
         "Road Ambulance Service",
         "2012-01-08 04:42:00",
         "2012",
         "generalised abdo pain radiating to back at 0100 similar to previous pancreatitis pt has taken own oxycontin with nil improvement. AV treated with 20mg iv morphine and 3ml penthrane.",
         "Negative",
         "Negative",
         "Negative",
         null
        ],
        [
         "14",
         "RMH-15",
         "Male",
         "44.0",
         "Other",
         "2012-01-08 05:14:00",
         "2012",
         "Painful swollen L) hand post punching wall approx 1/52.  Neurovasc intact",
         "Negative",
         "Negative",
         "Negative",
         null
        ],
        [
         "15",
         "RMH-16",
         "Female",
         "35.0",
         "Road Ambulance Service",
         "2012-01-08 05:17:00",
         "2012",
         "0300 sudden onset of palpations, SOB, dizzy self resolving.  Pt under increased stress and has smoked 2 packs of cigerettes.",
         "Negative",
         "Negative",
         "Negative",
         null
        ],
        [
         "16",
         "RMH-17",
         "Male",
         "41.0",
         "Other",
         "2012-01-08 05:23:00",
         "2012",
         "SOB feels like something in throat, thick sputum feels like he cant clear throat. has had similar in past.  Increased RR sats 100% RA, speaking in sentences.",
         "Negative",
         "Negative",
         "Negative",
         null
        ],
        [
         "17",
         "RMH-18",
         "Male",
         "29.0",
         "Other",
         "2012-01-08 05:26:00",
         "2012",
         "Driver MCA restrained approx 60km/hr into parked car, airbags deployed.  Complaining of L) chest pain and L) scapula pain.. Denies LOC or neck pain.  Self extracted",
         "Negative",
         "Negative",
         "Negative",
         null
        ],
        [
         "18",
         "RMH-19",
         "Female",
         "19.0",
         "Other",
         "2012-01-08 05:30:00",
         "2012",
         "front seat passenger restrained t-boned at approx 50km/hr air bags deployed self extracted.  Pt complains of chest pain, SOB and knee pain.  Denies LOC or neck pain.",
         "Negative",
         "Negative",
         "Negative",
         null
        ],
        [
         "19",
         "RMH-20",
         "Male",
         "49.0",
         "Other",
         "2012-01-08 05:32:00",
         "2012",
         "prolapsed disc in c-spine due for MRI in 4/7.  Tonight increasing pain radiating down L) arm despite endone.  Pt states that he has worse altered sensation and increased weakness in arm",
         "Negative",
         "Negative",
         "Negative",
         null
        ],
        [
         "20",
         "RMH-21",
         "Female",
         "44.0",
         "Other",
         "2012-01-08 05:36:00",
         "2012",
         "central CP aching since 0400 radiating down L) arm and into neck worse on inspiration.  Has had previous in the past NAD.  PMH Smoker",
         "Negative",
         "Negative",
         "Negative",
         null
        ],
        [
         "21",
         "RMH-22",
         "Male",
         "22.0",
         "Road Ambulance Service",
         "2012-01-08 05:39:00",
         "2012",
         "Seen \"jerking\" at night club, AV found evidence of GBH on pt.  Pt not speaking.",
         "Negative",
         "Negative",
         "Negative",
         null
        ],
        [
         "22",
         "RMH-23",
         "Female",
         "22.0",
         "Other",
         "2012-01-08 05:47:00",
         "2012",
         "vomiting since 0300 with associated abdo pain, unable to tolerate fluids.",
         "Negative",
         "Negative",
         "Negative",
         null
        ],
        [
         "23",
         "RMH-24",
         "Female",
         "20.0",
         "Road Ambulance Service",
         "2012-01-08 06:14:00",
         "2012",
         "front passenger restrained 60 - 70km/hr into cafe.  Airbags deployed pt complained of L) rib pain.  Treated with penthrane",
         "Negative",
         "Negative",
         "Negative",
         null
        ],
        [
         "24",
         "RMH-25",
         "Female",
         "66.0",
         "Other",
         "2012-01-08 06:28:00",
         "2012",
         "restrained driver t-boned at aprrox 50km/hr, side airbags deployed self extracted.  Denies loc or neck pain.  Pt complains of R) thigh pain (able to WB) and rib pain",
         "Negative",
         "Negative",
         "Negative",
         null
        ],
        [
         "25",
         "RMH-26",
         "Female",
         "49.0",
         "Road Ambulance Service",
         "2012-01-08 06:44:00",
         "2012",
         "0400 sudden of headache, dizziness, vomiting, SOB and R) sided chest pain described as tightness.  Pt states increased stress and increased cigerette smoking tonight.  AV treated with aspirin, GTN (?improved pain), penthrane.  PMH same pain  related to gall stones, smoker",
         "Negative",
         "Negative",
         "Negative",
         null
        ],
        [
         "26",
         "RMH-27",
         "Male",
         "26.0",
         "Other",
         "2012-01-08 07:46:00",
         "2012",
         "Insect bite to RLQ 1/52 ago. Worsening redness and pus. 1/7 fevers.",
         "Negative",
         "Negative",
         "Negative",
         null
        ],
        [
         "27",
         "RMH-28",
         "Female",
         "88.0",
         "Road Ambulance Service",
         "2012-01-08 07:50:00",
         "2012",
         "Large vomit this am. 6/12 severe vomiting with o/p investigations. Vitals stable as per transport staff. PMHx: HT, GORD, dementia",
         "Negative",
         "Negative",
         "Negative",
         null
        ],
        [
         "28",
         "RMH-29",
         "Female",
         "76.0",
         "Other",
         "2012-01-08 07:57:00",
         "2012",
         "Onset continuous vomiting last night with generalised abdo pain. Bowels opened this am, loose motion. Guarding. Pale. PMHx: bowel Ca, bowel stenting Dec 2011",
         "Negative",
         "Negative",
         "Negative",
         null
        ],
        [
         "29",
         "RMH-30",
         "Male",
         "88.0",
         "Other",
         "2012-01-08 08:13:00",
         "2012",
         "2/7 worsening RUQ pain. \"sharp\" in nature. Guarding. PMHx: stomach ulcer",
         "Negative",
         "Negative",
         "Negative",
         null
        ],
        [
         "30",
         "RMH-31",
         "Female",
         "28.0",
         "Other",
         "2012-01-08 08:20:00",
         "2012",
         "Worsening generalised abdo pain with vomit x2. Guarding. Denies diarrhoea. PMHx: endometriosis",
         "Negative",
         "Negative",
         "Negative",
         null
        ],
        [
         "31",
         "RMH-32",
         "Female",
         "70.0",
         "Other",
         "2012-01-08 08:26:00",
         "2012",
         "5/7 lower abdo pain with intermittent diarrheoa. Denies fevers. On chemo, last dose 30/12. PMHx: breast Ca",
         "Negative",
         "Negative",
         "Negative",
         null
        ],
        [
         "32",
         "RMH-33",
         "Male",
         "59.0",
         "Other",
         "2012-01-08 08:30:00",
         "2012",
         "Worsening L elbow pain post jetskiing yesterday. Limited ROM. Swelling L elbow to L hand. Numbness L hand. Full sensation. Fevers o/n. PMHX: emphysema",
         "Negative",
         "Negative",
         "Negative",
         null
        ],
        [
         "33",
         "RMH-34",
         "Male",
         "29.0",
         "Other",
         "2012-01-08 08:37:00",
         "2012",
         "Awoke this am \"seeing things\" and feeling panicky. Insomnia since December. Decreased appetite. Making eye contact. PMHx: depression",
         "Negative",
         "Negative",
         "Negative",
         null
        ],
        [
         "34",
         "RMH-35",
         "Male",
         "81.0",
         "Road Ambulance Service",
         "2012-01-08 08:42:00",
         "2012",
         "3/7 worsening L leg pain. Difficulty ambulating 1/7. Neurovasc intact. Denies recent trauma. 'Bright' blood in urine and stool 1/7. Mild abdo pain. Vitals stable as per AV. PMHx: bowel Ca, anaemia, HT",
         "Negative",
         "Negative",
         "Negative",
         null
        ],
        [
         "35",
         "RMH-36",
         "Male",
         "90.0",
         "Road Ambulance Service",
         "2012-01-08 08:48:00",
         "2012",
         "Found pale and difficult to rouse this am. RR 28. 89% RA. 110/70. Afebrile. GCS 11. PMHx: dementia, NIDDM, CRF, AF",
         "Negative",
         "Negative",
         "Negative",
         null
        ],
        [
         "36",
         "RMH-37",
         "Male",
         "33.0",
         "Other",
         "2012-01-08 08:51:00",
         "2012",
         "Requesting script for xanax. PMHx: depression, anxiety",
         "Negative",
         "Negative",
         "Negative",
         null
        ],
        [
         "37",
         "RMH-38",
         "Female",
         "21.0",
         "Other",
         "2012-01-08 08:55:00",
         "2012",
         "Injured R knee 31/12. Worsening pain and swelling. Difficulty ambulating.",
         "Negative",
         "Negative",
         "Negative",
         null
        ],
        [
         "38",
         "RMH-39",
         "Female",
         "24.0",
         "Other",
         "2012-01-08 08:59:00",
         "2012",
         "Painful R hip for several weeks. Worsened after fall 2/7 ago. Difficulty ambulating. Denies numbness. PMHx: asthma",
         "Negative",
         "Negative",
         "Negative",
         null
        ],
        [
         "39",
         "RMH-40",
         "Female",
         "31.0",
         "Other",
         "2012-01-08 09:02:00",
         "2012",
         "Awoke with swelling and tingling L side face. No obvious swelling. Nil facial droop. 3/7 headaches, eased with analgesia. Painfree at triage.",
         "Negative",
         "Negative",
         "Negative",
         null
        ],
        [
         "40",
         "RMH-41",
         "Female",
         "48.0",
         "Road Ambulance Service",
         "2012-01-08 09:07:00",
         "2012",
         "R lower rib cage pain this am. Intermittent, sharp in nature. Productive cough. Afebrile. Speaking sentences. PMHx: pulmonary atresia, VSD.",
         "Negative",
         "Negative",
         "Negative",
         null
        ],
        [
         "41",
         "RMH-42",
         "Male",
         "28.0",
         "Other",
         "2012-01-08 09:18:00",
         "2012",
         "Pt accidentially stabbed with a fish knife to R index finer whilst at work approx 20/60 ago. Laceration approx 3cm  with knife going right through pts finger - exit wound to palm.  Bleeding controlled. Finger numb. Last ADT 5yrs ago. At triage GCS 15",
         "Negative",
         "Negative",
         "Negative",
         null
        ],
        [
         "42",
         "RMH-43",
         "Male",
         "24.0",
         "Other",
         "2012-01-08 09:25:00",
         "2012",
         "Pt reports fevers, sweats, headaches, abdominal pain & vomiting since thursday. Pt denies  any overseas/remote travel. Pt NESB - french.  Pt reprots feeling dizzy & is sweaty ++ At triage GCS 15",
         "Negative",
         "Negative",
         "Negative",
         null
        ],
        [
         "43",
         "RMH-44",
         "Male",
         "75.0",
         "Road Ambulance Service",
         "2012-01-08 09:28:00",
         "2012",
         "Awoke SOB, diaphoretic. Initial SaO2 78% with AV. Crackles to MZ on arrival to triage. RR 26. ST 106, 130/90, 36.5. Speaking short sentences. PMHx: dementia, HT, multiple myeloma",
         "Negative",
         "Negative",
         "Negative",
         null
        ],
        [
         "44",
         "RMH-45",
         "Female",
         "44.0",
         "Road Ambulance Service",
         "2012-01-08 09:33:00",
         "2012",
         "Palpitations since 0600. Taken pseudoephedrine tablet. RAF-220, 100/60. Recent OS travel.",
         "Negative",
         "Negative",
         "Negative",
         null
        ],
        [
         "45",
         "RMH-46",
         "Female",
         "32.0",
         "Other",
         "2012-01-08 09:35:00",
         "2012",
         "worsening RIF pain since last 2000hrs last evening. Pt reports pain radiating through to back for the last 15/60. Pt reports diarrhoea & nausea since this am. Pt currently 6/40 gestation. At triage GCS 15",
         "Negative",
         "Negative",
         "Negative",
         null
        ],
        [
         "46",
         "RMH-47",
         "Female",
         "62.0",
         "Other",
         "2012-01-08 09:41:00",
         "2012",
         "1/52 headaches. pt reports R sided neck pain since this am. Pt denies any altered sensation/weakness/ nausea/vomiting/blurred vision. Pt reports relief with Panadeine. Seen here yesterday - nil CTB performed. Hx HT, T2DM. At triage GCS 15",
         "Negative",
         "Negative",
         "Negative",
         null
        ],
        [
         "47",
         "RMH-48",
         "Female",
         "38.0",
         "Road Ambulance Service",
         "2012-01-08 09:48:00",
         "2012",
         "On scooter travelling at 50km/hr - merging into traffic, pt lost control and fell off bike. Fell onto R knee & L shoulder with headstrike. Nil LOC. Helmet insitu. Hx asthma. At triage GCS 15, chest clear, Nil C spine pain - c/o thoracic back pain. Pt collared at triage.",
         "Negative",
         "Negative",
         "Negative",
         null
        ],
        [
         "48",
         "RMH-49",
         "Male",
         "22.0",
         "Road Ambulance Service",
         "2012-01-08 10:02:00",
         "2012",
         "Chest pain. ST elevation on monitor - Code MAMI. Pt BP 70/ systolic on arrival Pt pale & dizzy. GCS 15 Pt to T2",
         "Negative",
         "Negative",
         "Negative",
         null
        ],
        [
         "49",
         "RMH-50",
         "Female",
         "29.0",
         "Other",
         "2012-01-08 10:04:00",
         "2012",
         "Productive yellow cough, sore throat, runny nose & hoarse voice since yesterday. Pt reports feeling SOB last evening. At triage GCS 15",
         "Negative",
         "Negative",
         "Negative",
         null
        ]
       ],
       "shape": {
        "columns": 11,
        "rows": 559416
       }
      },
      "text/html": [
       "<div>\n",
       "<style scoped>\n",
       "    .dataframe tbody tr th:only-of-type {\n",
       "        vertical-align: middle;\n",
       "    }\n",
       "\n",
       "    .dataframe tbody tr th {\n",
       "        vertical-align: top;\n",
       "    }\n",
       "\n",
       "    .dataframe thead th {\n",
       "        text-align: right;\n",
       "    }\n",
       "</style>\n",
       "<table border=\"1\" class=\"dataframe\">\n",
       "  <thead>\n",
       "    <tr style=\"text-align: right;\">\n",
       "      <th></th>\n",
       "      <th>uid</th>\n",
       "      <th>sex</th>\n",
       "      <th>age</th>\n",
       "      <th>arrival_method</th>\n",
       "      <th>arrival_date</th>\n",
       "      <th>year</th>\n",
       "      <th>triage_note</th>\n",
       "      <th>SH</th>\n",
       "      <th>SI</th>\n",
       "      <th>AOD_OD</th>\n",
       "      <th>audit_case</th>\n",
       "    </tr>\n",
       "  </thead>\n",
       "  <tbody>\n",
       "    <tr>\n",
       "      <th>0</th>\n",
       "      <td>RMH-1</td>\n",
       "      <td>Female</td>\n",
       "      <td>64.0</td>\n",
       "      <td>Other</td>\n",
       "      <td>2012-01-08 00:35:00</td>\n",
       "      <td>2012</td>\n",
       "      <td>SOB for 5/7, been to GP given prednisolone, coughing taken inhalers with minimal relief, speakin...</td>\n",
       "      <td>Negative</td>\n",
       "      <td>Negative</td>\n",
       "      <td>Negative</td>\n",
       "      <td>NaN</td>\n",
       "    </tr>\n",
       "    <tr>\n",
       "      <th>1</th>\n",
       "      <td>RMH-2</td>\n",
       "      <td>Male</td>\n",
       "      <td>31.0</td>\n",
       "      <td>Other</td>\n",
       "      <td>2012-01-08 00:41:00</td>\n",
       "      <td>2012</td>\n",
       "      <td>pt has lac down right forehead, to eyebrow, will require stitches and ADT, denies loc wound abou...</td>\n",
       "      <td>Negative</td>\n",
       "      <td>Negative</td>\n",
       "      <td>Negative</td>\n",
       "      <td>NaN</td>\n",
       "    </tr>\n",
       "    <tr>\n",
       "      <th>2</th>\n",
       "      <td>RMH-3</td>\n",
       "      <td>Male</td>\n",
       "      <td>19.0</td>\n",
       "      <td>Road Ambulance Service</td>\n",
       "      <td>2012-01-08 00:52:00</td>\n",
       "      <td>2012</td>\n",
       "      <td>pt expect MBA, trapped for 45mins, #right femur, had 40mg morphine, GCS 15</td>\n",
       "      <td>Negative</td>\n",
       "      <td>Negative</td>\n",
       "      <td>Negative</td>\n",
       "      <td>NaN</td>\n",
       "    </tr>\n",
       "    <tr>\n",
       "      <th>3</th>\n",
       "      <td>RMH-4</td>\n",
       "      <td>Male</td>\n",
       "      <td>51.0</td>\n",
       "      <td>Other</td>\n",
       "      <td>2012-01-08 01:11:00</td>\n",
       "      <td>2012</td>\n",
       "      <td>L) sided flank pain same as previous renal colic pain unimproved with analgesia for the past 1/5...</td>\n",
       "      <td>Negative</td>\n",
       "      <td>Negative</td>\n",
       "      <td>Negative</td>\n",
       "      <td>NaN</td>\n",
       "    </tr>\n",
       "    <tr>\n",
       "      <th>4</th>\n",
       "      <td>RMH-5</td>\n",
       "      <td>Female</td>\n",
       "      <td>25.0</td>\n",
       "      <td>Other</td>\n",
       "      <td>2012-01-08 01:23:00</td>\n",
       "      <td>2012</td>\n",
       "      <td>generalised abdo pain and associated headache for 1 year worse tonight.  Pt states that she had ...</td>\n",
       "      <td>Negative</td>\n",
       "      <td>Negative</td>\n",
       "      <td>Negative</td>\n",
       "      <td>NaN</td>\n",
       "    </tr>\n",
       "    <tr>\n",
       "      <th>...</th>\n",
       "      <td>...</td>\n",
       "      <td>...</td>\n",
       "      <td>...</td>\n",
       "      <td>...</td>\n",
       "      <td>...</td>\n",
       "      <td>...</td>\n",
       "      <td>...</td>\n",
       "      <td>...</td>\n",
       "      <td>...</td>\n",
       "      <td>...</td>\n",
       "      <td>...</td>\n",
       "    </tr>\n",
       "    <tr>\n",
       "      <th>559411</th>\n",
       "      <td>RMH-559448</td>\n",
       "      <td>M</td>\n",
       "      <td>21.0</td>\n",
       "      <td>Other</td>\n",
       "      <td>2019-12-31 23:18:00</td>\n",
       "      <td>2019</td>\n",
       "      <td>Returned from Bali, MBA vs Car, tboned (2/7) # L Tib fib, ORIF attended, R knee Lac with sutures...</td>\n",
       "      <td>Negative</td>\n",
       "      <td>Negative</td>\n",
       "      <td>Negative</td>\n",
       "      <td>NaN</td>\n",
       "    </tr>\n",
       "    <tr>\n",
       "      <th>559412</th>\n",
       "      <td>RMH-559449</td>\n",
       "      <td>M</td>\n",
       "      <td>32.0</td>\n",
       "      <td>Other</td>\n",
       "      <td>2019-12-31 23:27:00</td>\n",
       "      <td>2019</td>\n",
       "      <td>Lumbar back pain since today on b/g of gardening today. Nil incontinence, nil foot drop. Has not...</td>\n",
       "      <td>Negative</td>\n",
       "      <td>Negative</td>\n",
       "      <td>Negative</td>\n",
       "      <td>NaN</td>\n",
       "    </tr>\n",
       "    <tr>\n",
       "      <th>559413</th>\n",
       "      <td>RMH-559450</td>\n",
       "      <td>F</td>\n",
       "      <td>52.0</td>\n",
       "      <td>Road Ambulance</td>\n",
       "      <td>2019-12-31 23:30:00</td>\n",
       "      <td>2019</td>\n",
       "      <td>pushed to ground with headstrike. haematoma to posterior head. hard collar. GCS15 ETOH x2 bottle...</td>\n",
       "      <td>Negative</td>\n",
       "      <td>Negative</td>\n",
       "      <td>Negative</td>\n",
       "      <td>NaN</td>\n",
       "    </tr>\n",
       "    <tr>\n",
       "      <th>559414</th>\n",
       "      <td>RMH-559451</td>\n",
       "      <td>M</td>\n",
       "      <td>90.0</td>\n",
       "      <td>Road Ambulance</td>\n",
       "      <td>2019-12-31 23:35:00</td>\n",
       "      <td>2019</td>\n",
       "      <td>unwitnessed fall 1600 landed R) side. unable to get up. denies headstrike. pain to R) knee. unab...</td>\n",
       "      <td>Negative</td>\n",
       "      <td>Negative</td>\n",
       "      <td>Negative</td>\n",
       "      <td>NaN</td>\n",
       "    </tr>\n",
       "    <tr>\n",
       "      <th>559415</th>\n",
       "      <td>RMH-559452</td>\n",
       "      <td>F</td>\n",
       "      <td>29.0</td>\n",
       "      <td>Road Ambulance</td>\n",
       "      <td>2019-12-31 23:59:00</td>\n",
       "      <td>2019</td>\n",
       "      <td>irratic behaviour at party, assulting memebers of public. ep of unresponsive when police arrived...</td>\n",
       "      <td>Negative</td>\n",
       "      <td>Negative</td>\n",
       "      <td>Negative</td>\n",
       "      <td>NaN</td>\n",
       "    </tr>\n",
       "  </tbody>\n",
       "</table>\n",
       "<p>559416 rows × 11 columns</p>\n",
       "</div>"
      ],
      "text/plain": [
       "               uid     sex   age          arrival_method        arrival_date  \\\n",
       "0            RMH-1  Female  64.0                   Other 2012-01-08 00:35:00   \n",
       "1            RMH-2    Male  31.0                   Other 2012-01-08 00:41:00   \n",
       "2            RMH-3    Male  19.0  Road Ambulance Service 2012-01-08 00:52:00   \n",
       "3            RMH-4    Male  51.0                   Other 2012-01-08 01:11:00   \n",
       "4            RMH-5  Female  25.0                   Other 2012-01-08 01:23:00   \n",
       "...            ...     ...   ...                     ...                 ...   \n",
       "559411  RMH-559448       M  21.0                   Other 2019-12-31 23:18:00   \n",
       "559412  RMH-559449       M  32.0                   Other 2019-12-31 23:27:00   \n",
       "559413  RMH-559450       F  52.0          Road Ambulance 2019-12-31 23:30:00   \n",
       "559414  RMH-559451       M  90.0          Road Ambulance 2019-12-31 23:35:00   \n",
       "559415  RMH-559452       F  29.0          Road Ambulance 2019-12-31 23:59:00   \n",
       "\n",
       "        year  \\\n",
       "0       2012   \n",
       "1       2012   \n",
       "2       2012   \n",
       "3       2012   \n",
       "4       2012   \n",
       "...      ...   \n",
       "559411  2019   \n",
       "559412  2019   \n",
       "559413  2019   \n",
       "559414  2019   \n",
       "559415  2019   \n",
       "\n",
       "                                                                                                triage_note  \\\n",
       "0       SOB for 5/7, been to GP given prednisolone, coughing taken inhalers with minimal relief, speakin...   \n",
       "1       pt has lac down right forehead, to eyebrow, will require stitches and ADT, denies loc wound abou...   \n",
       "2                                pt expect MBA, trapped for 45mins, #right femur, had 40mg morphine, GCS 15   \n",
       "3       L) sided flank pain same as previous renal colic pain unimproved with analgesia for the past 1/5...   \n",
       "4       generalised abdo pain and associated headache for 1 year worse tonight.  Pt states that she had ...   \n",
       "...                                                                                                     ...   \n",
       "559411  Returned from Bali, MBA vs Car, tboned (2/7) # L Tib fib, ORIF attended, R knee Lac with sutures...   \n",
       "559412  Lumbar back pain since today on b/g of gardening today. Nil incontinence, nil foot drop. Has not...   \n",
       "559413  pushed to ground with headstrike. haematoma to posterior head. hard collar. GCS15 ETOH x2 bottle...   \n",
       "559414  unwitnessed fall 1600 landed R) side. unable to get up. denies headstrike. pain to R) knee. unab...   \n",
       "559415  irratic behaviour at party, assulting memebers of public. ep of unresponsive when police arrived...   \n",
       "\n",
       "              SH        SI    AOD_OD  audit_case  \n",
       "0       Negative  Negative  Negative         NaN  \n",
       "1       Negative  Negative  Negative         NaN  \n",
       "2       Negative  Negative  Negative         NaN  \n",
       "3       Negative  Negative  Negative         NaN  \n",
       "4       Negative  Negative  Negative         NaN  \n",
       "...          ...       ...       ...         ...  \n",
       "559411  Negative  Negative  Negative         NaN  \n",
       "559412  Negative  Negative  Negative         NaN  \n",
       "559413  Negative  Negative  Negative         NaN  \n",
       "559414  Negative  Negative  Negative         NaN  \n",
       "559415  Negative  Negative  Negative         NaN  \n",
       "\n",
       "[559416 rows x 11 columns]"
      ]
     },
     "execution_count": 12,
     "metadata": {},
     "output_type": "execute_result"
    }
   ],
   "source": [
    "# Change types\n",
    "df1.arrival_date = pd.to_datetime(df1.arrival_date)\n",
    "df1.year = df1.year.astype(int)\n",
    "df1.SH = map_and_categorize(df1.SH, get_mapping())\n",
    "df1.SI = map_and_categorize(df1.SI, get_mapping())\n",
    "df1.AOD_OD = map_and_categorize(df1.AOD_OD, get_mapping())\n",
    "\n",
    "\n",
    "# Select columns\n",
    "df1 = df1[['uid', 'sex', 'age', 'arrival_method', \n",
    "           'arrival_date', 'year', \n",
    "           'triage_note', 'SH', 'SI', 'AOD_OD', 'audit_case']].copy()\n",
    "df1"
   ]
  },
  {
   "cell_type": "code",
   "execution_count": 13,
   "id": "347b3855",
   "metadata": {},
   "outputs": [
    {
     "name": "stdout",
     "output_type": "stream",
     "text": [
      "<class 'pandas.core.frame.DataFrame'>\n",
      "RangeIndex: 559416 entries, 0 to 559415\n",
      "Data columns (total 11 columns):\n",
      " #   Column          Non-Null Count   Dtype         \n",
      "---  ------          --------------   -----         \n",
      " 0   uid             559416 non-null  object        \n",
      " 1   sex             559414 non-null  object        \n",
      " 2   age             559416 non-null  float64       \n",
      " 3   arrival_method  559411 non-null  object        \n",
      " 4   arrival_date    559416 non-null  datetime64[ns]\n",
      " 5   year            559416 non-null  int64         \n",
      " 6   triage_note     555423 non-null  object        \n",
      " 7   SH              559416 non-null  category      \n",
      " 8   SI              559416 non-null  category      \n",
      " 9   AOD_OD          559416 non-null  category      \n",
      " 10  audit_case      3502 non-null    float64       \n",
      "dtypes: category(3), datetime64[ns](1), float64(2), int64(1), object(4)\n",
      "memory usage: 35.7+ MB\n"
     ]
    }
   ],
   "source": [
    "df1.info()"
   ]
  },
  {
   "cell_type": "markdown",
   "id": "626ff1ed",
   "metadata": {},
   "source": [
    "## Second data extract: Q1 2020 to Q2 2022"
   ]
  },
  {
   "cell_type": "code",
   "execution_count": 14,
   "id": "90780482",
   "metadata": {},
   "outputs": [
    {
     "name": "stdout",
     "output_type": "stream",
     "text": [
      "(212116, 49)\n"
     ]
    },
    {
     "data": {
      "application/vnd.microsoft.datawrangler.viewer.v0+json": {
       "columns": [
        {
         "name": "index",
         "rawType": "int64",
         "type": "integer"
        },
        {
         "name": "Unnamed: 0",
         "rawType": "object",
         "type": "string"
        },
        {
         "name": "Sex",
         "rawType": "object",
         "type": "string"
        },
        {
         "name": "Age",
         "rawType": "int64",
         "type": "integer"
        },
        {
         "name": "Cat",
         "rawType": "int64",
         "type": "integer"
        },
        {
         "name": "Arrv Date/Time",
         "rawType": "datetime64[ns]",
         "type": "datetime"
        },
        {
         "name": "Arrival Method",
         "rawType": "object",
         "type": "string"
        },
        {
         "name": "Primary ED Diagnosis",
         "rawType": "object",
         "type": "string"
        },
        {
         "name": "Diagnoses",
         "rawType": "object",
         "type": "string"
        },
        {
         "name": "Reason for Attendance",
         "rawType": "object",
         "type": "string"
        },
        {
         "name": "Triage Start",
         "rawType": "object",
         "type": "unknown"
        },
        {
         "name": "CC Comments",
         "rawType": "object",
         "type": "string"
        },
        {
         "name": "Care Area",
         "rawType": "object",
         "type": "string"
        },
        {
         "name": "First Doctor Time",
         "rawType": "object",
         "type": "string"
        },
        {
         "name": "LOS (mins)",
         "rawType": "float64",
         "type": "float"
        },
        {
         "name": "ED Disposal",
         "rawType": "object",
         "type": "string"
        },
        {
         "name": "Disposition Type",
         "rawType": "object",
         "type": "string"
        },
        {
         "name": "ED Discharge Date/Time",
         "rawType": "datetime64[ns]",
         "type": "datetime"
        },
        {
         "name": "LeftDeptdatetime",
         "rawType": "float64",
         "type": "float"
        },
        {
         "name": "ShortStayAdmissionDateTime",
         "rawType": "float64",
         "type": "float"
        },
        {
         "name": "NursingCarePlan",
         "rawType": "float64",
         "type": "float"
        },
        {
         "name": "Path_Request",
         "rawType": "float64",
         "type": "float"
        },
        {
         "name": "PathReq_date",
         "rawType": "float64",
         "type": "float"
        },
        {
         "name": "Decision to Admit",
         "rawType": "datetime64[ns]",
         "type": "datetime"
        },
        {
         "name": "Bed Request Specialty",
         "rawType": "object",
         "type": "unknown"
        },
        {
         "name": "Resus_Time",
         "rawType": "float64",
         "type": "float"
        },
        {
         "name": "CTReq_date",
         "rawType": "float64",
         "type": "float"
        },
        {
         "name": "Bed Ready at (HH:MM)",
         "rawType": "object",
         "type": "unknown"
        },
        {
         "name": "Medical RTG Time",
         "rawType": "datetime64[ns]",
         "type": "datetime"
        },
        {
         "name": "EMH Consult Time",
         "rawType": "datetime64[ns]",
         "type": "datetime"
        },
        {
         "name": "ECATT_Referral_Time",
         "rawType": "float64",
         "type": "float"
        },
        {
         "name": "Inpatient_Referral_Time",
         "rawType": "float64",
         "type": "float"
        },
        {
         "name": "Unit_Referred",
         "rawType": "float64",
         "type": "float"
        },
        {
         "name": "CareCoordinatorDate",
         "rawType": "float64",
         "type": "float"
        },
        {
         "name": "AdmitToWard",
         "rawType": "float64",
         "type": "float"
        },
        {
         "name": "AdmitdateTime",
         "rawType": "float64",
         "type": "float"
        },
        {
         "name": "Patient_Ready_Status",
         "rawType": "float64",
         "type": "float"
        },
        {
         "name": "Ptransfer_status_datetime",
         "rawType": "float64",
         "type": "float"
        },
        {
         "name": "SH",
         "rawType": "int64",
         "type": "integer"
        },
        {
         "name": "AOD_OD",
         "rawType": "int64",
         "type": "integer"
        },
        {
         "name": "SI",
         "rawType": "int64",
         "type": "integer"
        },
        {
         "name": "Audit_case",
         "rawType": "int64",
         "type": "integer"
        },
        {
         "name": "Year",
         "rawType": "int64",
         "type": "integer"
        },
        {
         "name": "Activity When Injured",
         "rawType": "object",
         "type": "unknown"
        },
        {
         "name": "Injury Cause",
         "rawType": "object",
         "type": "unknown"
        },
        {
         "name": "Where Injury Occurred",
         "rawType": "object",
         "type": "unknown"
        },
        {
         "name": "VEMD Body Region",
         "rawType": "object",
         "type": "unknown"
        },
        {
         "name": "Presenting Problem",
         "rawType": "object",
         "type": "unknown"
        },
        {
         "name": "Human Intent",
         "rawType": "object",
         "type": "unknown"
        },
        {
         "name": "VEMD Nature of Injury",
         "rawType": "float64",
         "type": "float"
        }
       ],
       "ref": "a4480dc1-e1c5-4171-a404-0de8f39831cd",
       "rows": [
        [
         "0",
         "RMH-2020-1",
         "F",
         "19",
         "3",
         "2020-01-01 00:15:00",
         "Road Ambulance",
         "R45.81",
         "Suicidal ideation",
         "Section 351",
         "2020-01-01 00:15:00",
         "argument with friend, threatened to jump off balcony. had voices in her head for 2/12. nil visual hallucinations",
         "RED Cubicles",
         "01/01/2020 00:54",
         "113.0",
         "Home",
         "Discharged",
         "2020-01-01 02:08:00",
         null,
         null,
         null,
         null,
         null,
         null,
         null,
         null,
         null,
         null,
         null,
         "2020-01-01 00:24:55",
         null,
         null,
         null,
         null,
         null,
         null,
         null,
         null,
         "0",
         "0",
         "0",
         "0",
         "2020",
         null,
         null,
         null,
         null,
         null,
         null,
         null
        ],
        [
         "1",
         "RMH-2020-2",
         "F",
         "22",
         "4",
         "2020-01-01 00:20:00",
         "Other",
         "S62.8",
         "Wrist fracture",
         "Isolated Limb Trauma",
         "2020-01-01 00:20:00",
         "mech fall with swelling to L) hand and dec ROM. ETOH intake.",
         "RED Ambulatory",
         "01/01/2020 00:30",
         "73.0",
         "ED SSU - ED SSU Di*",
         "ED SSU",
         "2020-01-01 01:32:34",
         null,
         null,
         null,
         null,
         null,
         "2020-01-01 01:16:49",
         "Emergency RMH",
         null,
         null,
         null,
         null,
         null,
         null,
         null,
         null,
         null,
         null,
         null,
         null,
         null,
         "0",
         "0",
         "0",
         "0",
         "2020",
         null,
         null,
         null,
         null,
         null,
         null,
         null
        ],
        [
         "2",
         "RMH-2020-3",
         "F",
         "74",
         "4",
         "2020-01-01 00:33:00",
         "Other",
         "K08.88",
         "Pain, dental",
         "ENT",
         "2020-01-01 00:33:00",
         "Left lower dental pain since last year, seeking analgsia until able to attend dental hospital in am. Pain free post paracetamol  PMH NIDDM, HT",
         "RED Ambulatory",
         "01/01/2020 00:42",
         "38.0",
         "Home",
         "Discharged",
         "2020-01-01 01:11:00",
         null,
         null,
         null,
         null,
         null,
         null,
         null,
         null,
         null,
         null,
         null,
         null,
         null,
         null,
         null,
         null,
         null,
         null,
         null,
         null,
         "0",
         "0",
         "0",
         "0",
         "2020",
         null,
         null,
         null,
         null,
         null,
         null,
         null
        ],
        [
         "3",
         "RMH-2020-4",
         "M",
         "66",
         "3",
         "2020-01-01 00:34:00",
         "Other",
         "S01.9",
         "Open wound of head",
         "Trauma",
         "2020-01-01 00:34:00",
         "ETOH, scuffle with HS ? LOC, lac approx 2cm above R eyebrow will require sutures. GCS 15, full power x4, also c/o pain to R lateral ribs. PMH SDH",
         "RED Cubicles",
         "01/01/2020 03:45",
         "295.0",
         "ED SSU - ED SSU Di*",
         "ED SSU",
         "2020-01-01 05:29:13",
         null,
         null,
         null,
         null,
         null,
         "2020-01-01 04:28:17",
         "Emergency RMH",
         null,
         null,
         null,
         null,
         null,
         null,
         null,
         null,
         null,
         null,
         null,
         null,
         null,
         "0",
         "0",
         "0",
         "0",
         "2020",
         null,
         null,
         null,
         null,
         null,
         null,
         null
        ],
        [
         "4",
         "RMH-2020-5",
         "F",
         "82",
         "3",
         "2020-01-01 00:36:00",
         "Road Ambulance",
         "S72.08",
         "Closed fracture head of femur",
         "Low Fall",
         "2020-01-01 00:36:00",
         "mech fall landed L) hip. headstrike onto wall. pain to L) hip, rotation/shortening. ",
         "RED Cubicles",
         "01/01/2020 00:51",
         "373.0",
         "Ward",
         "Admitted",
         "2020-01-01 06:49:00",
         null,
         null,
         null,
         null,
         null,
         "2020-01-01 03:34:39",
         "Orthopaedics ",
         null,
         null,
         "04:30",
         "2020-01-01 06:37:03",
         null,
         null,
         null,
         null,
         null,
         null,
         null,
         null,
         null,
         "0",
         "0",
         "0",
         "0",
         "2020",
         null,
         null,
         null,
         null,
         null,
         null,
         null
        ]
       ],
       "shape": {
        "columns": 49,
        "rows": 5
       }
      },
      "text/html": [
       "<div>\n",
       "<style scoped>\n",
       "    .dataframe tbody tr th:only-of-type {\n",
       "        vertical-align: middle;\n",
       "    }\n",
       "\n",
       "    .dataframe tbody tr th {\n",
       "        vertical-align: top;\n",
       "    }\n",
       "\n",
       "    .dataframe thead th {\n",
       "        text-align: right;\n",
       "    }\n",
       "</style>\n",
       "<table border=\"1\" class=\"dataframe\">\n",
       "  <thead>\n",
       "    <tr style=\"text-align: right;\">\n",
       "      <th></th>\n",
       "      <th>Unnamed: 0</th>\n",
       "      <th>Sex</th>\n",
       "      <th>Age</th>\n",
       "      <th>Cat</th>\n",
       "      <th>Arrv Date/Time</th>\n",
       "      <th>Arrival Method</th>\n",
       "      <th>Primary ED Diagnosis</th>\n",
       "      <th>Diagnoses</th>\n",
       "      <th>Reason for Attendance</th>\n",
       "      <th>Triage Start</th>\n",
       "      <th>CC Comments</th>\n",
       "      <th>Care Area</th>\n",
       "      <th>First Doctor Time</th>\n",
       "      <th>LOS (mins)</th>\n",
       "      <th>ED Disposal</th>\n",
       "      <th>Disposition Type</th>\n",
       "      <th>ED Discharge Date/Time</th>\n",
       "      <th>LeftDeptdatetime</th>\n",
       "      <th>ShortStayAdmissionDateTime</th>\n",
       "      <th>NursingCarePlan</th>\n",
       "      <th>Path_Request</th>\n",
       "      <th>PathReq_date</th>\n",
       "      <th>Decision to Admit</th>\n",
       "      <th>Bed Request Specialty</th>\n",
       "      <th>Resus_Time</th>\n",
       "      <th>CTReq_date</th>\n",
       "      <th>Bed Ready at (HH:MM)</th>\n",
       "      <th>Medical RTG Time</th>\n",
       "      <th>EMH Consult Time</th>\n",
       "      <th>ECATT_Referral_Time</th>\n",
       "      <th>Inpatient_Referral_Time</th>\n",
       "      <th>Unit_Referred</th>\n",
       "      <th>CareCoordinatorDate</th>\n",
       "      <th>AdmitToWard</th>\n",
       "      <th>AdmitdateTime</th>\n",
       "      <th>Patient_Ready_Status</th>\n",
       "      <th>Ptransfer_status_datetime</th>\n",
       "      <th>SH</th>\n",
       "      <th>AOD_OD</th>\n",
       "      <th>SI</th>\n",
       "      <th>Audit_case</th>\n",
       "      <th>Year</th>\n",
       "      <th>Activity When Injured</th>\n",
       "      <th>Injury Cause</th>\n",
       "      <th>Where Injury Occurred</th>\n",
       "      <th>VEMD Body Region</th>\n",
       "      <th>Presenting Problem</th>\n",
       "      <th>Human Intent</th>\n",
       "      <th>VEMD Nature of Injury</th>\n",
       "    </tr>\n",
       "  </thead>\n",
       "  <tbody>\n",
       "    <tr>\n",
       "      <th>0</th>\n",
       "      <td>RMH-2020-1</td>\n",
       "      <td>F</td>\n",
       "      <td>19</td>\n",
       "      <td>3</td>\n",
       "      <td>2020-01-01 00:15:00</td>\n",
       "      <td>Road Ambulance</td>\n",
       "      <td>R45.81</td>\n",
       "      <td>Suicidal ideation</td>\n",
       "      <td>Section 351</td>\n",
       "      <td>2020-01-01 00:15:00</td>\n",
       "      <td>argument with friend, threatened to jump off balcony. had voices in her head for 2/12. nil visua...</td>\n",
       "      <td>RED Cubicles</td>\n",
       "      <td>01/01/2020 00:54</td>\n",
       "      <td>113.0</td>\n",
       "      <td>Home</td>\n",
       "      <td>Discharged</td>\n",
       "      <td>2020-01-01 02:08:00</td>\n",
       "      <td>NaN</td>\n",
       "      <td>NaN</td>\n",
       "      <td>NaN</td>\n",
       "      <td>NaN</td>\n",
       "      <td>NaN</td>\n",
       "      <td>NaT</td>\n",
       "      <td>NaN</td>\n",
       "      <td>NaN</td>\n",
       "      <td>NaN</td>\n",
       "      <td>NaN</td>\n",
       "      <td>NaT</td>\n",
       "      <td>2020-01-01 00:24:55</td>\n",
       "      <td>NaN</td>\n",
       "      <td>NaN</td>\n",
       "      <td>NaN</td>\n",
       "      <td>NaN</td>\n",
       "      <td>NaN</td>\n",
       "      <td>NaN</td>\n",
       "      <td>NaN</td>\n",
       "      <td>NaN</td>\n",
       "      <td>0</td>\n",
       "      <td>0</td>\n",
       "      <td>0</td>\n",
       "      <td>0</td>\n",
       "      <td>2020</td>\n",
       "      <td>NaN</td>\n",
       "      <td>NaN</td>\n",
       "      <td>NaN</td>\n",
       "      <td>NaN</td>\n",
       "      <td>NaN</td>\n",
       "      <td>NaN</td>\n",
       "      <td>NaN</td>\n",
       "    </tr>\n",
       "    <tr>\n",
       "      <th>1</th>\n",
       "      <td>RMH-2020-2</td>\n",
       "      <td>F</td>\n",
       "      <td>22</td>\n",
       "      <td>4</td>\n",
       "      <td>2020-01-01 00:20:00</td>\n",
       "      <td>Other</td>\n",
       "      <td>S62.8</td>\n",
       "      <td>Wrist fracture</td>\n",
       "      <td>Isolated Limb Trauma</td>\n",
       "      <td>2020-01-01 00:20:00</td>\n",
       "      <td>mech fall with swelling to L) hand and dec ROM. ETOH intake.</td>\n",
       "      <td>RED Ambulatory</td>\n",
       "      <td>01/01/2020 00:30</td>\n",
       "      <td>73.0</td>\n",
       "      <td>ED SSU - ED SSU Di*</td>\n",
       "      <td>ED SSU</td>\n",
       "      <td>2020-01-01 01:32:34</td>\n",
       "      <td>NaN</td>\n",
       "      <td>NaN</td>\n",
       "      <td>NaN</td>\n",
       "      <td>NaN</td>\n",
       "      <td>NaN</td>\n",
       "      <td>2020-01-01 01:16:49</td>\n",
       "      <td>Emergency RMH</td>\n",
       "      <td>NaN</td>\n",
       "      <td>NaN</td>\n",
       "      <td>NaN</td>\n",
       "      <td>NaT</td>\n",
       "      <td>NaT</td>\n",
       "      <td>NaN</td>\n",
       "      <td>NaN</td>\n",
       "      <td>NaN</td>\n",
       "      <td>NaN</td>\n",
       "      <td>NaN</td>\n",
       "      <td>NaN</td>\n",
       "      <td>NaN</td>\n",
       "      <td>NaN</td>\n",
       "      <td>0</td>\n",
       "      <td>0</td>\n",
       "      <td>0</td>\n",
       "      <td>0</td>\n",
       "      <td>2020</td>\n",
       "      <td>NaN</td>\n",
       "      <td>NaN</td>\n",
       "      <td>NaN</td>\n",
       "      <td>NaN</td>\n",
       "      <td>NaN</td>\n",
       "      <td>NaN</td>\n",
       "      <td>NaN</td>\n",
       "    </tr>\n",
       "    <tr>\n",
       "      <th>2</th>\n",
       "      <td>RMH-2020-3</td>\n",
       "      <td>F</td>\n",
       "      <td>74</td>\n",
       "      <td>4</td>\n",
       "      <td>2020-01-01 00:33:00</td>\n",
       "      <td>Other</td>\n",
       "      <td>K08.88</td>\n",
       "      <td>Pain, dental</td>\n",
       "      <td>ENT</td>\n",
       "      <td>2020-01-01 00:33:00</td>\n",
       "      <td>Left lower dental pain since last year, seeking analgsia until able to attend dental hospital in...</td>\n",
       "      <td>RED Ambulatory</td>\n",
       "      <td>01/01/2020 00:42</td>\n",
       "      <td>38.0</td>\n",
       "      <td>Home</td>\n",
       "      <td>Discharged</td>\n",
       "      <td>2020-01-01 01:11:00</td>\n",
       "      <td>NaN</td>\n",
       "      <td>NaN</td>\n",
       "      <td>NaN</td>\n",
       "      <td>NaN</td>\n",
       "      <td>NaN</td>\n",
       "      <td>NaT</td>\n",
       "      <td>NaN</td>\n",
       "      <td>NaN</td>\n",
       "      <td>NaN</td>\n",
       "      <td>NaN</td>\n",
       "      <td>NaT</td>\n",
       "      <td>NaT</td>\n",
       "      <td>NaN</td>\n",
       "      <td>NaN</td>\n",
       "      <td>NaN</td>\n",
       "      <td>NaN</td>\n",
       "      <td>NaN</td>\n",
       "      <td>NaN</td>\n",
       "      <td>NaN</td>\n",
       "      <td>NaN</td>\n",
       "      <td>0</td>\n",
       "      <td>0</td>\n",
       "      <td>0</td>\n",
       "      <td>0</td>\n",
       "      <td>2020</td>\n",
       "      <td>NaN</td>\n",
       "      <td>NaN</td>\n",
       "      <td>NaN</td>\n",
       "      <td>NaN</td>\n",
       "      <td>NaN</td>\n",
       "      <td>NaN</td>\n",
       "      <td>NaN</td>\n",
       "    </tr>\n",
       "    <tr>\n",
       "      <th>3</th>\n",
       "      <td>RMH-2020-4</td>\n",
       "      <td>M</td>\n",
       "      <td>66</td>\n",
       "      <td>3</td>\n",
       "      <td>2020-01-01 00:34:00</td>\n",
       "      <td>Other</td>\n",
       "      <td>S01.9</td>\n",
       "      <td>Open wound of head</td>\n",
       "      <td>Trauma</td>\n",
       "      <td>2020-01-01 00:34:00</td>\n",
       "      <td>ETOH, scuffle with HS ? LOC, lac approx 2cm above R eyebrow will require sutures. GCS 15, full p...</td>\n",
       "      <td>RED Cubicles</td>\n",
       "      <td>01/01/2020 03:45</td>\n",
       "      <td>295.0</td>\n",
       "      <td>ED SSU - ED SSU Di*</td>\n",
       "      <td>ED SSU</td>\n",
       "      <td>2020-01-01 05:29:13</td>\n",
       "      <td>NaN</td>\n",
       "      <td>NaN</td>\n",
       "      <td>NaN</td>\n",
       "      <td>NaN</td>\n",
       "      <td>NaN</td>\n",
       "      <td>2020-01-01 04:28:17</td>\n",
       "      <td>Emergency RMH</td>\n",
       "      <td>NaN</td>\n",
       "      <td>NaN</td>\n",
       "      <td>NaN</td>\n",
       "      <td>NaT</td>\n",
       "      <td>NaT</td>\n",
       "      <td>NaN</td>\n",
       "      <td>NaN</td>\n",
       "      <td>NaN</td>\n",
       "      <td>NaN</td>\n",
       "      <td>NaN</td>\n",
       "      <td>NaN</td>\n",
       "      <td>NaN</td>\n",
       "      <td>NaN</td>\n",
       "      <td>0</td>\n",
       "      <td>0</td>\n",
       "      <td>0</td>\n",
       "      <td>0</td>\n",
       "      <td>2020</td>\n",
       "      <td>NaN</td>\n",
       "      <td>NaN</td>\n",
       "      <td>NaN</td>\n",
       "      <td>NaN</td>\n",
       "      <td>NaN</td>\n",
       "      <td>NaN</td>\n",
       "      <td>NaN</td>\n",
       "    </tr>\n",
       "    <tr>\n",
       "      <th>4</th>\n",
       "      <td>RMH-2020-5</td>\n",
       "      <td>F</td>\n",
       "      <td>82</td>\n",
       "      <td>3</td>\n",
       "      <td>2020-01-01 00:36:00</td>\n",
       "      <td>Road Ambulance</td>\n",
       "      <td>S72.08</td>\n",
       "      <td>Closed fracture head of femur</td>\n",
       "      <td>Low Fall</td>\n",
       "      <td>2020-01-01 00:36:00</td>\n",
       "      <td>mech fall landed L) hip. headstrike onto wall. pain to L) hip, rotation/shortening.</td>\n",
       "      <td>RED Cubicles</td>\n",
       "      <td>01/01/2020 00:51</td>\n",
       "      <td>373.0</td>\n",
       "      <td>Ward</td>\n",
       "      <td>Admitted</td>\n",
       "      <td>2020-01-01 06:49:00</td>\n",
       "      <td>NaN</td>\n",
       "      <td>NaN</td>\n",
       "      <td>NaN</td>\n",
       "      <td>NaN</td>\n",
       "      <td>NaN</td>\n",
       "      <td>2020-01-01 03:34:39</td>\n",
       "      <td>Orthopaedics</td>\n",
       "      <td>NaN</td>\n",
       "      <td>NaN</td>\n",
       "      <td>04:30</td>\n",
       "      <td>2020-01-01 06:37:03</td>\n",
       "      <td>NaT</td>\n",
       "      <td>NaN</td>\n",
       "      <td>NaN</td>\n",
       "      <td>NaN</td>\n",
       "      <td>NaN</td>\n",
       "      <td>NaN</td>\n",
       "      <td>NaN</td>\n",
       "      <td>NaN</td>\n",
       "      <td>NaN</td>\n",
       "      <td>0</td>\n",
       "      <td>0</td>\n",
       "      <td>0</td>\n",
       "      <td>0</td>\n",
       "      <td>2020</td>\n",
       "      <td>NaN</td>\n",
       "      <td>NaN</td>\n",
       "      <td>NaN</td>\n",
       "      <td>NaN</td>\n",
       "      <td>NaN</td>\n",
       "      <td>NaN</td>\n",
       "      <td>NaN</td>\n",
       "    </tr>\n",
       "  </tbody>\n",
       "</table>\n",
       "</div>"
      ],
      "text/plain": [
       "   Unnamed: 0 Sex  Age  Cat      Arrv Date/Time  Arrival Method  \\\n",
       "0  RMH-2020-1   F   19    3 2020-01-01 00:15:00  Road Ambulance   \n",
       "1  RMH-2020-2   F   22    4 2020-01-01 00:20:00           Other   \n",
       "2  RMH-2020-3   F   74    4 2020-01-01 00:33:00           Other   \n",
       "3  RMH-2020-4   M   66    3 2020-01-01 00:34:00           Other   \n",
       "4  RMH-2020-5   F   82    3 2020-01-01 00:36:00  Road Ambulance   \n",
       "\n",
       "  Primary ED Diagnosis                      Diagnoses Reason for Attendance  \\\n",
       "0               R45.81              Suicidal ideation           Section 351   \n",
       "1                S62.8                 Wrist fracture  Isolated Limb Trauma   \n",
       "2               K08.88                   Pain, dental                   ENT   \n",
       "3                S01.9             Open wound of head                Trauma   \n",
       "4               S72.08  Closed fracture head of femur              Low Fall   \n",
       "\n",
       "          Triage Start  \\\n",
       "0  2020-01-01 00:15:00   \n",
       "1  2020-01-01 00:20:00   \n",
       "2  2020-01-01 00:33:00   \n",
       "3  2020-01-01 00:34:00   \n",
       "4  2020-01-01 00:36:00   \n",
       "\n",
       "                                                                                           CC Comments  \\\n",
       "0  argument with friend, threatened to jump off balcony. had voices in her head for 2/12. nil visua...   \n",
       "1                                         mech fall with swelling to L) hand and dec ROM. ETOH intake.   \n",
       "2  Left lower dental pain since last year, seeking analgsia until able to attend dental hospital in...   \n",
       "3  ETOH, scuffle with HS ? LOC, lac approx 2cm above R eyebrow will require sutures. GCS 15, full p...   \n",
       "4                 mech fall landed L) hip. headstrike onto wall. pain to L) hip, rotation/shortening.    \n",
       "\n",
       "        Care Area First Doctor Time  LOS (mins)          ED Disposal  \\\n",
       "0    RED Cubicles  01/01/2020 00:54       113.0                 Home   \n",
       "1  RED Ambulatory  01/01/2020 00:30        73.0  ED SSU - ED SSU Di*   \n",
       "2  RED Ambulatory  01/01/2020 00:42        38.0                 Home   \n",
       "3    RED Cubicles  01/01/2020 03:45       295.0  ED SSU - ED SSU Di*   \n",
       "4    RED Cubicles  01/01/2020 00:51       373.0                 Ward   \n",
       "\n",
       "  Disposition Type ED Discharge Date/Time  LeftDeptdatetime  \\\n",
       "0       Discharged    2020-01-01 02:08:00               NaN   \n",
       "1           ED SSU    2020-01-01 01:32:34               NaN   \n",
       "2       Discharged    2020-01-01 01:11:00               NaN   \n",
       "3           ED SSU    2020-01-01 05:29:13               NaN   \n",
       "4         Admitted    2020-01-01 06:49:00               NaN   \n",
       "\n",
       "   ShortStayAdmissionDateTime  NursingCarePlan  Path_Request  PathReq_date  \\\n",
       "0                         NaN              NaN           NaN           NaN   \n",
       "1                         NaN              NaN           NaN           NaN   \n",
       "2                         NaN              NaN           NaN           NaN   \n",
       "3                         NaN              NaN           NaN           NaN   \n",
       "4                         NaN              NaN           NaN           NaN   \n",
       "\n",
       "    Decision to Admit Bed Request Specialty  Resus_Time  CTReq_date  \\\n",
       "0                 NaT                   NaN         NaN         NaN   \n",
       "1 2020-01-01 01:16:49         Emergency RMH         NaN         NaN   \n",
       "2                 NaT                   NaN         NaN         NaN   \n",
       "3 2020-01-01 04:28:17         Emergency RMH         NaN         NaN   \n",
       "4 2020-01-01 03:34:39         Orthopaedics          NaN         NaN   \n",
       "\n",
       "  Bed Ready at (HH:MM)    Medical RTG Time    EMH Consult Time  \\\n",
       "0                  NaN                 NaT 2020-01-01 00:24:55   \n",
       "1                  NaN                 NaT                 NaT   \n",
       "2                  NaN                 NaT                 NaT   \n",
       "3                  NaN                 NaT                 NaT   \n",
       "4                04:30 2020-01-01 06:37:03                 NaT   \n",
       "\n",
       "   ECATT_Referral_Time  Inpatient_Referral_Time  Unit_Referred  \\\n",
       "0                  NaN                      NaN            NaN   \n",
       "1                  NaN                      NaN            NaN   \n",
       "2                  NaN                      NaN            NaN   \n",
       "3                  NaN                      NaN            NaN   \n",
       "4                  NaN                      NaN            NaN   \n",
       "\n",
       "   CareCoordinatorDate  AdmitToWard  AdmitdateTime  Patient_Ready_Status  \\\n",
       "0                  NaN          NaN            NaN                   NaN   \n",
       "1                  NaN          NaN            NaN                   NaN   \n",
       "2                  NaN          NaN            NaN                   NaN   \n",
       "3                  NaN          NaN            NaN                   NaN   \n",
       "4                  NaN          NaN            NaN                   NaN   \n",
       "\n",
       "   Ptransfer_status_datetime  SH  AOD_OD  SI  Audit_case  Year  \\\n",
       "0                        NaN   0       0   0           0  2020   \n",
       "1                        NaN   0       0   0           0  2020   \n",
       "2                        NaN   0       0   0           0  2020   \n",
       "3                        NaN   0       0   0           0  2020   \n",
       "4                        NaN   0       0   0           0  2020   \n",
       "\n",
       "  Activity When Injured Injury Cause Where Injury Occurred VEMD Body Region  \\\n",
       "0                   NaN          NaN                   NaN              NaN   \n",
       "1                   NaN          NaN                   NaN              NaN   \n",
       "2                   NaN          NaN                   NaN              NaN   \n",
       "3                   NaN          NaN                   NaN              NaN   \n",
       "4                   NaN          NaN                   NaN              NaN   \n",
       "\n",
       "  Presenting Problem Human Intent  VEMD Nature of Injury  \n",
       "0                NaN          NaN                    NaN  \n",
       "1                NaN          NaN                    NaN  \n",
       "2                NaN          NaN                    NaN  \n",
       "3                NaN          NaN                    NaN  \n",
       "4                NaN          NaN                    NaN  "
      ]
     },
     "execution_count": 14,
     "metadata": {},
     "output_type": "execute_result"
    }
   ],
   "source": [
    "# Load data\n",
    "df2 = pd.read_excel(rmh_raw_data_path[1])\n",
    "print(df2.shape)\n",
    "df2.head()"
   ]
  },
  {
   "cell_type": "markdown",
   "id": "1b2f8b0a",
   "metadata": {},
   "source": [
    "### Empty rows"
   ]
  },
  {
   "cell_type": "code",
   "execution_count": 15,
   "id": "89429fd7",
   "metadata": {},
   "outputs": [
    {
     "name": "stdout",
     "output_type": "stream",
     "text": [
      "The dataset contains 0 empty rows.\n"
     ]
    },
    {
     "data": {
      "application/vnd.microsoft.datawrangler.viewer.v0+json": {
       "columns": [
        {
         "name": "index",
         "rawType": "int64",
         "type": "integer"
        },
        {
         "name": "Unnamed: 0",
         "rawType": "object",
         "type": "string"
        },
        {
         "name": "Sex",
         "rawType": "object",
         "type": "string"
        },
        {
         "name": "Age",
         "rawType": "int64",
         "type": "integer"
        },
        {
         "name": "Cat",
         "rawType": "int64",
         "type": "integer"
        },
        {
         "name": "Arrv Date/Time",
         "rawType": "datetime64[ns]",
         "type": "datetime"
        },
        {
         "name": "Arrival Method",
         "rawType": "object",
         "type": "string"
        },
        {
         "name": "Primary ED Diagnosis",
         "rawType": "object",
         "type": "unknown"
        },
        {
         "name": "Diagnoses",
         "rawType": "object",
         "type": "unknown"
        },
        {
         "name": "Reason for Attendance",
         "rawType": "object",
         "type": "unknown"
        },
        {
         "name": "Triage Start",
         "rawType": "object",
         "type": "string"
        },
        {
         "name": "CC Comments",
         "rawType": "object",
         "type": "unknown"
        },
        {
         "name": "Care Area",
         "rawType": "object",
         "type": "unknown"
        },
        {
         "name": "First Doctor Time",
         "rawType": "object",
         "type": "string"
        },
        {
         "name": "LOS (mins)",
         "rawType": "float64",
         "type": "float"
        },
        {
         "name": "ED Disposal",
         "rawType": "object",
         "type": "string"
        },
        {
         "name": "Disposition Type",
         "rawType": "object",
         "type": "unknown"
        },
        {
         "name": "ED Discharge Date/Time",
         "rawType": "datetime64[ns]",
         "type": "datetime"
        },
        {
         "name": "LeftDeptdatetime",
         "rawType": "float64",
         "type": "float"
        },
        {
         "name": "ShortStayAdmissionDateTime",
         "rawType": "float64",
         "type": "float"
        },
        {
         "name": "NursingCarePlan",
         "rawType": "float64",
         "type": "float"
        },
        {
         "name": "Path_Request",
         "rawType": "float64",
         "type": "float"
        },
        {
         "name": "PathReq_date",
         "rawType": "float64",
         "type": "float"
        },
        {
         "name": "Decision to Admit",
         "rawType": "datetime64[ns]",
         "type": "datetime"
        },
        {
         "name": "Bed Request Specialty",
         "rawType": "object",
         "type": "unknown"
        },
        {
         "name": "Resus_Time",
         "rawType": "float64",
         "type": "float"
        },
        {
         "name": "CTReq_date",
         "rawType": "float64",
         "type": "float"
        },
        {
         "name": "Bed Ready at (HH:MM)",
         "rawType": "object",
         "type": "unknown"
        },
        {
         "name": "Medical RTG Time",
         "rawType": "datetime64[ns]",
         "type": "datetime"
        },
        {
         "name": "EMH Consult Time",
         "rawType": "datetime64[ns]",
         "type": "datetime"
        },
        {
         "name": "ECATT_Referral_Time",
         "rawType": "float64",
         "type": "float"
        },
        {
         "name": "Inpatient_Referral_Time",
         "rawType": "float64",
         "type": "float"
        },
        {
         "name": "Unit_Referred",
         "rawType": "float64",
         "type": "float"
        },
        {
         "name": "CareCoordinatorDate",
         "rawType": "float64",
         "type": "float"
        },
        {
         "name": "AdmitToWard",
         "rawType": "float64",
         "type": "float"
        },
        {
         "name": "AdmitdateTime",
         "rawType": "float64",
         "type": "float"
        },
        {
         "name": "Patient_Ready_Status",
         "rawType": "float64",
         "type": "float"
        },
        {
         "name": "Ptransfer_status_datetime",
         "rawType": "float64",
         "type": "float"
        },
        {
         "name": "SH",
         "rawType": "int64",
         "type": "integer"
        },
        {
         "name": "AOD_OD",
         "rawType": "int64",
         "type": "integer"
        },
        {
         "name": "SI",
         "rawType": "int64",
         "type": "integer"
        },
        {
         "name": "Audit_case",
         "rawType": "int64",
         "type": "integer"
        },
        {
         "name": "Year",
         "rawType": "int64",
         "type": "integer"
        },
        {
         "name": "Activity When Injured",
         "rawType": "object",
         "type": "unknown"
        },
        {
         "name": "Injury Cause",
         "rawType": "object",
         "type": "unknown"
        },
        {
         "name": "Where Injury Occurred",
         "rawType": "object",
         "type": "unknown"
        },
        {
         "name": "VEMD Body Region",
         "rawType": "object",
         "type": "unknown"
        },
        {
         "name": "Presenting Problem",
         "rawType": "object",
         "type": "unknown"
        },
        {
         "name": "Human Intent",
         "rawType": "object",
         "type": "unknown"
        },
        {
         "name": "VEMD Nature of Injury",
         "rawType": "float64",
         "type": "float"
        }
       ],
       "ref": "f642c9ac-41fb-4be2-9846-458c30a30a2c",
       "rows": [
        [
         "212114",
         "RMH-2022-42576",
         "F",
         "61",
         "1",
         "2022-06-30 23:53:59",
         "Helicopter",
         "S09.9",
         null,
         null,
         " 30/06/22 23:54",
         null,
         null,
         "01/07/2022 00:07",
         null,
         "Intensive Care Unit - This Campus",
         null,
         "2022-07-01 08:31:00",
         null,
         null,
         null,
         null,
         null,
         null,
         null,
         null,
         null,
         null,
         null,
         null,
         null,
         null,
         null,
         null,
         null,
         null,
         null,
         null,
         "0",
         "0",
         "0",
         "0",
         "2022",
         "Unspecified activity",
         "9",
         "Home",
         "22",
         "Pt Exepct:  HEMS 1 Intubated trauma from Shepparton. 0700 husband returned from work & found pt with blood in hair. ?unwitnessd fall. Pt husband gave stemitil 10mg for nausea & left to pick up grandkids, retunred @ 1000hrs and noticed pt in an altered conscious state. GCS 7 & on arrival to Shepparton Hospital - PEARL, equal limb strength x 4 and agitation.  Intubated @ 1930 hrs with GCS 9 - Grade 1 view, Size 7 ETT, Lip level 2 22 cm. CT:    # Right frontal extra-axial haemorrhage and petechial haemorrhagic cerebral contusions, L) scalp haemotoma. R) radial arterial line, IDC size 14, x3 IVC  Aimed to extuabte. Attempted to wean seation- pulling at tube: Aim for extubation, neuroprotective measures,",
         "1",
         "23.0"
        ],
        [
         "212115",
         "RMH-2022-42577",
         "M",
         "41",
         "4",
         "2022-06-30 23:55:31",
         "Other",
         null,
         null,
         null,
         " 01/07/22 00:02",
         "L)sided intermittent chest wall pain for a month. Worse when laying. Hasn't taken pain relief!",
         null,
         "01/07/2022 04:14",
         null,
         "Left Without Treatment",
         null,
         "2022-07-01 04:30:00",
         null,
         null,
         null,
         null,
         null,
         null,
         null,
         null,
         null,
         null,
         null,
         null,
         null,
         null,
         null,
         null,
         null,
         null,
         null,
         null,
         "0",
         "0",
         "0",
         "0",
         "2022",
         null,
         null,
         null,
         null,
         null,
         null,
         null
        ]
       ],
       "shape": {
        "columns": 49,
        "rows": 2
       }
      },
      "text/html": [
       "<div>\n",
       "<style scoped>\n",
       "    .dataframe tbody tr th:only-of-type {\n",
       "        vertical-align: middle;\n",
       "    }\n",
       "\n",
       "    .dataframe tbody tr th {\n",
       "        vertical-align: top;\n",
       "    }\n",
       "\n",
       "    .dataframe thead th {\n",
       "        text-align: right;\n",
       "    }\n",
       "</style>\n",
       "<table border=\"1\" class=\"dataframe\">\n",
       "  <thead>\n",
       "    <tr style=\"text-align: right;\">\n",
       "      <th></th>\n",
       "      <th>Unnamed: 0</th>\n",
       "      <th>Sex</th>\n",
       "      <th>Age</th>\n",
       "      <th>Cat</th>\n",
       "      <th>Arrv Date/Time</th>\n",
       "      <th>Arrival Method</th>\n",
       "      <th>Primary ED Diagnosis</th>\n",
       "      <th>Diagnoses</th>\n",
       "      <th>Reason for Attendance</th>\n",
       "      <th>Triage Start</th>\n",
       "      <th>CC Comments</th>\n",
       "      <th>Care Area</th>\n",
       "      <th>First Doctor Time</th>\n",
       "      <th>LOS (mins)</th>\n",
       "      <th>ED Disposal</th>\n",
       "      <th>Disposition Type</th>\n",
       "      <th>ED Discharge Date/Time</th>\n",
       "      <th>LeftDeptdatetime</th>\n",
       "      <th>ShortStayAdmissionDateTime</th>\n",
       "      <th>NursingCarePlan</th>\n",
       "      <th>Path_Request</th>\n",
       "      <th>PathReq_date</th>\n",
       "      <th>Decision to Admit</th>\n",
       "      <th>Bed Request Specialty</th>\n",
       "      <th>Resus_Time</th>\n",
       "      <th>CTReq_date</th>\n",
       "      <th>Bed Ready at (HH:MM)</th>\n",
       "      <th>Medical RTG Time</th>\n",
       "      <th>EMH Consult Time</th>\n",
       "      <th>ECATT_Referral_Time</th>\n",
       "      <th>Inpatient_Referral_Time</th>\n",
       "      <th>Unit_Referred</th>\n",
       "      <th>CareCoordinatorDate</th>\n",
       "      <th>AdmitToWard</th>\n",
       "      <th>AdmitdateTime</th>\n",
       "      <th>Patient_Ready_Status</th>\n",
       "      <th>Ptransfer_status_datetime</th>\n",
       "      <th>SH</th>\n",
       "      <th>AOD_OD</th>\n",
       "      <th>SI</th>\n",
       "      <th>Audit_case</th>\n",
       "      <th>Year</th>\n",
       "      <th>Activity When Injured</th>\n",
       "      <th>Injury Cause</th>\n",
       "      <th>Where Injury Occurred</th>\n",
       "      <th>VEMD Body Region</th>\n",
       "      <th>Presenting Problem</th>\n",
       "      <th>Human Intent</th>\n",
       "      <th>VEMD Nature of Injury</th>\n",
       "    </tr>\n",
       "  </thead>\n",
       "  <tbody>\n",
       "    <tr>\n",
       "      <th>212114</th>\n",
       "      <td>RMH-2022-42576</td>\n",
       "      <td>F</td>\n",
       "      <td>61</td>\n",
       "      <td>1</td>\n",
       "      <td>2022-06-30 23:53:59</td>\n",
       "      <td>Helicopter</td>\n",
       "      <td>S09.9</td>\n",
       "      <td>NaN</td>\n",
       "      <td>NaN</td>\n",
       "      <td>30/06/22 23:54</td>\n",
       "      <td>NaN</td>\n",
       "      <td>NaN</td>\n",
       "      <td>01/07/2022 00:07</td>\n",
       "      <td>NaN</td>\n",
       "      <td>Intensive Care Unit - This Campus</td>\n",
       "      <td>NaN</td>\n",
       "      <td>2022-07-01 08:31:00</td>\n",
       "      <td>NaN</td>\n",
       "      <td>NaN</td>\n",
       "      <td>NaN</td>\n",
       "      <td>NaN</td>\n",
       "      <td>NaN</td>\n",
       "      <td>NaT</td>\n",
       "      <td>NaN</td>\n",
       "      <td>NaN</td>\n",
       "      <td>NaN</td>\n",
       "      <td>NaN</td>\n",
       "      <td>NaT</td>\n",
       "      <td>NaT</td>\n",
       "      <td>NaN</td>\n",
       "      <td>NaN</td>\n",
       "      <td>NaN</td>\n",
       "      <td>NaN</td>\n",
       "      <td>NaN</td>\n",
       "      <td>NaN</td>\n",
       "      <td>NaN</td>\n",
       "      <td>NaN</td>\n",
       "      <td>0</td>\n",
       "      <td>0</td>\n",
       "      <td>0</td>\n",
       "      <td>0</td>\n",
       "      <td>2022</td>\n",
       "      <td>Unspecified activity</td>\n",
       "      <td>9</td>\n",
       "      <td>Home</td>\n",
       "      <td>22</td>\n",
       "      <td>Pt Exepct:  HEMS 1 Intubated trauma from Shepparton. 0700 husband returned from work &amp; found pt ...</td>\n",
       "      <td>1</td>\n",
       "      <td>23.0</td>\n",
       "    </tr>\n",
       "    <tr>\n",
       "      <th>212115</th>\n",
       "      <td>RMH-2022-42577</td>\n",
       "      <td>M</td>\n",
       "      <td>41</td>\n",
       "      <td>4</td>\n",
       "      <td>2022-06-30 23:55:31</td>\n",
       "      <td>Other</td>\n",
       "      <td>NaN</td>\n",
       "      <td>NaN</td>\n",
       "      <td>NaN</td>\n",
       "      <td>01/07/22 00:02</td>\n",
       "      <td>L)sided intermittent chest wall pain for a month. Worse when laying. Hasn't taken pain relief!</td>\n",
       "      <td>NaN</td>\n",
       "      <td>01/07/2022 04:14</td>\n",
       "      <td>NaN</td>\n",
       "      <td>Left Without Treatment</td>\n",
       "      <td>NaN</td>\n",
       "      <td>2022-07-01 04:30:00</td>\n",
       "      <td>NaN</td>\n",
       "      <td>NaN</td>\n",
       "      <td>NaN</td>\n",
       "      <td>NaN</td>\n",
       "      <td>NaN</td>\n",
       "      <td>NaT</td>\n",
       "      <td>NaN</td>\n",
       "      <td>NaN</td>\n",
       "      <td>NaN</td>\n",
       "      <td>NaN</td>\n",
       "      <td>NaT</td>\n",
       "      <td>NaT</td>\n",
       "      <td>NaN</td>\n",
       "      <td>NaN</td>\n",
       "      <td>NaN</td>\n",
       "      <td>NaN</td>\n",
       "      <td>NaN</td>\n",
       "      <td>NaN</td>\n",
       "      <td>NaN</td>\n",
       "      <td>NaN</td>\n",
       "      <td>0</td>\n",
       "      <td>0</td>\n",
       "      <td>0</td>\n",
       "      <td>0</td>\n",
       "      <td>2022</td>\n",
       "      <td>NaN</td>\n",
       "      <td>NaN</td>\n",
       "      <td>NaN</td>\n",
       "      <td>NaN</td>\n",
       "      <td>NaN</td>\n",
       "      <td>NaN</td>\n",
       "      <td>NaN</td>\n",
       "    </tr>\n",
       "  </tbody>\n",
       "</table>\n",
       "</div>"
      ],
      "text/plain": [
       "            Unnamed: 0 Sex  Age  Cat      Arrv Date/Time Arrival Method  \\\n",
       "212114  RMH-2022-42576   F   61    1 2022-06-30 23:53:59     Helicopter   \n",
       "212115  RMH-2022-42577   M   41    4 2022-06-30 23:55:31          Other   \n",
       "\n",
       "       Primary ED Diagnosis Diagnoses Reason for Attendance     Triage Start  \\\n",
       "212114                S09.9       NaN                   NaN   30/06/22 23:54   \n",
       "212115                  NaN       NaN                   NaN   01/07/22 00:02   \n",
       "\n",
       "                                                                                           CC Comments  \\\n",
       "212114                                                                                             NaN   \n",
       "212115  L)sided intermittent chest wall pain for a month. Worse when laying. Hasn't taken pain relief!   \n",
       "\n",
       "       Care Area First Doctor Time  LOS (mins)  \\\n",
       "212114       NaN  01/07/2022 00:07         NaN   \n",
       "212115       NaN  01/07/2022 04:14         NaN   \n",
       "\n",
       "                              ED Disposal Disposition Type  \\\n",
       "212114  Intensive Care Unit - This Campus              NaN   \n",
       "212115             Left Without Treatment              NaN   \n",
       "\n",
       "       ED Discharge Date/Time  LeftDeptdatetime  ShortStayAdmissionDateTime  \\\n",
       "212114    2022-07-01 08:31:00               NaN                         NaN   \n",
       "212115    2022-07-01 04:30:00               NaN                         NaN   \n",
       "\n",
       "        NursingCarePlan  Path_Request  PathReq_date Decision to Admit  \\\n",
       "212114              NaN           NaN           NaN               NaT   \n",
       "212115              NaN           NaN           NaN               NaT   \n",
       "\n",
       "       Bed Request Specialty  Resus_Time  CTReq_date Bed Ready at (HH:MM)  \\\n",
       "212114                   NaN         NaN         NaN                  NaN   \n",
       "212115                   NaN         NaN         NaN                  NaN   \n",
       "\n",
       "       Medical RTG Time EMH Consult Time  ECATT_Referral_Time  \\\n",
       "212114              NaT              NaT                  NaN   \n",
       "212115              NaT              NaT                  NaN   \n",
       "\n",
       "        Inpatient_Referral_Time  Unit_Referred  CareCoordinatorDate  \\\n",
       "212114                      NaN            NaN                  NaN   \n",
       "212115                      NaN            NaN                  NaN   \n",
       "\n",
       "        AdmitToWard  AdmitdateTime  Patient_Ready_Status  \\\n",
       "212114          NaN            NaN                   NaN   \n",
       "212115          NaN            NaN                   NaN   \n",
       "\n",
       "        Ptransfer_status_datetime  SH  AOD_OD  SI  Audit_case  Year  \\\n",
       "212114                        NaN   0       0   0           0  2022   \n",
       "212115                        NaN   0       0   0           0  2022   \n",
       "\n",
       "       Activity When Injured Injury Cause Where Injury Occurred  \\\n",
       "212114  Unspecified activity            9                  Home   \n",
       "212115                   NaN          NaN                   NaN   \n",
       "\n",
       "       VEMD Body Region  \\\n",
       "212114               22   \n",
       "212115              NaN   \n",
       "\n",
       "                                                                                         Presenting Problem  \\\n",
       "212114  Pt Exepct:  HEMS 1 Intubated trauma from Shepparton. 0700 husband returned from work & found pt ...   \n",
       "212115                                                                                                  NaN   \n",
       "\n",
       "       Human Intent  VEMD Nature of Injury  \n",
       "212114            1                   23.0  \n",
       "212115          NaN                    NaN  "
      ]
     },
     "execution_count": 15,
     "metadata": {},
     "output_type": "execute_result"
    }
   ],
   "source": [
    "print(\"The dataset contains %d empty rows.\" % df2.isna().all(axis=1).sum())\n",
    "df2.tail(2)"
   ]
  },
  {
   "cell_type": "markdown",
   "id": "1ff28922",
   "metadata": {},
   "source": [
    "### Duplicated rows"
   ]
  },
  {
   "cell_type": "code",
   "execution_count": 16,
   "id": "7579459d",
   "metadata": {},
   "outputs": [
    {
     "name": "stdout",
     "output_type": "stream",
     "text": [
      "The dataset contains 0 duplicated rows.\n"
     ]
    }
   ],
   "source": [
    "# Duplicates based on all columns except for ID\n",
    "print(\"The dataset contains %d duplicated rows.\" % df2.duplicated(subset=df2.columns.drop('Unnamed: 0')).sum())"
   ]
  },
  {
   "cell_type": "markdown",
   "id": "e3ad21f2",
   "metadata": {},
   "source": [
    "### General info"
   ]
  },
  {
   "cell_type": "code",
   "execution_count": 17,
   "id": "53f357a7",
   "metadata": {},
   "outputs": [
    {
     "name": "stdout",
     "output_type": "stream",
     "text": [
      "<class 'pandas.core.frame.DataFrame'>\n",
      "RangeIndex: 212116 entries, 0 to 212115\n",
      "Data columns (total 49 columns):\n",
      " #   Column                      Non-Null Count   Dtype         \n",
      "---  ------                      --------------   -----         \n",
      " 0   Unnamed: 0                  212116 non-null  object        \n",
      " 1   Sex                         212116 non-null  object        \n",
      " 2   Age                         212116 non-null  int64         \n",
      " 3   Cat                         212116 non-null  int64         \n",
      " 4   Arrv Date/Time              212116 non-null  datetime64[ns]\n",
      " 5   Arrival Method              212113 non-null  object        \n",
      " 6   Primary ED Diagnosis        200314 non-null  object        \n",
      " 7   Diagnoses                   59238 non-null   object        \n",
      " 8   Reason for Attendance       192766 non-null  object        \n",
      " 9   Triage Start                212116 non-null  object        \n",
      " 10  CC Comments                 209984 non-null  object        \n",
      " 11  Care Area                   61284 non-null   object        \n",
      " 12  First Doctor Time           193471 non-null  object        \n",
      " 13  LOS (mins)                  61282 non-null   float64       \n",
      " 14  ED Disposal                 212114 non-null  object        \n",
      " 15  Disposition Type            61284 non-null   object        \n",
      " 16  ED Discharge Date/Time      212112 non-null  datetime64[ns]\n",
      " 17  LeftDeptdatetime            0 non-null       float64       \n",
      " 18  ShortStayAdmissionDateTime  0 non-null       float64       \n",
      " 19  NursingCarePlan             0 non-null       float64       \n",
      " 20  Path_Request                0 non-null       float64       \n",
      " 21  PathReq_date                0 non-null       float64       \n",
      " 22  Decision to Admit           28336 non-null   datetime64[ns]\n",
      " 23  Bed Request Specialty       27519 non-null   object        \n",
      " 24  Resus_Time                  0 non-null       float64       \n",
      " 25  CTReq_date                  0 non-null       float64       \n",
      " 26  Bed Ready at (HH:MM)        15893 non-null   object        \n",
      " 27  Medical RTG Time            17539 non-null   datetime64[ns]\n",
      " 28  EMH Consult Time            6137 non-null    datetime64[ns]\n",
      " 29  ECATT_Referral_Time         0 non-null       float64       \n",
      " 30  Inpatient_Referral_Time     0 non-null       float64       \n",
      " 31  Unit_Referred               0 non-null       float64       \n",
      " 32  CareCoordinatorDate         0 non-null       float64       \n",
      " 33  AdmitToWard                 0 non-null       float64       \n",
      " 34  AdmitdateTime               0 non-null       float64       \n",
      " 35  Patient_Ready_Status        0 non-null       float64       \n",
      " 36  Ptransfer_status_datetime   0 non-null       float64       \n",
      " 37  SH                          212116 non-null  int64         \n",
      " 38  AOD_OD                      212116 non-null  int64         \n",
      " 39  SI                          212116 non-null  int64         \n",
      " 40  Audit_case                  212116 non-null  int64         \n",
      " 41  Year                        212116 non-null  int64         \n",
      " 42  Activity When Injured       43318 non-null   object        \n",
      " 43  Injury Cause                36394 non-null   object        \n",
      " 44  Where Injury Occurred       43333 non-null   object        \n",
      " 45  VEMD Body Region            36491 non-null   object        \n",
      " 46  Presenting Problem          36491 non-null   object        \n",
      " 47  Human Intent                36394 non-null   object        \n",
      " 48  VEMD Nature of Injury       36491 non-null   float64       \n",
      "dtypes: datetime64[ns](5), float64(17), int64(7), object(20)\n",
      "memory usage: 79.3+ MB\n"
     ]
    }
   ],
   "source": [
    "df2.info()"
   ]
  },
  {
   "cell_type": "code",
   "execution_count": 18,
   "id": "b6cfc46b",
   "metadata": {},
   "outputs": [
    {
     "data": {
      "application/vnd.microsoft.datawrangler.viewer.v0+json": {
       "columns": [
        {
         "name": "index",
         "rawType": "object",
         "type": "string"
        },
        {
         "name": "0",
         "rawType": "int64",
         "type": "integer"
        }
       ],
       "ref": "bf6bf299-86d0-4d19-a0de-e0de0d865d3a",
       "rows": [
        [
         "Unnamed: 0",
         "0"
        ],
        [
         "Sex",
         "0"
        ],
        [
         "Age",
         "0"
        ],
        [
         "Cat",
         "0"
        ],
        [
         "Arrv Date/Time",
         "0"
        ],
        [
         "Arrival Method",
         "3"
        ],
        [
         "Primary ED Diagnosis",
         "11802"
        ],
        [
         "Diagnoses",
         "152878"
        ],
        [
         "Reason for Attendance",
         "19350"
        ],
        [
         "Triage Start",
         "0"
        ],
        [
         "CC Comments",
         "2132"
        ],
        [
         "Care Area",
         "150832"
        ],
        [
         "First Doctor Time",
         "18645"
        ],
        [
         "LOS (mins)",
         "150834"
        ],
        [
         "ED Disposal",
         "2"
        ],
        [
         "Disposition Type",
         "150832"
        ],
        [
         "ED Discharge Date/Time",
         "4"
        ],
        [
         "LeftDeptdatetime",
         "212116"
        ],
        [
         "ShortStayAdmissionDateTime",
         "212116"
        ],
        [
         "NursingCarePlan",
         "212116"
        ],
        [
         "Path_Request",
         "212116"
        ],
        [
         "PathReq_date",
         "212116"
        ],
        [
         "Decision to Admit",
         "183780"
        ],
        [
         "Bed Request Specialty",
         "184597"
        ],
        [
         "Resus_Time",
         "212116"
        ],
        [
         "CTReq_date",
         "212116"
        ],
        [
         "Bed Ready at (HH:MM)",
         "196223"
        ],
        [
         "Medical RTG Time",
         "194577"
        ],
        [
         "EMH Consult Time",
         "205979"
        ],
        [
         "ECATT_Referral_Time",
         "212116"
        ],
        [
         "Inpatient_Referral_Time",
         "212116"
        ],
        [
         "Unit_Referred",
         "212116"
        ],
        [
         "CareCoordinatorDate",
         "212116"
        ],
        [
         "AdmitToWard",
         "212116"
        ],
        [
         "AdmitdateTime",
         "212116"
        ],
        [
         "Patient_Ready_Status",
         "212116"
        ],
        [
         "Ptransfer_status_datetime",
         "212116"
        ],
        [
         "SH",
         "0"
        ],
        [
         "AOD_OD",
         "0"
        ],
        [
         "SI",
         "0"
        ],
        [
         "Audit_case",
         "0"
        ],
        [
         "Year",
         "0"
        ],
        [
         "Activity When Injured",
         "168798"
        ],
        [
         "Injury Cause",
         "175722"
        ],
        [
         "Where Injury Occurred",
         "168783"
        ],
        [
         "VEMD Body Region",
         "175625"
        ],
        [
         "Presenting Problem",
         "175625"
        ],
        [
         "Human Intent",
         "175722"
        ],
        [
         "VEMD Nature of Injury",
         "175625"
        ]
       ],
       "shape": {
        "columns": 1,
        "rows": 49
       }
      },
      "text/plain": [
       "Unnamed: 0                         0\n",
       "Sex                                0\n",
       "Age                                0\n",
       "Cat                                0\n",
       "Arrv Date/Time                     0\n",
       "Arrival Method                     3\n",
       "Primary ED Diagnosis           11802\n",
       "Diagnoses                     152878\n",
       "Reason for Attendance          19350\n",
       "Triage Start                       0\n",
       "CC Comments                     2132\n",
       "Care Area                     150832\n",
       "First Doctor Time              18645\n",
       "LOS (mins)                    150834\n",
       "ED Disposal                        2\n",
       "Disposition Type              150832\n",
       "ED Discharge Date/Time             4\n",
       "LeftDeptdatetime              212116\n",
       "ShortStayAdmissionDateTime    212116\n",
       "NursingCarePlan               212116\n",
       "Path_Request                  212116\n",
       "PathReq_date                  212116\n",
       "Decision to Admit             183780\n",
       "Bed Request Specialty         184597\n",
       "Resus_Time                    212116\n",
       "CTReq_date                    212116\n",
       "Bed Ready at (HH:MM)          196223\n",
       "Medical RTG Time              194577\n",
       "EMH Consult Time              205979\n",
       "ECATT_Referral_Time           212116\n",
       "Inpatient_Referral_Time       212116\n",
       "Unit_Referred                 212116\n",
       "CareCoordinatorDate           212116\n",
       "AdmitToWard                   212116\n",
       "AdmitdateTime                 212116\n",
       "Patient_Ready_Status          212116\n",
       "Ptransfer_status_datetime     212116\n",
       "SH                                 0\n",
       "AOD_OD                             0\n",
       "SI                                 0\n",
       "Audit_case                         0\n",
       "Year                               0\n",
       "Activity When Injured         168798\n",
       "Injury Cause                  175722\n",
       "Where Injury Occurred         168783\n",
       "VEMD Body Region              175625\n",
       "Presenting Problem            175625\n",
       "Human Intent                  175722\n",
       "VEMD Nature of Injury         175625\n",
       "dtype: int64"
      ]
     },
     "execution_count": 18,
     "metadata": {},
     "output_type": "execute_result"
    }
   ],
   "source": [
    "df2.isna().sum()"
   ]
  },
  {
   "cell_type": "code",
   "execution_count": 19,
   "id": "13f5e0de",
   "metadata": {},
   "outputs": [
    {
     "data": {
      "application/vnd.microsoft.datawrangler.viewer.v0+json": {
       "columns": [
        {
         "name": "index",
         "rawType": "object",
         "type": "string"
        },
        {
         "name": "0",
         "rawType": "int64",
         "type": "integer"
        }
       ],
       "ref": "a8412f1c-a2c5-48d2-a415-df848fbd49fb",
       "rows": [
        [
         "Unnamed: 0",
         "212116"
        ],
        [
         "Sex",
         "3"
        ],
        [
         "Age",
         "111"
        ],
        [
         "Cat",
         "6"
        ],
        [
         "Arrv Date/Time",
         "202391"
        ],
        [
         "Arrival Method",
         "55"
        ],
        [
         "Primary ED Diagnosis",
         "928"
        ],
        [
         "Diagnoses",
         "4551"
        ],
        [
         "Reason for Attendance",
         "914"
        ],
        [
         "Triage Start",
         "199467"
        ],
        [
         "CC Comments",
         "209485"
        ],
        [
         "Care Area",
         "11"
        ],
        [
         "First Doctor Time",
         "175335"
        ],
        [
         "LOS (mins)",
         "1281"
        ],
        [
         "ED Disposal",
         "78"
        ],
        [
         "Disposition Type",
         "11"
        ],
        [
         "ED Discharge Date/Time",
         "199350"
        ],
        [
         "LeftDeptdatetime",
         "0"
        ],
        [
         "ShortStayAdmissionDateTime",
         "0"
        ],
        [
         "NursingCarePlan",
         "0"
        ],
        [
         "Path_Request",
         "0"
        ],
        [
         "PathReq_date",
         "0"
        ],
        [
         "Decision to Admit",
         "28272"
        ],
        [
         "Bed Request Specialty",
         "63"
        ],
        [
         "Resus_Time",
         "0"
        ],
        [
         "CTReq_date",
         "0"
        ],
        [
         "Bed Ready at (HH:MM)",
         "1351"
        ],
        [
         "Medical RTG Time",
         "17525"
        ],
        [
         "EMH Consult Time",
         "6135"
        ],
        [
         "ECATT_Referral_Time",
         "0"
        ],
        [
         "Inpatient_Referral_Time",
         "0"
        ],
        [
         "Unit_Referred",
         "0"
        ],
        [
         "CareCoordinatorDate",
         "0"
        ],
        [
         "AdmitToWard",
         "0"
        ],
        [
         "AdmitdateTime",
         "0"
        ],
        [
         "Patient_Ready_Status",
         "0"
        ],
        [
         "Ptransfer_status_datetime",
         "0"
        ],
        [
         "SH",
         "2"
        ],
        [
         "AOD_OD",
         "2"
        ],
        [
         "SI",
         "2"
        ],
        [
         "Audit_case",
         "2"
        ],
        [
         "Year",
         "3"
        ],
        [
         "Activity When Injured",
         "21"
        ],
        [
         "Injury Cause",
         "111"
        ],
        [
         "Where Injury Occurred",
         "36"
        ],
        [
         "VEMD Body Region",
         "28"
        ],
        [
         "Presenting Problem",
         "36472"
        ],
        [
         "Human Intent",
         "21"
        ],
        [
         "VEMD Nature of Injury",
         "25"
        ]
       ],
       "shape": {
        "columns": 1,
        "rows": 49
       }
      },
      "text/plain": [
       "Unnamed: 0                    212116\n",
       "Sex                                3\n",
       "Age                              111\n",
       "Cat                                6\n",
       "Arrv Date/Time                202391\n",
       "Arrival Method                    55\n",
       "Primary ED Diagnosis             928\n",
       "Diagnoses                       4551\n",
       "Reason for Attendance            914\n",
       "Triage Start                  199467\n",
       "CC Comments                   209485\n",
       "Care Area                         11\n",
       "First Doctor Time             175335\n",
       "LOS (mins)                      1281\n",
       "ED Disposal                       78\n",
       "Disposition Type                  11\n",
       "ED Discharge Date/Time        199350\n",
       "LeftDeptdatetime                   0\n",
       "ShortStayAdmissionDateTime         0\n",
       "NursingCarePlan                    0\n",
       "Path_Request                       0\n",
       "PathReq_date                       0\n",
       "Decision to Admit              28272\n",
       "Bed Request Specialty             63\n",
       "Resus_Time                         0\n",
       "CTReq_date                         0\n",
       "Bed Ready at (HH:MM)            1351\n",
       "Medical RTG Time               17525\n",
       "EMH Consult Time                6135\n",
       "ECATT_Referral_Time                0\n",
       "Inpatient_Referral_Time            0\n",
       "Unit_Referred                      0\n",
       "CareCoordinatorDate                0\n",
       "AdmitToWard                        0\n",
       "AdmitdateTime                      0\n",
       "Patient_Ready_Status               0\n",
       "Ptransfer_status_datetime          0\n",
       "SH                                 2\n",
       "AOD_OD                             2\n",
       "SI                                 2\n",
       "Audit_case                         2\n",
       "Year                               3\n",
       "Activity When Injured             21\n",
       "Injury Cause                     111\n",
       "Where Injury Occurred             36\n",
       "VEMD Body Region                  28\n",
       "Presenting Problem             36472\n",
       "Human Intent                      21\n",
       "VEMD Nature of Injury             25\n",
       "dtype: int64"
      ]
     },
     "execution_count": 19,
     "metadata": {},
     "output_type": "execute_result"
    }
   ],
   "source": [
    "df2.nunique()"
   ]
  },
  {
   "cell_type": "markdown",
   "id": "c9a5839f",
   "metadata": {},
   "source": [
    "### Rename, convert types, and select columns of interest"
   ]
  },
  {
   "cell_type": "code",
   "execution_count": 20,
   "id": "e9ee62c0",
   "metadata": {},
   "outputs": [],
   "source": [
    "# Rename columns\n",
    "df2.rename(columns={'Unnamed: 0': 'uid',\n",
    "                    'Sex': 'sex',\n",
    "                    'Age': 'age',\n",
    "                    'Arrv Date/Time': 'arrival_date',\n",
    "                    'Arrival Method': 'arrival_method',\n",
    "                    'Year': 'year',\n",
    "                    'CC Comments': 'triage_note', \n",
    "                    'Audit_case': 'audit_case'}, \n",
    "           inplace=True)"
   ]
  },
  {
   "cell_type": "code",
   "execution_count": 21,
   "id": "5599ae53",
   "metadata": {},
   "outputs": [
    {
     "data": {
      "application/vnd.microsoft.datawrangler.viewer.v0+json": {
       "columns": [
        {
         "name": "index",
         "rawType": "int64",
         "type": "integer"
        },
        {
         "name": "uid",
         "rawType": "object",
         "type": "string"
        },
        {
         "name": "sex",
         "rawType": "object",
         "type": "string"
        },
        {
         "name": "age",
         "rawType": "int64",
         "type": "integer"
        },
        {
         "name": "arrival_method",
         "rawType": "object",
         "type": "unknown"
        },
        {
         "name": "arrival_date",
         "rawType": "datetime64[ns]",
         "type": "datetime"
        },
        {
         "name": "year",
         "rawType": "int64",
         "type": "integer"
        },
        {
         "name": "triage_note",
         "rawType": "object",
         "type": "unknown"
        },
        {
         "name": "SH",
         "rawType": "category",
         "type": "unknown"
        },
        {
         "name": "SI",
         "rawType": "category",
         "type": "unknown"
        },
        {
         "name": "AOD_OD",
         "rawType": "category",
         "type": "unknown"
        },
        {
         "name": "audit_case",
         "rawType": "int64",
         "type": "integer"
        }
       ],
       "ref": "dfe9c116-2f43-4cc6-94c5-4673e3900e53",
       "rows": [
        [
         "0",
         "RMH-2020-1",
         "F",
         "19",
         "Road Ambulance",
         "2020-01-01 00:15:00",
         "2020",
         "argument with friend, threatened to jump off balcony. had voices in her head for 2/12. nil visual hallucinations",
         "Negative",
         "Negative",
         "Negative",
         "0"
        ],
        [
         "1",
         "RMH-2020-2",
         "F",
         "22",
         "Other",
         "2020-01-01 00:20:00",
         "2020",
         "mech fall with swelling to L) hand and dec ROM. ETOH intake.",
         "Negative",
         "Negative",
         "Negative",
         "0"
        ],
        [
         "2",
         "RMH-2020-3",
         "F",
         "74",
         "Other",
         "2020-01-01 00:33:00",
         "2020",
         "Left lower dental pain since last year, seeking analgsia until able to attend dental hospital in am. Pain free post paracetamol  PMH NIDDM, HT",
         "Negative",
         "Negative",
         "Negative",
         "0"
        ],
        [
         "3",
         "RMH-2020-4",
         "M",
         "66",
         "Other",
         "2020-01-01 00:34:00",
         "2020",
         "ETOH, scuffle with HS ? LOC, lac approx 2cm above R eyebrow will require sutures. GCS 15, full power x4, also c/o pain to R lateral ribs. PMH SDH",
         "Negative",
         "Negative",
         "Negative",
         "0"
        ],
        [
         "4",
         "RMH-2020-5",
         "F",
         "82",
         "Road Ambulance",
         "2020-01-01 00:36:00",
         "2020",
         "mech fall landed L) hip. headstrike onto wall. pain to L) hip, rotation/shortening. ",
         "Negative",
         "Negative",
         "Negative",
         "0"
        ],
        [
         "5",
         "RMH-2020-6",
         "M",
         "20",
         "Road Ambulance",
         "2020-01-01 00:37:00",
         "2020",
         "alledged assult with metal pole to head. lac to forehead approx 7cm. ETOH intake. GCS15",
         "Negative",
         "Negative",
         "Negative",
         "0"
        ],
        [
         "6",
         "RMH-2020-7",
         "F",
         "47",
         "Other",
         "2020-01-01 00:43:00",
         "2020",
         "reddness/swelling L) ring finger 30/60. ",
         "Negative",
         "Negative",
         "Negative",
         "0"
        ],
        [
         "7",
         "RMH-2020-8",
         "F",
         "28",
         "Road Ambulance",
         "2020-01-01 00:48:00",
         "2020",
         "ACS with partner in car, unable to wake, fluctuating GCS with AV, as per partner possible GCS 11-14 ETOH and GHB tonight",
         "Negative",
         "Negative",
         "Negative",
         "0"
        ],
        [
         "8",
         "RMH-2020-9",
         "M",
         "42",
         "Road Ambulance",
         "2020-01-01 00:50:00",
         "2020",
         "MVA car vs tree 80km//hr driver restrained. ETOH. open L) ankle #. PPP. seat belt bruising. alt sensation bilat legs. R) chest pain. GCS13",
         "Negative",
         "Negative",
         "Negative",
         "0"
        ],
        [
         "9",
         "RMH-2020-10",
         "M",
         "41",
         "Other",
         "2020-01-01 00:56:00",
         "2020",
         "Hand vs wall, pain and swelling to R jhand, ? #",
         "Negative",
         "Negative",
         "Negative",
         "0"
        ],
        [
         "10",
         "RMH-2020-11",
         "F",
         "44",
         "Other",
         "2020-01-01 00:59:00",
         "2020",
         "R present, seen here ysterday for L axilla abcess, planned for IVA + surg review however self discharged due to daughter in RCH. Vitally stable at triage",
         "Negative",
         "Negative",
         "Negative",
         "0"
        ],
        [
         "11",
         "RMH-2020-12",
         "M",
         "49",
         "Road Ambulance",
         "2020-01-01 01:01:00",
         "2020",
         "MVA into safety barrier 2345 at 100km/hr while turning corner. lac to L)forehead with headahce and c-spine pain. ICE + ETOH intake",
         "Negative",
         "Negative",
         "Negative",
         "0"
        ],
        [
         "12",
         "RMH-2020-13",
         "F",
         "18",
         "Road Ambulance",
         "2020-01-01 01:03:00",
         "2020",
         "mech fall from standing height with haematom R) forehead. nil LOC at time ETOH+++(unable to walk pror to fall due to ETOH). ",
         "Negative",
         "Negative",
         "Negative",
         "0"
        ],
        [
         "13",
         "RMH-2020-14",
         "M",
         "63",
         "Road Ambulance",
         "2020-01-01 01:17:00",
         "2020",
         "mech fall down x4 stairs. nil headstrike. pain and swelling upper L) arm. ETOH 1 bottle wine.",
         "Negative",
         "Negative",
         "Negative",
         "0"
        ],
        [
         "14",
         "RMH-2020-15",
         "F",
         "47",
         "Other",
         "2020-01-01 01:18:00",
         "2020",
         "Developed full body rash over body yesterday, saw GP and prescribed prednisalone and promethazine injection (nil at pharmacy). Nil airway compromised",
         "Negative",
         "Negative",
         "Negative",
         "0"
        ],
        [
         "15",
         "RMH-2020-16",
         "M",
         "61",
         "Other",
         "2020-01-01 01:22:00",
         "2020",
         "Dizziness over the past 3/7, yesterday pain to L shoulder and arm, described as discomfort. tonight in car unable to drive due to dizziness , states tingling to limbs also. PMH CAGS",
         "Negative",
         "Negative",
         "Negative",
         "0"
        ],
        [
         "16",
         "RMH-2020-17",
         "M",
         "22",
         "Road Ambulance",
         "2020-01-01 01:29:00",
         "2020",
         "Shouldered by persoon at 22:00, 23:45 developed nausea and x4 vomits, saw first aid and AV called",
         "Negative",
         "Negative",
         "Negative",
         "0"
        ],
        [
         "17",
         "RMH-2020-18",
         "M",
         "76",
         "Other",
         "2020-01-01 01:32:00",
         "2020",
         "22:00 developed fevers and rigors, also associated urinary frequency, returned from India 2/7, HR 132 at triage, temp 39.7",
         "Negative",
         "Negative",
         "Negative",
         "0"
        ],
        [
         "18",
         "RMH-2020-19",
         "M",
         "18",
         "Other",
         "2020-01-01 01:35:00",
         "2020",
         "Pt recall, scope yesterday attended ED for pain, self discharged,. CT shows free gas likly perforation",
         "Negative",
         "Negative",
         "Negative",
         "0"
        ],
        [
         "19",
         "RMH-2020-20",
         "F",
         "25",
         "Police Vehicle",
         "2020-01-01 01:35:00",
         "2020",
         "Agitated at party, post returned home and stated had taken betablockers, police called. Agressive. As per friend took seroquel. PMH BPD",
         "Negative",
         "Negative",
         "Negative",
         "0"
        ],
        [
         "20",
         "RMH-2020-21",
         "F",
         "21",
         "Other",
         "2020-01-01 01:37:00",
         "2020",
         "On train when felt nauseated followed by x1 syncopal episode, Has not been unwell recently PMH nil",
         "Negative",
         "Negative",
         "Negative",
         "0"
        ],
        [
         "21",
         "RMH-2020-22",
         "F",
         "22",
         "Other",
         "2020-01-01 01:40:00",
         "2020",
         "Pt states thought taking cocaine however feels that was not, concerned as face feel numb. PMH nil",
         "Negative",
         "Negative",
         "Negative",
         "0"
        ],
        [
         "22",
         "RMH-2020-23",
         "F",
         "61",
         "Road Ambulance",
         "2020-01-01 01:45:00",
         "2020",
         "Pt expect, stab wound to chest BP 60 systolic at triage direct to T1",
         "Negative",
         "Negative",
         "Negative",
         "0"
        ],
        [
         "23",
         "RMH-2020-24",
         "F",
         "29",
         "Road Ambulance",
         "2020-01-01 01:47:00",
         "2020",
         "Pt expect, MDMA and ETOH tonight, jumped from 4 mtr roof landing on feet, nil HS, nil LOC, ? R ankle #. Vitally stable",
         "Positive",
         "Negative",
         "Negative",
         "0"
        ],
        [
         "24",
         "RMH-2020-25",
         "M",
         "43",
         "Other",
         "2020-01-01 01:49:00",
         "2020",
         "Sharp upper abdominal/epigastric pain since yesterday PM. Radiaitng into L abdomen. Associated nausea but nil vomiting. Nil bowel or urinary symptoms",
         "Negative",
         "Negative",
         "Negative",
         "0"
        ],
        [
         "25",
         "RMH-2020-26",
         "F",
         "28",
         "Other",
         "2020-01-01 02:03:00",
         "2020",
         "Lower abdominal pain and distension for past 3/7. Associated nausea, poor oral intake and bilateral flank pain. Denies urinary symptoms bt reports same as previous UTIs. s/b LMO today- commenced on oabs bt febrile at >39 at home",
         "Negative",
         "Negative",
         "Negative",
         "0"
        ],
        [
         "26",
         "RMH-2020-27",
         "M",
         "22",
         "Road Ambulance",
         "2020-01-01 02:06:00",
         "2020",
         "MDMA, THC and ETOH tonight, inappropriate at party and multiple punches to head and fall to ground with 5 min LOC. Woke with AV, refused hospital, sectioned. Agitated ++, ketamine with MICA , now GCS 3",
         "Positive",
         "Negative",
         "Negative",
         "0"
        ],
        [
         "27",
         "RMH-2020-28",
         "M",
         "60",
         "Road Ambulance",
         "2020-01-01 02:07:00",
         "2020",
         "Central chest pain since 22:00, SOB. Nil relief with own asprin and GTN. Pain described as stabbing with \"head rush\" and increased burping. Pain free on arrival PMH NSTEMI, ^ chol, VT",
         "Negative",
         "Negative",
         "Negative",
         "0"
        ],
        [
         "28",
         "RMH-2020-29",
         "F",
         "32",
         "Other",
         "2020-01-01 02:07:00",
         "2020",
         "Sustained sunburn on Sunday PM after being out in sun all day. Reports wearing snscreen. Unable to get into LMO or see home GP. Nurse on call advised pt to present to ED",
         "Negative",
         "Negative",
         "Negative",
         "0"
        ],
        [
         "29",
         "RMH-2020-30",
         "F",
         "32",
         "Other",
         "2020-01-01 02:08:00",
         "2020",
         "Struck by fin from surfboard yesterday. Denies LOC/midline tenderness. Seen at medical clinic in Wilson prom- nil imaging complete. Small lac dressed. Haematoma evident. Nil altered vision reported. ",
         "Negative",
         "Negative",
         "Negative",
         "0"
        ],
        [
         "30",
         "RMH-2020-31",
         "M",
         "32",
         "Helicopter",
         "2020-01-01 02:11:00",
         "2020",
         "Multiple stab wounds to head by screwdriver. Vitally stable. GCS=14 (3,5,6). PHx ADHD. Depression. MBA - metal plate L) clavicle",
         "Negative",
         "Negative",
         "Negative",
         "0"
        ],
        [
         "31",
         "RMH-2020-32",
         "F",
         "48",
         "Road Ambulance",
         "2020-01-01 02:16:00",
         "2020",
         "From RPH, attending fpor rehab post traume, yesterday developed fever, tachy ? septic",
         "Negative",
         "Negative",
         "Negative",
         "0"
        ],
        [
         "32",
         "RMH-2020-33",
         "M",
         "23",
         "Road Ambulance",
         "2020-01-01 02:19:00",
         "2020",
         "MDMA +++, agitated, unmanageable, tachy at 140, 10mg IM midaz with AV, now GCS 7, RR 20, maintaining own airway",
         "Negative",
         "Negative",
         "Positive",
         "0"
        ],
        [
         "33",
         "RMH-2020-34",
         "F",
         "21",
         "Road Ambulance",
         "2020-01-01 02:23:00",
         "2020",
         "FSP, MVA at 140 kmh front impact to brick wall, airbags deployed, significant cabin intrusion. HS, nil LOC, seatbelt worn, self extracated. Nil complaints",
         "Negative",
         "Negative",
         "Negative",
         "0"
        ],
        [
         "34",
         "RMH-2020-35",
         "M",
         "31",
         "Road Ambulance",
         "2020-01-01 02:28:00",
         "2020",
         "MVA, driver travelling 140kmh into brickwall, significant cabin intrusion, self extracated, ETOH ++++, bilat hand bruises, graze to thigh, burn to R hand. Non compliant with AV",
         "Negative",
         "Negative",
         "Negative",
         "0"
        ],
        [
         "35",
         "RMH-2020-36",
         "F",
         "20",
         "Other",
         "2020-01-01 02:31:00",
         "2020",
         "30 minutes L sided abdo pain, states BO x1 yesterday and hard. PMH constipation",
         "Negative",
         "Negative",
         "Negative",
         "0"
        ],
        [
         "36",
         "RMH-2020-37",
         "M",
         "18",
         "Other",
         "2020-01-01 02:33:00",
         "2020",
         "Stepped onto broken glass, penetrated through trainer base, states took large piece out. ",
         "Negative",
         "Negative",
         "Negative",
         "0"
        ],
        [
         "37",
         "RMH-2020-38",
         "M",
         "19",
         "Other",
         "2020-01-01 02:49:00",
         "2020",
         "Punched to  face tonight, nil LOC lac to nose, ? need suture. Non compliant with obs at triage",
         "Negative",
         "Negative",
         "Negative",
         "0"
        ],
        [
         "38",
         "RMH-2020-39",
         "M",
         "31",
         "Other",
         "2020-01-01 02:52:00",
         "2020",
         "Smashed plate and sustained x3 lacs to middl fourth and fifth r fingers, neurovasc intact, ? needs ADT",
         "Negative",
         "Negative",
         "Negative",
         "0"
        ],
        [
         "39",
         "RMH-2020-40",
         "F",
         "73",
         "Other",
         "2020-01-01 02:55:00",
         "2020",
         "Fall with HS to pavement, nil LOC, full recall, states usually unsteady on feet however ETOH tonight, lac to occiput, nil active bleeding at triage",
         "Negative",
         "Negative",
         "Negative",
         "0"
        ],
        [
         "40",
         "RMH-2020-41",
         "M",
         "32",
         "Other",
         "2020-01-01 02:58:00",
         "2020",
         "Singing on stage tonight, whilst performing unconcious collapse falling forward off stage onto ground with HS, small amount ETOH and cocaine use prior. States waas feeling unwell throughout day",
         "Negative",
         "Negative",
         "Negative",
         "0"
        ],
        [
         "41",
         "RMH-2020-42",
         "M",
         "55",
         "Other",
         "2020-01-01 03:01:00",
         "2020",
         "Alleged assault, multiple punches to head, nil LOC, full recall of events, GCS 15, lac to L orbit will require sutures",
         "Negative",
         "Negative",
         "Negative",
         "0"
        ],
        [
         "42",
         "RMH-2020-43",
         "M",
         "32",
         "Road Ambulance",
         "2020-01-01 03:18:00",
         "2020",
         "Pt wandering streets attempting to pick fights with people, police informed, not responsive to questioning, agitated, restless, restrained Has history of violence and agression",
         "Negative",
         "Negative",
         "Negative",
         "0"
        ],
        [
         "43",
         "RMH-2020-44",
         "M",
         "32",
         "Road Ambulance",
         "2020-01-01 03:23:00",
         "2020",
         "Arguement with partner, post messaged stating wanting to cut himself, police called. On AV arrival stated thoughts had gone and knife too blunt. ETOH, compliant. Denies drugs",
         "Negative",
         "Negative",
         "Negative",
         "0"
        ],
        [
         "44",
         "RMH-2020-45",
         "M",
         "20",
         "Road Ambulance",
         "2020-01-01 03:25:00",
         "2020",
         "19:00 MBA (50kmh) over handlebars,  assessed by AV and nil injuries. Overnight developed headache localised to L side, throbbing. Double vision. ",
         "Negative",
         "Negative",
         "Negative",
         "0"
        ],
        [
         "45",
         "RMH-2020-46",
         "M",
         "24",
         "Road Ambulance",
         "2020-01-01 03:29:00",
         "2020",
         "Protesting outside crown running infront of cars with sign protesting use of cars. Tackled to ground by passers by and AV called. Ran away from AV and called 000 for police. HR 130 with AV",
         "Negative",
         "Negative",
         "Negative",
         "0"
        ],
        [
         "46",
         "RMH-2020-47",
         "F",
         "29",
         "Other",
         "2020-01-01 03:32:00",
         "2020",
         "RIF pain over past 2/24 with x1 vomit, appears uncomfortable. Nil relief with analgesia",
         "Negative",
         "Negative",
         "Negative",
         "0"
        ],
        [
         "47",
         "RMH-2020-48",
         "F",
         "18",
         "Other",
         "2020-01-01 03:34:00",
         "2020",
         "Tearful at triage, brought in by friends as feeling of self harm, has not taken quitiapine in past 3 days, ETOH and stressed yesterday, compliant, happy to speak to DR, friends in WR with pt",
         "Negative",
         "Negative",
         "Negative",
         "0"
        ],
        [
         "48",
         "RMH-2020-49",
         "M",
         "31",
         "Other",
         "2020-01-01 03:56:00",
         "2020",
         "10/60 SOB, audible wheeze, astates accidentally ate prawns prior, ",
         "Negative",
         "Negative",
         "Negative",
         "0"
        ],
        [
         "49",
         "RMH-2020-50",
         "M",
         "20",
         "Road Ambulance",
         "2020-01-01 04:01:00",
         "2020",
         "Pt discharged from ED recently post HS, abusive with staff, threatening, approached police demanding ambulancem abusive, beligerant, non cooperative. Under arrest, vitally stable with AV",
         "Negative",
         "Negative",
         "Negative",
         "0"
        ]
       ],
       "shape": {
        "columns": 11,
        "rows": 212116
       }
      },
      "text/html": [
       "<div>\n",
       "<style scoped>\n",
       "    .dataframe tbody tr th:only-of-type {\n",
       "        vertical-align: middle;\n",
       "    }\n",
       "\n",
       "    .dataframe tbody tr th {\n",
       "        vertical-align: top;\n",
       "    }\n",
       "\n",
       "    .dataframe thead th {\n",
       "        text-align: right;\n",
       "    }\n",
       "</style>\n",
       "<table border=\"1\" class=\"dataframe\">\n",
       "  <thead>\n",
       "    <tr style=\"text-align: right;\">\n",
       "      <th></th>\n",
       "      <th>uid</th>\n",
       "      <th>sex</th>\n",
       "      <th>age</th>\n",
       "      <th>arrival_method</th>\n",
       "      <th>arrival_date</th>\n",
       "      <th>year</th>\n",
       "      <th>triage_note</th>\n",
       "      <th>SH</th>\n",
       "      <th>SI</th>\n",
       "      <th>AOD_OD</th>\n",
       "      <th>audit_case</th>\n",
       "    </tr>\n",
       "  </thead>\n",
       "  <tbody>\n",
       "    <tr>\n",
       "      <th>0</th>\n",
       "      <td>RMH-2020-1</td>\n",
       "      <td>F</td>\n",
       "      <td>19</td>\n",
       "      <td>Road Ambulance</td>\n",
       "      <td>2020-01-01 00:15:00</td>\n",
       "      <td>2020</td>\n",
       "      <td>argument with friend, threatened to jump off balcony. had voices in her head for 2/12. nil visua...</td>\n",
       "      <td>Negative</td>\n",
       "      <td>Negative</td>\n",
       "      <td>Negative</td>\n",
       "      <td>0</td>\n",
       "    </tr>\n",
       "    <tr>\n",
       "      <th>1</th>\n",
       "      <td>RMH-2020-2</td>\n",
       "      <td>F</td>\n",
       "      <td>22</td>\n",
       "      <td>Other</td>\n",
       "      <td>2020-01-01 00:20:00</td>\n",
       "      <td>2020</td>\n",
       "      <td>mech fall with swelling to L) hand and dec ROM. ETOH intake.</td>\n",
       "      <td>Negative</td>\n",
       "      <td>Negative</td>\n",
       "      <td>Negative</td>\n",
       "      <td>0</td>\n",
       "    </tr>\n",
       "    <tr>\n",
       "      <th>2</th>\n",
       "      <td>RMH-2020-3</td>\n",
       "      <td>F</td>\n",
       "      <td>74</td>\n",
       "      <td>Other</td>\n",
       "      <td>2020-01-01 00:33:00</td>\n",
       "      <td>2020</td>\n",
       "      <td>Left lower dental pain since last year, seeking analgsia until able to attend dental hospital in...</td>\n",
       "      <td>Negative</td>\n",
       "      <td>Negative</td>\n",
       "      <td>Negative</td>\n",
       "      <td>0</td>\n",
       "    </tr>\n",
       "    <tr>\n",
       "      <th>3</th>\n",
       "      <td>RMH-2020-4</td>\n",
       "      <td>M</td>\n",
       "      <td>66</td>\n",
       "      <td>Other</td>\n",
       "      <td>2020-01-01 00:34:00</td>\n",
       "      <td>2020</td>\n",
       "      <td>ETOH, scuffle with HS ? LOC, lac approx 2cm above R eyebrow will require sutures. GCS 15, full p...</td>\n",
       "      <td>Negative</td>\n",
       "      <td>Negative</td>\n",
       "      <td>Negative</td>\n",
       "      <td>0</td>\n",
       "    </tr>\n",
       "    <tr>\n",
       "      <th>4</th>\n",
       "      <td>RMH-2020-5</td>\n",
       "      <td>F</td>\n",
       "      <td>82</td>\n",
       "      <td>Road Ambulance</td>\n",
       "      <td>2020-01-01 00:36:00</td>\n",
       "      <td>2020</td>\n",
       "      <td>mech fall landed L) hip. headstrike onto wall. pain to L) hip, rotation/shortening.</td>\n",
       "      <td>Negative</td>\n",
       "      <td>Negative</td>\n",
       "      <td>Negative</td>\n",
       "      <td>0</td>\n",
       "    </tr>\n",
       "    <tr>\n",
       "      <th>...</th>\n",
       "      <td>...</td>\n",
       "      <td>...</td>\n",
       "      <td>...</td>\n",
       "      <td>...</td>\n",
       "      <td>...</td>\n",
       "      <td>...</td>\n",
       "      <td>...</td>\n",
       "      <td>...</td>\n",
       "      <td>...</td>\n",
       "      <td>...</td>\n",
       "      <td>...</td>\n",
       "    </tr>\n",
       "    <tr>\n",
       "      <th>212111</th>\n",
       "      <td>RMH-2022-42573</td>\n",
       "      <td>M</td>\n",
       "      <td>26</td>\n",
       "      <td>Other</td>\n",
       "      <td>2022-06-30 23:31:25</td>\n",
       "      <td>2022</td>\n",
       "      <td>1700hrs dizziness, worse on movement. 1x vomit. Nil headache. Nil visual disturbance. Nil slurre...</td>\n",
       "      <td>Negative</td>\n",
       "      <td>Negative</td>\n",
       "      <td>Negative</td>\n",
       "      <td>0</td>\n",
       "    </tr>\n",
       "    <tr>\n",
       "      <th>212112</th>\n",
       "      <td>RMH-2022-42574</td>\n",
       "      <td>F</td>\n",
       "      <td>26</td>\n",
       "      <td>Other</td>\n",
       "      <td>2022-06-30 23:38:35</td>\n",
       "      <td>2022</td>\n",
       "      <td>2/7 PR bleeding with bowel motions. Mild dizziness. Nil nausea/vomiting. Nil abdo pain. B/G haem...</td>\n",
       "      <td>Negative</td>\n",
       "      <td>Negative</td>\n",
       "      <td>Negative</td>\n",
       "      <td>0</td>\n",
       "    </tr>\n",
       "    <tr>\n",
       "      <th>212113</th>\n",
       "      <td>RMH-2022-42575</td>\n",
       "      <td>F</td>\n",
       "      <td>27</td>\n",
       "      <td>Other</td>\n",
       "      <td>2022-06-30 23:51:53</td>\n",
       "      <td>2022</td>\n",
       "      <td>Worsening back pain on b/ground UTI. Commenced antibiotics yesterday. Fever last night, not toda...</td>\n",
       "      <td>Negative</td>\n",
       "      <td>Negative</td>\n",
       "      <td>Negative</td>\n",
       "      <td>0</td>\n",
       "    </tr>\n",
       "    <tr>\n",
       "      <th>212114</th>\n",
       "      <td>RMH-2022-42576</td>\n",
       "      <td>F</td>\n",
       "      <td>61</td>\n",
       "      <td>Helicopter</td>\n",
       "      <td>2022-06-30 23:53:59</td>\n",
       "      <td>2022</td>\n",
       "      <td>NaN</td>\n",
       "      <td>Negative</td>\n",
       "      <td>Negative</td>\n",
       "      <td>Negative</td>\n",
       "      <td>0</td>\n",
       "    </tr>\n",
       "    <tr>\n",
       "      <th>212115</th>\n",
       "      <td>RMH-2022-42577</td>\n",
       "      <td>M</td>\n",
       "      <td>41</td>\n",
       "      <td>Other</td>\n",
       "      <td>2022-06-30 23:55:31</td>\n",
       "      <td>2022</td>\n",
       "      <td>L)sided intermittent chest wall pain for a month. Worse when laying. Hasn't taken pain relief!</td>\n",
       "      <td>Negative</td>\n",
       "      <td>Negative</td>\n",
       "      <td>Negative</td>\n",
       "      <td>0</td>\n",
       "    </tr>\n",
       "  </tbody>\n",
       "</table>\n",
       "<p>212116 rows × 11 columns</p>\n",
       "</div>"
      ],
      "text/plain": [
       "                   uid sex  age  arrival_method        arrival_date  year  \\\n",
       "0           RMH-2020-1   F   19  Road Ambulance 2020-01-01 00:15:00  2020   \n",
       "1           RMH-2020-2   F   22           Other 2020-01-01 00:20:00  2020   \n",
       "2           RMH-2020-3   F   74           Other 2020-01-01 00:33:00  2020   \n",
       "3           RMH-2020-4   M   66           Other 2020-01-01 00:34:00  2020   \n",
       "4           RMH-2020-5   F   82  Road Ambulance 2020-01-01 00:36:00  2020   \n",
       "...                ...  ..  ...             ...                 ...   ...   \n",
       "212111  RMH-2022-42573   M   26           Other 2022-06-30 23:31:25  2022   \n",
       "212112  RMH-2022-42574   F   26           Other 2022-06-30 23:38:35  2022   \n",
       "212113  RMH-2022-42575   F   27           Other 2022-06-30 23:51:53  2022   \n",
       "212114  RMH-2022-42576   F   61      Helicopter 2022-06-30 23:53:59  2022   \n",
       "212115  RMH-2022-42577   M   41           Other 2022-06-30 23:55:31  2022   \n",
       "\n",
       "                                                                                                triage_note  \\\n",
       "0       argument with friend, threatened to jump off balcony. had voices in her head for 2/12. nil visua...   \n",
       "1                                              mech fall with swelling to L) hand and dec ROM. ETOH intake.   \n",
       "2       Left lower dental pain since last year, seeking analgsia until able to attend dental hospital in...   \n",
       "3       ETOH, scuffle with HS ? LOC, lac approx 2cm above R eyebrow will require sutures. GCS 15, full p...   \n",
       "4                      mech fall landed L) hip. headstrike onto wall. pain to L) hip, rotation/shortening.    \n",
       "...                                                                                                     ...   \n",
       "212111  1700hrs dizziness, worse on movement. 1x vomit. Nil headache. Nil visual disturbance. Nil slurre...   \n",
       "212112  2/7 PR bleeding with bowel motions. Mild dizziness. Nil nausea/vomiting. Nil abdo pain. B/G haem...   \n",
       "212113  Worsening back pain on b/ground UTI. Commenced antibiotics yesterday. Fever last night, not toda...   \n",
       "212114                                                                                                  NaN   \n",
       "212115       L)sided intermittent chest wall pain for a month. Worse when laying. Hasn't taken pain relief!   \n",
       "\n",
       "              SH        SI    AOD_OD  audit_case  \n",
       "0       Negative  Negative  Negative           0  \n",
       "1       Negative  Negative  Negative           0  \n",
       "2       Negative  Negative  Negative           0  \n",
       "3       Negative  Negative  Negative           0  \n",
       "4       Negative  Negative  Negative           0  \n",
       "...          ...       ...       ...         ...  \n",
       "212111  Negative  Negative  Negative           0  \n",
       "212112  Negative  Negative  Negative           0  \n",
       "212113  Negative  Negative  Negative           0  \n",
       "212114  Negative  Negative  Negative           0  \n",
       "212115  Negative  Negative  Negative           0  \n",
       "\n",
       "[212116 rows x 11 columns]"
      ]
     },
     "execution_count": 21,
     "metadata": {},
     "output_type": "execute_result"
    }
   ],
   "source": [
    "# Change types\n",
    "df2.arrival_date = pd.to_datetime(df2.arrival_date)\n",
    "df2.year = df2.year.astype(int)\n",
    "df2.SH = map_and_categorize(df2.SH, get_mapping())\n",
    "df2.SI = map_and_categorize(df2.SI, get_mapping())\n",
    "df2.AOD_OD = map_and_categorize(df2.AOD_OD, get_mapping())\n",
    "\n",
    "\n",
    "# Select columns\n",
    "df2 = df2[['uid', 'sex', 'age', 'arrival_method', \n",
    "           'arrival_date', 'year', \n",
    "           'triage_note', 'SH', 'SI', 'AOD_OD', 'audit_case']].copy()\n",
    "df2"
   ]
  },
  {
   "cell_type": "code",
   "execution_count": 22,
   "id": "8c86bc8d",
   "metadata": {},
   "outputs": [
    {
     "name": "stdout",
     "output_type": "stream",
     "text": [
      "<class 'pandas.core.frame.DataFrame'>\n",
      "RangeIndex: 212116 entries, 0 to 212115\n",
      "Data columns (total 11 columns):\n",
      " #   Column          Non-Null Count   Dtype         \n",
      "---  ------          --------------   -----         \n",
      " 0   uid             212116 non-null  object        \n",
      " 1   sex             212116 non-null  object        \n",
      " 2   age             212116 non-null  int64         \n",
      " 3   arrival_method  212113 non-null  object        \n",
      " 4   arrival_date    212116 non-null  datetime64[ns]\n",
      " 5   year            212116 non-null  int64         \n",
      " 6   triage_note     209984 non-null  object        \n",
      " 7   SH              212116 non-null  category      \n",
      " 8   SI              212116 non-null  category      \n",
      " 9   AOD_OD          212116 non-null  category      \n",
      " 10  audit_case      212116 non-null  int64         \n",
      "dtypes: category(3), datetime64[ns](1), int64(3), object(4)\n",
      "memory usage: 13.6+ MB\n"
     ]
    }
   ],
   "source": [
    "df2.info()"
   ]
  },
  {
   "cell_type": "markdown",
   "id": "8d3f79c7",
   "metadata": {},
   "source": [
    "## Concatenate datasets"
   ]
  },
  {
   "cell_type": "code",
   "execution_count": 23,
   "id": "4881cec8",
   "metadata": {},
   "outputs": [],
   "source": [
    "# Add a column to record the original database\n",
    "df1['source_system'] = \"Symphony\"\n",
    "df2['source_system'] = \"EPIC\"\n",
    "\n",
    "# Concatenate datasets\n",
    "df = pd.concat([df1, df2], axis=0, ignore_index=True)"
   ]
  },
  {
   "cell_type": "markdown",
   "id": "ff8709d2",
   "metadata": {},
   "source": [
    "### Validate dataset concatenation"
   ]
  },
  {
   "cell_type": "code",
   "execution_count": 24,
   "id": "0f24944d",
   "metadata": {},
   "outputs": [
    {
     "name": "stdout",
     "output_type": "stream",
     "text": [
      "<class 'pandas.core.frame.DataFrame'>\n",
      "RangeIndex: 771532 entries, 0 to 771531\n",
      "Data columns (total 12 columns):\n",
      " #   Column          Non-Null Count   Dtype         \n",
      "---  ------          --------------   -----         \n",
      " 0   uid             771532 non-null  object        \n",
      " 1   sex             771530 non-null  object        \n",
      " 2   age             771532 non-null  float64       \n",
      " 3   arrival_method  771524 non-null  object        \n",
      " 4   arrival_date    771532 non-null  datetime64[ns]\n",
      " 5   year            771532 non-null  int64         \n",
      " 6   triage_note     765407 non-null  object        \n",
      " 7   SH              771532 non-null  category      \n",
      " 8   SI              771532 non-null  category      \n",
      " 9   AOD_OD          771532 non-null  category      \n",
      " 10  audit_case      215618 non-null  float64       \n",
      " 11  source_system   771532 non-null  object        \n",
      "dtypes: category(3), datetime64[ns](1), float64(2), int64(1), object(5)\n",
      "memory usage: 55.2+ MB\n"
     ]
    }
   ],
   "source": [
    "df.info()"
   ]
  },
  {
   "cell_type": "code",
   "execution_count": 25,
   "id": "2f80f5ee",
   "metadata": {},
   "outputs": [
    {
     "data": {
      "application/vnd.microsoft.datawrangler.viewer.v0+json": {
       "columns": [
        {
         "name": "index",
         "rawType": "object",
         "type": "string"
        },
        {
         "name": "0",
         "rawType": "int64",
         "type": "integer"
        }
       ],
       "ref": "0e999621-6bfc-4753-9c46-3e3e877989f5",
       "rows": [
        [
         "uid",
         "0"
        ],
        [
         "sex",
         "2"
        ],
        [
         "age",
         "0"
        ],
        [
         "arrival_method",
         "8"
        ],
        [
         "arrival_date",
         "0"
        ],
        [
         "year",
         "0"
        ],
        [
         "triage_note",
         "6125"
        ],
        [
         "SH",
         "0"
        ],
        [
         "SI",
         "0"
        ],
        [
         "AOD_OD",
         "0"
        ],
        [
         "audit_case",
         "555914"
        ],
        [
         "source_system",
         "0"
        ]
       ],
       "shape": {
        "columns": 1,
        "rows": 12
       }
      },
      "text/plain": [
       "uid                    0\n",
       "sex                    2\n",
       "age                    0\n",
       "arrival_method         8\n",
       "arrival_date           0\n",
       "year                   0\n",
       "triage_note         6125\n",
       "SH                     0\n",
       "SI                     0\n",
       "AOD_OD                 0\n",
       "audit_case        555914\n",
       "source_system          0\n",
       "dtype: int64"
      ]
     },
     "execution_count": 25,
     "metadata": {},
     "output_type": "execute_result"
    }
   ],
   "source": [
    "df.isna().sum()"
   ]
  },
  {
   "cell_type": "code",
   "execution_count": 26,
   "id": "de69e607",
   "metadata": {},
   "outputs": [
    {
     "data": {
      "application/vnd.microsoft.datawrangler.viewer.v0+json": {
       "columns": [
        {
         "name": "index",
         "rawType": "object",
         "type": "string"
        },
        {
         "name": "0",
         "rawType": "int64",
         "type": "integer"
        }
       ],
       "ref": "1df84149-47e5-47c4-9f00-9e7c6c2c96bb",
       "rows": [
        [
         "uid",
         "771532"
        ],
        [
         "sex",
         "13"
        ],
        [
         "age",
         "121"
        ],
        [
         "arrival_method",
         "103"
        ],
        [
         "arrival_date",
         "741989"
        ],
        [
         "year",
         "11"
        ],
        [
         "triage_note",
         "763556"
        ],
        [
         "SH",
         "2"
        ],
        [
         "SI",
         "2"
        ],
        [
         "AOD_OD",
         "2"
        ],
        [
         "audit_case",
         "2"
        ],
        [
         "source_system",
         "2"
        ]
       ],
       "shape": {
        "columns": 1,
        "rows": 12
       }
      },
      "text/plain": [
       "uid               771532\n",
       "sex                   13\n",
       "age                  121\n",
       "arrival_method       103\n",
       "arrival_date      741989\n",
       "year                  11\n",
       "triage_note       763556\n",
       "SH                     2\n",
       "SI                     2\n",
       "AOD_OD                 2\n",
       "audit_case             2\n",
       "source_system          2\n",
       "dtype: int64"
      ]
     },
     "execution_count": 26,
     "metadata": {},
     "output_type": "execute_result"
    }
   ],
   "source": [
    "df.nunique()"
   ]
  },
  {
   "cell_type": "markdown",
   "id": "2a2e51c0",
   "metadata": {},
   "source": [
    "### Save data"
   ]
  },
  {
   "cell_type": "code",
   "execution_count": 28,
   "id": "94a2c081",
   "metadata": {},
   "outputs": [],
   "source": [
    "df.to_parquet(interim_data_dir / \"rmh_2012_2022.parquet\", engine=\"pyarrow\")"
   ]
  },
  {
   "cell_type": "markdown",
   "id": "f92815f3",
   "metadata": {},
   "source": [
    "___\n",
    "# Datasets with ED presentations from LVRH\n",
    "### Data extract: Q1 2012 - Q2 2022"
   ]
  },
  {
   "cell_type": "code",
   "execution_count": 29,
   "id": "8ae2be5f",
   "metadata": {},
   "outputs": [
    {
     "name": "stdout",
     "output_type": "stream",
     "text": [
      "(380329, 27)\n"
     ]
    },
    {
     "data": {
      "application/vnd.microsoft.datawrangler.viewer.v0+json": {
       "columns": [
        {
         "name": "index",
         "rawType": "int64",
         "type": "integer"
        },
        {
         "name": "ID",
         "rawType": "object",
         "type": "string"
        },
        {
         "name": "SEX",
         "rawType": "object",
         "type": "string"
        },
        {
         "name": "AGE",
         "rawType": "int64",
         "type": "integer"
        },
        {
         "name": "YEAR",
         "rawType": "int64",
         "type": "integer"
        },
        {
         "name": "ARRIVAL TIME",
         "rawType": "datetime64[ns]",
         "type": "datetime"
        },
        {
         "name": "ARRIVAL MODE",
         "rawType": "object",
         "type": "string"
        },
        {
         "name": "TRIAGE CATEGORY",
         "rawType": "object",
         "type": "string"
        },
        {
         "name": "NURSING ASSESSMENT",
         "rawType": "object",
         "type": "string"
        },
        {
         "name": "DIAGNOSIS CODE",
         "rawType": "object",
         "type": "string"
        },
        {
         "name": "DIAGNOSIS DESCRIPTION",
         "rawType": "object",
         "type": "string"
        },
        {
         "name": "DISPOSITION",
         "rawType": "object",
         "type": "string"
        },
        {
         "name": "TIME SEEN BY DOCTOR",
         "rawType": "object",
         "type": "unknown"
        },
        {
         "name": "SEEN BY MENTAL HEALTH PRACTITIONER",
         "rawType": "object",
         "type": "string"
        },
        {
         "name": "BEDREQ DATE",
         "rawType": "object",
         "type": "string"
        },
        {
         "name": "DISCHARGED",
         "rawType": "object",
         "type": "unknown"
        },
        {
         "name": "DISCHARGE DESTINATION",
         "rawType": "object",
         "type": "string"
        },
        {
         "name": "MENTAL_HEALTH_FLG",
         "rawType": "int64",
         "type": "integer"
        },
        {
         "name": "ACTIVITY DESC",
         "rawType": "object",
         "type": "string"
        },
        {
         "name": "BODY REGION DESC",
         "rawType": "object",
         "type": "string"
        },
        {
         "name": "INJURY DESC",
         "rawType": "object",
         "type": "string"
        },
        {
         "name": "INJURY CAUSE",
         "rawType": "object",
         "type": "string"
        },
        {
         "name": "INJURY NATURE",
         "rawType": "object",
         "type": "string"
        },
        {
         "name": "PLACE DESC",
         "rawType": "object",
         "type": "string"
        },
        {
         "name": "SH",
         "rawType": "int64",
         "type": "integer"
        },
        {
         "name": "AOD_OD",
         "rawType": "int64",
         "type": "integer"
        },
        {
         "name": "SI",
         "rawType": "int64",
         "type": "integer"
        },
        {
         "name": "Audit_case",
         "rawType": "int64",
         "type": "integer"
        }
       ],
       "ref": "a65942de-fb09-4333-9a05-dc19fc3517b4",
       "rows": [
        [
         "0",
         "LVRH2-2012-1",
         "Male",
         "2",
         "2012",
         "2012-01-01 00:06:00",
         "OTHER (INCLUDES PRIVATE CAR, WALKED)",
         "4",
         "PT FELL OVER WHILST OUT CAMPING AT APPROX 2200HRS ONTO ?BROKEN GLASS. PT REFUSED PANADOL BY PARENTS. NIL LACERATIONS TO HEAD. IMMUNISATIONS UP TO DATE. \nWELL LOOKING BOY. 1CM LAC NOTED TO RIGHT KNEE. ADIPOSE TISSUE EXPOSED. NIL GLASS NOTED. NORMAL KNEE JOINT MVT. 6ML PAINSTOP GIVEN AT TRIAGE.",
         "S810",
         "OPEN WOUND. EXCLUDES EYE (13) - KNEE - Open wound of knee",
         "HOME",
         "-",
         "-",
         "-",
         "2012-01-01 00:21:00",
         "-",
         "0",
         "LEISURE ACTIVITY",
         "KNEE",
         "OPEN WOUND. EXCLUDES EYE (13) - KNEE - Open wound of knee",
         "NON INTENTION HARM",
         "OPEN WOUND. EXCLUDES EYE (13)",
         "OTHER SPEC PLACE, FOREST,BEACH,ABANDONED BUILDING, DERELICT",
         "0",
         "0",
         "0",
         "0"
        ],
        [
         "1",
         "LVRH2-2012-2",
         "Female",
         "53",
         "2012",
         "2012-01-01 00:30:00",
         "OTHER (INCLUDES PRIVATE CAR, WALKED)",
         "4",
         "PT PRESENTS WITH ?SOMETHING IN HER LEFT EYE. PT WAS AT HOME WHEN LEFT EYE BECAME ITCHY AT APPROX 1600HRS. PT MANAGED TO GO TO WORK AND NOW IS BECOMING PAINFUL. NIL MEDS TAKEN FOR PAIN. \nWELL LOOKING WOMEN. DENIES CHANGE IN VISION. C/O PAINFUL LEFT EYE. NIL OBVIUOS FOREIGN BODY NOTED ON EXAMINATION. NIL WEEPING OR DISCHARGE FROM EYE.",
         "H160",
         "Corneal ulcer, nontraumatic",
         "HOME",
         "2012-01-01 03:39:00",
         "-",
         "-",
         "2012-01-01 04:35:00",
         "-",
         "0",
         "-",
         "-",
         "Corneal ulcer, nontraumatic",
         "-",
         "-",
         "-",
         "0",
         "0",
         "0",
         "0"
        ],
        [
         "2",
         "LVRH2-2012-3",
         "Male",
         "24",
         "2012",
         "2012-01-01 00:56:00",
         "ROAD AMBULANCE SERVICE",
         "3",
         "BIBA POST WITTNESSED ASSAULT APPROX 2330HRS. HIT IN LEFT SIDE OF FACE AND HAD LOC ?LENGHT OF TIME. O/A BY RAV PT HAD ALETERED CONC STATE- GCS 14. CERVICAL COLLAR APPLIED BY RAV. 10 MG IV MAXALON GIVEN. RAV OBS HR 90 REG. BP 120/P. \nPT LYING ON TROLLEY. GCS 15. PEARL. GOOD LIMB STRENGHT. NIL NECK PAIN. OVBIUOS INJURIES TO LEFT SIDE OF FACE.",
         "T009",
         "SUPERFICIAL (INCLUDES BRUISES; EXCL. EYE [13]) - MULTIPLE INJURIES INVOLVING MORE THAN ONE BODY REGION - Superficial injury involving >1 body region",
         "HOME",
         "2012-01-01 01:15:00",
         "-",
         "-",
         "2012-01-01 04:00:00",
         "-",
         "0",
         "LEISURE ACTIVITY",
         "MULTIPLE INJURIES INVOLVING MORE THAN ONE BODY REGION",
         "SUPERFICIAL (INCLUDES BRUISES; EXCL. EYE [13]) - MULTIPLE INJURIES INVOLVING MORE THAN ONE BODY REGION - Superficial injury involving >1 body region",
         "ASSAULT NOT OTHERWISE SPECIFIED",
         "SUPERFICIAL (INCLUDES BRUISES; EXCL. EYE [13])",
         "HOUSE, HOME PREMISES, FARM HOUSE, NON-INSTITUTIONAL RESIDENC",
         "0",
         "0",
         "0",
         "0"
        ],
        [
         "3",
         "LVRH2-2012-4",
         "Male",
         "21",
         "2012",
         "2012-01-01 01:07:00",
         "OTHER (INCLUDES PRIVATE CAR, WALKED)",
         "5",
         "PAST WEEK HAS BEEN SMOKING MARIJUANA. 2/7 EAR ACHES , SORE THROAT AND HEADACHE . TODAY RASH ON LEGS AND SPREADING \nWALKED INTO WITH AMBULANCE OFFICERS . NO DISTRESS FEBRILE 38.6 ,RED  RASH ON LEGS PANADOL GIVEN AT TRIAGE . NO HEADACE AT PRESENT ALERT GCS 15",
         "J039",
         "Tonsillitis, acute",
         "HOME",
         "2012-01-01 04:30:00",
         "-",
         "-",
         "2012-01-01 05:00:00",
         "-",
         "0",
         "-",
         "-",
         "Tonsillitis, acute",
         "-",
         "-",
         "-",
         "0",
         "0",
         "0",
         "0"
        ],
        [
         "4",
         "LVRH2-2012-5",
         "Male",
         "3",
         "2012",
         "2012-01-01 01:12:00",
         "OTHER (INCLUDES PRIVATE CAR, WALKED)",
         "4",
         "BIB FATHER WITH PAINFUL AND SWOLLEN PENIS. PT HAS BEEN AT BEACH TODAY AND AT APPROX 1500HRS STARTED TO COMPLAIN OF PENIS PAIN. TONIGHT WHEN GOT HOME FATHER NOTICED THAT IT WAS RED AND SWOLLEN. PT IS NOT CIRCUMCISED. NIL ANALGESIA GIVEN. NIL IMMUNISATIONS GIVEN AT PARENTS REQUEST. \nWELL LOOKING BOY. INTERESTED IN SURROUNDINGS. MILD SWELLING TO PENIS. PENIS TENDER WHEN TOUCHED.",
         "N509",
         "Other male genital organ disorder",
         "HOME",
         "2012-01-01 04:10:00",
         "-",
         "-",
         "2012-01-01 04:30:00",
         "-",
         "0",
         "-",
         "-",
         "Other male genital organ disorder",
         "-",
         "-",
         "-",
         "0",
         "0",
         "0",
         "0"
        ]
       ],
       "shape": {
        "columns": 27,
        "rows": 5
       }
      },
      "text/html": [
       "<div>\n",
       "<style scoped>\n",
       "    .dataframe tbody tr th:only-of-type {\n",
       "        vertical-align: middle;\n",
       "    }\n",
       "\n",
       "    .dataframe tbody tr th {\n",
       "        vertical-align: top;\n",
       "    }\n",
       "\n",
       "    .dataframe thead th {\n",
       "        text-align: right;\n",
       "    }\n",
       "</style>\n",
       "<table border=\"1\" class=\"dataframe\">\n",
       "  <thead>\n",
       "    <tr style=\"text-align: right;\">\n",
       "      <th></th>\n",
       "      <th>ID</th>\n",
       "      <th>SEX</th>\n",
       "      <th>AGE</th>\n",
       "      <th>YEAR</th>\n",
       "      <th>ARRIVAL TIME</th>\n",
       "      <th>ARRIVAL MODE</th>\n",
       "      <th>TRIAGE CATEGORY</th>\n",
       "      <th>NURSING ASSESSMENT</th>\n",
       "      <th>DIAGNOSIS CODE</th>\n",
       "      <th>DIAGNOSIS DESCRIPTION</th>\n",
       "      <th>DISPOSITION</th>\n",
       "      <th>TIME SEEN BY DOCTOR</th>\n",
       "      <th>SEEN BY MENTAL HEALTH PRACTITIONER</th>\n",
       "      <th>BEDREQ DATE</th>\n",
       "      <th>DISCHARGED</th>\n",
       "      <th>DISCHARGE DESTINATION</th>\n",
       "      <th>MENTAL_HEALTH_FLG</th>\n",
       "      <th>ACTIVITY DESC</th>\n",
       "      <th>BODY REGION DESC</th>\n",
       "      <th>INJURY DESC</th>\n",
       "      <th>INJURY CAUSE</th>\n",
       "      <th>INJURY NATURE</th>\n",
       "      <th>PLACE DESC</th>\n",
       "      <th>SH</th>\n",
       "      <th>AOD_OD</th>\n",
       "      <th>SI</th>\n",
       "      <th>Audit_case</th>\n",
       "    </tr>\n",
       "  </thead>\n",
       "  <tbody>\n",
       "    <tr>\n",
       "      <th>0</th>\n",
       "      <td>LVRH2-2012-1</td>\n",
       "      <td>Male</td>\n",
       "      <td>2</td>\n",
       "      <td>2012</td>\n",
       "      <td>2012-01-01 00:06:00</td>\n",
       "      <td>OTHER (INCLUDES PRIVATE CAR, WALKED)</td>\n",
       "      <td>4</td>\n",
       "      <td>PT FELL OVER WHILST OUT CAMPING AT APPROX 2200HRS ONTO ?BROKEN GLASS. PT REFUSED PANADOL BY PARE...</td>\n",
       "      <td>S810</td>\n",
       "      <td>OPEN WOUND. EXCLUDES EYE (13) - KNEE - Open wound of knee</td>\n",
       "      <td>HOME</td>\n",
       "      <td>-</td>\n",
       "      <td>-</td>\n",
       "      <td>-</td>\n",
       "      <td>2012-01-01 00:21:00</td>\n",
       "      <td>-</td>\n",
       "      <td>0</td>\n",
       "      <td>LEISURE ACTIVITY</td>\n",
       "      <td>KNEE</td>\n",
       "      <td>OPEN WOUND. EXCLUDES EYE (13) - KNEE - Open wound of knee</td>\n",
       "      <td>NON INTENTION HARM</td>\n",
       "      <td>OPEN WOUND. EXCLUDES EYE (13)</td>\n",
       "      <td>OTHER SPEC PLACE, FOREST,BEACH,ABANDONED BUILDING, DERELICT</td>\n",
       "      <td>0</td>\n",
       "      <td>0</td>\n",
       "      <td>0</td>\n",
       "      <td>0</td>\n",
       "    </tr>\n",
       "    <tr>\n",
       "      <th>1</th>\n",
       "      <td>LVRH2-2012-2</td>\n",
       "      <td>Female</td>\n",
       "      <td>53</td>\n",
       "      <td>2012</td>\n",
       "      <td>2012-01-01 00:30:00</td>\n",
       "      <td>OTHER (INCLUDES PRIVATE CAR, WALKED)</td>\n",
       "      <td>4</td>\n",
       "      <td>PT PRESENTS WITH ?SOMETHING IN HER LEFT EYE. PT WAS AT HOME WHEN LEFT EYE BECAME ITCHY AT APPROX...</td>\n",
       "      <td>H160</td>\n",
       "      <td>Corneal ulcer, nontraumatic</td>\n",
       "      <td>HOME</td>\n",
       "      <td>2012-01-01 03:39:00</td>\n",
       "      <td>-</td>\n",
       "      <td>-</td>\n",
       "      <td>2012-01-01 04:35:00</td>\n",
       "      <td>-</td>\n",
       "      <td>0</td>\n",
       "      <td>-</td>\n",
       "      <td>-</td>\n",
       "      <td>Corneal ulcer, nontraumatic</td>\n",
       "      <td>-</td>\n",
       "      <td>-</td>\n",
       "      <td>-</td>\n",
       "      <td>0</td>\n",
       "      <td>0</td>\n",
       "      <td>0</td>\n",
       "      <td>0</td>\n",
       "    </tr>\n",
       "    <tr>\n",
       "      <th>2</th>\n",
       "      <td>LVRH2-2012-3</td>\n",
       "      <td>Male</td>\n",
       "      <td>24</td>\n",
       "      <td>2012</td>\n",
       "      <td>2012-01-01 00:56:00</td>\n",
       "      <td>ROAD AMBULANCE SERVICE</td>\n",
       "      <td>3</td>\n",
       "      <td>BIBA POST WITTNESSED ASSAULT APPROX 2330HRS. HIT IN LEFT SIDE OF FACE AND HAD LOC ?LENGHT OF TIM...</td>\n",
       "      <td>T009</td>\n",
       "      <td>SUPERFICIAL (INCLUDES BRUISES; EXCL. EYE [13]) - MULTIPLE INJURIES INVOLVING MORE THAN ONE BODY ...</td>\n",
       "      <td>HOME</td>\n",
       "      <td>2012-01-01 01:15:00</td>\n",
       "      <td>-</td>\n",
       "      <td>-</td>\n",
       "      <td>2012-01-01 04:00:00</td>\n",
       "      <td>-</td>\n",
       "      <td>0</td>\n",
       "      <td>LEISURE ACTIVITY</td>\n",
       "      <td>MULTIPLE INJURIES INVOLVING MORE THAN ONE BODY REGION</td>\n",
       "      <td>SUPERFICIAL (INCLUDES BRUISES; EXCL. EYE [13]) - MULTIPLE INJURIES INVOLVING MORE THAN ONE BODY ...</td>\n",
       "      <td>ASSAULT NOT OTHERWISE SPECIFIED</td>\n",
       "      <td>SUPERFICIAL (INCLUDES BRUISES; EXCL. EYE [13])</td>\n",
       "      <td>HOUSE, HOME PREMISES, FARM HOUSE, NON-INSTITUTIONAL RESIDENC</td>\n",
       "      <td>0</td>\n",
       "      <td>0</td>\n",
       "      <td>0</td>\n",
       "      <td>0</td>\n",
       "    </tr>\n",
       "    <tr>\n",
       "      <th>3</th>\n",
       "      <td>LVRH2-2012-4</td>\n",
       "      <td>Male</td>\n",
       "      <td>21</td>\n",
       "      <td>2012</td>\n",
       "      <td>2012-01-01 01:07:00</td>\n",
       "      <td>OTHER (INCLUDES PRIVATE CAR, WALKED)</td>\n",
       "      <td>5</td>\n",
       "      <td>PAST WEEK HAS BEEN SMOKING MARIJUANA. 2/7 EAR ACHES , SORE THROAT AND HEADACHE . TODAY RASH ON L...</td>\n",
       "      <td>J039</td>\n",
       "      <td>Tonsillitis, acute</td>\n",
       "      <td>HOME</td>\n",
       "      <td>2012-01-01 04:30:00</td>\n",
       "      <td>-</td>\n",
       "      <td>-</td>\n",
       "      <td>2012-01-01 05:00:00</td>\n",
       "      <td>-</td>\n",
       "      <td>0</td>\n",
       "      <td>-</td>\n",
       "      <td>-</td>\n",
       "      <td>Tonsillitis, acute</td>\n",
       "      <td>-</td>\n",
       "      <td>-</td>\n",
       "      <td>-</td>\n",
       "      <td>0</td>\n",
       "      <td>0</td>\n",
       "      <td>0</td>\n",
       "      <td>0</td>\n",
       "    </tr>\n",
       "    <tr>\n",
       "      <th>4</th>\n",
       "      <td>LVRH2-2012-5</td>\n",
       "      <td>Male</td>\n",
       "      <td>3</td>\n",
       "      <td>2012</td>\n",
       "      <td>2012-01-01 01:12:00</td>\n",
       "      <td>OTHER (INCLUDES PRIVATE CAR, WALKED)</td>\n",
       "      <td>4</td>\n",
       "      <td>BIB FATHER WITH PAINFUL AND SWOLLEN PENIS. PT HAS BEEN AT BEACH TODAY AND AT APPROX 1500HRS STAR...</td>\n",
       "      <td>N509</td>\n",
       "      <td>Other male genital organ disorder</td>\n",
       "      <td>HOME</td>\n",
       "      <td>2012-01-01 04:10:00</td>\n",
       "      <td>-</td>\n",
       "      <td>-</td>\n",
       "      <td>2012-01-01 04:30:00</td>\n",
       "      <td>-</td>\n",
       "      <td>0</td>\n",
       "      <td>-</td>\n",
       "      <td>-</td>\n",
       "      <td>Other male genital organ disorder</td>\n",
       "      <td>-</td>\n",
       "      <td>-</td>\n",
       "      <td>-</td>\n",
       "      <td>0</td>\n",
       "      <td>0</td>\n",
       "      <td>0</td>\n",
       "      <td>0</td>\n",
       "    </tr>\n",
       "  </tbody>\n",
       "</table>\n",
       "</div>"
      ],
      "text/plain": [
       "             ID     SEX  AGE  YEAR        ARRIVAL TIME  \\\n",
       "0  LVRH2-2012-1    Male    2  2012 2012-01-01 00:06:00   \n",
       "1  LVRH2-2012-2  Female   53  2012 2012-01-01 00:30:00   \n",
       "2  LVRH2-2012-3    Male   24  2012 2012-01-01 00:56:00   \n",
       "3  LVRH2-2012-4    Male   21  2012 2012-01-01 01:07:00   \n",
       "4  LVRH2-2012-5    Male    3  2012 2012-01-01 01:12:00   \n",
       "\n",
       "                           ARRIVAL MODE TRIAGE CATEGORY  \\\n",
       "0  OTHER (INCLUDES PRIVATE CAR, WALKED)               4   \n",
       "1  OTHER (INCLUDES PRIVATE CAR, WALKED)               4   \n",
       "2                ROAD AMBULANCE SERVICE               3   \n",
       "3  OTHER (INCLUDES PRIVATE CAR, WALKED)               5   \n",
       "4  OTHER (INCLUDES PRIVATE CAR, WALKED)               4   \n",
       "\n",
       "                                                                                    NURSING ASSESSMENT  \\\n",
       "0  PT FELL OVER WHILST OUT CAMPING AT APPROX 2200HRS ONTO ?BROKEN GLASS. PT REFUSED PANADOL BY PARE...   \n",
       "1  PT PRESENTS WITH ?SOMETHING IN HER LEFT EYE. PT WAS AT HOME WHEN LEFT EYE BECAME ITCHY AT APPROX...   \n",
       "2  BIBA POST WITTNESSED ASSAULT APPROX 2330HRS. HIT IN LEFT SIDE OF FACE AND HAD LOC ?LENGHT OF TIM...   \n",
       "3  PAST WEEK HAS BEEN SMOKING MARIJUANA. 2/7 EAR ACHES , SORE THROAT AND HEADACHE . TODAY RASH ON L...   \n",
       "4  BIB FATHER WITH PAINFUL AND SWOLLEN PENIS. PT HAS BEEN AT BEACH TODAY AND AT APPROX 1500HRS STAR...   \n",
       "\n",
       "  DIAGNOSIS CODE  \\\n",
       "0           S810   \n",
       "1           H160   \n",
       "2           T009   \n",
       "3           J039   \n",
       "4           N509   \n",
       "\n",
       "                                                                                 DIAGNOSIS DESCRIPTION  \\\n",
       "0                                            OPEN WOUND. EXCLUDES EYE (13) - KNEE - Open wound of knee   \n",
       "1                                                                          Corneal ulcer, nontraumatic   \n",
       "2  SUPERFICIAL (INCLUDES BRUISES; EXCL. EYE [13]) - MULTIPLE INJURIES INVOLVING MORE THAN ONE BODY ...   \n",
       "3                                                                                   Tonsillitis, acute   \n",
       "4                                                                    Other male genital organ disorder   \n",
       "\n",
       "  DISPOSITION  TIME SEEN BY DOCTOR SEEN BY MENTAL HEALTH PRACTITIONER  \\\n",
       "0        HOME                    -                                  -   \n",
       "1        HOME  2012-01-01 03:39:00                                  -   \n",
       "2        HOME  2012-01-01 01:15:00                                  -   \n",
       "3        HOME  2012-01-01 04:30:00                                  -   \n",
       "4        HOME  2012-01-01 04:10:00                                  -   \n",
       "\n",
       "  BEDREQ DATE           DISCHARGED DISCHARGE DESTINATION  MENTAL_HEALTH_FLG  \\\n",
       "0           -  2012-01-01 00:21:00                     -                  0   \n",
       "1           -  2012-01-01 04:35:00                     -                  0   \n",
       "2           -  2012-01-01 04:00:00                     -                  0   \n",
       "3           -  2012-01-01 05:00:00                     -                  0   \n",
       "4           -  2012-01-01 04:30:00                     -                  0   \n",
       "\n",
       "      ACTIVITY DESC                                       BODY REGION DESC  \\\n",
       "0  LEISURE ACTIVITY                                                   KNEE   \n",
       "1                 -                                                      -   \n",
       "2  LEISURE ACTIVITY  MULTIPLE INJURIES INVOLVING MORE THAN ONE BODY REGION   \n",
       "3                 -                                                      -   \n",
       "4                 -                                                      -   \n",
       "\n",
       "                                                                                           INJURY DESC  \\\n",
       "0                                            OPEN WOUND. EXCLUDES EYE (13) - KNEE - Open wound of knee   \n",
       "1                                                                          Corneal ulcer, nontraumatic   \n",
       "2  SUPERFICIAL (INCLUDES BRUISES; EXCL. EYE [13]) - MULTIPLE INJURIES INVOLVING MORE THAN ONE BODY ...   \n",
       "3                                                                                   Tonsillitis, acute   \n",
       "4                                                                    Other male genital organ disorder   \n",
       "\n",
       "                      INJURY CAUSE  \\\n",
       "0               NON INTENTION HARM   \n",
       "1                                -   \n",
       "2  ASSAULT NOT OTHERWISE SPECIFIED   \n",
       "3                                -   \n",
       "4                                -   \n",
       "\n",
       "                                    INJURY NATURE  \\\n",
       "0                   OPEN WOUND. EXCLUDES EYE (13)   \n",
       "1                                               -   \n",
       "2  SUPERFICIAL (INCLUDES BRUISES; EXCL. EYE [13])   \n",
       "3                                               -   \n",
       "4                                               -   \n",
       "\n",
       "                                                     PLACE DESC  SH  AOD_OD  \\\n",
       "0   OTHER SPEC PLACE, FOREST,BEACH,ABANDONED BUILDING, DERELICT   0       0   \n",
       "1                                                             -   0       0   \n",
       "2  HOUSE, HOME PREMISES, FARM HOUSE, NON-INSTITUTIONAL RESIDENC   0       0   \n",
       "3                                                             -   0       0   \n",
       "4                                                             -   0       0   \n",
       "\n",
       "   SI  Audit_case  \n",
       "0   0           0  \n",
       "1   0           0  \n",
       "2   0           0  \n",
       "3   0           0  \n",
       "4   0           0  "
      ]
     },
     "execution_count": 29,
     "metadata": {},
     "output_type": "execute_result"
    }
   ],
   "source": [
    "# Load data\n",
    "df1 = pd.read_excel(lvrh_raw_data_path)\n",
    "print(df1.shape)\n",
    "df1.head()"
   ]
  },
  {
   "cell_type": "markdown",
   "id": "4a95e3c9",
   "metadata": {},
   "source": [
    "### Empty rows"
   ]
  },
  {
   "cell_type": "code",
   "execution_count": 30,
   "id": "99cdfb79",
   "metadata": {},
   "outputs": [
    {
     "name": "stdout",
     "output_type": "stream",
     "text": [
      "The dataset contains 0 empty rows.\n"
     ]
    },
    {
     "data": {
      "application/vnd.microsoft.datawrangler.viewer.v0+json": {
       "columns": [
        {
         "name": "index",
         "rawType": "int64",
         "type": "integer"
        },
        {
         "name": "ID",
         "rawType": "object",
         "type": "string"
        },
        {
         "name": "SEX",
         "rawType": "object",
         "type": "string"
        },
        {
         "name": "AGE",
         "rawType": "int64",
         "type": "integer"
        },
        {
         "name": "YEAR",
         "rawType": "int64",
         "type": "integer"
        },
        {
         "name": "ARRIVAL TIME",
         "rawType": "datetime64[ns]",
         "type": "datetime"
        },
        {
         "name": "ARRIVAL MODE",
         "rawType": "object",
         "type": "string"
        },
        {
         "name": "TRIAGE CATEGORY",
         "rawType": "object",
         "type": "string"
        },
        {
         "name": "NURSING ASSESSMENT",
         "rawType": "object",
         "type": "string"
        },
        {
         "name": "DIAGNOSIS CODE",
         "rawType": "object",
         "type": "string"
        },
        {
         "name": "DIAGNOSIS DESCRIPTION",
         "rawType": "object",
         "type": "string"
        },
        {
         "name": "DISPOSITION",
         "rawType": "object",
         "type": "string"
        },
        {
         "name": "TIME SEEN BY DOCTOR",
         "rawType": "object",
         "type": "unknown"
        },
        {
         "name": "SEEN BY MENTAL HEALTH PRACTITIONER",
         "rawType": "object",
         "type": "string"
        },
        {
         "name": "BEDREQ DATE",
         "rawType": "object",
         "type": "unknown"
        },
        {
         "name": "DISCHARGED",
         "rawType": "object",
         "type": "unknown"
        },
        {
         "name": "DISCHARGE DESTINATION",
         "rawType": "object",
         "type": "string"
        },
        {
         "name": "MENTAL_HEALTH_FLG",
         "rawType": "int64",
         "type": "integer"
        },
        {
         "name": "ACTIVITY DESC",
         "rawType": "object",
         "type": "string"
        },
        {
         "name": "BODY REGION DESC",
         "rawType": "object",
         "type": "string"
        },
        {
         "name": "INJURY DESC",
         "rawType": "object",
         "type": "string"
        },
        {
         "name": "INJURY CAUSE",
         "rawType": "object",
         "type": "string"
        },
        {
         "name": "INJURY NATURE",
         "rawType": "object",
         "type": "string"
        },
        {
         "name": "PLACE DESC",
         "rawType": "object",
         "type": "string"
        },
        {
         "name": "SH",
         "rawType": "int64",
         "type": "integer"
        },
        {
         "name": "AOD_OD",
         "rawType": "int64",
         "type": "integer"
        },
        {
         "name": "SI",
         "rawType": "int64",
         "type": "integer"
        },
        {
         "name": "Audit_case",
         "rawType": "int64",
         "type": "integer"
        }
       ],
       "ref": "c808ef35-fcd8-4aa4-9bf1-365546df0879",
       "rows": [
        [
         "380327",
         "LVRH2-2022-20696",
         "Female",
         "58",
         "2022",
         "2022-06-30 23:19:00",
         "Road ambulance service",
         "3",
         "fall - intoxicated \nfall from standing height -  intoxicated_x000D_\nhead strike, small lac to head_x000D_\n _x000D_\npt chatting with AV_x000D_\nconfused, unsure of year_x000D_\n_x000D_\n_x000D_\ncovid vaccinated x 2_x000D_\n",
         "S0080",
         "Superficial injury of face (excludes eye)",
         "Home",
         "2022-07-01 00:23:00",
         "-",
         "2022-06-30 23:19:56.830000",
         "2022-07-01 06:53:00",
         "LMO",
         "0",
         "Unspecified activity",
         "Face (Excludes eye, use code F1)",
         "fall from standing height after consuming ETOH",
         "Fall - low (same level or less than 1 metre, or no information on height)",
         "Superficial (Includes abrasion, blister, contusion; Excludes eye – use code 13)",
         "Home",
         "0",
         "0",
         "0",
         "0"
        ],
        [
         "380328",
         "LVRH2-2022-20697",
         "Female",
         "36",
         "2022",
         "2022-06-30 23:50:00",
         "Other",
         "4",
         "Rt wrist injury \nslipped and fallen on tiles injured rt wrist_x000D_\npt covid positive - from last friday_x000D_\n_x000D_\npt upset_x000D_\nnil obvious deformity, fingers pink on inspection",
         "S6350",
         "Sprain/strain of wrist",
         "Home",
         "2022-06-30 23:57:00",
         "-",
         "2022-06-30 23:50:36.510000",
         "2022-07-01 03:49:00",
         "LMO",
         "0",
         "Unspecified activity",
         "Wrist",
         "slipped on wet tiles and put Rt wrist out, injured wrist",
         "Fall - low (same level or less than 1 metre, or no information on height)",
         "Sprain or strain",
         "Home",
         "0",
         "0",
         "0",
         "0"
        ]
       ],
       "shape": {
        "columns": 27,
        "rows": 2
       }
      },
      "text/html": [
       "<div>\n",
       "<style scoped>\n",
       "    .dataframe tbody tr th:only-of-type {\n",
       "        vertical-align: middle;\n",
       "    }\n",
       "\n",
       "    .dataframe tbody tr th {\n",
       "        vertical-align: top;\n",
       "    }\n",
       "\n",
       "    .dataframe thead th {\n",
       "        text-align: right;\n",
       "    }\n",
       "</style>\n",
       "<table border=\"1\" class=\"dataframe\">\n",
       "  <thead>\n",
       "    <tr style=\"text-align: right;\">\n",
       "      <th></th>\n",
       "      <th>ID</th>\n",
       "      <th>SEX</th>\n",
       "      <th>AGE</th>\n",
       "      <th>YEAR</th>\n",
       "      <th>ARRIVAL TIME</th>\n",
       "      <th>ARRIVAL MODE</th>\n",
       "      <th>TRIAGE CATEGORY</th>\n",
       "      <th>NURSING ASSESSMENT</th>\n",
       "      <th>DIAGNOSIS CODE</th>\n",
       "      <th>DIAGNOSIS DESCRIPTION</th>\n",
       "      <th>DISPOSITION</th>\n",
       "      <th>TIME SEEN BY DOCTOR</th>\n",
       "      <th>SEEN BY MENTAL HEALTH PRACTITIONER</th>\n",
       "      <th>BEDREQ DATE</th>\n",
       "      <th>DISCHARGED</th>\n",
       "      <th>DISCHARGE DESTINATION</th>\n",
       "      <th>MENTAL_HEALTH_FLG</th>\n",
       "      <th>ACTIVITY DESC</th>\n",
       "      <th>BODY REGION DESC</th>\n",
       "      <th>INJURY DESC</th>\n",
       "      <th>INJURY CAUSE</th>\n",
       "      <th>INJURY NATURE</th>\n",
       "      <th>PLACE DESC</th>\n",
       "      <th>SH</th>\n",
       "      <th>AOD_OD</th>\n",
       "      <th>SI</th>\n",
       "      <th>Audit_case</th>\n",
       "    </tr>\n",
       "  </thead>\n",
       "  <tbody>\n",
       "    <tr>\n",
       "      <th>380327</th>\n",
       "      <td>LVRH2-2022-20696</td>\n",
       "      <td>Female</td>\n",
       "      <td>58</td>\n",
       "      <td>2022</td>\n",
       "      <td>2022-06-30 23:19:00</td>\n",
       "      <td>Road ambulance service</td>\n",
       "      <td>3</td>\n",
       "      <td>fall - intoxicated \\nfall from standing height -  intoxicated_x000D_\\nhead strike, small lac to ...</td>\n",
       "      <td>S0080</td>\n",
       "      <td>Superficial injury of face (excludes eye)</td>\n",
       "      <td>Home</td>\n",
       "      <td>2022-07-01 00:23:00</td>\n",
       "      <td>-</td>\n",
       "      <td>2022-06-30 23:19:56.830000</td>\n",
       "      <td>2022-07-01 06:53:00</td>\n",
       "      <td>LMO</td>\n",
       "      <td>0</td>\n",
       "      <td>Unspecified activity</td>\n",
       "      <td>Face (Excludes eye, use code F1)</td>\n",
       "      <td>fall from standing height after consuming ETOH</td>\n",
       "      <td>Fall - low (same level or less than 1 metre, or no information on height)</td>\n",
       "      <td>Superficial (Includes abrasion, blister, contusion; Excludes eye – use code 13)</td>\n",
       "      <td>Home</td>\n",
       "      <td>0</td>\n",
       "      <td>0</td>\n",
       "      <td>0</td>\n",
       "      <td>0</td>\n",
       "    </tr>\n",
       "    <tr>\n",
       "      <th>380328</th>\n",
       "      <td>LVRH2-2022-20697</td>\n",
       "      <td>Female</td>\n",
       "      <td>36</td>\n",
       "      <td>2022</td>\n",
       "      <td>2022-06-30 23:50:00</td>\n",
       "      <td>Other</td>\n",
       "      <td>4</td>\n",
       "      <td>Rt wrist injury \\nslipped and fallen on tiles injured rt wrist_x000D_\\npt covid positive - from ...</td>\n",
       "      <td>S6350</td>\n",
       "      <td>Sprain/strain of wrist</td>\n",
       "      <td>Home</td>\n",
       "      <td>2022-06-30 23:57:00</td>\n",
       "      <td>-</td>\n",
       "      <td>2022-06-30 23:50:36.510000</td>\n",
       "      <td>2022-07-01 03:49:00</td>\n",
       "      <td>LMO</td>\n",
       "      <td>0</td>\n",
       "      <td>Unspecified activity</td>\n",
       "      <td>Wrist</td>\n",
       "      <td>slipped on wet tiles and put Rt wrist out, injured wrist</td>\n",
       "      <td>Fall - low (same level or less than 1 metre, or no information on height)</td>\n",
       "      <td>Sprain or strain</td>\n",
       "      <td>Home</td>\n",
       "      <td>0</td>\n",
       "      <td>0</td>\n",
       "      <td>0</td>\n",
       "      <td>0</td>\n",
       "    </tr>\n",
       "  </tbody>\n",
       "</table>\n",
       "</div>"
      ],
      "text/plain": [
       "                      ID     SEX  AGE  YEAR        ARRIVAL TIME  \\\n",
       "380327  LVRH2-2022-20696  Female   58  2022 2022-06-30 23:19:00   \n",
       "380328  LVRH2-2022-20697  Female   36  2022 2022-06-30 23:50:00   \n",
       "\n",
       "                  ARRIVAL MODE TRIAGE CATEGORY  \\\n",
       "380327  Road ambulance service               3   \n",
       "380328                   Other               4   \n",
       "\n",
       "                                                                                         NURSING ASSESSMENT  \\\n",
       "380327  fall - intoxicated \\nfall from standing height -  intoxicated_x000D_\\nhead strike, small lac to ...   \n",
       "380328  Rt wrist injury \\nslipped and fallen on tiles injured rt wrist_x000D_\\npt covid positive - from ...   \n",
       "\n",
       "       DIAGNOSIS CODE                      DIAGNOSIS DESCRIPTION DISPOSITION  \\\n",
       "380327          S0080  Superficial injury of face (excludes eye)        Home   \n",
       "380328          S6350                     Sprain/strain of wrist        Home   \n",
       "\n",
       "        TIME SEEN BY DOCTOR SEEN BY MENTAL HEALTH PRACTITIONER  \\\n",
       "380327  2022-07-01 00:23:00                                  -   \n",
       "380328  2022-06-30 23:57:00                                  -   \n",
       "\n",
       "                       BEDREQ DATE           DISCHARGED DISCHARGE DESTINATION  \\\n",
       "380327  2022-06-30 23:19:56.830000  2022-07-01 06:53:00                   LMO   \n",
       "380328  2022-06-30 23:50:36.510000  2022-07-01 03:49:00                   LMO   \n",
       "\n",
       "        MENTAL_HEALTH_FLG         ACTIVITY DESC  \\\n",
       "380327                  0  Unspecified activity   \n",
       "380328                  0  Unspecified activity   \n",
       "\n",
       "                        BODY REGION DESC  \\\n",
       "380327  Face (Excludes eye, use code F1)   \n",
       "380328                             Wrist   \n",
       "\n",
       "                                                     INJURY DESC  \\\n",
       "380327            fall from standing height after consuming ETOH   \n",
       "380328  slipped on wet tiles and put Rt wrist out, injured wrist   \n",
       "\n",
       "                                                                     INJURY CAUSE  \\\n",
       "380327  Fall - low (same level or less than 1 metre, or no information on height)   \n",
       "380328  Fall - low (same level or less than 1 metre, or no information on height)   \n",
       "\n",
       "                                                                          INJURY NATURE  \\\n",
       "380327  Superficial (Includes abrasion, blister, contusion; Excludes eye – use code 13)   \n",
       "380328                                                                 Sprain or strain   \n",
       "\n",
       "       PLACE DESC  SH  AOD_OD  SI  Audit_case  \n",
       "380327       Home   0       0   0           0  \n",
       "380328       Home   0       0   0           0  "
      ]
     },
     "execution_count": 30,
     "metadata": {},
     "output_type": "execute_result"
    }
   ],
   "source": [
    "print(\"The dataset contains %d empty rows.\" % df1.isna().all(axis=1).sum())\n",
    "df1.tail(2)"
   ]
  },
  {
   "cell_type": "markdown",
   "id": "9f582ede",
   "metadata": {},
   "source": [
    "### Duplicated rows"
   ]
  },
  {
   "cell_type": "code",
   "execution_count": 31,
   "id": "4de3907f",
   "metadata": {},
   "outputs": [
    {
     "name": "stdout",
     "output_type": "stream",
     "text": [
      "The dataset contains 0 duplicated rows.\n"
     ]
    }
   ],
   "source": [
    "# Duplicates based on all columns except for ID\n",
    "print(\"The dataset contains %d duplicated rows.\" % df1.duplicated(subset=df1.columns.drop('ID')).sum())"
   ]
  },
  {
   "cell_type": "markdown",
   "id": "297e06d5",
   "metadata": {},
   "source": [
    "### General info"
   ]
  },
  {
   "cell_type": "code",
   "execution_count": 32,
   "id": "590a088c",
   "metadata": {},
   "outputs": [
    {
     "name": "stdout",
     "output_type": "stream",
     "text": [
      "<class 'pandas.core.frame.DataFrame'>\n",
      "RangeIndex: 380329 entries, 0 to 380328\n",
      "Data columns (total 27 columns):\n",
      " #   Column                              Non-Null Count   Dtype         \n",
      "---  ------                              --------------   -----         \n",
      " 0   ID                                  380329 non-null  object        \n",
      " 1   SEX                                 380329 non-null  object        \n",
      " 2   AGE                                 380329 non-null  int64         \n",
      " 3   YEAR                                380329 non-null  int64         \n",
      " 4   ARRIVAL TIME                        380329 non-null  datetime64[ns]\n",
      " 5   ARRIVAL MODE                        380329 non-null  object        \n",
      " 6   TRIAGE CATEGORY                     380329 non-null  object        \n",
      " 7   NURSING ASSESSMENT                  380329 non-null  object        \n",
      " 8   DIAGNOSIS CODE                      370486 non-null  object        \n",
      " 9   DIAGNOSIS DESCRIPTION               370486 non-null  object        \n",
      " 10  DISPOSITION                         380329 non-null  object        \n",
      " 11  TIME SEEN BY DOCTOR                 380329 non-null  object        \n",
      " 12  SEEN BY MENTAL HEALTH PRACTITIONER  380329 non-null  object        \n",
      " 13  BEDREQ DATE                         380329 non-null  object        \n",
      " 14  DISCHARGED                          380329 non-null  object        \n",
      " 15  DISCHARGE DESTINATION               380329 non-null  object        \n",
      " 16  MENTAL_HEALTH_FLG                   380329 non-null  int64         \n",
      " 17  ACTIVITY DESC                       380329 non-null  object        \n",
      " 18  BODY REGION DESC                    380329 non-null  object        \n",
      " 19  INJURY DESC                         370486 non-null  object        \n",
      " 20  INJURY CAUSE                        380329 non-null  object        \n",
      " 21  INJURY NATURE                       380329 non-null  object        \n",
      " 22  PLACE DESC                          380329 non-null  object        \n",
      " 23  SH                                  380329 non-null  int64         \n",
      " 24  AOD_OD                              380329 non-null  int64         \n",
      " 25  SI                                  380329 non-null  int64         \n",
      " 26  Audit_case                          380329 non-null  int64         \n",
      "dtypes: datetime64[ns](1), int64(7), object(19)\n",
      "memory usage: 78.3+ MB\n"
     ]
    }
   ],
   "source": [
    "df1.info()"
   ]
  },
  {
   "cell_type": "code",
   "execution_count": 33,
   "id": "4ec703f2",
   "metadata": {},
   "outputs": [
    {
     "data": {
      "application/vnd.microsoft.datawrangler.viewer.v0+json": {
       "columns": [
        {
         "name": "index",
         "rawType": "object",
         "type": "string"
        },
        {
         "name": "0",
         "rawType": "int64",
         "type": "integer"
        }
       ],
       "ref": "7625b76b-1c22-4b88-8f6d-131542c89815",
       "rows": [
        [
         "ID",
         "0"
        ],
        [
         "SEX",
         "0"
        ],
        [
         "AGE",
         "0"
        ],
        [
         "YEAR",
         "0"
        ],
        [
         "ARRIVAL TIME",
         "0"
        ],
        [
         "ARRIVAL MODE",
         "0"
        ],
        [
         "TRIAGE CATEGORY",
         "0"
        ],
        [
         "NURSING ASSESSMENT",
         "0"
        ],
        [
         "DIAGNOSIS CODE",
         "9843"
        ],
        [
         "DIAGNOSIS DESCRIPTION",
         "9843"
        ],
        [
         "DISPOSITION",
         "0"
        ],
        [
         "TIME SEEN BY DOCTOR",
         "0"
        ],
        [
         "SEEN BY MENTAL HEALTH PRACTITIONER",
         "0"
        ],
        [
         "BEDREQ DATE",
         "0"
        ],
        [
         "DISCHARGED",
         "0"
        ],
        [
         "DISCHARGE DESTINATION",
         "0"
        ],
        [
         "MENTAL_HEALTH_FLG",
         "0"
        ],
        [
         "ACTIVITY DESC",
         "0"
        ],
        [
         "BODY REGION DESC",
         "0"
        ],
        [
         "INJURY DESC",
         "9843"
        ],
        [
         "INJURY CAUSE",
         "0"
        ],
        [
         "INJURY NATURE",
         "0"
        ],
        [
         "PLACE DESC",
         "0"
        ],
        [
         "SH",
         "0"
        ],
        [
         "AOD_OD",
         "0"
        ],
        [
         "SI",
         "0"
        ],
        [
         "Audit_case",
         "0"
        ]
       ],
       "shape": {
        "columns": 1,
        "rows": 27
       }
      },
      "text/plain": [
       "ID                                       0\n",
       "SEX                                      0\n",
       "AGE                                      0\n",
       "YEAR                                     0\n",
       "ARRIVAL TIME                             0\n",
       "ARRIVAL MODE                             0\n",
       "TRIAGE CATEGORY                          0\n",
       "NURSING ASSESSMENT                       0\n",
       "DIAGNOSIS CODE                        9843\n",
       "DIAGNOSIS DESCRIPTION                 9843\n",
       "DISPOSITION                              0\n",
       "TIME SEEN BY DOCTOR                      0\n",
       "SEEN BY MENTAL HEALTH PRACTITIONER       0\n",
       "BEDREQ DATE                              0\n",
       "DISCHARGED                               0\n",
       "DISCHARGE DESTINATION                    0\n",
       "MENTAL_HEALTH_FLG                        0\n",
       "ACTIVITY DESC                            0\n",
       "BODY REGION DESC                         0\n",
       "INJURY DESC                           9843\n",
       "INJURY CAUSE                             0\n",
       "INJURY NATURE                            0\n",
       "PLACE DESC                               0\n",
       "SH                                       0\n",
       "AOD_OD                                   0\n",
       "SI                                       0\n",
       "Audit_case                               0\n",
       "dtype: int64"
      ]
     },
     "execution_count": 33,
     "metadata": {},
     "output_type": "execute_result"
    }
   ],
   "source": [
    "df1.isna().sum()"
   ]
  },
  {
   "cell_type": "code",
   "execution_count": 34,
   "id": "fadf3a6b",
   "metadata": {},
   "outputs": [
    {
     "data": {
      "application/vnd.microsoft.datawrangler.viewer.v0+json": {
       "columns": [
        {
         "name": "index",
         "rawType": "object",
         "type": "string"
        },
        {
         "name": "0",
         "rawType": "int64",
         "type": "integer"
        }
       ],
       "ref": "6d93101b-2b3a-4546-93a0-b76adca3ffda",
       "rows": [
        [
         "ID",
         "380329"
        ],
        [
         "SEX",
         "4"
        ],
        [
         "AGE",
         "108"
        ],
        [
         "YEAR",
         "11"
        ],
        [
         "ARRIVAL TIME",
         "371008"
        ],
        [
         "ARRIVAL MODE",
         "16"
        ],
        [
         "TRIAGE CATEGORY",
         "7"
        ],
        [
         "NURSING ASSESSMENT",
         "379412"
        ],
        [
         "DIAGNOSIS CODE",
         "1076"
        ],
        [
         "DIAGNOSIS DESCRIPTION",
         "1965"
        ],
        [
         "DISPOSITION",
         "46"
        ],
        [
         "TIME SEEN BY DOCTOR",
         "321979"
        ],
        [
         "SEEN BY MENTAL HEALTH PRACTITIONER",
         "5581"
        ],
        [
         "BEDREQ DATE",
         "207151"
        ],
        [
         "DISCHARGED",
         "351096"
        ],
        [
         "DISCHARGE DESTINATION",
         "35"
        ],
        [
         "MENTAL_HEALTH_FLG",
         "2"
        ],
        [
         "ACTIVITY DESC",
         "19"
        ],
        [
         "BODY REGION DESC",
         "59"
        ],
        [
         "INJURY DESC",
         "30063"
        ],
        [
         "INJURY CAUSE",
         "42"
        ],
        [
         "INJURY NATURE",
         "49"
        ],
        [
         "PLACE DESC",
         "27"
        ],
        [
         "SH",
         "2"
        ],
        [
         "AOD_OD",
         "2"
        ],
        [
         "SI",
         "2"
        ],
        [
         "Audit_case",
         "2"
        ]
       ],
       "shape": {
        "columns": 1,
        "rows": 27
       }
      },
      "text/plain": [
       "ID                                    380329\n",
       "SEX                                        4\n",
       "AGE                                      108\n",
       "YEAR                                      11\n",
       "ARRIVAL TIME                          371008\n",
       "ARRIVAL MODE                              16\n",
       "TRIAGE CATEGORY                            7\n",
       "NURSING ASSESSMENT                    379412\n",
       "DIAGNOSIS CODE                          1076\n",
       "DIAGNOSIS DESCRIPTION                   1965\n",
       "DISPOSITION                               46\n",
       "TIME SEEN BY DOCTOR                   321979\n",
       "SEEN BY MENTAL HEALTH PRACTITIONER      5581\n",
       "BEDREQ DATE                           207151\n",
       "DISCHARGED                            351096\n",
       "DISCHARGE DESTINATION                     35\n",
       "MENTAL_HEALTH_FLG                          2\n",
       "ACTIVITY DESC                             19\n",
       "BODY REGION DESC                          59\n",
       "INJURY DESC                            30063\n",
       "INJURY CAUSE                              42\n",
       "INJURY NATURE                             49\n",
       "PLACE DESC                                27\n",
       "SH                                         2\n",
       "AOD_OD                                     2\n",
       "SI                                         2\n",
       "Audit_case                                 2\n",
       "dtype: int64"
      ]
     },
     "execution_count": 34,
     "metadata": {},
     "output_type": "execute_result"
    }
   ],
   "source": [
    "df1.nunique()"
   ]
  },
  {
   "cell_type": "markdown",
   "id": "0f9150b8",
   "metadata": {},
   "source": [
    "### Rename, convert types, and select columns of interest"
   ]
  },
  {
   "cell_type": "code",
   "execution_count": 35,
   "id": "461be328",
   "metadata": {},
   "outputs": [],
   "source": [
    "# Rename columns\n",
    "df1.rename(columns={'ID': 'uid', \n",
    "                    'SEX': 'sex',\n",
    "                    'AGE': 'age',\n",
    "                    'ARRIVAL TIME': 'arrival_date',\n",
    "                    'ARRIVAL MODE': 'arrival_method',\n",
    "                    'YEAR': 'year',\n",
    "                    'NURSING ASSESSMENT': 'triage_note', \n",
    "                    'Audit_case': 'audit_case'}, \n",
    "          inplace=True)"
   ]
  },
  {
   "cell_type": "code",
   "execution_count": 36,
   "id": "a0baa5e0",
   "metadata": {},
   "outputs": [
    {
     "data": {
      "application/vnd.microsoft.datawrangler.viewer.v0+json": {
       "columns": [
        {
         "name": "index",
         "rawType": "int64",
         "type": "integer"
        },
        {
         "name": "uid",
         "rawType": "object",
         "type": "string"
        },
        {
         "name": "sex",
         "rawType": "object",
         "type": "string"
        },
        {
         "name": "age",
         "rawType": "int64",
         "type": "integer"
        },
        {
         "name": "arrival_method",
         "rawType": "object",
         "type": "string"
        },
        {
         "name": "arrival_date",
         "rawType": "datetime64[ns]",
         "type": "datetime"
        },
        {
         "name": "year",
         "rawType": "int64",
         "type": "integer"
        },
        {
         "name": "triage_note",
         "rawType": "object",
         "type": "string"
        },
        {
         "name": "SH",
         "rawType": "category",
         "type": "unknown"
        },
        {
         "name": "SI",
         "rawType": "category",
         "type": "unknown"
        },
        {
         "name": "AOD_OD",
         "rawType": "category",
         "type": "unknown"
        },
        {
         "name": "audit_case",
         "rawType": "int64",
         "type": "integer"
        }
       ],
       "ref": "be72d49d-f331-4a21-8d02-050f111de52d",
       "rows": [
        [
         "0",
         "LVRH2-2012-1",
         "Male",
         "2",
         "OTHER (INCLUDES PRIVATE CAR, WALKED)",
         "2012-01-01 00:06:00",
         "2012",
         "PT FELL OVER WHILST OUT CAMPING AT APPROX 2200HRS ONTO ?BROKEN GLASS. PT REFUSED PANADOL BY PARENTS. NIL LACERATIONS TO HEAD. IMMUNISATIONS UP TO DATE. \nWELL LOOKING BOY. 1CM LAC NOTED TO RIGHT KNEE. ADIPOSE TISSUE EXPOSED. NIL GLASS NOTED. NORMAL KNEE JOINT MVT. 6ML PAINSTOP GIVEN AT TRIAGE.",
         "Negative",
         "Negative",
         "Negative",
         "0"
        ],
        [
         "1",
         "LVRH2-2012-2",
         "Female",
         "53",
         "OTHER (INCLUDES PRIVATE CAR, WALKED)",
         "2012-01-01 00:30:00",
         "2012",
         "PT PRESENTS WITH ?SOMETHING IN HER LEFT EYE. PT WAS AT HOME WHEN LEFT EYE BECAME ITCHY AT APPROX 1600HRS. PT MANAGED TO GO TO WORK AND NOW IS BECOMING PAINFUL. NIL MEDS TAKEN FOR PAIN. \nWELL LOOKING WOMEN. DENIES CHANGE IN VISION. C/O PAINFUL LEFT EYE. NIL OBVIUOS FOREIGN BODY NOTED ON EXAMINATION. NIL WEEPING OR DISCHARGE FROM EYE.",
         "Negative",
         "Negative",
         "Negative",
         "0"
        ],
        [
         "2",
         "LVRH2-2012-3",
         "Male",
         "24",
         "ROAD AMBULANCE SERVICE",
         "2012-01-01 00:56:00",
         "2012",
         "BIBA POST WITTNESSED ASSAULT APPROX 2330HRS. HIT IN LEFT SIDE OF FACE AND HAD LOC ?LENGHT OF TIME. O/A BY RAV PT HAD ALETERED CONC STATE- GCS 14. CERVICAL COLLAR APPLIED BY RAV. 10 MG IV MAXALON GIVEN. RAV OBS HR 90 REG. BP 120/P. \nPT LYING ON TROLLEY. GCS 15. PEARL. GOOD LIMB STRENGHT. NIL NECK PAIN. OVBIUOS INJURIES TO LEFT SIDE OF FACE.",
         "Negative",
         "Negative",
         "Negative",
         "0"
        ],
        [
         "3",
         "LVRH2-2012-4",
         "Male",
         "21",
         "OTHER (INCLUDES PRIVATE CAR, WALKED)",
         "2012-01-01 01:07:00",
         "2012",
         "PAST WEEK HAS BEEN SMOKING MARIJUANA. 2/7 EAR ACHES , SORE THROAT AND HEADACHE . TODAY RASH ON LEGS AND SPREADING \nWALKED INTO WITH AMBULANCE OFFICERS . NO DISTRESS FEBRILE 38.6 ,RED  RASH ON LEGS PANADOL GIVEN AT TRIAGE . NO HEADACE AT PRESENT ALERT GCS 15",
         "Negative",
         "Negative",
         "Negative",
         "0"
        ],
        [
         "4",
         "LVRH2-2012-5",
         "Male",
         "3",
         "OTHER (INCLUDES PRIVATE CAR, WALKED)",
         "2012-01-01 01:12:00",
         "2012",
         "BIB FATHER WITH PAINFUL AND SWOLLEN PENIS. PT HAS BEEN AT BEACH TODAY AND AT APPROX 1500HRS STARTED TO COMPLAIN OF PENIS PAIN. TONIGHT WHEN GOT HOME FATHER NOTICED THAT IT WAS RED AND SWOLLEN. PT IS NOT CIRCUMCISED. NIL ANALGESIA GIVEN. NIL IMMUNISATIONS GIVEN AT PARENTS REQUEST. \nWELL LOOKING BOY. INTERESTED IN SURROUNDINGS. MILD SWELLING TO PENIS. PENIS TENDER WHEN TOUCHED.",
         "Negative",
         "Negative",
         "Negative",
         "0"
        ],
        [
         "5",
         "LVRH2-2012-6",
         "Female",
         "14",
         "ROAD AMBULANCE SERVICE",
         "2012-01-01 01:40:00",
         "2012",
         "HAS BEEN DRINKING CRUISERS SINCE 1800HRS TILL 0030HRS. FOUND ON GROUND AND AMBULANCE CALLED-FOUND TO BE HYPERVENTILATING. HAS JERKY LEGS AND STATES LEGS NUMB. NOT ABLE TO AMBULATE. C/O SOME NAUSEA. PARENTS UNAWARE OF PT PRESENTING TO ED. \nBIBA. LYING FLAT ON AMBULANCE TROLLEY IS ROUSEABLE TO SPEECH. GCS 14 PBT 0.151",
         "Negative",
         "Negative",
         "Negative",
         "0"
        ],
        [
         "6",
         "LVRH2-2012-7",
         "Male",
         "56",
         "OTHER (INCLUDES PRIVATE CAR, WALKED)",
         "2012-01-01 01:58:00",
         "2012",
         "PT PRESENTS WITH CENTRAL CHEST TIGHTNESS RADIATING UP INTO NECK SINCE APPROX 2200HRS. NIL MEDS TAKEN. ASSOCIATED SOB, DIAPHORESIS AND NAUSEA. NIL MEDS TAKEN. DROVE SELF TO LRH.  PT HAD ANGIOGRAM IN MELB 2/7 DAYS AGO WHICH PT STATES WAS NAD. \nUNWELL LOOKING MALE. ANXIUOS. TALKING IN FULL SENTANCES. FLUSHED FACE. DIAPHORETIC. C/O CENTRAL CHEST TIGHTNESS AT TRIAGE.",
         "Negative",
         "Negative",
         "Negative",
         "0"
        ],
        [
         "7",
         "LVRH2-2012-8",
         "Female",
         "54",
         "OTHER (INCLUDES PRIVATE CAR, WALKED)",
         "2012-01-01 02:34:00",
         "2012",
         "PT PRESENTS HAVING  SUSTAINED DEEP LACERATION TO INNER SURFACE OF LEFT ELBOW AT APPROX MIDNIGHT. PT NOT WILLING TO ELABORATE ON HOW SHE SUSTAINED THE WOUND. DENIES SELF HARM OR THAT GLASS OR FORIEGN BODY WOULD BE INSITU. DENIES PAIN. NIL MEDICAL HX GIVEN. LAST TETANUS SHOT 4 YEARS AGO. \nNOT UNWELL LOOKING WOMEN. VERBALLY ABRUPT. REFUSING TO MAKE EYE CONTACT AS WEARING SUNGLASSES. DEEP LACERATION NOTED TO LEFT ELBOW APPROX 7CMS LONG. ADIPOSE TISSUE EXPOSED. NIL TENDONS, LIGAMENTS OR BONE NOTED. GOOD ROM TO LEFT ELBOW JOINT. GOOD COLOUR, WARMTH, MVT AND SENSATION FELT TO LEFT FINGERS. DECLINED ANALGESIA. GIVEN WASH AND BANDAGED AT TRIAGE.",
         "Positive",
         "Negative",
         "Negative",
         "0"
        ],
        [
         "8",
         "LVRH2-2012-9",
         "Male",
         "28",
         "ROAD AMBULANCE SERVICE",
         "2012-01-01 03:18:00",
         "2012",
         "PH IVDU, METHADONE PROGRAM, SEIZURES, HEP C+. TONIGHT HAS BEEN DRINKING AT STAR BAR. WENT OUTSIDE AND SAW FIGHT BTN MALE AND FEMALE. PT STATES THAT THE MALE THEN PUNCHED HIM TO FACE ? X8. PT STATES HAD LOC. AWOKE AT 0100HRS AROUND THE CORNER-VAGUE MEMORY OF SAME. PT WALKING HOME TO MORWELL WHEN PICKED UP BY POLICE AND TAKEN HOME BUT NOBODY HOME SO AMBULANCE CALLED. BIBA. C/O PAIN TO L) EYE AND HAS FRONTAL HEADACHE. C/O PAIN 8/10 OM TRANSIT \nLYING FLAT ON AMBULANCE TROLLEY WITH SPINAL PRECAUTIONS INSITU. PEARL, GCS 15",
         "Negative",
         "Negative",
         "Negative",
         "0"
        ],
        [
         "9",
         "LVRH2-2012-10",
         "Female",
         "47",
         "OTHER (INCLUDES PRIVATE CAR, WALKED)",
         "2012-01-01 03:49:00",
         "2012",
         "PT PRESENTS WITH EXAC OF ASTHMA. BEEN GETTING WORSE OVER PAST FEW DAYS. LAST TOOK VENTOLIN NEBULISER AT 0315HRS WITH GOOD EFFECT BUT ONLY LAST 15-20MINS. HX COPD. \nNOT UNWELL LOOKING LADY. AUDIBLE WHEEZE HEARD. TALKING SHORT SENTANCES. MOD AMU. FULL FIELD BILATERAL INSP/EXP WHEEZES HEARD ON AUSCULTATION. SKIN WARM AND DRY.",
         "Negative",
         "Negative",
         "Negative",
         "0"
        ],
        [
         "10",
         "LVRH2-2012-11",
         "Male",
         "18",
         "OTHER (INCLUDES PRIVATE CAR, WALKED)",
         "2012-01-01 04:28:00",
         "2012",
         "PT BIB FRIEND AS PT WAS WALKING IN MORWELL AT ?2330HRS WITH FRIEND WHEN ?PASSED OUT OR ?KNOCKED DOWN BY SOMEONE. AWOKE ON THE STREET AT APPROX 0300HRS. PT THEN RANG G'FRIEND WHO BROUGHT HIM TO LRH. PT STATES HAS BEEN DRINKING ALCOHOL BUT DENIES TAKING DRUGS. NORMALLY FIT AND WELL. \nWALKED INTO ED. ALERT. GCS 15. NORMAL LIMB STRENGHT. NIL LOSS OF SENSATION. PAIN FELT TO LEFT SIDE OF BODY. TENDER ON PALPATIONT TO C7 SPINE. C-SPINE PRECAUTIONS IMPLEMENTED IN TRIAGE.",
         "Negative",
         "Negative",
         "Negative",
         "0"
        ],
        [
         "11",
         "LVRH2-2012-12",
         "Male",
         "29",
         "ROAD AMBULANCE SERVICE",
         "2012-01-01 05:00:00",
         "2012",
         "BIBA GOT IN ALTERCATION AND HAS SPLIT BOTTOM LIP, ALSO HAS SELF INFLICTED LAC TO L) FOREARM APPROX 5CM IN LENGTH \nPT APPEARS INTOXICATED L)ARM BANDAGED BY RAV, SMALL BREAK TO INNER BOTTOM LIP CURRENT MEDS ZYPREXA, ALLERGIES PARACETOMOL AND BEE STINGS. PHX SCHITZOPHRENIA",
         "Positive",
         "Negative",
         "Negative",
         "0"
        ],
        [
         "12",
         "LVRH2-2012-13",
         "Male",
         "78",
         "OTHER (INCLUDES PRIVATE CAR, WALKED)",
         "2012-01-01 06:08:00",
         "2012",
         "PT PRESENTS WITH CENTRAL CHEST PAIN FOR PAST 2/52- SHARP IN NATURE. GETTING MORE SEVERE AND COULD NOT SLEEP OVERNIGHT. TOOK TRAMADOL AND PANADOL WITH MINIMAL EFFECT. HX COPD- MULTIPLE PRESENTATIONS. ON HOME O2-2L \nUNWELL LOOKING MALE. TALKING IN SHORT SENTANCES. MOD AMU. NOISY BREATHING. COARSE CRACKLES HEARD TO LUNG BASES. PT STATES CURRENT WOB IS NORMAL FOR HIM. SKIN WARM AND DRY.",
         "Negative",
         "Negative",
         "Negative",
         "0"
        ],
        [
         "13",
         "LVRH2-2012-14",
         "Female",
         "18",
         "OTHER (INCLUDES PRIVATE CAR, WALKED)",
         "2012-01-01 07:15:00",
         "2012",
         "EXPERIENCED  SHARP ABDO PAIN  AT 0230HR  NO DIARRHOEA  NO DYSURIA  NO PV BLOOD LOSS  LMP 4/52 AGO NO VOMITING BUT NAUSEA P/H CROHNS ON  MESALAZINE  AND IV INFUSION ? NAME \n8/10 SHARP GENERALISED  ABDO PAIN  NO PV LOSS LAST BOWEL MOTION YESTERDAY NO BURNING OR PAIN ON VOIDING  FIRM ROUNDED ABDO TENDER ON PALAPTION  AWAITING URINE",
         "Negative",
         "Negative",
         "Negative",
         "0"
        ],
        [
         "14",
         "LVRH2-2012-15",
         "Male",
         "1",
         "OTHER (INCLUDES PRIVATE CAR, WALKED)",
         "2012-01-01 07:44:00",
         "2012",
         "? MOSSIE BITE TO RT LEG X2 INFLAMED AND RED  MUM GAVE ZYRTAC MIXTURE THIS AM  AS CHILD HAS ALLERGIES   AND ? LOCALISED ALLERGIC REACTION TO BITE \nHAPPY LITTLE BOY  CHEST CLEAR NO INCREASED WOB RED HOT  SWOLLEN AREA AROUND ? BITE",
         "Negative",
         "Negative",
         "Negative",
         "0"
        ],
        [
         "15",
         "LVRH2-2012-16",
         "Male",
         "67",
         "OTHER (INCLUDES PRIVATE CAR, WALKED)",
         "2012-01-01 08:01:00",
         "2012",
         "PLAYED GOLF FRIDAY FELT A BIT UNWELL  VOMITED X1 BUT OVER THE  WEEKEND FELT  ROOM SPINNING  AND BALANCE  UNSTEADY  VOMITED X4 YESTERDAY \nSTANDING B/P 144/83  HR 67SITTING B/P 122/86 HR 66 EQUAL LIMB STRENGTH PEARL  EPIGASTRIC SORENESS  ECG ATTENDED SR",
         "Negative",
         "Negative",
         "Negative",
         "0"
        ],
        [
         "16",
         "LVRH2-2012-17",
         "Female",
         "82",
         "ROAD AMBULANCE SERVICE",
         "2012-01-01 08:09:00",
         "2012",
         "BIBA PAST HX OSTEOPOROSIS, AF, HTN, CHRONIC KNEE, GALLBLADDER REMOVED, SEPTICAEMIA. AT APPROXIMATELY 0200HRS SHE DEVELOPED LEFT QUADRANT ABDOMINAL PAIN AND THEN STARTED VOMITING AND HAD DIARRHOEA AND HAS EVER SINCE STATING EVERY 1/2 HOUR. SHE LIVES INDEPENDENTLY AT LV VILLAGE. \nRAV REPORTS ALL OBS STABLE, P 76 SR, SPO2 98%, RR 14, BP 132/69. RAV REPORTS HER TO BE VERY ANXIOUS. GIVEN 10MG MAXALON BY RAV._x000D_LOOKS WELL SITTING UP ON TROLLEY AND TALKING IN FULL SENTENCES. ALLERGIES TO PETHIDINE, IMURAN, INDERAL, NORVASC, TRIMETHIPRIM",
         "Negative",
         "Negative",
         "Negative",
         "0"
        ],
        [
         "17",
         "LVRH2-2012-18",
         "Male",
         "75",
         "OTHER (INCLUDES PRIVATE CAR, WALKED)",
         "2012-01-01 08:30:00",
         "2012",
         "LEFT EAR PAINFUL SWELLING TO CANAL \nNO DISCHARGE FROM  LEFT EAR  CANAL SWOLLEN  LAST PANAMAX 0800HR  6/10 PAIN O/A  NKDA",
         "Negative",
         "Negative",
         "Negative",
         "0"
        ],
        [
         "18",
         "LVRH2-2012-19",
         "Female",
         "77",
         "OTHER (INCLUDES PRIVATE CAR, WALKED)",
         "2012-01-01 08:35:00",
         "2012",
         "RT  LEG REDNESS  AND  PAIN NOTICED LAST NIGHT  P/H CELLULITIS \nRT LEG INFLAMED REDNESS HEAT AND SWELLING TO RT LEG FROM  ANKLE TO GROIN   LEFT CALF  37 CM  RT CALF  34 CM  NKDA  NO ANALGESIA TAKEN  THIS AM DECLINED ANALGESIA",
         "Negative",
         "Negative",
         "Negative",
         "0"
        ],
        [
         "19",
         "LVRH2-2012-20",
         "Male",
         "53",
         "OTHER (INCLUDES PRIVATE CAR, WALKED)",
         "2012-01-01 09:15:00",
         "2012",
         "? FB IN RT EYE PAINFUL++ WEEPING  LIGHT SENSITIVE BLURRED VISION   WAS WORKING UNDER A 4WD 3/7 AGO ? DUST BUT HAS WASHED IT OUT  AND EYE DROPS FROM CHEMIST  BUT NO IMPROVEMENT \nNO OBVIOUS FB SEEN WITH TORCH  PEARL  WATERY NO ANALGESIA TAKEN NKDA",
         "Negative",
         "Negative",
         "Negative",
         "0"
        ],
        [
         "20",
         "LVRH2-2012-21",
         "Female",
         "8",
         "OTHER (INCLUDES PRIVATE CAR, WALKED)",
         "2012-01-01 09:57:00",
         "2012",
         "BIB MOTHER. REPRESENTED AFTER FALL YESTERDAY AND INJURY TO LEFT WRIST. FOR XRAY \nWELL LOOKING GIRL WITH LEFT ARM IN SLING. HAS NOT HAD ANALGESIA THIS AM.",
         "Negative",
         "Negative",
         "Negative",
         "0"
        ],
        [
         "21",
         "LVRH2-2012-22",
         "Male",
         "68",
         "OTHER (INCLUDES PRIVATE CAR, WALKED)",
         "2012-01-01 10:27:00",
         "2012",
         "PRESENTS WITH SWELLING TO  LEFT LEG  AND PAIN TO TOP FOOT   SCATTERED BRUISING  NO TRAUMA  ON PLAVIX \nSOB O/A ( NORMAL FOR PT )  LEFT CALF  41 CM    RT CALF 41CM  SWELLING TO  LEFT ANKLE PEDAL PULSE PRESENT  NO REDNESS NO HEAT  AREAS OF BRUISING  CHEST EXP WHEEZE  ALREADY HAD VENTOLIN NEB  AT 0700HR",
         "Negative",
         "Negative",
         "Negative",
         "0"
        ],
        [
         "22",
         "LVRH2-2012-23",
         "Female",
         "64",
         "OTHER (INCLUDES PRIVATE CAR, WALKED)",
         "2012-01-01 10:34:00",
         "2012",
         "PT FROM OUT OF AREA. P/H CARDIOMYOPATHY AND AMI 2 YEARS AGO._x000D_HAS MISPLACED DILATREND 6.25MG. BD. HAS NOT HAD MEDICATION SINCE YESTERDAY AM. HAS CONTACTED MOTEL IN SALE- UNABLE TO LOCATE MEDICATION. DR AND CHEMIST CLOSED SO UNABLE TO GET WRITTEN INFO. IS NOT CARRYING RPT SCRIPT FOR THIS MEDICATION \nELDERLY LADY LOOKING STRESSED FROM LOSING MEDICATION.",
         "Negative",
         "Negative",
         "Negative",
         "0"
        ],
        [
         "23",
         "LVRH2-2012-24",
         "Female",
         "18",
         "OTHER (INCLUDES PRIVATE CAR, WALKED)",
         "2012-01-01 10:39:00",
         "2012",
         "21/40 GESTATION WOKE WITH UTI SYMPTOMS  BURNING  FRQUENCY    LOWER ABDO PAIN \nNO PV BLOOD LOSS AWAITING URINE  AFERBRIILE  7/10 LOWER ABDO PAIN  NO ANALGESIA  ALLERBVGY TRIPLE ANTIGEN",
         "Negative",
         "Negative",
         "Negative",
         "0"
        ],
        [
         "24",
         "LVRH2-2012-25",
         "Male",
         "76",
         "OTHER (INCLUDES PRIVATE CAR, WALKED)",
         "2012-01-01 10:42:00",
         "2012",
         "APPROX 1800HRS YEST PT FITTING HOSE BACK ON TAP WHEN HE FELT SUDDEN ELECTRIC SHOCK TYPE PAIN IN UPPER ARM. THIS AM PAIN CONTINUES AND ARM IS GOING BLACK. NUROFEN AND ICE PACK LAST NIGHT. \nSWELLING, BRUISING TO UPPER ARM. HAS ALMOST FULL MOVEMENT OF ARM WITH INC PAIN WHEN PRESSURE EXERTED. INC PAIN ON PALPATION OF BRUISED AREA. HAS NOT HAD FURTHER ANALGESIA O/N. GIVEN PARACETAMOL 1G AT TRIAGE.",
         "Negative",
         "Negative",
         "Negative",
         "0"
        ],
        [
         "25",
         "LVRH2-2012-26",
         "Male",
         "80",
         "OTHER (INCLUDES PRIVATE CAR, WALKED)",
         "2012-01-01 10:46:00",
         "2012",
         "COLLAPSE X3 SINCE FRIDAY  FIRST ONE  WAS INCONTINENT OF URINE  AND HIT WINDOW AND BROKE IT  S/B GP ECG PATH AND URINE SENT    AGAIN TODAY  WHILST SITTING IN CHAIR TOOK B/P 85/61 HR 84  AND COLLAPSED 10 MINS AFTER  NO INCONTINENCE \nNO C/P ECG AF  STANDING  LYING B/P 138/80 HR  85 STANDING  B/P  128/82 HR 87 NO DIZZINESS",
         "Negative",
         "Negative",
         "Negative",
         "0"
        ],
        [
         "26",
         "LVRH2-2012-27",
         "Male",
         "39",
         "ROAD AMBULANCE SERVICE",
         "2012-01-01 10:51:00",
         "2012",
         "BIBA INVOLVED IN ALTERACATION LAST NIGHT AT APPROX 0300 HRS. PT CONSUMED A LARGE AMT OF ALCOHOL WITH SPEED. ? ALLEDGEDLY ATTACKED BY NEIGHBOUR WITH AXE. SUSTAINED R ANKLE INJURY, MULTIPLE ABRASIONS TO R KNEE. \nPT HAD BEEN INTOXICATED NO RECOLLECTION OF THE EVENT. GIVEN PENTHRANE FOR PAIN. PT IN OBVIOUS DISCOMFORT ON ARRIVAL. R ANKLE SPLINT INSITU. LAC ON L BACK OF LOWER LEG DRESSING INSITU.",
         "Negative",
         "Negative",
         "Negative",
         "0"
        ],
        [
         "27",
         "LVRH2-2012-28",
         "Female",
         "24",
         "OTHER (INCLUDES PRIVATE CAR, WALKED)",
         "2012-01-01 11:06:00",
         "2012",
         "LUMP ON BIKINI LINE APPROX 3/52. INC IN SIZE. NOW GOLF BALL SIZE AND VERY PAINFUL. WENT TO GP THURSDAY WHO GAVE ANTIBIOTIC PT CANNOT REMEMBER NAME OF AB. NOT GETTING ANY BETTER. TOOK 2 PANADEINE FORTE AT 0730HRS. \nINFLAMED FIRM LUMP IN RT GROIN APPROX LARGE APRICOT SIZE",
         "Negative",
         "Negative",
         "Negative",
         "0"
        ],
        [
         "28",
         "LVRH2-2012-29",
         "Male",
         "18",
         "OTHER (INCLUDES PRIVATE CAR, WALKED)",
         "2012-01-01 11:08:00",
         "2012",
         "RAN THROUGH ASHES  IN BARE FEET LAST NIGHT   AND  SUSTAINED A CUT TO RT 2ND TOE  WITH GLASS ? TETANUS YR 10 AT SCHOOL \n1.5 CM LAC UNDER 2ND TOE RT FOOT NOT BLEEDING  HAS BEEN WASHED OUT  AT SCENE BU NURSE",
         "Negative",
         "Negative",
         "Negative",
         "0"
        ],
        [
         "29",
         "LVRH2-2012-30",
         "Female",
         "43",
         "OTHER (INCLUDES PRIVATE CAR, WALKED)",
         "2012-01-01 11:16:00",
         "2012",
         "DISCHARGING  PAINFUL EYES  FOR 2 WEEKS S/B GP ON  CHLORSIG  EYE DROPS BUT NO IMPROVENMENT  HAS EPISODES  OF FLUID POCKETS UNDER EYES  LIGHT SENSITIVE  WORKS IN AGED CARE \nINFLAMED CONJUNCTIVA NO DISCHARGE O/A  PEARL  AFEBRILE  NO ANALGESIA TAKEN  USED DROPS TODAY  ALLERGY AUGMENTIN",
         "Negative",
         "Negative",
         "Negative",
         "0"
        ],
        [
         "30",
         "LVRH2-2012-31",
         "Female",
         "18",
         "OTHER (INCLUDES PRIVATE CAR, WALKED)",
         "2012-01-01 11:21:00",
         "2012",
         "PT WALKING ON CONCRETE APPROX 2300 HOURS WHEN SHE STOOD ON GLASS. FEELS AS IF SHE STILL HAS GLASS UNDER RT FOOT. \nVERY SMALL OPEN LAC APPROX 1/4 CM. UNABLE TO SIGHT OR FEEL GLASS. IN OBVIOUS PAIN ON PRESSURE. CLEANSED WITH NS, DRESSING APPLIED. XRAY ORDERED.",
         "Negative",
         "Negative",
         "Negative",
         "0"
        ],
        [
         "31",
         "LVRH2-2012-32",
         "Female",
         "0",
         "OTHER (INCLUDES PRIVATE CAR, WALKED)",
         "2012-01-01 11:28:00",
         "2012",
         "11/52 BABY GIRL BROUGHT IN BY VERY UPSET  MUM WITH HX OF  BEING OUTSIDE UNDER TARP WITH PARENTS YESTERDAY  HAD  SUNSCREEN  ON  AND MUM HAS NOTICED BLISTERS TO FACE TODAY  BABY HAS RUBBED THEM NOW BROKEN  DISCHARGING   ALSO REDNESS TO LEGS AND ARMS MUM TRYING TO GIVE EXTRA FLUIDS BUT BABY UNSETTLED \nNOP RESP COMPROMISE  CHEST CLEAR NO ANALGESIA GIVEN   TODAY  AFEBRILE  BROKEN BLISTERS TO FACE  SUNBURN TO LEGS AND ARM NO BLISTERS NOTED  SUCKING ON BOTTLE  PANADOL 100MGS AT TRIAGE AFTER D/W ED CON",
         "Negative",
         "Negative",
         "Negative",
         "0"
        ],
        [
         "32",
         "LVRH2-2012-33",
         "Male",
         "16",
         "OTHER (INCLUDES PRIVATE CAR, WALKED)",
         "2012-01-01 11:43:00",
         "2012",
         "PAINFUL LUMP UNDER LEFT ARMPIT  NO DISCHARGE   FOR 3/7 SPOKE WITH NURSE ON CALL SENT INTO ED \nGOLF BALL SIZE RED LUMP UNDER ARM ? ABSCESS  PAINFUL AND HOT TO TOUCH  NO DISCHARGE  AFEBRILE LAST PANADOL 2 HRS AGO  NKDA",
         "Negative",
         "Negative",
         "Negative",
         "0"
        ],
        [
         "33",
         "LVRH2-2012-34",
         "Female",
         "48",
         "ROAD AMBULANCE SERVICE",
         "2012-01-01 12:14:00",
         "2012",
         "BIBA. 2/7 DX UNDERACTIVE THYROID. COMM ON THYROXINE. ALSO \"MIGRATORY\" ARTHRITIS 6/52. NOTICED RECENT ABDO SWELLING ? OVER A FEW  WEEKS. ABDO BECOMING MORE UNCOMFORTABLE AND TIGHT. UNPRODUCTIVE COUGH. URINE FREQUENCY. TOOK MODURETIC THIS AM TO GET RID OF FLUID. PRESCRIBED AND TAKES PRN. SEEING GP REGULARLY \nMIDDLEAGED LADY. DISTENDED ABDO. UNCMFORTABLE ON PALPATION. MOVING WITH DIFFICULTY BECAUSE JOINT PAIN PART FEET.",
         "Negative",
         "Negative",
         "Negative",
         "0"
        ],
        [
         "34",
         "LVRH2-2012-35",
         "Female",
         "54",
         "OTHER (INCLUDES PRIVATE CAR, WALKED)",
         "2012-01-01 12:33:00",
         "2012",
         "REPRESENTING AFTER LEFT WITHOUT BEING SEEN LAST NIGHT.  HEADACHE STARTED SUDDEN ONSET LAST WED DURING EXERCISE. UNSTEADY BALANCE ON BIKE. NAUSEA. DENIED VISUAL DISTURBANCES. RT SIDE HEADACHE FEELS BEHIND RT EYE. PANADOL OSTE REGULARLY LAST AT 1000 HRS TODAY. GIVEN NUROFEN LAST NIGHT WHICH HELPED FOR A WHILE. STATES NOT LIKE PREVIOUS MIGRAINE. COMA 3/7 2005 POST MBA. SOME SHORT TERM MEMORY AND BALANCE PROBLEMS. \nWELL LOOKING LADY. PEARL. PHOTOPHOBIC IN RT EYE. NO LIMB DEFICITS,",
         "Negative",
         "Negative",
         "Negative",
         "0"
        ],
        [
         "35",
         "LVRH2-2012-36",
         "Female",
         "24",
         "OTHER (INCLUDES PRIVATE CAR, WALKED)",
         "2012-01-01 12:38:00",
         "2012",
         "LEFT EARACHE WITH DISCHARGE  FOR 3/52 ON NUMEROUS COARSES OF A/BS AND EARDROPS   WITH NOT MUCH IMPROVEMENT \nAFEBRILEYELLOW DISCHARGE FROM LEFT EAR NO ANALGESIA TAKEN  TODAY NKDA",
         "Negative",
         "Negative",
         "Negative",
         "0"
        ],
        [
         "36",
         "LVRH2-2012-37",
         "Male",
         "2",
         "OTHER (INCLUDES PRIVATE CAR, WALKED)",
         "2012-01-01 12:46:00",
         "2012",
         "2 1/2 YR BOY BROUGHT IN WITH HX  FEVER AND COUGH OF BEING ON   A/BS AND PREDMIX  FOR CHEST INFECTION  SINCE THURSDAY   BUT NOT IMPROVING UP TO DATE WITH IMMUNISATION \nCROUPY COUGH  LETHARGIC AFEBRILE CHEST  CRACKLES ALL THROUGH LUNGS USING  ACCESSORY MUSCLES BROUGHT INTO DEPART FOR ONGOING TREATMENT",
         "Negative",
         "Negative",
         "Negative",
         "0"
        ],
        [
         "37",
         "LVRH2-2012-38",
         "Male",
         "10",
         "OTHER (INCLUDES PRIVATE CAR, WALKED)",
         "2012-01-01 13:00:00",
         "2012",
         "JUMPED OFF ROOF INTO POOL AND  HIT LIP WITH HIS OWN KNEE  SUSTAINED LAC  BOTTOM LIP  UP TO DATE WITH IMMUNISATION \nNO ANALGESI A AS YET  NKDA  PEARL GCS 15  5/10 PAIN  3 SMALL LACS TO LOER LIP ONE INVILVING LIP LINE",
         "Negative",
         "Negative",
         "Negative",
         "0"
        ],
        [
         "38",
         "LVRH2-2012-39",
         "Male",
         "51",
         "OTHER (INCLUDES PRIVATE CAR, WALKED)",
         "2012-01-01 13:10:00",
         "2012",
         "NO TRAUMA  PRESENTS WITH SORE  RT  FOOT   ? WHETHER BITTEN BY SOMETHINBG  RED  WITH SWELLING LIMPING O/A  HAS HAD A PAINFUL RT KNEE   GP  ORDERED U/S NOT BOOKED YET \nINFLAMED SWELLING  HOT TO TOUCH  AROUND BIG TOE  AND TOP OF FOOT  TOOK CLARYTYNE  TAB NO ANALGESIA TAKEN",
         "Negative",
         "Negative",
         "Negative",
         "0"
        ],
        [
         "39",
         "LVRH2-2012-40",
         "Female",
         "25",
         "OTHER (INCLUDES PRIVATE CAR, WALKED)",
         "2012-01-01 13:13:00",
         "2012",
         "SENT FROM HEYFIELD HOSP. RIDING MB 0730 TODAY. UNKNOWN SPEED. CAME OFF BIKE. HIT ROCKFACE WITH RT HAND. HANDLEBAR CAME UP UNDER SAFETY GEAR TO CENTRAL RIB CAGE. PREGNANT ( 3-7WKS) SENT FOR ? USOUND INSTEAD OF XRAY. \nPT IN OBVIOUS DISCOMFORT. HOLDING ABDO. SLIGHT GRAZE TO MID RT ABDO. NO OBVIOUS INJURY TO RT FRONT RIBS BUT INC PAIN ON PALP AND DEEP INSPIRATION. SPEAKING FULL SENTENCES.  SHALLOW AIR ENTRY TO BASES. NO WHEEZES, CRACKLES.",
         "Negative",
         "Negative",
         "Negative",
         "0"
        ],
        [
         "40",
         "LVRH2-2012-41",
         "Male",
         "28",
         "OTHER (INCLUDES PRIVATE CAR, WALKED)",
         "2012-01-01 13:26:00",
         "2012",
         "P/H SCHIZOPHRENIA. DID NOT GET TO CHEMIST IN TIME TO GET WEBSTER PACK FOR TONIGHTS MEDICATION. REQUESTING TONIGHTS DOSE OF MIRTAZAPINE AND QUETIAPINE. STATES HE WILL BE ABLE TO GET MEDS TOMORROW. \nYOUNG MAN SLIGHTLY AGITATED. PREPARED TO WAIT FOR DR TO ORGANIZE MEDS.",
         "Negative",
         "Negative",
         "Negative",
         "0"
        ],
        [
         "41",
         "LVRH2-2012-42",
         "Male",
         "44",
         "OTHER (INCLUDES PRIVATE CAR, WALKED)",
         "2012-01-01 13:36:00",
         "2012",
         "BACK RT SHOULDER PAIN LAST NIGHT. THIS AM NOTED RASH UNDER RT AXILLA. PAINFUL SINCE 1100 HOURS. TOOK 2 PARACETAMOL ABOUT 1200 HOURS. \nSHINGLES-LIKE RASH UNDER RT AXILLA TRACKING DOWN RT SIDE OF CHEST",
         "Negative",
         "Negative",
         "Negative",
         "0"
        ],
        [
         "42",
         "LVRH2-2012-43",
         "Male",
         "21",
         "OTHER (INCLUDES PRIVATE CAR, WALKED)",
         "2012-01-01 13:55:00",
         "2012",
         "DANCING  LAST NIGHT SLIPPED AND WHEN GETTING UP ACCIDENTLY HIT NOSE ON  MATES KNEE   MINIMAL BLOOD  HEARD CRACK WATERED EYES AND PAINFUL  NO LOC ADMITS TO ALCOHOL INTAKE SO NO PAIN KILLERS TAKEN \nSWOLLEN  MINIMAL DEFORMITY  TO NOSE GCS 15    NO ANALGESIA  NKDA  5/10 PAIN O/A  WORSE WHEN TOUCHED SOME CONGESTION IN NOSE  WHEN HE BREATHS",
         "Negative",
         "Negative",
         "Negative",
         "0"
        ],
        [
         "43",
         "LVRH2-2012-44",
         "Female",
         "66",
         "OTHER (INCLUDES PRIVATE CAR, WALKED)",
         "2012-01-01 13:57:00",
         "2012",
         "PH HTN. 1/52 NOTICED POSSIBLE BITE TO TOP RIGHT CHEST. ITCHY NOT PAINFUL. 2/7 PT NOTICED A RAISED RED RASH SPREADING OVER RT SIDE OF CHEST AND NOW MOVING DOWN RT SHOULDER AND ARM. ALSO AROUND RT SIDE OF BACK. DULL ACHE. ITCHY AT TIMES.  HAS BEEN RUBBING PAW PAW CREAM ON RASH. C/O FEELING SLIGHTLY WOOZY. \nANGRY LOOKING RED RAISED RASH OVER RT SIDE OF CHEST, SHOULDER AND AROUND BACK. REFUSED ANALGESIA. REPEAT BP AT END OF TRIAGE 198/96",
         "Negative",
         "Negative",
         "Negative",
         "0"
        ],
        [
         "44",
         "LVRH2-2012-45",
         "Male",
         "13",
         "OTHER (INCLUDES PRIVATE CAR, WALKED)",
         "2012-01-01 14:08:00",
         "2012",
         "PRESENTS WITH RASH, COUGH, HEADACHE AND LETHERGY SINCE FRIDAY. HAS BEEN IN CONTACT WITH FAMILY MEMBER WITH WHOOPING COUGH. \nWELL LOOKING MALE. WALKED INTO ED, GAIT STEADY. TALKING IN FULL SENTENCES. EQUAL AIR ENTRY. DRY COUGH. DRY MUCOSAL MEMBRANES. ALERT AND ORIENTATED. TOLERATING DIET AND FLUIDS. DECREASED OUT PUT. NIL VOMITING SINCE FRIDAY.",
         "Negative",
         "Negative",
         "Negative",
         "0"
        ],
        [
         "45",
         "LVRH2-2012-46",
         "Male",
         "44",
         "OTHER (INCLUDES PRIVATE CAR, WALKED)",
         "2012-01-01 14:16:00",
         "2012",
         "HEADACHE FROM THIS MORNING. NO ASSOCIATED DIZZZINESSS / N/V. PT HAD A FALL RECENTLY WHEN HE HIT HIS FOREHEAD. \nGRAZES GROM RECENT TRAUMA NOTED ON PT FOREHEAD. NIL NEURO-DEFICIT. PTHAD NEUROFEN TAB AT 13.00HR",
         "Negative",
         "Negative",
         "Negative",
         "0"
        ],
        [
         "46",
         "LVRH2-2012-47",
         "Male",
         "50",
         "OTHER (INCLUDES PRIVATE CAR, WALKED)",
         "2012-01-01 14:16:00",
         "2012",
         "PRESENTS WITH ? WRY NECK. PT STATES WOKE WITH STIFFNESS TO LEFT SIDE OF NECK UNABLE TO TURN HEAD TO LEFT SIDE. \nWELL LOOKING MALE. WALKED INTO ED, GAIT STEADY. ALERT AND ORIENTATED. NIL CENTRAL TENDERNESS. NIL ALTERED SENSATION TO LIMBS.",
         "Negative",
         "Negative",
         "Negative",
         "0"
        ],
        [
         "47",
         "LVRH2-2012-48",
         "Female",
         "81",
         "ROAD AMBULANCE SERVICE",
         "2012-01-01 14:30:00",
         "2012",
         "PT BIBA WITH 3/7 OF POLYURIA AND OFFENSIVE SMELLING URINE  T37.9 BP 125/75 GCS 15 PHX TIA CVA R) SIDED MODERATE DEFICIT SOME SLURRED SPEECH ALSO , RECURRENT UTI \nPT ALERT AND ORIENTATED",
         "Negative",
         "Negative",
         "Negative",
         "0"
        ],
        [
         "48",
         "LVRH2-2012-49",
         "Male",
         "37",
         "OTHER (INCLUDES PRIVATE CAR, WALKED)",
         "2012-01-01 14:38:00",
         "2012",
         "RIDING MOTORBIKE AT 1245HR  DROPPED IT  TO RT SLID FROM UNDERNEATH PT AND  INJURED  LEFT  WRIST NO LOC NO DAMAGE TO HELMET \nPAIN AND SWELLING TO LATERAL WRIST   ABLE TO MAKE FIST AND SOME  ROTATION TO WRIST MINIMAL PAIN UNTIL TRIES TO MOVE  NKDA DECLINED ANALGESIA  AT TRIAGE",
         "Negative",
         "Negative",
         "Negative",
         "0"
        ],
        [
         "49",
         "LVRH2-2012-50",
         "Male",
         "23",
         "OTHER (INCLUDES PRIVATE CAR, WALKED)",
         "2012-01-01 14:40:00",
         "2012",
         "APPROX 1230 TRIPPED WHILE INSIDE AGAINST FIREPLACE. KNOCKED AGAINST COFFEE CUP WHICH SHATTERED AND CAUSED LACERATIONS TO RT OUT WRIST. \nPT HAS 2   1CM LACS TO  JUST ABOVE RT OUTER WRIST. ALSO SWELLING AND BRUISING TO RT WRIST AND HAND. MOVEMENT OF FINGERS AND WRIST LIMITED BY PAIN IN WRIST. REFUSED ANALGESIA. WOUNDS CLEANSED WITH NORMAL SALINE AND DRESSED WITH MELOLIN AND BANDAGE.",
         "Negative",
         "Negative",
         "Negative",
         "0"
        ]
       ],
       "shape": {
        "columns": 11,
        "rows": 380329
       }
      },
      "text/html": [
       "<div>\n",
       "<style scoped>\n",
       "    .dataframe tbody tr th:only-of-type {\n",
       "        vertical-align: middle;\n",
       "    }\n",
       "\n",
       "    .dataframe tbody tr th {\n",
       "        vertical-align: top;\n",
       "    }\n",
       "\n",
       "    .dataframe thead th {\n",
       "        text-align: right;\n",
       "    }\n",
       "</style>\n",
       "<table border=\"1\" class=\"dataframe\">\n",
       "  <thead>\n",
       "    <tr style=\"text-align: right;\">\n",
       "      <th></th>\n",
       "      <th>uid</th>\n",
       "      <th>sex</th>\n",
       "      <th>age</th>\n",
       "      <th>arrival_method</th>\n",
       "      <th>arrival_date</th>\n",
       "      <th>year</th>\n",
       "      <th>triage_note</th>\n",
       "      <th>SH</th>\n",
       "      <th>SI</th>\n",
       "      <th>AOD_OD</th>\n",
       "      <th>audit_case</th>\n",
       "    </tr>\n",
       "  </thead>\n",
       "  <tbody>\n",
       "    <tr>\n",
       "      <th>0</th>\n",
       "      <td>LVRH2-2012-1</td>\n",
       "      <td>Male</td>\n",
       "      <td>2</td>\n",
       "      <td>OTHER (INCLUDES PRIVATE CAR, WALKED)</td>\n",
       "      <td>2012-01-01 00:06:00</td>\n",
       "      <td>2012</td>\n",
       "      <td>PT FELL OVER WHILST OUT CAMPING AT APPROX 2200HRS ONTO ?BROKEN GLASS. PT REFUSED PANADOL BY PARE...</td>\n",
       "      <td>Negative</td>\n",
       "      <td>Negative</td>\n",
       "      <td>Negative</td>\n",
       "      <td>0</td>\n",
       "    </tr>\n",
       "    <tr>\n",
       "      <th>1</th>\n",
       "      <td>LVRH2-2012-2</td>\n",
       "      <td>Female</td>\n",
       "      <td>53</td>\n",
       "      <td>OTHER (INCLUDES PRIVATE CAR, WALKED)</td>\n",
       "      <td>2012-01-01 00:30:00</td>\n",
       "      <td>2012</td>\n",
       "      <td>PT PRESENTS WITH ?SOMETHING IN HER LEFT EYE. PT WAS AT HOME WHEN LEFT EYE BECAME ITCHY AT APPROX...</td>\n",
       "      <td>Negative</td>\n",
       "      <td>Negative</td>\n",
       "      <td>Negative</td>\n",
       "      <td>0</td>\n",
       "    </tr>\n",
       "    <tr>\n",
       "      <th>2</th>\n",
       "      <td>LVRH2-2012-3</td>\n",
       "      <td>Male</td>\n",
       "      <td>24</td>\n",
       "      <td>ROAD AMBULANCE SERVICE</td>\n",
       "      <td>2012-01-01 00:56:00</td>\n",
       "      <td>2012</td>\n",
       "      <td>BIBA POST WITTNESSED ASSAULT APPROX 2330HRS. HIT IN LEFT SIDE OF FACE AND HAD LOC ?LENGHT OF TIM...</td>\n",
       "      <td>Negative</td>\n",
       "      <td>Negative</td>\n",
       "      <td>Negative</td>\n",
       "      <td>0</td>\n",
       "    </tr>\n",
       "    <tr>\n",
       "      <th>3</th>\n",
       "      <td>LVRH2-2012-4</td>\n",
       "      <td>Male</td>\n",
       "      <td>21</td>\n",
       "      <td>OTHER (INCLUDES PRIVATE CAR, WALKED)</td>\n",
       "      <td>2012-01-01 01:07:00</td>\n",
       "      <td>2012</td>\n",
       "      <td>PAST WEEK HAS BEEN SMOKING MARIJUANA. 2/7 EAR ACHES , SORE THROAT AND HEADACHE . TODAY RASH ON L...</td>\n",
       "      <td>Negative</td>\n",
       "      <td>Negative</td>\n",
       "      <td>Negative</td>\n",
       "      <td>0</td>\n",
       "    </tr>\n",
       "    <tr>\n",
       "      <th>4</th>\n",
       "      <td>LVRH2-2012-5</td>\n",
       "      <td>Male</td>\n",
       "      <td>3</td>\n",
       "      <td>OTHER (INCLUDES PRIVATE CAR, WALKED)</td>\n",
       "      <td>2012-01-01 01:12:00</td>\n",
       "      <td>2012</td>\n",
       "      <td>BIB FATHER WITH PAINFUL AND SWOLLEN PENIS. PT HAS BEEN AT BEACH TODAY AND AT APPROX 1500HRS STAR...</td>\n",
       "      <td>Negative</td>\n",
       "      <td>Negative</td>\n",
       "      <td>Negative</td>\n",
       "      <td>0</td>\n",
       "    </tr>\n",
       "    <tr>\n",
       "      <th>...</th>\n",
       "      <td>...</td>\n",
       "      <td>...</td>\n",
       "      <td>...</td>\n",
       "      <td>...</td>\n",
       "      <td>...</td>\n",
       "      <td>...</td>\n",
       "      <td>...</td>\n",
       "      <td>...</td>\n",
       "      <td>...</td>\n",
       "      <td>...</td>\n",
       "      <td>...</td>\n",
       "    </tr>\n",
       "    <tr>\n",
       "      <th>380324</th>\n",
       "      <td>LVRH2-2022-20693</td>\n",
       "      <td>Male</td>\n",
       "      <td>3</td>\n",
       "      <td>Other</td>\n",
       "      <td>2022-06-30 22:06:00</td>\n",
       "      <td>2022</td>\n",
       "      <td>viral illness \\ncough, vomiting at daycare yesterday: sent home from same_x000D_\\ntoday cared fo...</td>\n",
       "      <td>Negative</td>\n",
       "      <td>Negative</td>\n",
       "      <td>Negative</td>\n",
       "      <td>0</td>\n",
       "    </tr>\n",
       "    <tr>\n",
       "      <th>380325</th>\n",
       "      <td>LVRH2-2022-20694</td>\n",
       "      <td>Male</td>\n",
       "      <td>2</td>\n",
       "      <td>Other</td>\n",
       "      <td>2022-06-30 22:13:00</td>\n",
       "      <td>2022</td>\n",
       "      <td>vomiting this evening \\nc/o abdo pain since1700hrs _x000D_\\nsince 1800hrs x5 vomits _x000D_\\nr/v...</td>\n",
       "      <td>Negative</td>\n",
       "      <td>Negative</td>\n",
       "      <td>Negative</td>\n",
       "      <td>0</td>\n",
       "    </tr>\n",
       "    <tr>\n",
       "      <th>380326</th>\n",
       "      <td>LVRH2-2022-20695</td>\n",
       "      <td>Female</td>\n",
       "      <td>20</td>\n",
       "      <td>Road ambulance service</td>\n",
       "      <td>2022-06-30 22:30:00</td>\n",
       "      <td>2022</td>\n",
       "      <td>suicidal \\npt in drug and alcohol detox_x000D_\\nhas used drugs and had alcohol over past 2/7_x00...</td>\n",
       "      <td>Negative</td>\n",
       "      <td>Positive</td>\n",
       "      <td>Negative</td>\n",
       "      <td>0</td>\n",
       "    </tr>\n",
       "    <tr>\n",
       "      <th>380327</th>\n",
       "      <td>LVRH2-2022-20696</td>\n",
       "      <td>Female</td>\n",
       "      <td>58</td>\n",
       "      <td>Road ambulance service</td>\n",
       "      <td>2022-06-30 23:19:00</td>\n",
       "      <td>2022</td>\n",
       "      <td>fall - intoxicated \\nfall from standing height -  intoxicated_x000D_\\nhead strike, small lac to ...</td>\n",
       "      <td>Negative</td>\n",
       "      <td>Negative</td>\n",
       "      <td>Negative</td>\n",
       "      <td>0</td>\n",
       "    </tr>\n",
       "    <tr>\n",
       "      <th>380328</th>\n",
       "      <td>LVRH2-2022-20697</td>\n",
       "      <td>Female</td>\n",
       "      <td>36</td>\n",
       "      <td>Other</td>\n",
       "      <td>2022-06-30 23:50:00</td>\n",
       "      <td>2022</td>\n",
       "      <td>Rt wrist injury \\nslipped and fallen on tiles injured rt wrist_x000D_\\npt covid positive - from ...</td>\n",
       "      <td>Negative</td>\n",
       "      <td>Negative</td>\n",
       "      <td>Negative</td>\n",
       "      <td>0</td>\n",
       "    </tr>\n",
       "  </tbody>\n",
       "</table>\n",
       "<p>380329 rows × 11 columns</p>\n",
       "</div>"
      ],
      "text/plain": [
       "                     uid     sex  age                        arrival_method  \\\n",
       "0           LVRH2-2012-1    Male    2  OTHER (INCLUDES PRIVATE CAR, WALKED)   \n",
       "1           LVRH2-2012-2  Female   53  OTHER (INCLUDES PRIVATE CAR, WALKED)   \n",
       "2           LVRH2-2012-3    Male   24                ROAD AMBULANCE SERVICE   \n",
       "3           LVRH2-2012-4    Male   21  OTHER (INCLUDES PRIVATE CAR, WALKED)   \n",
       "4           LVRH2-2012-5    Male    3  OTHER (INCLUDES PRIVATE CAR, WALKED)   \n",
       "...                  ...     ...  ...                                   ...   \n",
       "380324  LVRH2-2022-20693    Male    3                                 Other   \n",
       "380325  LVRH2-2022-20694    Male    2                                 Other   \n",
       "380326  LVRH2-2022-20695  Female   20                Road ambulance service   \n",
       "380327  LVRH2-2022-20696  Female   58                Road ambulance service   \n",
       "380328  LVRH2-2022-20697  Female   36                                 Other   \n",
       "\n",
       "              arrival_date  year  \\\n",
       "0      2012-01-01 00:06:00  2012   \n",
       "1      2012-01-01 00:30:00  2012   \n",
       "2      2012-01-01 00:56:00  2012   \n",
       "3      2012-01-01 01:07:00  2012   \n",
       "4      2012-01-01 01:12:00  2012   \n",
       "...                    ...   ...   \n",
       "380324 2022-06-30 22:06:00  2022   \n",
       "380325 2022-06-30 22:13:00  2022   \n",
       "380326 2022-06-30 22:30:00  2022   \n",
       "380327 2022-06-30 23:19:00  2022   \n",
       "380328 2022-06-30 23:50:00  2022   \n",
       "\n",
       "                                                                                                triage_note  \\\n",
       "0       PT FELL OVER WHILST OUT CAMPING AT APPROX 2200HRS ONTO ?BROKEN GLASS. PT REFUSED PANADOL BY PARE...   \n",
       "1       PT PRESENTS WITH ?SOMETHING IN HER LEFT EYE. PT WAS AT HOME WHEN LEFT EYE BECAME ITCHY AT APPROX...   \n",
       "2       BIBA POST WITTNESSED ASSAULT APPROX 2330HRS. HIT IN LEFT SIDE OF FACE AND HAD LOC ?LENGHT OF TIM...   \n",
       "3       PAST WEEK HAS BEEN SMOKING MARIJUANA. 2/7 EAR ACHES , SORE THROAT AND HEADACHE . TODAY RASH ON L...   \n",
       "4       BIB FATHER WITH PAINFUL AND SWOLLEN PENIS. PT HAS BEEN AT BEACH TODAY AND AT APPROX 1500HRS STAR...   \n",
       "...                                                                                                     ...   \n",
       "380324  viral illness \\ncough, vomiting at daycare yesterday: sent home from same_x000D_\\ntoday cared fo...   \n",
       "380325  vomiting this evening \\nc/o abdo pain since1700hrs _x000D_\\nsince 1800hrs x5 vomits _x000D_\\nr/v...   \n",
       "380326  suicidal \\npt in drug and alcohol detox_x000D_\\nhas used drugs and had alcohol over past 2/7_x00...   \n",
       "380327  fall - intoxicated \\nfall from standing height -  intoxicated_x000D_\\nhead strike, small lac to ...   \n",
       "380328  Rt wrist injury \\nslipped and fallen on tiles injured rt wrist_x000D_\\npt covid positive - from ...   \n",
       "\n",
       "              SH        SI    AOD_OD  audit_case  \n",
       "0       Negative  Negative  Negative           0  \n",
       "1       Negative  Negative  Negative           0  \n",
       "2       Negative  Negative  Negative           0  \n",
       "3       Negative  Negative  Negative           0  \n",
       "4       Negative  Negative  Negative           0  \n",
       "...          ...       ...       ...         ...  \n",
       "380324  Negative  Negative  Negative           0  \n",
       "380325  Negative  Negative  Negative           0  \n",
       "380326  Negative  Positive  Negative           0  \n",
       "380327  Negative  Negative  Negative           0  \n",
       "380328  Negative  Negative  Negative           0  \n",
       "\n",
       "[380329 rows x 11 columns]"
      ]
     },
     "execution_count": 36,
     "metadata": {},
     "output_type": "execute_result"
    }
   ],
   "source": [
    "# Change types\n",
    "df1.arrival_date = pd.to_datetime(df1.arrival_date)\n",
    "df1.year = df1.year.astype(int)\n",
    "df1.SH = map_and_categorize(df1.SH, get_mapping())\n",
    "df1.SI = map_and_categorize(df1.SI, get_mapping())\n",
    "df1.AOD_OD = map_and_categorize(df1.AOD_OD, get_mapping())\n",
    "\n",
    "\n",
    "# Select columns\n",
    "df1 = df1[['uid', 'sex', 'age', 'arrival_method', \n",
    "           'arrival_date', 'year', \n",
    "           'triage_note', 'SH', 'SI', 'AOD_OD', 'audit_case']].copy()\n",
    "df1"
   ]
  },
  {
   "cell_type": "code",
   "execution_count": 37,
   "id": "8c2a84e6",
   "metadata": {},
   "outputs": [
    {
     "name": "stdout",
     "output_type": "stream",
     "text": [
      "<class 'pandas.core.frame.DataFrame'>\n",
      "RangeIndex: 380329 entries, 0 to 380328\n",
      "Data columns (total 11 columns):\n",
      " #   Column          Non-Null Count   Dtype         \n",
      "---  ------          --------------   -----         \n",
      " 0   uid             380329 non-null  object        \n",
      " 1   sex             380329 non-null  object        \n",
      " 2   age             380329 non-null  int64         \n",
      " 3   arrival_method  380329 non-null  object        \n",
      " 4   arrival_date    380329 non-null  datetime64[ns]\n",
      " 5   year            380329 non-null  int64         \n",
      " 6   triage_note     380329 non-null  object        \n",
      " 7   SH              380329 non-null  category      \n",
      " 8   SI              380329 non-null  category      \n",
      " 9   AOD_OD          380329 non-null  category      \n",
      " 10  audit_case      380329 non-null  int64         \n",
      "dtypes: category(3), datetime64[ns](1), int64(3), object(4)\n",
      "memory usage: 24.3+ MB\n"
     ]
    }
   ],
   "source": [
    "df1.info()"
   ]
  },
  {
   "cell_type": "markdown",
   "id": "409dc16e",
   "metadata": {},
   "source": [
    "### Save data"
   ]
  },
  {
   "cell_type": "code",
   "execution_count": 38,
   "id": "69b30f49",
   "metadata": {},
   "outputs": [],
   "source": [
    "df1.to_parquet(interim_data_dir / \"lvrh_2012_2022.parquet\", engine=\"pyarrow\")"
   ]
  },
  {
   "cell_type": "code",
   "execution_count": null,
   "id": "659f79a0",
   "metadata": {},
   "outputs": [],
   "source": []
  }
 ],
 "metadata": {
  "kernelspec": {
   "display_name": "self-harm-triage-notes",
   "language": "python",
   "name": "python3"
  },
  "language_info": {
   "codemirror_mode": {
    "name": "ipython",
    "version": 3
   },
   "file_extension": ".py",
   "mimetype": "text/x-python",
   "name": "python",
   "nbconvert_exporter": "python",
   "pygments_lexer": "ipython3",
   "version": "3.11.13"
  }
 },
 "nbformat": 4,
 "nbformat_minor": 5
}
